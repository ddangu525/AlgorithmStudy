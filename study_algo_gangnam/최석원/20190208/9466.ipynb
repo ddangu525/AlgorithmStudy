{
 "cells": [
  {
   "cell_type": "markdown",
   "metadata": {},
   "source": [
    "텀 프로젝트\n",
    "\n",
    "프로젝트 팀원 수에는 제한이 없다. 즉, 한팀으로 구성될 수도 있음\n",
    "\n",
    "모든 학생은 프로젝트를 함께하고싶은 학생을 선택해야하고, 자기자신을 선택하는 것도 가능하다.\n",
    "\n",
    "1 2 3 4 5 6 7\n",
    "\n",
    "3 1 3 7 3 4 6"
   ]
  },
  {
   "cell_type": "code",
   "execution_count": 5,
   "metadata": {},
   "outputs": [
    {
     "name": "stdout",
     "output_type": "stream",
     "text": [
      "2\n",
      "7\n",
      "3 1 3 7 3 4 6\n",
      "3\n",
      "8\n",
      "1 2 3 4 5 6 7 8\n",
      "0\n"
     ]
    }
   ],
   "source": [
    "for T in range(int(input())):\n",
    "    n = int(input())\n",
    "    permu = [0]+list(map(int,input().split())) # 0번 제외 1번부터 선택하는 리스트\n",
    "    visited = [0]*(n+1)\n",
    "    for i in range(1,n+1):\n",
    "        path = []\n",
    "        pos = i\n",
    "        while not visited[pos]:\n",
    "            visited[pos] = 1\n",
    "            path.append(pos)\n",
    "            pos = permu[pos]\n",
    "        if visited[pos] == -1:\n",
    "            for p in path:\n",
    "                visited[p] = -1\n",
    "            continue\n",
    "        while visited[pos] == 1:\n",
    "            visited[pos] = 2\n",
    "            pos = permu[pos]\n",
    "        for p in path:\n",
    "            if visited[p] == 2:\n",
    "                break\n",
    "            visited[p] = -1\n",
    "    print(visited.count(-1))"
   ]
  },
  {
   "cell_type": "code",
   "execution_count": null,
   "metadata": {},
   "outputs": [],
   "source": []
  }
 ],
 "metadata": {
  "kernelspec": {
   "display_name": "Python 3",
   "language": "python",
   "name": "python3"
  },
  "language_info": {
   "codemirror_mode": {
    "name": "ipython",
    "version": 3
   },
   "file_extension": ".py",
   "mimetype": "text/x-python",
   "name": "python",
   "nbconvert_exporter": "python",
   "pygments_lexer": "ipython3",
   "version": "3.7.0"
  }
 },
 "nbformat": 4,
 "nbformat_minor": 2
}
