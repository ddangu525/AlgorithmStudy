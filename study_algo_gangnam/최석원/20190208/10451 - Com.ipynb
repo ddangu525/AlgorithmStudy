{
 "cells": [
  {
   "cell_type": "code",
   "execution_count": 49,
   "metadata": {},
   "outputs": [
    {
     "name": "stdout",
     "output_type": "stream",
     "text": [
      "2\n",
      "8\n",
      "3 2 7 8 1 4 5 6\n",
      "3\n",
      "10\n",
      "2 1 3 4 5 6 7 9 10 8\n",
      "7\n"
     ]
    }
   ],
   "source": [
    "def dfs(n_list):\n",
    "    visit = [0]*len(n_list)\n",
    "    cnt = 0\n",
    "    for i in range(1,len(n_list)):\n",
    "        if visit[i] == 0 :\n",
    "            visit[i] = 1\n",
    "            now = n_list[i]\n",
    "            while (now != i):\n",
    "                visit[now] = 1\n",
    "                now = n_list[now]\n",
    "            cnt = cnt+1\n",
    "    return cnt\n",
    "    \n",
    "for i in range(int(input())):\n",
    "    n = int(input())\n",
    "    n_list = list(map(int,input().split()))\n",
    "    n_list.insert(0,0)\n",
    "    print(dfs(n_list))"
   ]
  },
  {
   "cell_type": "code",
   "execution_count": null,
   "metadata": {},
   "outputs": [],
   "source": []
  }
 ],
 "metadata": {
  "kernelspec": {
   "display_name": "Python 3",
   "language": "python",
   "name": "python3"
  },
  "language_info": {
   "codemirror_mode": {
    "name": "ipython",
    "version": 3
   },
   "file_extension": ".py",
   "mimetype": "text/x-python",
   "name": "python",
   "nbconvert_exporter": "python",
   "pygments_lexer": "ipython3",
   "version": "3.7.0"
  }
 },
 "nbformat": 4,
 "nbformat_minor": 2
}
