{
 "cells": [
  {
   "cell_type": "markdown",
   "metadata": {},
   "source": [
    "D[1] = A\n",
    "D[n] = D[n-1]의 각 자리의 숫자를 P번 곱한 수들의 합\n",
    "\n",
    "ex) A = 57 , P = 2 일 때, 수열 D는 {57,74,65,61,37......}\n",
    "\n",
    "그 뒤에는 앞서 나온 수들(57 부터가 아니라 , 58부터)이 반복된다.\n",
    "\n",
    "이와 같은 수열을 계속 구하다 보면 언젠가 이와 같은 반복 수열이 된다. 이 때, 반복되는 부분을\n",
    "\n",
    "제외했을 때, 수열에 남게 되는 수들의 개수를 구하여라"
   ]
  },
  {
   "cell_type": "code",
   "execution_count": 205,
   "metadata": {},
   "outputs": [
    {
     "name": "stdout",
     "output_type": "stream",
     "text": [
      "57 2\n",
      "4\n"
     ]
    }
   ],
   "source": [
    "A,P = map(int,input().split())\n",
    "\n",
    "num_list = [A]\n",
    "c_list = [A]\n",
    "d_list = []\n",
    "\n",
    "def num_split(A):\n",
    "    a_list = []\n",
    "    for i in range(3,0,-1):\n",
    "        if A / (10**i) > 1:\n",
    "            n = A//(10**i)\n",
    "            A = A%(10**i)\n",
    "            a_list.append(n)\n",
    "    a_list.append(A)\n",
    "    return a_list\n",
    "\n",
    "def new_num(n_list,P):\n",
    "    new_n = 0\n",
    "    for i in n_list:\n",
    "        new_n += i**P\n",
    "    return new_n\n",
    "\n",
    "def check_list(c_list,d_list):\n",
    "    for i in c_list:\n",
    "        if i in d_list:\n",
    "            c_list.remove(i)\n",
    "    return c_list\n",
    "\n",
    "cnt = 0\n",
    "while cnt != 20:\n",
    "    n_list = num_split(A)\n",
    "    new_n = new_num(n_list,P)\n",
    "    num_list.append(new_n)\n",
    "    if new_n not in c_list:\n",
    "        c_list.append(new_n)\n",
    "    elif new_n in c_list:\n",
    "        d_list.append(new_n)\n",
    "        cnt += 1\n",
    "    A = new_n\n",
    "\n",
    "change = 1            \n",
    "while change == 1:\n",
    "    leng = len(c_list)\n",
    "    new_c_list = check_list(c_list,d_list)\n",
    "    new_leng = len(new_c_list)\n",
    "    if leng == new_leng:\n",
    "        change = 0\n",
    "    elif leng != new_leng:\n",
    "        c_list = new_c_list\n",
    "        \n",
    "print(len(c_list))"
   ]
  },
  {
   "cell_type": "code",
   "execution_count": 223,
   "metadata": {},
   "outputs": [
    {
     "name": "stdout",
     "output_type": "stream",
     "text": [
      "57 2\n"
     ]
    }
   ],
   "source": [
    "a,p = map(int,input().split())\n",
    "\n",
    "d = [a]\n",
    "\n",
    "for i in range(100):\n",
    "    now = str(d[i])\n",
    "    temp = 0\n",
    "    for j in range(len(now)):\n",
    "        temp += (int(now[j])**p)\n",
    "    d.append(temp)\n",
    "    \n",
    "res = 0\n",
    "for i in range(100):\n",
    "    if d.count(d[i]) > 1:\n",
    "        res = i\n",
    "        break\n",
    "print(res)"
   ]
  },
  {
   "cell_type": "code",
   "execution_count": null,
   "metadata": {},
   "outputs": [],
   "source": []
  }
 ],
 "metadata": {
  "kernelspec": {
   "display_name": "Python 3",
   "language": "python",
   "name": "python3"
  },
  "language_info": {
   "codemirror_mode": {
    "name": "ipython",
    "version": 3
   },
   "file_extension": ".py",
   "mimetype": "text/x-python",
   "name": "python",
   "nbconvert_exporter": "python",
   "pygments_lexer": "ipython3",
   "version": "3.7.0"
  }
 },
 "nbformat": 4,
 "nbformat_minor": 2
}
