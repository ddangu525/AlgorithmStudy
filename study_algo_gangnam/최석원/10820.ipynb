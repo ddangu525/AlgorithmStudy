{
 "cells": [
  {
   "cell_type": "code",
   "execution_count": 25,
   "metadata": {},
   "outputs": [
    {
     "name": "stdout",
     "output_type": "stream",
     "text": [
      "234\n",
      "0 0 3 0\n"
     ]
    }
   ],
   "source": [
    "st = input()\n",
    "\n",
    "stack_A,stack_a,stack_s,stack_n = 0,0,0,0\n",
    "\n",
    "for i in range(len(st)):\n",
    "\n",
    "    if st[i].isupper() == True:\n",
    "        stack_A += 1\n",
    "\n",
    "    elif st[i].islower() == True:\n",
    "        stack_a += 1\n",
    "\n",
    "    elif st[i] == \" \":\n",
    "        stack_s += 1\n",
    "\n",
    "    elif st[i].isdigit() == True:\n",
    "        stack_n += 1\n",
    "\n",
    "print(stack_a,stack_A,stack_n,stack_s)"
   ]
  }
 ],
 "metadata": {
  "kernelspec": {
   "display_name": "Python 3",
   "language": "python",
   "name": "python3"
  },
  "language_info": {
   "codemirror_mode": {
    "name": "ipython",
    "version": 3
   },
   "file_extension": ".py",
   "mimetype": "text/x-python",
   "name": "python",
   "nbconvert_exporter": "python",
   "pygments_lexer": "ipython3",
   "version": "3.7.0"
  }
 },
 "nbformat": 4,
 "nbformat_minor": 2
}
