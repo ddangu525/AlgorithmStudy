{
 "cells": [
  {
   "cell_type": "code",
   "execution_count": 105,
   "metadata": {},
   "outputs": [
    {
     "name": "stdout",
     "output_type": "stream",
     "text": [
      "4\n",
      "1 2 3 4\n",
      "1 2 4 3\n"
     ]
    }
   ],
   "source": [
    "import itertools\n",
    "\n",
    "n_ran = int(input())\n",
    "\n",
    "num_list = list(map(int,input().split()))\n",
    "\n",
    "first_list = list(range(1,n_ran+1))\n",
    "\n",
    "full_list = list(itertools.permutations(first_list))\n",
    "\n",
    "num_list = tuple(num_list)\n",
    "\n",
    "if num_list == full_list[-1]:\n",
    "    print(-1)\n",
    "else:\n",
    "    idx = full_list.index(num_list)\n",
    "    next_list = map(str,list(full_list[idx+1]))\n",
    "    print(\" \".join(next_list))"
   ]
  },
  {
   "cell_type": "code",
   "execution_count": 108,
   "metadata": {},
   "outputs": [
    {
     "name": "stdout",
     "output_type": "stream",
     "text": [
      "4\n",
      "1 2 3 4\n",
      "1 2 4 3\n"
     ]
    }
   ],
   "source": [
    "def next_permutation(a):\n",
    "    i = len(a)-1\n",
    "    while i > 0 and a[i-1] >= a[i]:\n",
    "        i -= 1\n",
    "    if i <= 0:return False\n",
    "    # a라는 list에서 뒤에서부터 탐색한다. -> a[i] 와 a[i-1] 을 비교해서 a[i-1]이 더 작을때까지..... i를 하나씩 빼가면서...\n",
    "    \n",
    "    j = len(a)-1\n",
    "    while a[j] <= a[i-1]:\n",
    "        j -= 1\n",
    "    a[i-1],a[j] = a[j],a[i-1]\n",
    "\n",
    "    \n",
    "    j = len(a)-1\n",
    "    while i < j:\n",
    "        a[i],a[j] = a[j],a[i]\n",
    "        i += 1\n",
    "        j -= 1\n",
    "    return True\n",
    "\n",
    "n = int(input())\n",
    "a = list(map(int,input().split()))\n",
    "if next_permutation(a):\n",
    "    print(' '.join(map(str,a)))\n",
    "else:\n",
    "    print(-1)"
   ]
  },
  {
   "cell_type": "code",
   "execution_count": null,
   "metadata": {},
   "outputs": [],
   "source": []
  }
 ],
 "metadata": {
  "kernelspec": {
   "display_name": "Python 3",
   "language": "python",
   "name": "python3"
  },
  "language_info": {
   "codemirror_mode": {
    "name": "ipython",
    "version": 3
   },
   "file_extension": ".py",
   "mimetype": "text/x-python",
   "name": "python",
   "nbconvert_exporter": "python",
   "pygments_lexer": "ipython3",
   "version": "3.7.0"
  }
 },
 "nbformat": 4,
 "nbformat_minor": 2
}
