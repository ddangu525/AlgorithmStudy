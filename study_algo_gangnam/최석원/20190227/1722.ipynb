{
 "cells": [
  {
   "cell_type": "code",
   "execution_count": null,
   "metadata": {},
   "outputs": [
    {
     "name": "stdout",
     "output_type": "stream",
     "text": [
      "20\n",
      "1 30\n"
     ]
    }
   ],
   "source": [
    "import itertools\n",
    "\n",
    "n_ran = int(input())\n",
    "\n",
    "tp_list = list(map(int,input().split()))\n",
    "\n",
    "first_list = list(range(1,n_ran+1))\n",
    "\n",
    "full_list = list(itertools.permutations(first_list))\n",
    "\n",
    "if tp_list[0] == 1:\n",
    "    loc = tp_list[1] -1\n",
    "    list_loc = list(full_list[loc])\n",
    "    list_loc = map(str,list_loc)\n",
    "    print(\" \".join(list_loc))\n",
    "\n",
    "elif tp_list[0] == 2:\n",
    "    in_list = tp_list[1:]\n",
    "    in_list = tuple(in_list)\n",
    "    loc = full_list.index(in_list)\n",
    "    print(loc+1)"
   ]
  },
  {
   "cell_type": "code",
   "execution_count": null,
   "metadata": {},
   "outputs": [],
   "source": []
  }
 ],
 "metadata": {
  "kernelspec": {
   "display_name": "Python 3",
   "language": "python",
   "name": "python3"
  },
  "language_info": {
   "codemirror_mode": {
    "name": "ipython",
    "version": 3
   },
   "file_extension": ".py",
   "mimetype": "text/x-python",
   "name": "python",
   "nbconvert_exporter": "python",
   "pygments_lexer": "ipython3",
   "version": "3.7.0"
  }
 },
 "nbformat": 4,
 "nbformat_minor": 2
}
