{
 "cells": [
  {
   "cell_type": "markdown",
   "metadata": {},
   "source": [
    "0과 1로만 이루어진 행렬 A와 행렬 B가 있다. 이때, 행렬 A를 행렬 B로 바꾸는데 필요한 연산의 횟수의 최솟값을 구하는 프로그램을 작성하시오.\n",
    "\n",
    "행렬을 변환하는 연산은 어떤 3*3크기의 부분 행렬에 있는 모든 원소를 뒤집는 것이다. (0 -> 1, 1 -> 0)"
   ]
  },
  {
   "cell_type": "code",
   "execution_count": 60,
   "metadata": {
    "scrolled": true
   },
   "outputs": [
    {
     "name": "stdout",
     "output_type": "stream",
     "text": [
      "0 0\n",
      "-1\n"
     ]
    }
   ],
   "source": [
    "N,M = map(int,input().split())\n",
    "\n",
    "arr1 = [[0]*M for _ in range(N)]; arr2 = [[0]*M for _ in range(N)]\n",
    "\n",
    "for i in range(N):\n",
    "    arr1[i] = input()\n",
    "    \n",
    "for i in range(N):\n",
    "    arr2[i] = input()\n",
    "    \n",
    "cnt = 0\n",
    "\n",
    "for row in range(N):\n",
    "    if str(int(arr1[row])+int(arr2[row])) == ('1'*M):\n",
    "        cnt += 1\n",
    "\n",
    "for a in range(M):\n",
    "    temp = ''; temp2 = ''\n",
    "    for b in range(N):\n",
    "        temp += arr1[b][a]\n",
    "        temp2 += arr2[b][a]\n",
    "    if str(int(temp)+int(temp2)) == ('1'*N):\n",
    "        cnt += 1\n",
    "        \n",
    "if cnt != 0:\n",
    "    print(cnt)\n",
    "elif cnt == 0:\n",
    "    print(-1)"
   ]
  },
  {
   "cell_type": "code",
   "execution_count": null,
   "metadata": {},
   "outputs": [],
   "source": []
  },
  {
   "cell_type": "code",
   "execution_count": 57,
   "metadata": {},
   "outputs": [
    {
     "name": "stdout",
     "output_type": "stream",
     "text": [
      "1\n",
      "\n"
     ]
    },
    {
     "ename": "ValueError",
     "evalue": "invalid literal for int() with base 10: ''",
     "output_type": "error",
     "traceback": [
      "\u001b[0;31m---------------------------------------------------------------------------\u001b[0m",
      "\u001b[0;31mValueError\u001b[0m                                Traceback (most recent call last)",
      "\u001b[0;32m<ipython-input-57-c6ab80ee3c8f>\u001b[0m in \u001b[0;36m<module>\u001b[0;34m\u001b[0m\n\u001b[1;32m      4\u001b[0m     \u001b[0mprint\u001b[0m\u001b[0;34m(\u001b[0m\u001b[0marr1\u001b[0m\u001b[0;34m[\u001b[0m\u001b[0mrow\u001b[0m\u001b[0;34m]\u001b[0m\u001b[0;34m)\u001b[0m\u001b[0;34m\u001b[0m\u001b[0m\n\u001b[1;32m      5\u001b[0m     \u001b[0mprint\u001b[0m\u001b[0;34m(\u001b[0m\u001b[0marr2\u001b[0m\u001b[0;34m[\u001b[0m\u001b[0mrow\u001b[0m\u001b[0;34m]\u001b[0m\u001b[0;34m)\u001b[0m\u001b[0;34m\u001b[0m\u001b[0m\n\u001b[0;32m----> 6\u001b[0;31m     \u001b[0;32mif\u001b[0m \u001b[0mstr\u001b[0m\u001b[0;34m(\u001b[0m\u001b[0mint\u001b[0m\u001b[0;34m(\u001b[0m\u001b[0marr1\u001b[0m\u001b[0;34m[\u001b[0m\u001b[0mrow\u001b[0m\u001b[0;34m]\u001b[0m\u001b[0;34m)\u001b[0m\u001b[0;34m+\u001b[0m\u001b[0mint\u001b[0m\u001b[0;34m(\u001b[0m\u001b[0marr2\u001b[0m\u001b[0;34m[\u001b[0m\u001b[0mrow\u001b[0m\u001b[0;34m]\u001b[0m\u001b[0;34m)\u001b[0m\u001b[0;34m)\u001b[0m \u001b[0;34m==\u001b[0m \u001b[0;34m(\u001b[0m\u001b[0;34m'1'\u001b[0m\u001b[0;34m*\u001b[0m\u001b[0mM\u001b[0m\u001b[0;34m)\u001b[0m\u001b[0;34m:\u001b[0m\u001b[0;34m\u001b[0m\u001b[0m\n\u001b[0m\u001b[1;32m      7\u001b[0m         \u001b[0mcnt\u001b[0m \u001b[0;34m+=\u001b[0m \u001b[0;36m1\u001b[0m\u001b[0;34m\u001b[0m\u001b[0m\n\u001b[1;32m      8\u001b[0m \u001b[0;34m\u001b[0m\u001b[0m\n",
      "\u001b[0;31mValueError\u001b[0m: invalid literal for int() with base 10: ''"
     ]
    }
   ],
   "source": [
    "cnt = 0\n",
    "\n",
    "for row in range(N):\n",
    "    print(arr1[row])\n",
    "    print(arr2[row])\n",
    "    if str(int(arr1[row])+int(arr2[row])) == ('1'*M):\n",
    "        cnt += 1\n",
    "\n",
    "for a in range(M):\n",
    "    temp = ''; temp2 = ''\n",
    "    for b in range(N):\n",
    "        temp += arr1[b][a]\n",
    "        temp2 += arr2[b][a]\n",
    "    print(temp)\n",
    "    print(temp2)\n",
    "    if str(int(temp)+int(temp2)) == ('1'*N):\n",
    "        cnt += 1"
   ]
  },
  {
   "cell_type": "code",
   "execution_count": 2,
   "metadata": {},
   "outputs": [
    {
     "name": "stdout",
     "output_type": "stream",
     "text": [
      "3 4\n",
      "0000\n",
      "0010\n",
      "0000\n",
      "1001\n",
      "1011\n",
      "1001\n",
      "2\n"
     ]
    }
   ],
   "source": [
    "n,m = map(int,input().split())\n",
    "arr1 = [list(map(int,input())) for i in range(n)]\n",
    "arr2 = [list(map(int,input())) for i in range(n)]\n",
    "\n",
    "def flip(L,x,y):\n",
    "    for i in range(y,y+3):\n",
    "        for j in range(x,x+3):\n",
    "            L[i][j] = 1 - L[i][j]\n",
    "            \n",
    "res = 0\n",
    "\n",
    "for y in range(n-2):\n",
    "    for x in range(m-2):\n",
    "        if arr1[y][x] != arr2[y][x]:\n",
    "            res += 1\n",
    "            flip(arr1,x,y)\n",
    "            \n",
    "if arr1 == arr2:\n",
    "    print(res)\n",
    "    \n",
    "else:\n",
    "    print(-1)\n",
    "        \n"
   ]
  },
  {
   "cell_type": "code",
   "execution_count": null,
   "metadata": {},
   "outputs": [],
   "source": [
    "\n",
    "\n",
    "\n"
   ]
  }
 ],
 "metadata": {
  "kernelspec": {
   "display_name": "Python 3",
   "language": "python",
   "name": "python3"
  },
  "language_info": {
   "codemirror_mode": {
    "name": "ipython",
    "version": 3
   },
   "file_extension": ".py",
   "mimetype": "text/x-python",
   "name": "python",
   "nbconvert_exporter": "python",
   "pygments_lexer": "ipython3",
   "version": "3.7.0"
  }
 },
 "nbformat": 4,
 "nbformat_minor": 2
}
