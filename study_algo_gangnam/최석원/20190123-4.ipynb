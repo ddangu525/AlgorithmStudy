{
 "cells": [
  {
   "cell_type": "code",
   "execution_count": null,
   "metadata": {},
   "outputs": [],
   "source": [
    "num_1 = list(map(int,input().split()))\n",
    "\n",
    "num_2 = int(input())\n",
    "\n",
    "num_3 = list(map(int,input().split()))\n",
    "\n",
    "num_10 = 0\n",
    "\n",
    "number_p = \"\"\n",
    "\n",
    "for i,j in range(num_2),range(1,len(num_3)+1):\n",
    "    num_10 = num_10 + ((num_1[0]**i)*num_3[-j])\n",
    "    \n",
    "while num_10 // num_1[1] >= 1:\n",
    "    remain = num_10 % num_1[1]\n",
    "    num_10 = num_10 // num_1[1]\n",
    "    number_p = str(remain) + number_p\n",
    "    if num_10 < num_1[1]:\n",
    "        number_p = str(num_10) + number_p\n",
    "        \n",
    "print(number_p[0],number_p[1])"
   ]
  },
  {
   "cell_type": "code",
   "execution_count": 94,
   "metadata": {},
   "outputs": [],
   "source": []
  },
  {
   "cell_type": "code",
   "execution_count": 95,
   "metadata": {},
   "outputs": [
    {
     "name": "stdout",
     "output_type": "stream",
     "text": [
      "6 2\n"
     ]
    }
   ],
   "source": []
  },
  {
   "cell_type": "code",
   "execution_count": 75,
   "metadata": {},
   "outputs": [
    {
     "data": {
      "text/plain": [
       "50"
      ]
     },
     "execution_count": 75,
     "metadata": {},
     "output_type": "execute_result"
    }
   ],
   "source": []
  },
  {
   "cell_type": "code",
   "execution_count": null,
   "metadata": {},
   "outputs": [],
   "source": []
  }
 ],
 "metadata": {
  "kernelspec": {
   "display_name": "Python 3",
   "language": "python",
   "name": "python3"
  },
  "language_info": {
   "codemirror_mode": {
    "name": "ipython",
    "version": 3
   },
   "file_extension": ".py",
   "mimetype": "text/x-python",
   "name": "python",
   "nbconvert_exporter": "python",
   "pygments_lexer": "ipython3",
   "version": "3.5.6"
  }
 },
 "nbformat": 4,
 "nbformat_minor": 2
}
