{
 "cells": [
  {
   "cell_type": "markdown",
   "metadata": {},
   "source": [
    "1. 나무 M미터가 필요하다.\n",
    "\n",
    "\n",
    "2. 목재절단기로 나무를 잘라야 한다.  \n",
    "1) 절단기에 높이 H 를 지정해야 한다. H 높이에 있는 나무를 모두 절단할 수 있다.   \n",
    "2) 적어도 M미터의 나무를 가져가기 위해서 절단기에 설정할 수 있는 높이 H의 최댓값을 구해야 한다.  \n",
    "\n",
    "\n",
    "3. 첫째 줄 : 나무의 수 N , 집으로 가져가려고 하는 나무의 길이 M이 주어진다.  \n",
    "1)1 ≤ N ≤ 1,000,000, 1 ≤ M ≤ 2,000,000,000  \n",
    "\n",
    "\n",
    "4. 둘째 줄 : 나무의 높이가 주어진다. 나무의 높이의 합은 무조건 M 보다 크다.  \n",
    "1) 나무의 높이 <= 1,000,000,000"
   ]
  },
  {
   "cell_type": "code",
   "execution_count": null,
   "metadata": {},
   "outputs": [],
   "source": [
    "N , M = 4 , 7\n",
    "tree_list = [20, 15, 10, 17] #list(map(int,input().split()))\n",
    "\n",
    "# H = 15\n",
    "# 5M , 0M , 0M , 2M => 7M"
   ]
  },
  {
   "cell_type": "code",
   "execution_count": null,
   "metadata": {},
   "outputs": [],
   "source": [
    "tree_list.sort()"
   ]
  },
  {
   "cell_type": "code",
   "execution_count": null,
   "metadata": {},
   "outputs": [],
   "source": [
    "tree_list"
   ]
  },
  {
   "cell_type": "code",
   "execution_count": null,
   "metadata": {},
   "outputs": [],
   "source": [
    "H = 0"
   ]
  },
  {
   "cell_type": "code",
   "execution_count": null,
   "metadata": {},
   "outputs": [],
   "source": [
    "min_tree = tree_list[0]\n",
    "max_tree = tree_list[-1]\n",
    "avg_tree = sum(tree_list) // len(tree_list)"
   ]
  },
  {
   "cell_type": "code",
   "execution_count": null,
   "metadata": {},
   "outputs": [],
   "source": [
    "cut_sum = 0\n",
    "\n",
    "if N == 1:\n",
    "    H = tree_list[0] - M\n",
    "# 일단 나무의 갯수가 한개면 자를수있는게 하나니까 그냥 나무의 높이에 맞춰서 자르면 된다.\n",
    "elif N > 1:\n",
    "# 나무가 2개 이상일 경우를 따져보자....\n",
    "# min_tree / max_tree가 존재하는데\n",
    "# min/max의 중간값으로 탐색을 한번 해보자...\n",
    "    start_H = avg_tree - H\n",
    "    for tree in tree_list:\n",
    "        if tree - start_H > 0:\n",
    "            cut_sum += (tree - start_H)\n",
    "\n",
    "\n",
    "#     if cut_sum > M:\n",
    "# # 자른 나무 길이가 M보다 크다는 의미는?? ==> 나무가 더 많이 짤렸다는거죠... 그러면 H의 높이를 올려야겠죠? 얼만큼 올릴껀데?\n",
    "        \n",
    "    \n",
    "#     elif cut_sum < M:\n",
    "# # 자른 나무 길이가 M 보다 작다는 의미는?? ==> 나무가 더 많이 잘렸다는거죠.... H를 낮춰야죠\n",
    "    "
   ]
  },
  {
   "cell_type": "code",
   "execution_count": null,
   "metadata": {},
   "outputs": [],
   "source": [
    "# 이문제 이분탐색으로 풀어야할것같은데.... 흐음....\n",
    "\n",
    "# 설계부터 해보자...\n",
    "\n",
    "# 1단계 나무를 자르는 위치는 뭘로할까?.... 평균값?... 흐음... 별로인거같은데...\n",
    "# 차라리... -> list 내부에 있는 값중에 하나를 선택하도록 해보자....\n",
    "# 그렇게 해서 만약에 크면...  -> 그 다음값과의 중간값을 하고...\n",
    "# 만약에 작으면.... -> 그 전값과의 중간값을 해볼까???"
   ]
  },
  {
   "cell_type": "code",
   "execution_count": 4,
   "metadata": {},
   "outputs": [
    {
     "name": "stdout",
     "output_type": "stream",
     "text": [
      "4 7\n",
      "20 15 10 17\n",
      "15\n"
     ]
    }
   ],
   "source": [
    "# 기본 정의!\n",
    "import sys\n",
    "N , M = map(int,sys.stdin.readline().split())\n",
    "tree_list = list(map(int,sys.stdin.readline().split()))\n",
    "tree_list.sort()\n",
    "\n",
    "min_tree = tree_list[0]\n",
    "max_tree = tree_list[-1]\n",
    "\n",
    "my_tree = 0\n",
    "tree_mid = (min_tree + max_tree) // 2\n",
    "\n",
    "while True:\n",
    "    for tree in tree_list:\n",
    "        if tree - tree_mid > 0:\n",
    "            my_tree += tree - tree_mid\n",
    "            \n",
    "    if my_tree > M:\n",
    "        my_tree = 0\n",
    "        tree_mid -= 1\n",
    "        \n",
    "    elif my_tree < M:\n",
    "        my_tree = 0\n",
    "        tree_mid += 1\n",
    "    \n",
    "    elif my_tree == M:\n",
    "        print(tree_mid)\n",
    "        break"
   ]
  },
  {
   "cell_type": "code",
   "execution_count": null,
   "metadata": {},
   "outputs": [],
   "source": [
    "min_tree = tree_list[0]\n",
    "max_tree = tree_list[-1]"
   ]
  },
  {
   "cell_type": "code",
   "execution_count": null,
   "metadata": {},
   "outputs": [],
   "source": [
    "my_tree = 0\n",
    "tree_mid = (min_tree + max_tree) // 2\n",
    "\n",
    "while True:\n",
    "    for tree in tree_list:\n",
    "        if tree - tree_mid > 0:\n",
    "            my_tree += tree - tree_mid\n",
    "            \n",
    "    if my_tree > M:\n",
    "        my_tree = 0\n",
    "        tree_mid -= 1\n",
    "        \n",
    "    elif my_tree < M:\n",
    "        my_tree = 0\n",
    "        tree_mid += 1\n",
    "    \n",
    "    elif my_tree == M:\n",
    "        print(tree_mid)\n",
    "        break"
   ]
  },
  {
   "cell_type": "code",
   "execution_count": null,
   "metadata": {},
   "outputs": [],
   "source": []
  }
 ],
 "metadata": {
  "kernelspec": {
   "display_name": "Python 3",
   "language": "python",
   "name": "python3"
  },
  "language_info": {
   "codemirror_mode": {
    "name": "ipython",
    "version": 3
   },
   "file_extension": ".py",
   "mimetype": "text/x-python",
   "name": "python",
   "nbconvert_exporter": "python",
   "pygments_lexer": "ipython3",
   "version": "3.7.0"
  }
 },
 "nbformat": 4,
 "nbformat_minor": 2
}
