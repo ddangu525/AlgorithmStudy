{
 "cells": [
  {
   "cell_type": "code",
   "execution_count": 57,
   "metadata": {},
   "outputs": [
    {
     "name": "stdout",
     "output_type": "stream",
     "text": [
      "backj\n",
      "1 1 1 0 0 0 0 0 0 1 1 0 0 0 0 0 0 0 0 0 0 0 0 0 0 0\n"
     ]
    }
   ],
   "source": [
    "import string\n",
    "\n",
    "# alphabet string\n",
    "alpha = string.ascii_lowercase\n",
    "\n",
    "# alphabet size zero list count - [0,0,0,0....0,0]\n",
    "count = []\n",
    "for i in range(len(alpha)):\n",
    "    count.append(0)\n",
    "\n",
    "# input word - ex) back -> ['b','a','c','k']\n",
    "word = list(input())\n",
    "\n",
    "# word[i] -> alphabet list find\n",
    "for i in range(len(word)):\n",
    "    dx = word[i]\n",
    "    count[alpha.find(dx)] += 1\n",
    "\n",
    "count = map(str,count)\n",
    "print(\" \".join(count))"
   ]
  }
 ],
 "metadata": {
  "kernelspec": {
   "display_name": "Python 3",
   "language": "python",
   "name": "python3"
  },
  "language_info": {
   "codemirror_mode": {
    "name": "ipython",
    "version": 3
   },
   "file_extension": ".py",
   "mimetype": "text/x-python",
   "name": "python",
   "nbconvert_exporter": "python",
   "pygments_lexer": "ipython3",
   "version": "3.7.0"
  }
 },
 "nbformat": 4,
 "nbformat_minor": 2
}
