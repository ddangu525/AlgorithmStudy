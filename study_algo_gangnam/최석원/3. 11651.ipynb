{
 "cells": [
  {
   "cell_type": "code",
   "execution_count": 2,
   "metadata": {},
   "outputs": [
    {
     "name": "stdout",
     "output_type": "stream",
     "text": [
      "5\n",
      "0 4\n",
      "1 2\n",
      "1 -1\n",
      "2 2\n",
      "3 3\n",
      "1 -1\n",
      "1 2\n",
      "2 2\n",
      "3 3\n",
      "0 4\n"
     ]
    }
   ],
   "source": [
    "t = int(input())\n",
    "\n",
    "num_list = [[0]*2 for i in range(t)]\n",
    "\n",
    "for i in range(t):\n",
    "    r_2 , r_1 = list(map(int,input().split()))\n",
    "    num_list[i][0], num_list[i][1] = r_1,r_2\n",
    "    \n",
    "num_list.sort()\n",
    "\n",
    "for j in range(len(num_list)):\n",
    "    print(num_list[j][1],num_list[j][0])"
   ]
  },
  {
   "cell_type": "code",
   "execution_count": null,
   "metadata": {},
   "outputs": [],
   "source": []
  }
 ],
 "metadata": {
  "kernelspec": {
   "display_name": "Python 3",
   "language": "python",
   "name": "python3"
  },
  "language_info": {
   "codemirror_mode": {
    "name": "ipython",
    "version": 3
   },
   "file_extension": ".py",
   "mimetype": "text/x-python",
   "name": "python",
   "nbconvert_exporter": "python",
   "pygments_lexer": "ipython3",
   "version": "3.5.6"
  }
 },
 "nbformat": 4,
 "nbformat_minor": 2
}
