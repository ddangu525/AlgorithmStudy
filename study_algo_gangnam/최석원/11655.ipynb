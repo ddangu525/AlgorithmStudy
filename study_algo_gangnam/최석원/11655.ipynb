{
 "cells": [
  {
   "cell_type": "code",
   "execution_count": 28,
   "metadata": {},
   "outputs": [
    {
     "name": "stdout",
     "output_type": "stream",
     "text": [
      "One is 1\n",
      "Bar vf 1\n"
     ]
    }
   ],
   "source": [
    "import string\n",
    "\n",
    "low_ap = string.ascii_lowercase*2\n",
    "up_ap = string.ascii_uppercase*2\n",
    "\n",
    "st = input()\n",
    "new_st = []\n",
    "\n",
    "for i in range(len(st)):\n",
    "    \n",
    "    dx = st[i]\n",
    "    \n",
    "    lx = low_ap.find(dx)\n",
    "    up = up_ap.find(dx)\n",
    "    \n",
    "    if st[i].islower() == True:\n",
    "        new_st.append(low_ap[lx+13])\n",
    "        \n",
    "    elif st[i].isupper() == True:\n",
    "        new_st.append(up_ap[up+13])\n",
    "    \n",
    "    elif st[i] == \" \":\n",
    "        new_st.append(\" \")\n",
    "    \n",
    "    elif st[i].isdigit() == True:\n",
    "        new_st.append(st[i])\n",
    "\n",
    "new_st = map(str,new_st)\n",
    "print(\"\".join(new_st))"
   ]
  },
  {
   "cell_type": "code",
   "execution_count": 10,
   "metadata": {},
   "outputs": [
    {
     "data": {
      "text/plain": [
       "4"
      ]
     },
     "execution_count": 10,
     "metadata": {},
     "output_type": "execute_result"
    }
   ],
   "source": []
  },
  {
   "cell_type": "code",
   "execution_count": 16,
   "metadata": {},
   "outputs": [
    {
     "data": {
      "text/plain": [
       "'abcdefghijklmnopqrstuvwxyzabcdefghijklmnopqrstuvwxyz'"
      ]
     },
     "execution_count": 16,
     "metadata": {},
     "output_type": "execute_result"
    }
   ],
   "source": [
    "low_ap"
   ]
  },
  {
   "cell_type": "code",
   "execution_count": 23,
   "metadata": {},
   "outputs": [
    {
     "data": {
      "text/plain": [
       "'ABCDEFGHIJKLMNOPQRSTUVWXYZABCDEFGHIJKLMNOPQRSTUVWXYZ'"
      ]
     },
     "execution_count": 23,
     "metadata": {},
     "output_type": "execute_result"
    }
   ],
   "source": [
    "up_ap"
   ]
  },
  {
   "cell_type": "code",
   "execution_count": null,
   "metadata": {},
   "outputs": [],
   "source": []
  }
 ],
 "metadata": {
  "kernelspec": {
   "display_name": "Python 3",
   "language": "python",
   "name": "python3"
  },
  "language_info": {
   "codemirror_mode": {
    "name": "ipython",
    "version": 3
   },
   "file_extension": ".py",
   "mimetype": "text/x-python",
   "name": "python",
   "nbconvert_exporter": "python",
   "pygments_lexer": "ipython3",
   "version": "3.7.0"
  }
 },
 "nbformat": 4,
 "nbformat_minor": 2
}
