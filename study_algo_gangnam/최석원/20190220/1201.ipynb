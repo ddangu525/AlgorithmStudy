{
 "cells": [
  {
   "cell_type": "code",
   "execution_count": 39,
   "metadata": {},
   "outputs": [
    {
     "name": "stdout",
     "output_type": "stream",
     "text": [
      "6 3 2\n",
      "3 2 1 6 5 4\n"
     ]
    }
   ],
   "source": [
    "# 1부터 N까지의 수를 한 번씩 이용해서 최대 부분 증가 수열의 길이가 M이고 최대 부분 감소 수열의 길이가 K인 수열을 출력한다.\n",
    "\n",
    "# 첫째 줄에 N M K 가 주어지고, N은 500보다 작거나 같은 자연수, M과 K는 N보다 작거나 같은 수이다.\n",
    "\n",
    "N,M,K = map(int,input().split())\n",
    "\n",
    "n_list = [i for i in range(1,N+1)]\n",
    "\n",
    "grd_list = list()\n",
    "\n",
    "for i in range(0,len(n_list),M):\n",
    "    temp = n_list[i:(M+i)]\n",
    "    temp.reverse()\n",
    "    grd_list.append(temp)\n",
    "\n",
    "ans = sum(grd_list,[])\n",
    "\n",
    "st_ans = \"\"\n",
    "for i in range(len(ans)):\n",
    "    st_ans += \" \"+str(ans[i])\n",
    "    \n",
    "st_ans = st_ans[1:]\n",
    "\n",
    "print(\"\".join(st_ans))"
   ]
  },
  {
   "cell_type": "code",
   "execution_count": null,
   "metadata": {},
   "outputs": [],
   "source": []
  },
  {
   "cell_type": "markdown",
   "metadata": {},
   "source": [
    "최대 증가가 2개여야하고\n",
    "최대 감소가 2개여야함...\n",
    "\n",
    "1 2 3 4 => 증 증 증 증\n",
    "1 2 4 3 => 증 증 증 감\n",
    "이런식이기 때문에\n",
    "\n",
    "2 1 4 3 => 감 감 증 감\n",
    "대충 이런식으로? 해당하는 지점까지 포함해서....\n",
    "\n",
    "5 / 2 / 2이면? 2-2 = 0\n",
    "\n",
    "1  5 3 4  2\n",
    "증 증 감 감 증\n",
    "대충 이런식???\n",
    "\n",
    "5 / 3 / 2 3-2 = 1\n",
    "\n",
    "1 2 5 4 3\n",
    "증 증 증 감 감\n",
    "이렇게 되는거구만?\n",
    "\n",
    "5 / 4 / 1 이면?\n",
    "\n",
    "1 2 3 5 4\n",
    "증 증 증 증 감 4-1 = 3\n",
    "\n",
    "일단 M , K의 합은 N보다 크면 안된다???\n",
    "\n",
    "\n",
    "\n",
    "일단 정의먼저.\n",
    "\n",
    "최대부분 증가수열(Longest Increasing Subsequence)\n",
    "\n",
    "In computer science, the longest increasing subsequence problem is to find a subsequence of a given sequence in which the subsequence's elements are in sorted order, lowest to highest, and in which the subsequence is as long as possible. This subsequence is not necessarily contiguous, or unique.\n",
    "\n",
    "중요한점은, 맨 마지막, 연속되거나 유니크 할 필요는 없다는 이야기.\n",
    "\n",
    "푸는 알고리즘은\n",
    "\n",
    "1. 1부터 N까지 수를 오름차순으로 적는다.\n",
    "2 수를 M등분한다. 이 때, 그룹에 들어있는 수는 K보다 작거나 같아야 하며, \n",
    "   적어도 한 그룹은 들어있는 수의 개수가 K이어야 한다.\n",
    "3. 각 그룹에 들어있는 수의 순서를 뒤집는다.\n",
    "4. 끝"
   ]
  },
  {
   "cell_type": "markdown",
   "metadata": {},
   "source": [
    "1 2 3 4 5 12 34 5 2 1 4 3 5\n",
    "\n",
    "5 / 2 / 2\n",
    "2 1 4 3 5\n",
    "감 감 증 감 증"
   ]
  },
  {
   "cell_type": "code",
   "execution_count": null,
   "metadata": {},
   "outputs": [],
   "source": []
  }
 ],
 "metadata": {
  "kernelspec": {
   "display_name": "Python 3",
   "language": "python",
   "name": "python3"
  },
  "language_info": {
   "codemirror_mode": {
    "name": "ipython",
    "version": 3
   },
   "file_extension": ".py",
   "mimetype": "text/x-python",
   "name": "python",
   "nbconvert_exporter": "python",
   "pygments_lexer": "ipython3",
   "version": "3.7.0"
  }
 },
 "nbformat": 4,
 "nbformat_minor": 2
}
