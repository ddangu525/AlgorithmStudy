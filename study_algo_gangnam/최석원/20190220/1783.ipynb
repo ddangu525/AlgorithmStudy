{
 "cells": [
  {
   "cell_type": "code",
   "execution_count": 18,
   "metadata": {},
   "outputs": [
    {
     "name": "stdout",
     "output_type": "stream",
     "text": [
      "2 4\n",
      "2\n"
     ]
    }
   ],
   "source": [
    "N,M = map(int,input().split())\n",
    "\n",
    "if N == 1:\n",
    "    print(1)\n",
    "\n",
    "elif N == 2:\n",
    "    cnt = min(4,(M+1)//2)\n",
    "    print(cnt)\n",
    "    \n",
    "elif N > 2 and M <= 4 :\n",
    "    cnt = M\n",
    "    print(cnt)\n",
    "    \n",
    "elif N > 2 and 4 < M and M < 7:\n",
    "    cnt = 4\n",
    "    print(cnt)\n",
    "\n",
    "elif N > 2 and M >= 7:\n",
    "    cnt = M-2\n",
    "    print(cnt)"
   ]
  },
  {
   "cell_type": "code",
   "execution_count": 11,
   "metadata": {},
   "outputs": [
    {
     "name": "stdout",
     "output_type": "stream",
     "text": [
      "48\n"
     ]
    }
   ],
   "source": [
    "N =1 일때는 움직일수 없으니까... 한칸만\n",
    "\n",
    "N =2 일때는 2칸 세로 M칸 가로 --> 4번이상 움직이면 규칙존재하니까... 3번까지만 움직여야함 // 그러면 4칸을 움직이는것 => 최대값은 4 // 최소값은?\n",
    "N =2 일때... M = 2이면 안되고... M = 3이면 2번 / M = 4이면 2번 / M = 5이면 3번 / M = 6이면 3번 / M = 7 이면 4번\n",
    "4를넘으면안되니까... 4와 M+1 / 2를 비교해서 작은걸 출력하게\n",
    "\n",
    "N > 2인데... M이작으면??? 1 -> 1 2->2 3->3 4->4 인데 5부터는 꼬인다? 5 = 4고 6 = 4고 7 = 5야.... 8부터는 M-2로 증가한다.."
   ]
  },
  {
   "cell_type": "code",
   "execution_count": null,
   "metadata": {},
   "outputs": [],
   "source": []
  }
 ],
 "metadata": {
  "kernelspec": {
   "display_name": "Python 3",
   "language": "python",
   "name": "python3"
  },
  "language_info": {
   "codemirror_mode": {
    "name": "ipython",
    "version": 3
   },
   "file_extension": ".py",
   "mimetype": "text/x-python",
   "name": "python",
   "nbconvert_exporter": "python",
   "pygments_lexer": "ipython3",
   "version": "3.7.0"
  }
 },
 "nbformat": 4,
 "nbformat_minor": 2
}
