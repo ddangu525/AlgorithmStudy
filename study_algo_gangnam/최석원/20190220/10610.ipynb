{
 "cells": [
  {
   "cell_type": "markdown",
   "metadata": {},
   "source": [
    "어느날, 미르코는 우연히 길거리에서 양수 N을 보았다. 미르코는 30이란 수를 존경하기 때문에, 그는 길거리에서 찾은 수에 포함된 숫자들을 섞어 30의 배수가 되는 가장 큰 수를 만들고 싶어한다.\n",
    "\n",
    "미르코를 도와 그가 만들고 싶어하는 수를 계산하는 프로그램을 작성하라."
   ]
  },
  {
   "cell_type": "code",
   "execution_count": 52,
   "metadata": {},
   "outputs": [
    {
     "name": "stdout",
     "output_type": "stream",
     "text": [
      "2931\n",
      "-1\n"
     ]
    }
   ],
   "source": [
    "N = input()\n",
    "\n",
    "n_list = list()\n",
    "\n",
    "for i in N:\n",
    "    n_list.append(int(i))\n",
    "    \n",
    "s = sum(n_list)\n",
    "\n",
    "if s % 3 != 0:\n",
    "    print(-1)\n",
    "\n",
    "elif 0 not in n_list:\n",
    "    print(-1)\n",
    "\n",
    "elif s % 3 == 0:\n",
    "    n_list.sort(reverse = True)\n",
    "\n",
    "    num = ''\n",
    "    for i in n_list:\n",
    "        num += str(i)\n",
    "\n",
    "    print(int(num))"
   ]
  }
 ],
 "metadata": {
  "kernelspec": {
   "display_name": "Python 3",
   "language": "python",
   "name": "python3"
  },
  "language_info": {
   "codemirror_mode": {
    "name": "ipython",
    "version": 3
   },
   "file_extension": ".py",
   "mimetype": "text/x-python",
   "name": "python",
   "nbconvert_exporter": "python",
   "pygments_lexer": "ipython3",
   "version": "3.7.0"
  }
 },
 "nbformat": 4,
 "nbformat_minor": 2
}
