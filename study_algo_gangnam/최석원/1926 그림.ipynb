{
 "cells": [
  {
   "cell_type": "markdown",
   "metadata": {},
   "source": [
    "큰 도화지에 그림이 그려져 있을 때, 그 그림의 갯수와, 가장 넓은 것의 너비를 측정하라\n",
    "\n",
    "\n",
    "단, 그림이라는 것은 1로 연결된것만 인정 / 가로 세로만 연결 인정이고, 대각선은 안된다!\n",
    "\n",
    "\n",
    "그림의 너비란 1의 갯수를 찾는것\n",
    "\n",
    "\n",
    "첫째줄에 n,m이 주어진다. 도화지의 세로 가로 크기이다.// 두번째 줄 부터 n+1 줄까지의 정보가 주어진다."
   ]
  },
  {
   "cell_type": "code",
   "execution_count": 1,
   "metadata": {},
   "outputs": [
    {
     "name": "stdout",
     "output_type": "stream",
     "text": [
      "6 5\n"
     ]
    }
   ],
   "source": [
    "n , m = map(int,input().split())\n",
    "# dohwa = list(list(map(int,input().split())) for _ in range(n))"
   ]
  },
  {
   "cell_type": "code",
   "execution_count": 81,
   "metadata": {},
   "outputs": [],
   "source": [
    "dohwa = [[1,1,0,1,1],[0,1,1,0,0],[0,0,0,0,0],[1,0,1,1,1],[0,0,1,1,1],[0,0,1,1,1]]"
   ]
  },
  {
   "cell_type": "code",
   "execution_count": 82,
   "metadata": {},
   "outputs": [],
   "source": [
    "st_x,st_y = 0,0"
   ]
  },
  {
   "cell_type": "code",
   "execution_count": 97,
   "metadata": {},
   "outputs": [],
   "source": [
    "def find_painting(st_x,st_y):\n",
    "    que , num = list() , list()\n",
    "    visited =[[0]*m for _ in range(n)]\n",
    "    visited[st_x][st_y] = 1\n",
    "    que.append([st_x,st_y])\n",
    "    \n",
    "    while len(que) > 0:\n",
    "        dx,dy = que.pop(0)\n",
    "        \n",
    "        if dx+1 < n and dohwa[dx+1][dy] == 1 and visited[dx+1][dy] == 0:\n",
    "            que.append([dx+1,dy])\n",
    "            visited[dx+1][dy] = visited[dx][dy] + 1\n",
    "        if dx-1 >= 0 and dohwa[dx-1][dy] == 1 and visited[dx-1][dy] == 0:\n",
    "            que.append([dx-1,dy])\n",
    "            visited[dx-1][dy] = visited[dx][dy] + 1\n",
    "        if dy+1 < m and dohwa[dx][dy+1] == 1 and visited[dx][dy+1] == 0:\n",
    "            que.append([dx,dy+1])\n",
    "            visited[dx][dy+1] = visited[dx][dy] + 1\n",
    "        if dy-1 >= 0 and dohwa[dx][dy-1] == 1 and visited[dx][dy-1] == 0:\n",
    "            que.append([dx,dy-1])\n",
    "            visited[dx][dy-1] = visited[dx][dy] + 1\n",
    "            \n",
    "        for num_list in visited:\n",
    "            num.append(max(num_list))\n",
    "            \n",
    "    return max(num),dx,dy,visited\n",
    "\n",
    "def clean_dohwa(dohwa):\n",
    "    for i in range(len(visited)):\n",
    "        for j in range(len(visited[i])):\n",
    "            if visited[i][j] > 0:\n",
    "                dohwa[i][j] = 0\n",
    "    return dohwa\n",
    "\n",
    "def find_next_painting(dohwa):\n",
    "    for i in range(len(dohwa)):\n",
    "        for j in range(len(dohwa[i])):\n",
    "            if dohwa[i][j] == 1:\n",
    "                return i,j\n",
    "                break"
   ]
  },
  {
   "cell_type": "code",
   "execution_count": 98,
   "metadata": {},
   "outputs": [
    {
     "ename": "TypeError",
     "evalue": "cannot unpack non-iterable NoneType object",
     "output_type": "error",
     "traceback": [
      "\u001b[0;31m---------------------------------------------------------------------------\u001b[0m",
      "\u001b[0;31mTypeError\u001b[0m                                 Traceback (most recent call last)",
      "\u001b[0;32m<ipython-input-98-5879879b10cd>\u001b[0m in \u001b[0;36m<module>\u001b[0;34m\u001b[0m\n\u001b[1;32m      1\u001b[0m \u001b[0msize\u001b[0m \u001b[0;34m,\u001b[0m \u001b[0mlast_x\u001b[0m \u001b[0;34m,\u001b[0m \u001b[0mlast_y\u001b[0m\u001b[0;34m,\u001b[0m\u001b[0mvisited\u001b[0m \u001b[0;34m=\u001b[0m \u001b[0mfind_painting\u001b[0m\u001b[0;34m(\u001b[0m\u001b[0mst_x\u001b[0m\u001b[0;34m,\u001b[0m\u001b[0mst_y\u001b[0m\u001b[0;34m)\u001b[0m\u001b[0;34m\u001b[0m\u001b[0m\n\u001b[1;32m      2\u001b[0m \u001b[0mdohwa\u001b[0m \u001b[0;34m=\u001b[0m \u001b[0mclean_dohwa\u001b[0m\u001b[0;34m(\u001b[0m\u001b[0mdohwa\u001b[0m\u001b[0;34m)\u001b[0m\u001b[0;34m\u001b[0m\u001b[0m\n\u001b[0;32m----> 3\u001b[0;31m \u001b[0mst_x\u001b[0m\u001b[0;34m,\u001b[0m\u001b[0mst_y\u001b[0m \u001b[0;34m=\u001b[0m \u001b[0mfind_next_painting\u001b[0m\u001b[0;34m(\u001b[0m\u001b[0mdohwa\u001b[0m\u001b[0;34m)\u001b[0m\u001b[0;34m\u001b[0m\u001b[0m\n\u001b[0m",
      "\u001b[0;31mTypeError\u001b[0m: cannot unpack non-iterable NoneType object"
     ]
    }
   ],
   "source": [
    "size , last_x , last_y,visited = find_painting(st_x,st_y)\n",
    "dohwa = clean_dohwa(dohwa)\n",
    "st_x,st_y = find_next_painting(dohwa)"
   ]
  },
  {
   "cell_type": "code",
   "execution_count": 99,
   "metadata": {},
   "outputs": [
    {
     "name": "stdout",
     "output_type": "stream",
     "text": [
      "5 5 4\n",
      "3 2\n"
     ]
    }
   ],
   "source": [
    "print(size,last_x,last_y)\n",
    "print(st_x,st_y)"
   ]
  },
  {
   "cell_type": "code",
   "execution_count": 100,
   "metadata": {},
   "outputs": [
    {
     "data": {
      "text/plain": [
       "[[0, 0, 0, 0, 0],\n",
       " [0, 0, 0, 0, 0],\n",
       " [0, 0, 0, 0, 0],\n",
       " [0, 0, 1, 2, 3],\n",
       " [0, 0, 2, 3, 4],\n",
       " [0, 0, 3, 4, 5]]"
      ]
     },
     "execution_count": 100,
     "metadata": {},
     "output_type": "execute_result"
    }
   ],
   "source": [
    "visited"
   ]
  },
  {
   "cell_type": "code",
   "execution_count": 101,
   "metadata": {},
   "outputs": [
    {
     "data": {
      "text/plain": [
       "[[0, 0, 0, 0, 0],\n",
       " [0, 0, 0, 0, 0],\n",
       " [0, 0, 0, 0, 0],\n",
       " [0, 0, 0, 0, 0],\n",
       " [0, 0, 0, 0, 0],\n",
       " [0, 0, 0, 0, 0]]"
      ]
     },
     "execution_count": 101,
     "metadata": {},
     "output_type": "execute_result"
    }
   ],
   "source": [
    "dohwa"
   ]
  },
  {
   "cell_type": "code",
   "execution_count": null,
   "metadata": {},
   "outputs": [],
   "source": [
    "print(size,last_x,last_y)\n",
    "print(st_x,st_y)"
   ]
  },
  {
   "cell_type": "code",
   "execution_count": null,
   "metadata": {},
   "outputs": [],
   "source": [
    "dohwa"
   ]
  },
  {
   "cell_type": "code",
   "execution_count": null,
   "metadata": {},
   "outputs": [],
   "source": [
    "que , num = list() , list()\n",
    "que.append([0,3])\n",
    "while len(que) > 0:\n",
    "    dx,dy = que.pop(0)\n",
    "    if dx+1 < n and dohwa[dx+1][dy] == 1 and visited[dx+1][dy] == 0:\n",
    "        que.append([dx+1,dy])\n",
    "        visited[dx+1][dy] = visited[dx][dy] + 1\n",
    "    if dx-1 >= 0 and dohwa[dx-1][dy] == 1 and visited[dx-1][dy] == 0:\n",
    "        que.append([dx-1,dy])\n",
    "        visited[dx-1][dy] = visited[dx][dy] + 1\n",
    "    if dy+1 < m and dohwa[dx][dy+1] == 1 and visited[dx][dy+1] == 0:\n",
    "        que.append([dx,dy+1])\n",
    "        visited[dx][dy+1] = visited[dx][dy] + 1\n",
    "    if dy-1 >= 0 and dohwa[dx][dy-1] == 1 and visited[dx][dy-1] == 0:\n",
    "        que.append([dx,dy-1])\n",
    "        visited[dx][dy-1] = visited[dx][dy] + 1\n",
    "    print(que)\n",
    "\n",
    "for num_list in visited:\n",
    "    num.append(max(num_list))"
   ]
  },
  {
   "cell_type": "code",
   "execution_count": 79,
   "metadata": {},
   "outputs": [
    {
     "data": {
      "text/plain": [
       "6"
      ]
     },
     "execution_count": 79,
     "metadata": {},
     "output_type": "execute_result"
    }
   ],
   "source": [
    "len(dohwa)"
   ]
  },
  {
   "cell_type": "code",
   "execution_count": 80,
   "metadata": {},
   "outputs": [
    {
     "data": {
      "text/plain": [
       "5"
      ]
     },
     "execution_count": 80,
     "metadata": {},
     "output_type": "execute_result"
    }
   ],
   "source": [
    "len(visited)"
   ]
  },
  {
   "cell_type": "code",
   "execution_count": null,
   "metadata": {},
   "outputs": [],
   "source": []
  }
 ],
 "metadata": {
  "kernelspec": {
   "display_name": "Python 3",
   "language": "python",
   "name": "python3"
  },
  "language_info": {
   "codemirror_mode": {
    "name": "ipython",
    "version": 3
   },
   "file_extension": ".py",
   "mimetype": "text/x-python",
   "name": "python",
   "nbconvert_exporter": "python",
   "pygments_lexer": "ipython3",
   "version": "3.7.0"
  }
 },
 "nbformat": 4,
 "nbformat_minor": 2
}
