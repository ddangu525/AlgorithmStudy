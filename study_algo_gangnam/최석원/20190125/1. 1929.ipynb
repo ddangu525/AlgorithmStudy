{
 "cells": [
  {
   "cell_type": "markdown",
   "metadata": {},
   "source": [
    "1742년, 독일의 아마추어 수학가 크리스티안 골드바흐는 레온하르트 오일러에게 다음과 같은 추측을 제안하는 편지를 보냈다.\n",
    "\n",
    "4보다 큰 모든 짝수는 두 홀수 소수의 합으로 나타낼 수 있다.\n",
    "예를 들어 8은 3 + 5로 나타낼 수 있고, 3과 5는 모두 홀수인 소수이다. 또, 20 = 3 + 17 = 7 + 13, 42 = 5 + 37 = 11 + 31 = 13 + 29 = 19 + 23 이다.\n",
    "\n",
    "이 추측은 아직도 해결되지 않은 문제이다.\n",
    "\n",
    "백만 이하의 모든 짝수에 대해서, 이 추측을 검증하는 프로그램을 작성하시오."
   ]
  },
  {
   "cell_type": "code",
   "execution_count": 45,
   "metadata": {},
   "outputs": [
    {
     "name": "stdout",
     "output_type": "stream",
     "text": [
      "0\n",
      "0 = 0 + 0\n"
     ]
    }
   ],
   "source": [
    "num_list = [1 for i in range(1000000)]\n",
    "\n",
    "m = int(len(num_list)**0.5)\n",
    "\n",
    "num_list[0],num_list[1] = 0,0\n",
    "\n",
    "for i in range(2,m+1):\n",
    "    if num_list[i] == 1:\n",
    "        for j in range(i+i,len(num_list),i):\n",
    "            num_list[j] = 0\n",
    "n = 1\n",
    "num_1,num_2 = 0,0\n",
    "\n",
    "while n != 0:\n",
    "    n = int(input())\n",
    "    for i in range(2,n):\n",
    "        num_1,num_2 = i,n-i\n",
    "        if num_list[num_1] == 1 & num_list[num_2] == 1:\n",
    "            break\n",
    "    print('{0} = {1} + {2}'.format(n,num_1,num_2))"
   ]
  },
  {
   "cell_type": "code",
   "execution_count": 43,
   "metadata": {},
   "outputs": [
    {
     "ename": "ValueError",
     "evalue": "invalid literal for int() with base 10: ''",
     "output_type": "error",
     "traceback": [
      "\u001b[0;31m---------------------------------------------------------------------------\u001b[0m",
      "\u001b[0;31mValueError\u001b[0m                                Traceback (most recent call last)",
      "\u001b[0;32m<ipython-input-43-8cae8315c240>\u001b[0m in \u001b[0;36m<module>\u001b[0;34m\u001b[0m\n\u001b[1;32m     12\u001b[0m \u001b[0;34m\u001b[0m\u001b[0m\n\u001b[1;32m     13\u001b[0m \u001b[0;32mwhile\u001b[0m \u001b[0mn\u001b[0m \u001b[0;34m!=\u001b[0m \u001b[0;36m0\u001b[0m\u001b[0;34m:\u001b[0m\u001b[0;34m\u001b[0m\u001b[0m\n\u001b[0;32m---> 14\u001b[0;31m     \u001b[0mn\u001b[0m \u001b[0;34m=\u001b[0m \u001b[0mint\u001b[0m\u001b[0;34m(\u001b[0m\u001b[0msys\u001b[0m\u001b[0;34m.\u001b[0m\u001b[0mstdin\u001b[0m\u001b[0;34m.\u001b[0m\u001b[0mreadline\u001b[0m\u001b[0;34m(\u001b[0m\u001b[0;34m)\u001b[0m\u001b[0;34m)\u001b[0m\u001b[0;34m\u001b[0m\u001b[0m\n\u001b[0m\u001b[1;32m     15\u001b[0m     \u001b[0;32mfor\u001b[0m \u001b[0mi\u001b[0m \u001b[0;32min\u001b[0m \u001b[0mrange\u001b[0m\u001b[0;34m(\u001b[0m\u001b[0;36m2\u001b[0m\u001b[0;34m,\u001b[0m\u001b[0mn\u001b[0m\u001b[0;34m)\u001b[0m\u001b[0;34m:\u001b[0m\u001b[0;34m\u001b[0m\u001b[0m\n\u001b[1;32m     16\u001b[0m         \u001b[0mnum_1\u001b[0m\u001b[0;34m,\u001b[0m\u001b[0mnum_2\u001b[0m \u001b[0;34m=\u001b[0m \u001b[0mi\u001b[0m\u001b[0;34m,\u001b[0m\u001b[0mn\u001b[0m\u001b[0;34m-\u001b[0m\u001b[0mi\u001b[0m\u001b[0;34m\u001b[0m\u001b[0m\n",
      "\u001b[0;31mValueError\u001b[0m: invalid literal for int() with base 10: ''"
     ]
    }
   ],
   "source": [
    "import sys\n",
    "\n",
    "num_list = [1 for i in range(1000000)]\n",
    "m = int(len(num_list)**0.5)\n",
    "num_list[0],num_list[1] = 0,0\n",
    "for i in range(2,m+1):\n",
    "    if num_list[i] == 1:\n",
    "        for j in range(i+i,len(num_list),i):\n",
    "            num_list[j] = 0\n",
    "n = 1\n",
    "num_1,num_2 = 0,0\n",
    "\n",
    "while n != 0:\n",
    "    n = int(sys.stdin.readline())\n",
    "    for i in range(2,n):\n",
    "        num_1,num_2 = i,n-i\n",
    "        if num_list[num_1] == 1 & num_list[num_2] == 1:\n",
    "            break\n",
    "    print('{0} = {1} + {2}'.format(n,num_1,num_2))"
   ]
  },
  {
   "cell_type": "code",
   "execution_count": null,
   "metadata": {},
   "outputs": [],
   "source": []
  }
 ],
 "metadata": {
  "kernelspec": {
   "display_name": "Python 3",
   "language": "python",
   "name": "python3"
  },
  "language_info": {
   "codemirror_mode": {
    "name": "ipython",
    "version": 3
   },
   "file_extension": ".py",
   "mimetype": "text/x-python",
   "name": "python",
   "nbconvert_exporter": "python",
   "pygments_lexer": "ipython3",
   "version": "3.5.6"
  }
 },
 "nbformat": 4,
 "nbformat_minor": 2
}
