{
 "cells": [
  {
   "cell_type": "code",
   "execution_count": 7,
   "metadata": {},
   "outputs": [
    {
     "name": "stdout",
     "output_type": "stream",
     "text": [
      "baekjoon\n",
      "1 0 -1 -1 2 -1 -1 -1 -1 4 3 -1 -1 7 5 -1 -1 -1 -1 -1 -1 -1 -1 -1 -1 -1\n"
     ]
    }
   ],
   "source": [
    "import string\n",
    "\n",
    "# alphabet string\n",
    "alpha = string.ascii_lowercase\n",
    "\n",
    "# alphabet size zero list count - [0,0,0,0....0,0]\n",
    "count = []\n",
    "for i in range(len(alpha)):\n",
    "    count.append(0)\n",
    "\n",
    "# input word - ex) back -> ['b','a','c','k']\n",
    "word = input()\n",
    "word_list = list(word)\n",
    "\n",
    "# word[i] -> alphabet list find\n",
    "for i in range(len(word)):\n",
    "    dx = word[i]\n",
    "    count[alpha.find(dx)] = word.find(dx)\n",
    "\n",
    "for j in range(len(alpha)):\n",
    "    dx_2 = alpha[j]\n",
    "    if word.find(dx_2) == -1:\n",
    "        count[j] = -1\n",
    "    else:\n",
    "        pass\n",
    "count = map(str,count)\n",
    "print(\" \".join(count))"
   ]
  },
  {
   "cell_type": "code",
   "execution_count": 4,
   "metadata": {},
   "outputs": [
    {
     "data": {
      "text/plain": [
       "13"
      ]
     },
     "execution_count": 4,
     "metadata": {},
     "output_type": "execute_result"
    }
   ],
   "source": []
  },
  {
   "cell_type": "code",
   "execution_count": null,
   "metadata": {},
   "outputs": [],
   "source": []
  }
 ],
 "metadata": {
  "kernelspec": {
   "display_name": "Python 3",
   "language": "python",
   "name": "python3"
  },
  "language_info": {
   "codemirror_mode": {
    "name": "ipython",
    "version": 3
   },
   "file_extension": ".py",
   "mimetype": "text/x-python",
   "name": "python",
   "nbconvert_exporter": "python",
   "pygments_lexer": "ipython3",
   "version": "3.7.0"
  }
 },
 "nbformat": 4,
 "nbformat_minor": 2
}
