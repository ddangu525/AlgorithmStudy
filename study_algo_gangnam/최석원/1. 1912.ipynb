{
 "cells": [
  {
   "cell_type": "markdown",
   "metadata": {},
   "source": [
    "######### 문제 ##########\n",
    "\n",
    "n개의 정수로 이루어진 임의의 수열이 주어진다. 우리는 이 중 연속된 몇 개의 수를 선택해서 구할 수 있는 합 중 가장 큰 합을 구하려고 한다. 단, 수는 한 개 이상 선택해야 한다.\n",
    "\n",
    "예를 들어서 10, -4, 3, 1, 5, 6, -35, 12, 21, -1 이라는 수열이 주어졌다고 하자. 여기서 정답은 12+21인 33이 정답이 된다.\n",
    "\n",
    "######### 입력 ##########\n",
    "\n",
    "첫째 줄에 정수 n(1 ≤ n ≤ 100,000)이 주어지고 둘째 줄에는 n개의 정수로 이루어진 수열이 주어진다. 수는 -1,000보다 크거나 같고, 1,000보다 작거나 같은 정수이다.\n",
    "\n",
    "######### 예제 입출력 ##########\n",
    "\n",
    "10\n",
    "\n",
    "10 -4 3 1 5 6 -35 12 21 -1\n",
    "\n",
    "33"
   ]
  },
  {
   "cell_type": "code",
   "execution_count": 65,
   "metadata": {},
   "outputs": [
    {
     "name": "stdout",
     "output_type": "stream",
     "text": [
      "3\n",
      "-10 -11 -12\n",
      "0\n"
     ]
    }
   ],
   "source": [
    "n = int(input())\n",
    "\n",
    "n_list = input().split()\n",
    "\n",
    "n_list = list(map(int,n_list))\n",
    "\n",
    "n_tot = 0\n",
    "\n",
    "for j in range(n):\n",
    "    for i in range(n):\n",
    "        n_sum = sum(n_list[i:i+j])\n",
    "        \n",
    "        if n_sum >= n_tot:\n",
    "            n_tot = n_sum\n",
    "        else:\n",
    "            n_tot = n_tot\n",
    "            \n",
    "print(n_tot)"
   ]
  },
  {
   "cell_type": "code",
   "execution_count": null,
   "metadata": {},
   "outputs": [],
   "source": []
  }
 ],
 "metadata": {
  "kernelspec": {
   "display_name": "Python 3",
   "language": "python",
   "name": "python3"
  },
  "language_info": {
   "codemirror_mode": {
    "name": "ipython",
    "version": 3
   },
   "file_extension": ".py",
   "mimetype": "text/x-python",
   "name": "python",
   "nbconvert_exporter": "python",
   "pygments_lexer": "ipython3",
   "version": "3.5.6"
  }
 },
 "nbformat": 4,
 "nbformat_minor": 2
}
