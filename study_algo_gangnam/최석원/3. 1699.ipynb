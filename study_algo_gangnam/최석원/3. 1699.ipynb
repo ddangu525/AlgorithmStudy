{
 "cells": [
  {
   "cell_type": "code",
   "execution_count": 78,
   "metadata": {},
   "outputs": [
    {
     "name": "stdout",
     "output_type": "stream",
     "text": [
      "3\n",
      "3"
     ]
    }
   ],
   "source": [
    "import sys\n",
    "import math\n",
    "\n",
    "num = int(input())\n",
    "square_arr = [x**2 for x in range(math.ceil((10**0.5)*100) + 1)]\n",
    "D = [0 for i in range(num+1)]\n",
    "\n",
    "D[1] = 1\n",
    "\n",
    "if num < 2:\n",
    "    sys.stdout.write(\"1\")\n",
    "    exit()\n",
    "\n",
    "D[2] = 2\n",
    "\n",
    "for i in range(2, num+1):\n",
    "    x = math.inf\n",
    "    limit = -1\n",
    "    for (j, e) in enumerate(square_arr):\n",
    "        if e == i:\n",
    "            D[i] = 1\n",
    "            break\n",
    "        elif e > i:\n",
    "            limit = j\n",
    "            break\n",
    "\n",
    "    if limit == -1:\n",
    "        continue\n",
    "    else:\n",
    "        for j in range(1, limit):\n",
    "            y = square_arr[j]\n",
    "            z = 1 + D[i-y]\n",
    "            if z < x:\n",
    "                x = z\n",
    "\n",
    "        D[i] = x\n",
    "\n",
    "sys.stdout.write(str(D[num]))"
   ]
  },
  {
   "cell_type": "code",
   "execution_count": null,
   "metadata": {},
   "outputs": [],
   "source": []
  }
 ],
 "metadata": {
  "kernelspec": {
   "display_name": "Python 3",
   "language": "python",
   "name": "python3"
  },
  "language_info": {
   "codemirror_mode": {
    "name": "ipython",
    "version": 3
   },
   "file_extension": ".py",
   "mimetype": "text/x-python",
   "name": "python",
   "nbconvert_exporter": "python",
   "pygments_lexer": "ipython3",
   "version": "3.5.6"
  }
 },
 "nbformat": 4,
 "nbformat_minor": 2
}
