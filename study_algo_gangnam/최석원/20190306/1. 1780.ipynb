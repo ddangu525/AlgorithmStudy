{
 "cells": [
  {
   "cell_type": "markdown",
   "metadata": {},
   "source": [
    "일단 종이의 크기는 3*N승꼴로 주어진다.\n",
    "\n",
    "1,3,9,27,81,243,729,729*3 까지..... 주어진다.\n",
    "\n",
    "조건 1 - 만약 종이가 모두 같은 수로 되어있다면, 이 종이를 그대로 사용한다.\n",
    "\n",
    "조건 2 - 만약 (조건 1)을 만족하지 못하는 경우에는 종이를 9개로 나누고 (조건 1)을 반복한다.\n",
    "\n",
    "이게 9by9는 9by9가 같은 수가 아니라면 3by3으로 나눠서보고 1by1로 나눠서보고\n",
    "\n",
    "만약 27by27은 27by27을 보고 아니면 9by9 -> 3by3 -> 1by1 이런식으로 점차 줄여가면서 본다."
   ]
  },
  {
   "cell_type": "code",
   "execution_count": 1,
   "metadata": {},
   "outputs": [
    {
     "name": "stdout",
     "output_type": "stream",
     "text": [
      "9\n",
      "0 0 0 1 1 1 -1 -1 -1\n",
      "0 0 0 1 1 1 -1 -1 -1\n",
      "0 0 0 1 1 1 -1 -1 -1\n",
      "1 1 1 0 0 0 0 0 0\n",
      "1 1 1 0 0 0 0 0 0\n",
      "1 1 1 0 0 0 0 0 0\n",
      "0 1 -1 0 1 -1 0 1 -1\n",
      "0 -1 1 0 1 -1 0 1 -1\n",
      "0 1 -1 1 0 -1 0 1 -1\n",
      "10\n",
      "12\n",
      "11\n"
     ]
    }
   ],
   "source": [
    "def check(l, x, y, d):\n",
    "    head = l[x][y]\n",
    "    for dx in range(d):\n",
    "        for dy in range(d):\n",
    "            if l[x+dx][y+dy] != head:\n",
    "                return None\n",
    "    return head\n",
    "\n",
    "def papers(l, x, y, d, r):\n",
    "    checked = check(l, x, y, d)\n",
    "    if checked is not None:\n",
    "        r[checked] += 1\n",
    "        return r\n",
    "    for dx in (0, 1, 2):\n",
    "        for dy in (0, 1, 2):\n",
    "            r = papers(l, x+dx*(d//3), y+dy*(d//3), d//3, r)\n",
    "    return r\n",
    "\n",
    "n = int(input())\n",
    "l = []\n",
    "for _ in range(n):\n",
    "    l.append(input().split())\n",
    "result = papers(l, 0, 0, n, {\"-1\": 0, \"0\": 0, \"1\": 0})\n",
    "for k in (\"-1\", \"0\", \"1\"):\n",
    "    print(result[k])\n",
    "\n"
   ]
  },
  {
   "cell_type": "code",
   "execution_count": null,
   "metadata": {},
   "outputs": [],
   "source": []
  }
 ],
 "metadata": {
  "kernelspec": {
   "display_name": "Python 3",
   "language": "python",
   "name": "python3"
  },
  "language_info": {
   "codemirror_mode": {
    "name": "ipython",
    "version": 3
   },
   "file_extension": ".py",
   "mimetype": "text/x-python",
   "name": "python",
   "nbconvert_exporter": "python",
   "pygments_lexer": "ipython3",
   "version": "3.7.0"
  }
 },
 "nbformat": 4,
 "nbformat_minor": 2
}
