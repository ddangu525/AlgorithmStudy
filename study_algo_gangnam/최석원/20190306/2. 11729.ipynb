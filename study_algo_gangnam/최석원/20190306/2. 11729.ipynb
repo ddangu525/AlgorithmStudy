{
 "cells": [
  {
   "cell_type": "code",
   "execution_count": 27,
   "metadata": {},
   "outputs": [
    {
     "name": "stdout",
     "output_type": "stream",
     "text": [
      "3\n",
      "7\n",
      "1 3\n",
      "1 2\n",
      "3 2\n",
      "1 3\n",
      "2 1\n",
      "2 3\n",
      "1 3\n"
     ]
    }
   ],
   "source": [
    "path_list = []\n",
    "\n",
    "def move(begin, end):\n",
    "    path_list.append(begin + \" \" + end)\n",
    "    \n",
    "def hanoi_move(n,begin,med,end):\n",
    "    if n == 1:\n",
    "        move(begin,end)\n",
    "    else:\n",
    "        hanoi_move(n-1,begin,end,med)\n",
    "        hanoi_move(1,begin,med,end)\n",
    "        hanoi_move(n-1,med,begin,end)\n",
    "\n",
    "n = int(input())\n",
    "hanoi_move(n,'1','2','3')\n",
    "print(len(path_list))\n",
    "print(*path_list, sep =\"\\n\")"
   ]
  },
  {
   "cell_type": "code",
   "execution_count": 23,
   "metadata": {},
   "outputs": [],
   "source": []
  },
  {
   "cell_type": "code",
   "execution_count": null,
   "metadata": {},
   "outputs": [],
   "source": []
  }
 ],
 "metadata": {
  "kernelspec": {
   "display_name": "Python 3",
   "language": "python",
   "name": "python3"
  },
  "language_info": {
   "codemirror_mode": {
    "name": "ipython",
    "version": 3
   },
   "file_extension": ".py",
   "mimetype": "text/x-python",
   "name": "python",
   "nbconvert_exporter": "python",
   "pygments_lexer": "ipython3",
   "version": "3.7.0"
  }
 },
 "nbformat": 4,
 "nbformat_minor": 2
}
