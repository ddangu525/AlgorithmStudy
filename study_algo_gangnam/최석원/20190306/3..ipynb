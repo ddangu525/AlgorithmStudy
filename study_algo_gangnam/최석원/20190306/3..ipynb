{
 "cells": [
  {
   "cell_type": "code",
   "execution_count": 1,
   "metadata": {},
   "outputs": [
    {
     "name": "stdout",
     "output_type": "stream",
     "text": [
      "3\n",
      "1 2 3\n",
      "1 3 2\n",
      "2 1 3 "
     ]
    }
   ],
   "source": [
    "num_node = int(input())\n",
    "inorder = list(map(int, input().split()))\n",
    "postorder = list(map(int, input().split()))\n",
    "\n",
    "indices = dict()\n",
    "for idx in range(num_node):\n",
    "    indices[inorder[idx]] = idx\n",
    "\n",
    "def convert(s_in, e_in, s_post, e_post):\n",
    "    if s_post > e_post:\n",
    "        return\n",
    "    \n",
    "    print(postorder[e_post], end=' ')\n",
    "    \n",
    "    if s_post == e_post:\n",
    "        return\n",
    "    \n",
    "    idx = indices[postorder[e_post]]\n",
    "    convert(s_in, idx - 1, s_post, s_post + (idx - 1 - s_in))\n",
    "    convert(idx + 1, e_in, s_post + (idx - s_in), e_post - 1)\n",
    "\n",
    "convert(0, num_node - 1, 0, num_node - 1)"
   ]
  },
  {
   "cell_type": "code",
   "execution_count": null,
   "metadata": {},
   "outputs": [],
   "source": []
  }
 ],
 "metadata": {
  "kernelspec": {
   "display_name": "Python 3",
   "language": "python",
   "name": "python3"
  },
  "language_info": {
   "codemirror_mode": {
    "name": "ipython",
    "version": 3
   },
   "file_extension": ".py",
   "mimetype": "text/x-python",
   "name": "python",
   "nbconvert_exporter": "python",
   "pygments_lexer": "ipython3",
   "version": "3.7.0"
  }
 },
 "nbformat": 4,
 "nbformat_minor": 2
}
