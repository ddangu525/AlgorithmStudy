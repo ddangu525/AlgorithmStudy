{
 "cells": [
  {
   "cell_type": "code",
   "execution_count": 6,
   "metadata": {},
   "outputs": [
    {
     "name": "stdout",
     "output_type": "stream",
     "text": [
      "baekjoon\n",
      "aekjoon\n",
      "baekjoon\n",
      "ekjoon\n",
      "joon\n",
      "kjoon\n",
      "n\n",
      "on\n",
      "oon\n"
     ]
    }
   ],
   "source": [
    "st = input()\n",
    "\n",
    "st_list = []\n",
    "\n",
    "for i in range(len(st)):\n",
    "    st_list.append(st[i:])\n",
    "\n",
    "st_list.sort()\n",
    "for j in st_list:\n",
    "    print(j)"
   ]
  },
  {
   "cell_type": "code",
   "execution_count": null,
   "metadata": {},
   "outputs": [],
   "source": []
  }
 ],
 "metadata": {
  "kernelspec": {
   "display_name": "Python 3",
   "language": "python",
   "name": "python3"
  },
  "language_info": {
   "codemirror_mode": {
    "name": "ipython",
    "version": 3
   },
   "file_extension": ".py",
   "mimetype": "text/x-python",
   "name": "python",
   "nbconvert_exporter": "python",
   "pygments_lexer": "ipython3",
   "version": "3.7.0"
  }
 },
 "nbformat": 4,
 "nbformat_minor": 2
}
