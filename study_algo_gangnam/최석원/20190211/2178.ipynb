{
 "cells": [
  {
   "cell_type": "markdown",
   "metadata": {},
   "source": [
    "미로에서 1은 이동할 수 있는 칸을 나타내고, 0은 이동할 수 없는 칸을 나타낸다.\n",
    "\n",
    "(1,1)에서 출발하여 (N,M)의 위치로 이동할 때 지나야 하는 최소의 칸 수를 구하는 프로그램을 작성하시오\n",
    "\n",
    "한 칸에서 다른 칸으로 이동할 때, 서로 인접한 칸으로만 이동할 수 있다."
   ]
  },
  {
   "cell_type": "code",
   "execution_count": 23,
   "metadata": {},
   "outputs": [
    {
     "name": "stdout",
     "output_type": "stream",
     "text": [
      "4 6\n",
      "101111\n",
      "101010\n",
      "101011\n",
      "111011\n",
      "15\n"
     ]
    }
   ],
   "source": [
    "N, M = map(int, input().split())\n",
    "\n",
    "arr = []\n",
    "arr2 = [[-1 for x in range(M)] for y in range(N)]\n",
    "for i in range(N):\n",
    "    arr.append(list(map(int,list(input().strip()))))\n",
    "arr2[0][0] = 1\n",
    "\n",
    "queue = [[0,0]]\n",
    "n = 0\n",
    "flag = True\n",
    "while queue:\n",
    "    if not flag:\n",
    "        break\n",
    "    qsize = len(queue)\n",
    "    n += 1\n",
    "    for i in range(qsize):\n",
    "        a = queue[0][0]\n",
    "        b = queue[0][1]\n",
    "        del queue[0]\n",
    "        if a == N-1 and b == M-1:\n",
    "            print(n)\n",
    "            flag = False\n",
    "            break\n",
    "        if a + 1 < N and arr[a+1][b] == 1 and arr2[a+1][b] == -1:\n",
    "            queue.append([a+1, b])\n",
    "            arr2[a+1][b] = 1\n",
    "        if b + 1 < M and arr[a][b+1] == 1 and arr2[a][b+1] == -1:\n",
    "            queue.append([a, b+1])\n",
    "            arr2[a][b+1] = 1\n",
    "        if a - 1 >= 0 and arr[a-1][b] == 1 and arr2[a-1][b] == -1:\n",
    "            queue.append([a-1, b])\n",
    "            arr2[a-1][b] = 1\n",
    "        if b - 1 >= 0 and arr[a][b-1] == 1 and arr2[a][b-1] == -1:\n",
    "            queue.append([a, b-1])\n",
    "            arr2[a][b-1] = 1"
   ]
  },
  {
   "cell_type": "code",
   "execution_count": null,
   "metadata": {},
   "outputs": [],
   "source": []
  }
 ],
 "metadata": {
  "kernelspec": {
   "display_name": "Python 3",
   "language": "python",
   "name": "python3"
  },
  "language_info": {
   "codemirror_mode": {
    "name": "ipython",
    "version": 3
   },
   "file_extension": ".py",
   "mimetype": "text/x-python",
   "name": "python",
   "nbconvert_exporter": "python",
   "pygments_lexer": "ipython3",
   "version": "3.7.0"
  }
 },
 "nbformat": 4,
 "nbformat_minor": 2
}
