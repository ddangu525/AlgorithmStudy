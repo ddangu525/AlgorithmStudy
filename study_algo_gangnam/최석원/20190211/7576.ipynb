{
 "cells": [
  {
   "cell_type": "code",
   "execution_count": 21,
   "metadata": {},
   "outputs": [
    {
     "ename": "ValueError",
     "evalue": "not enough values to unpack (expected 2, got 0)",
     "output_type": "error",
     "traceback": [
      "\u001b[0;31m---------------------------------------------------------------------------\u001b[0m",
      "\u001b[0;31mValueError\u001b[0m                                Traceback (most recent call last)",
      "\u001b[0;32m<ipython-input-21-1fbde028165d>\u001b[0m in \u001b[0;36m<module>\u001b[0;34m()\u001b[0m\n\u001b[1;32m      4\u001b[0m \u001b[0;31m############## 입력받기 ##############\u001b[0m\u001b[0;34m\u001b[0m\u001b[0;34m\u001b[0m\u001b[0m\n\u001b[1;32m      5\u001b[0m \u001b[0;34m\u001b[0m\u001b[0m\n\u001b[0;32m----> 6\u001b[0;31m \u001b[0mm\u001b[0m\u001b[0;34m,\u001b[0m \u001b[0mn\u001b[0m \u001b[0;34m=\u001b[0m \u001b[0mmap\u001b[0m\u001b[0;34m(\u001b[0m\u001b[0mint\u001b[0m\u001b[0;34m,\u001b[0m \u001b[0msys\u001b[0m\u001b[0;34m.\u001b[0m\u001b[0mstdin\u001b[0m\u001b[0;34m.\u001b[0m\u001b[0mreadline\u001b[0m\u001b[0;34m(\u001b[0m\u001b[0;34m)\u001b[0m\u001b[0;34m.\u001b[0m\u001b[0msplit\u001b[0m\u001b[0;34m(\u001b[0m\u001b[0;34m)\u001b[0m\u001b[0;34m)\u001b[0m\u001b[0;34m\u001b[0m\u001b[0m\n\u001b[0m\u001b[1;32m      7\u001b[0m \u001b[0ma\u001b[0m \u001b[0;34m=\u001b[0m \u001b[0;34m[\u001b[0m\u001b[0;34m[\u001b[0m\u001b[0;36m0\u001b[0m\u001b[0;34m]\u001b[0m\u001b[0;34m*\u001b[0m\u001b[0mm\u001b[0m \u001b[0;32mfor\u001b[0m \u001b[0mx\u001b[0m \u001b[0;32min\u001b[0m \u001b[0mrange\u001b[0m\u001b[0;34m(\u001b[0m\u001b[0mn\u001b[0m\u001b[0;34m)\u001b[0m\u001b[0;34m]\u001b[0m\u001b[0;34m\u001b[0m\u001b[0m\n\u001b[1;32m      8\u001b[0m \u001b[0;34m\u001b[0m\u001b[0m\n",
      "\u001b[0;31mValueError\u001b[0m: not enough values to unpack (expected 2, got 0)"
     ]
    }
   ],
   "source": [
    "import sys\n",
    "import collections\n",
    "\n",
    "m, n = map(int, sys.stdin.readline().split())\n",
    "a = [[0]*m for x in range(n)]\n",
    "\n",
    "one = 0 # 1의 수를 저장 (처음 입력값이 모두 1인 경우 체크하기 위해)\n",
    "start_point = [] # 1인 좌표를 저장 (bfs 의 시작점을 알기 위해)\n",
    "for i in range(n):\n",
    "    temp = sys.stdin.readline().split()\n",
    "    for j in range(m):\n",
    "        a[i][j] = int(temp[j])\n",
    "        if a[i][j] == 1:\n",
    "            start_point.append((i,j))\n",
    "            one = one + 1\n",
    "\n",
    "def bfs():\n",
    "    queue = collections.deque([])\n",
    "    dx = [0,0,-1,1]\n",
    "    dy = [1,-1,0,0]\n",
    "    for start in start_point:\n",
    "        queue.append((start[0],start[1]))\n",
    "    \n",
    "    while queue:\n",
    "        x, y = queue.popleft()\n",
    "        \n",
    "        for i in range(0,4):\n",
    "            ax = x + dx[i]\n",
    "            ay = y + dy[i]\n",
    "                   \n",
    "            if (0 <= ax and ax < n) and (0 <= ay and ay < m) and a[ax][ay] != 1:\n",
    "                if a[ax][ay] == 0 or (a[ax][ay] > 0 and a[ax][ay] > a[x][y] + 1):\n",
    "                    # 이미 bfs 를 한 레벨보다 작은 레벨로 익힐 수 있는 경우 작은 레벨로 변경\n",
    "                    a[ax][ay] = a[x][y] + 1 \n",
    "                    queue.append((ax,ay))             \n",
    "\n",
    "# 최종 행렬을 검사하며 안익었는지 / 최대값이 무엇인지 알려주는 함수\n",
    "def checkAll(date):\n",
    "    for i in range(n):\n",
    "        for j in range(m):\n",
    "            if a[i][j] == 0:\n",
    "                return False\n",
    "            elif date < a[i][j]:\n",
    "                date = a[i][j]\n",
    "    return date\n",
    "\n",
    "date = 0\n",
    "if one == n*m:\n",
    "    date = 0\n",
    "elif one == 0:\n",
    "    pass\n",
    "else:\n",
    "    bfs()\n",
    "        \n",
    "    checked = checkAll(date)\n",
    "    if checked != False:\n",
    "        date = checked - 1\n",
    "    else:\n",
    "        date = -1\n",
    "        \n",
    "print(date)"
   ]
  },
  {
   "cell_type": "code",
   "execution_count": 7,
   "metadata": {},
   "outputs": [],
   "source": []
  },
  {
   "cell_type": "code",
   "execution_count": null,
   "metadata": {},
   "outputs": [],
   "source": []
  }
 ],
 "metadata": {
  "kernelspec": {
   "display_name": "Python 3",
   "language": "python",
   "name": "python3"
  },
  "language_info": {
   "codemirror_mode": {
    "name": "ipython",
    "version": 3
   },
   "file_extension": ".py",
   "mimetype": "text/x-python",
   "name": "python",
   "nbconvert_exporter": "python",
   "pygments_lexer": "ipython3",
   "version": "3.7.0"
  }
 },
 "nbformat": 4,
 "nbformat_minor": 2
}
