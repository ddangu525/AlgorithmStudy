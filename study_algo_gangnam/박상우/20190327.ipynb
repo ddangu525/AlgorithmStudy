{
 "cells": [
  {
   "cell_type": "markdown",
   "metadata": {},
   "source": [
    "## 1. 1939 중량제한"
   ]
  },
  {
   "cell_type": "markdown",
   "metadata": {},
   "source": [
    "#### 문제\n",
    "N(2≤N≤10,000)개의 섬으로 이루어진 나라가 있다. 이들 중 몇 개의 섬 사이에는 다리가 설치되어 있어서 차들이 다닐 수 있다.  \n",
    "  \n",
    "영식 중공업에서는 두 개의 섬에 공장을 세워 두고 물품을 생산하는 일을 하고 있다.  \n",
    "물품을 생산하다 보면 공장에서 다른 공장으로 생산 중이던 물품을 수송해야 할 일이 생기곤 한다.  \n",
    "그런데 각각의 다리마다 중량제한이 있기 때문에 무턱대고 물품을 옮길 순 없다.  \n",
    "만약 중량제한을 초과하는 양의 물품이 다리를 지나게 되면 다리가 무너지게 된다.  \n",
    "  \n",
    "한 번의 이동에서 옮길 수 있는 물품들의 중량의 최댓값을 구하는 프로그램을 작성하시오.  \n",
    "  \n",
    "#### 입력\n",
    "첫째 줄에 N, M(1≤M≤100,000)이 주어진다.  \n",
    "다음 M개의 줄에는 다리에 대한 정보를 나타내는 세 정수 A, B(1≤A, B≤N), C(1≤C≤1,000,000,000)가 주어진다.  \n",
    "이는 A번 섬과 B번 섬 사이에 중량제한이 C인 다리가 존재한다는 의미이다.  \n",
    "서로 같은 두 도시 사이에 여러 개의 다리가 있을 수도 있으며, 모든 다리는 양방향이다.  \n",
    "마지막 줄에는 공장이 위치해 있는 섬의 번호를 나타내는 서로 다른 두 정수가 주어진다.  \n",
    "공장이 있는 두 섬을 연결하는 경로는 항상 존재하는 데이터만 입력으로 주어진다.  \n",
    "  \n",
    "#### 출력\n",
    "첫째 줄에 답을 출력한다.  "
   ]
  },
  {
   "cell_type": "markdown",
   "metadata": {},
   "source": [
    "### ------------------------------------------------------------------------------"
   ]
  },
  {
   "cell_type": "markdown",
   "metadata": {},
   "source": [
    "그래프 탐색도 해야되고.. 이분탐색도 해야되고.. 어려운듯..?  \n",
    "일단 저장은 각 다리별로 해주는 게 맞을것같고..  \n",
    "시험해볼 중량을 정해서, 공장을 옮기는 경로가 가능한지 판단.."
   ]
  },
  {
   "cell_type": "code",
   "execution_count": null,
   "metadata": {
    "collapsed": true
   },
   "outputs": [],
   "source": [
    "from collections import defaultdict, deque\n",
    "import sys\n",
    "input = sys.stdin.readline\n",
    "N, M = map(int, input().split())\n",
    "# key: 다리, value: (연결된 다리, 제한 중량)\n",
    "bridge = defaultdict(list)\n",
    "for _ in range(M):\n",
    "    a, b, c = map(int, input().split())\n",
    "    bridge[a].append((b,c))\n",
    "    bridge[b].append((a,c))\n",
    "fac1, fac2 = map(int, input().split())\n",
    "\n",
    "# 중량의 하한, 상한값.\n",
    "min_weight = 1\n",
    "max_weight = 10**9\n",
    "\n",
    "# 현재 중량으로 이동이 가능한 경로를 찾음. fac1에서 fac2로..dfs로 해보자..\n",
    "def find(weight):\n",
    "    # N개 섬에 대한 방문 체크.\n",
    "    visit = [False] * (N+1)\n",
    "    stack = deque()\n",
    "    stack.append(fac1)\n",
    "    visit[fac1] = True\n",
    "    find = False\n",
    "    while stack:\n",
    "        cur_node = stack.pop()\n",
    "        for next_node, limit in bridge[cur_node]:\n",
    "            # 방문하지 않았고 제한중량 이하라면 가기.            \n",
    "            if not visit[next_node] and weight<=limit:\n",
    "                stack.append(next_node)\n",
    "                visit[next_node] = True\n",
    "                if next_node == fac2:\n",
    "                    find = True\n",
    "                    break\n",
    "    return find\n",
    "    \n",
    "\n",
    "# 이분탐색.\n",
    "while min_weight<=max_weight:\n",
    "    try_weight = (min_weight + max_weight) // 2\n",
    "    # 현재 중량이 가능하다면 더 무겁게 다시 해보기\n",
    "    if find(try_weight):\n",
    "        min_weight = try_weight + 1\n",
    "    # 지금 너무 무겁다면 가볍게 해보기\n",
    "    else:\n",
    "        max_weight = try_weight - 1\n",
    "print(max_weight)"
   ]
  },
  {
   "cell_type": "markdown",
   "metadata": {},
   "source": [
    "100%에서 런타임 에러 뭐냐..아 다리를 방문하는 게 아니라 섬을 방문하게 해야지...  \n",
    "696ms.. 좀 느린데.. 일단 저장할 때 중량 최대인 다리만 저장해주면 빨라질듯.."
   ]
  },
  {
   "cell_type": "markdown",
   "metadata": {},
   "source": [
    "## 2. 1561 놀이공원"
   ]
  },
  {
   "cell_type": "markdown",
   "metadata": {},
   "source": [
    "#### 문제\n",
    "N명의 아이들이 한 줄로 줄을 서서 놀이공원에서 1인승 놀이기구를 기다리고 있다.  \n",
    "이 놀이공원에는 총 M종류의 1인승 놀이기구가 있으며, 1번부터 M번까지 번호가 매겨져 있다.  \n",
    "  \n",
    "모든 놀이기구는 각각 정해진 운행 시간이 정해져 있어서, 운행 시간이 지나면 탑승하고 있던 아이는 내리게 된다.  \n",
    "놀이 기구가 비어 있으면 현재 줄에서 가장 앞에 서 있는 아이가 빈 놀이기구에 탑승한다.  \n",
    "만일 여러 개의 놀이기구가 동시에 비어 있으면, 더 작은 번호가 적혀 있는 놀이기구를 먼저 탑승한다고 한다.  \n",
    "  \n",
    "놀이기구가 모두 비어 있는 상태에서 첫 번째 아이가 놀이기구에 탑승한다고 할 때,  \n",
    "줄의 마지막 아이가 타게 되는 놀이기구의 번호를 구하는 프로그램을 작성하시오.  \n",
    "  \n",
    "#### 입력\n",
    "첫째 줄에 N(1<= N<= 2,000,000,000)과 M(1<= M<= 10,000)이 빈칸을 사이에 두고 주어진다.  \n",
    "둘째 줄에는 각 놀이기구의 운행 시간을 나타내는 M개의 자연수가 순서대로 주어진다.  \n",
    "운행 시간은 1 이상 30 이하의 자연수이며, 단위는 분이다.  \n",
    "  \n",
    "#### 출력\n",
    "첫째 줄에 마지막 아이가 타게 되는 놀이기구의 번호를 출력한다.  "
   ]
  },
  {
   "cell_type": "markdown",
   "metadata": {},
   "source": [
    "### ------------------------------------------------------------------------------"
   ]
  },
  {
   "cell_type": "markdown",
   "metadata": {},
   "source": [
    "기다리는 줄 큐 하나, 그리고 놀이기구 운행정보.. 이게 왜 이분탐색일까?  음..  \n",
    "시뮬은 절대 안될 것 같다. 그리고 들어가는데 걸리는 시간은 없으니까...  \n",
    "정렬해서 봐보자.. 그러면 \n",
    "일단 N<=M이면 그냥 N번째..\n",
    "1. 1번 놀이기구만 있고 운행시간이 t1 일 때 -> t1분에 1명 탑승..  \n",
    "2. 1, 2번 놀이기구가 있고 운행시간이 t1, t2 일 때 -> t1,t2 최소공배수(LCM)마다 LCM/t1 + LCM/t2명.."
   ]
  },
  {
   "cell_type": "code",
   "execution_count": 4,
   "metadata": {},
   "outputs": [
    {
     "name": "stdout",
     "output_type": "stream",
     "text": [
      "6 3\n",
      "4 4 8\n"
     ]
    },
    {
     "data": {
      "text/plain": [
       "[(4, 1), (4, 2), (8, 3)]"
      ]
     },
     "execution_count": 4,
     "metadata": {},
     "output_type": "execute_result"
    }
   ],
   "source": [
    "from collections import deque\n",
    "N, M = map(int, input().split())\n",
    "if N<=M:\n",
    "    print(N)\n",
    "    exit()\n",
    "# *rides, = map(int, input().split())\n",
    "rides = sorted(zip(map(int, input().split()), range(1,M+1)))\n",
    "rides"
   ]
  },
  {
   "cell_type": "code",
   "execution_count": 3,
   "metadata": {
    "collapsed": true
   },
   "outputs": [],
   "source": [
    "a = [1,2,3]\n",
    "b = ('a','b','c')\n",
    "c = list(zip(range(1,4),b))"
   ]
  },
  {
   "cell_type": "code",
   "execution_count": 4,
   "metadata": {},
   "outputs": [
    {
     "data": {
      "text/plain": [
       "[(1, 'a'), (2, 'b'), (3, 'c')]"
      ]
     },
     "execution_count": 4,
     "metadata": {},
     "output_type": "execute_result"
    }
   ],
   "source": [
    "c"
   ]
  },
  {
   "cell_type": "markdown",
   "metadata": {},
   "source": [
    "## 3. 2022 사다리"
   ]
  },
  {
   "cell_type": "markdown",
   "metadata": {},
   "source": [
    "#### 문제\n",
    "아래의 그림과 같이 높은 빌딩 사이를 따라 좁은 길이 나있다.  \n",
    "두 개의 사다리가 있는데 길이가 x인 사다리는 오른쪽 빌딩의 아래를 받침대로 하여 왼쪽 빌딩에 기대져 있고  \n",
    "길이가 y인 사다리는 왼쪽 빌딩의 아래를 받침대로 하여 오른쪽 빌딩에 기대져 있다.  \n",
    "그리고 두 사다리는 땅에서부터 정확하게 c인 지점에서 서로 교차한다. 그렇다면 두 빌딩은 얼마나 떨어져 있는 걸까?  \n",
    "  \n",
    "<img src=\"https://onlinejudgeimages.s3-ap-northeast-1.amazonaws.com/upload/201007/ladd.png\">\n",
    "  \n",
    "#### 입력\n",
    "첫째 줄에 차례대로 x, y, c에 해당하는 양의 실수 세 개가 입력된다. 수는 소수점 여섯째 자리까지 주어질 수 있다.  \n",
    "  \n",
    "#### 출력\n",
    "두 빌딩사이에 너비가 되는 수치를 출력한다. 절대/상대 오차는 $10^{-3}$까지 허용한다.  "
   ]
  },
  {
   "cell_type": "markdown",
   "metadata": {},
   "source": [
    "### ------------------------------------------------------------------------------"
   ]
  },
  {
   "cell_type": "markdown",
   "metadata": {},
   "source": [
    "삼각법으로 구하기?? 이것도 까먹어서 못하겠네..  \n",
    "  \n",
    "아니면 왼쪽 아래를 0,0으로 잡고 임의의 d를 정해서 직선 두 개의 식을 만든 후,  \n",
    "교점을 구해서 그 y좌표가 c와 얼마나 차이나는지 보기?? 아 귀차는뎅.ㅜㅜ"
   ]
  },
  {
   "cell_type": "code",
   "execution_count": 28,
   "metadata": {
    "scrolled": true
   },
   "outputs": [
    {
     "name": "stdout",
     "output_type": "stream",
     "text": [
      "12.619429 8.163332 3\n",
      "현재 d 4.082166\n",
      "계산된 c 4.4404780429613275\n",
      "현재 d 6.1227990000000005\n",
      "계산된 c 3.6253270156728146\n",
      "현재 d 7.1431155\n",
      "계산된 c 2.863847829117287\n",
      "현재 d 6.63250725\n",
      "계산된 c 3.297442377391521\n",
      "현재 d 6.887361374999999\n",
      "계산된 c 3.098257227032338\n",
      "현재 d 7.0147884375\n",
      "계산된 c 2.9865525324763063\n",
      "현재 d 6.950624906249999\n",
      "계산된 c 3.0439498698880962\n",
      "현재 d 6.982256671875\n",
      "계산된 c 3.015958169516626\n",
      "현재 d 6.9980725546875\n",
      "계산된 c 3.0017420619120907\n",
      "현재 d 7.00598049609375\n",
      "계산된 c 2.994577508432263\n",
      "현재 d 7.001576525390625\n",
      "계산된 c 2.998572172546739\n",
      "현재 d 6.999374540039062\n",
      "계산된 c 3.000565081160549\n",
      "6.999\n",
      "6.999\n"
     ]
    }
   ],
   "source": [
    "x, y, c = map(float, input().split())\n",
    "min_d = 0.001\n",
    "max_d = min(x,y)\n",
    "while min_d<=max_d:\n",
    "    try_d = (min_d+max_d)/2\n",
    "    calculated_c = (((y**2 - try_d**2)**0.5)/try_d)*(try_d*((x**2-try_d**2)**0.5) / (((y**2-try_d**2)**0.5) + (x**2 - try_d**2)**0.5))\n",
    "    # 계산된 게 더 크다. 간격을 늘려야함!\n",
    "    if calculated_c-c >= 10 ** -3:\n",
    "        min_d = try_d + 0.0001\n",
    "    # 계산된 게 작다. 간격을 줄여야함.\n",
    "    elif c-calculated_c > 10 ** -3:\n",
    "        max_d = try_d - 0.001\n",
    "    else:\n",
    "        break\n",
    "print(round(try_d, 3))"
   ]
  }
 ],
 "metadata": {
  "kernelspec": {
   "display_name": "Python 3",
   "language": "python",
   "name": "python3"
  },
  "language_info": {
   "codemirror_mode": {
    "name": "ipython",
    "version": 3
   },
   "file_extension": ".py",
   "mimetype": "text/x-python",
   "name": "python",
   "nbconvert_exporter": "python",
   "pygments_lexer": "ipython3",
   "version": "3.6.3"
  }
 },
 "nbformat": 4,
 "nbformat_minor": 2
}
