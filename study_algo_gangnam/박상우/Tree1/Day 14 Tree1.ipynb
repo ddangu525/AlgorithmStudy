{
 "cells": [
  {
   "cell_type": "markdown",
   "metadata": {},
   "source": [
    "## 1. 1991 트리순회"
   ]
  },
  {
   "cell_type": "markdown",
   "metadata": {},
   "source": [
    "#### 문제\n",
    "이진 트리를 입력받아 전위 순회(preorder traversal), 중위 순회(inorder traversal), 후위 순회(postorder traversal)한 결과를  \n",
    "출력하는 프로그램을 작성하시오.  \n",
    "  \n",
    "<img src=\"https://www.acmicpc.net/JudgeOnline/upload/201007/trtr.png\">  \n",
    "  \n",
    "  \n",
    "예를 들어 위와 같은 이진 트리가 입력되면,  \n",
    "  \n",
    "전위 순회한 결과 : ABDCEFG // (루트) (왼쪽 자식) (오른쪽 자식)  \n",
    "중위 순회한 결과 : DBAECFG // (왼쪽 자식) (루트) (오른쪽 자식)  \n",
    "후위 순회한 결과 : DBEGFCA // (왼쪽 자식) (오른쪽 자식) (루트) 가 된다.\n",
    "  \n",
    "#### 입력\n",
    "첫째 줄에는 이진 트리의 노드의 개수 N(1≤N≤26)이 주어진다.  \n",
    "둘째 줄부터 N개의 줄에 걸쳐 각 노드와 그의 왼쪽 자식 노드, 오른쪽 자식 노드가 주어진다.  \n",
    "노드의 이름은 A부터 차례대로 영문자 대문자로 매겨지며, 항상 A가 루트 노드가 된다. 자식 노드가 없는 경우에는 .으로 표현된다.  \n",
    "  \n",
    "#### 출력\n",
    "첫째 줄에 전위 순회, 둘째 줄에 중위 순회, 셋째 줄에 후위 순회한 결과를 출력한다. 각 줄에 N개의 알파벳을 공백 없이 출력하면 된다."
   ]
  },
  {
   "cell_type": "markdown",
   "metadata": {},
   "source": [
    "### ------------------------------------------------------------------------------"
   ]
  },
  {
   "cell_type": "markdown",
   "metadata": {},
   "source": [
    "결과 저장을 어떻게할까.."
   ]
  },
  {
   "cell_type": "code",
   "execution_count": 15,
   "metadata": {},
   "outputs": [
    {
     "name": "stdout",
     "output_type": "stream",
     "text": [
      "7\n",
      "A B C\n",
      "B D .\n",
      "C E F\n",
      "E . .\n",
      "F . G\n",
      "D . .\n",
      "G . .\n",
      "ABDCEFG\n",
      "DBAECFG\n",
      "DBEGFCA\n"
     ]
    }
   ],
   "source": [
    "# import sys\n",
    "# input = sys.stdin.readline\n",
    "N = int(input())\n",
    "# 트리정보 dictionary\n",
    "info = {} \n",
    "# 트리 입력받기\n",
    "for _ in range(N):\n",
    "    n, *c = input().split()   # node, child\n",
    "    info[n] = c\n",
    "\n",
    "# 전위순회 (루트, 왼쪽, 오른쪽)\n",
    "def preorder(root):\n",
    "    ans = ''\n",
    "    if root == '.':\n",
    "        return ''\n",
    "    ans += root\n",
    "    ans += preorder(info[root][0])\n",
    "    ans += preorder(info[root][1])\n",
    "    return ans\n",
    "\n",
    "# 중위순회 (왼쪽, 루트, 오른쪽)\n",
    "def inorder(root):\n",
    "    ans = ''\n",
    "    if root == '.':\n",
    "        return ''\n",
    "    ans += inorder(info[root][0])\n",
    "    ans += root\n",
    "    ans += inorder(info[root][1])\n",
    "    return ans\n",
    "    \n",
    "# 후위순회 (왼쪽, 오른쪽, 루트)\n",
    "def postorder(root):\n",
    "    ans = ''\n",
    "    if root == '.':\n",
    "        return ''\n",
    "    ans += postorder(info[root][0])\n",
    "    ans += postorder(info[root][1])\n",
    "    ans += root\n",
    "    return ans\n",
    "print(f\"{preorder('A')}\\n{inorder('A')}\\n{postorder('A')}\")"
   ]
  },
  {
   "cell_type": "markdown",
   "metadata": {},
   "source": [
    "7  \n",
    "A B C  \n",
    "B D .  \n",
    "C E F  \n",
    "E . .  \n",
    "F . G  \n",
    "D . .  \n",
    "G . .  \n",
    "\n",
    "--- \n",
    "ABDCEFG  \n",
    "DBAECFG  \n",
    "DBEGFCA  "
   ]
  },
  {
   "cell_type": "markdown",
   "metadata": {},
   "source": [
    "## 2. 11725 트리의 부모 찾기"
   ]
  },
  {
   "cell_type": "markdown",
   "metadata": {},
   "source": [
    "#### 문제\n",
    "루트 없는 트리가 주어진다. 이때, 트리의 루트를 1이라고 정했을 때, 각 노드의 부모를 구하는 프로그램을 작성하시오.  \n",
    "  \n",
    "#### 입력\n",
    "첫째 줄에 노드의 개수 N (2 ≤ N ≤ 100,000)이 주어진다. 둘째 줄부터 N-1개의 줄에 트리 상에서 연결된 두 정점이 주어진다.  \n",
    "  \n",
    "#### 출력\n",
    "첫째 줄부터 N-1개의 줄에 각 노드의 부모 노드 번호를 2번 노드부터 순서대로 출력한다.  "
   ]
  },
  {
   "cell_type": "markdown",
   "metadata": {},
   "source": [
    "### ------------------------------------------------------------------------------"
   ]
  },
  {
   "cell_type": "markdown",
   "metadata": {},
   "source": [
    "1번이 루트.. 1이랑 연결된 애들부터 찾아나가기.. class 만들까...  \n",
    "일단 연결 다 해놓고 1부터 다시 순회..?"
   ]
  },
  {
   "cell_type": "code",
   "execution_count": 2,
   "metadata": {},
   "outputs": [
    {
     "name": "stdout",
     "output_type": "stream",
     "text": [
      "7\n",
      "1 6\n",
      "6 3\n",
      "3 5\n",
      "4 1\n",
      "2 4\n",
      "4 7\n",
      "4\n",
      "6\n",
      "1\n",
      "3\n",
      "1\n",
      "4\n"
     ]
    }
   ],
   "source": [
    "# import sys\n",
    "# input = sys.stdin.readline\n",
    "from collections import deque\n",
    "N = int(input())\n",
    "link = [[] for _ in range(N+1)]  # 1~N까지 각각 누구와 연결돼있는지 저장..\n",
    "v = [False] * (N+1)     # 방문체크\n",
    "for _ in range(N-1):\n",
    "    a, b = map(int, input().split())\n",
    "    link[a].append(b)\n",
    "    link[b].append(a)\n",
    "\n",
    "parent = [0] * (N+1)\n",
    "q = deque([1])\n",
    "while q:\n",
    "    for _ in range(len(q)):\n",
    "        p = q.popleft()\n",
    "        for i in link[p]:\n",
    "            if not v[i]:\n",
    "                v[i] = True\n",
    "                parent[i] = p\n",
    "                q.append(i)\n",
    "print('\\n'.join(map(str, parent[2:])))            "
   ]
  },
  {
   "cell_type": "markdown",
   "metadata": {},
   "source": [
    "7  \n",
    "1 6  \n",
    "6 3  \n",
    "3 5  \n",
    "4 1  \n",
    "2 4  \n",
    "4 7  \n",
    "\n",
    "--- \n",
    "4  \n",
    "6  \n",
    "1  \n",
    "3  \n",
    "1  \n",
    "4  "
   ]
  },
  {
   "cell_type": "markdown",
   "metadata": {},
   "source": [
    "## 3. 1167 트리의 지름"
   ]
  },
  {
   "cell_type": "markdown",
   "metadata": {},
   "source": [
    "#### 문제\n",
    "트리의 지름이란, 트리에서 임의의 두 점 사이의 거리 중 가장 긴 것을 말한다. 트리의 지름을 구하는 프로그램을 작성하시오.  \n",
    "  \n",
    "#### 입력\n",
    "트리가 입력으로 주어진다.  \n",
    "먼저 첫 번째 줄에서는 트리의 정점의 개수 V가 주어지고 (2≤V≤100,000)둘째 줄부터 V개의 줄에 걸쳐 간선의 정보가 다음과 같이 주어진다.  \n",
    "(정점 번호는 1부터 V까지 매겨져 있다고 생각한다)  \n",
    "  \n",
    "먼저 정점 번호가 주어지고, 이어서 연결된 간선의 정보를 의미하는 정수가 두 개씩 주어지는데,  \n",
    "하나는 정점번호, 다른 하나는 그 정점까지의 거리이다.  \n",
    "예를 들어 네 번째 줄의 경우 정점 3은 정점 1과 거리가 2인 간선으로 연결되어 있고,  \n",
    "정점 4와는 거리가 3인 간선으로 연결되어 있는 것을 보여준다. 각 줄의 마지막에는 -1이 입력으로 주어진다.  \n",
    "주어지는 거리는 모두 10,000 이하의 자연수이다.  \n",
    "  \n",
    "#### 출력\n",
    "첫째 줄에 트리의 지름을 출력한다.  "
   ]
  },
  {
   "cell_type": "markdown",
   "metadata": {},
   "source": [
    "### ------------------------------------------------------------------------------"
   ]
  },
  {
   "cell_type": "markdown",
   "metadata": {},
   "source": [
    "각 점들 사이의 거리 모두 저장?? 시간초과나려나..    \n",
    "dfs..?  "
   ]
  },
  {
   "cell_type": "code",
   "execution_count": null,
   "metadata": {
    "collapsed": true
   },
   "outputs": [],
   "source": [
    "# import sys\n",
    "# input = sys.stdin.readline\n",
    "from collections import defaultdict\n",
    "V = int(input())\n",
    "tree = defaultdict(dict)\n",
    "d = [[0]*(V+1) for _ in range(V+1)]    # 각 노드 사이 길이 모두 저장...\n",
    "for _ in range(V):\n",
    "    n, *info = map(int, input().split())\n",
    "    info.pop()\n",
    "    for i in range(0, len(info), 2):\n",
    "        d[n][info[i]] = info[i+1]       # 노드끼리 길이 다 저장...\n",
    "#         tree[n][info[i]]=info[i+1]    # 각 노드에서 이어진 노드와 그 길이 저장.."
   ]
  },
  {
   "cell_type": "markdown",
   "metadata": {},
   "source": [
    "## 4. 1967 트리의 지름 2"
   ]
  },
  {
   "cell_type": "markdown",
   "metadata": {},
   "source": [
    "#### 문제\n",
    "트리(tree)는 사이클이 없는 무방향 그래프이다. 트리에서는 어떤 두 노드를 선택해도 둘 사이에 경로가 항상 하나만 존재하게 된다.  \n",
    "트리에서 어떤 두 노드를 선택해서 양쪽으로 쫙 당길 때, 가장 길게 늘어나는 경우가 있을 것이다.  \n",
    "이럴 때 트리의 모든 노드들은 이 두 노드를 지름의 끝 점으로 하는 원 안에 들어가게 된다.  \n",
    "  \n",
    "<img src=\"https://www.acmicpc.net/JudgeOnline/upload/201007/ttrrtrtr.png\">  \n",
    "  \n",
    "이런 두 노드 사이의 경로의 길이를 트리의 지름이라고 한다. 정확히 정의하자면 트리에 존재하는 모든 경로들 중에서 가장 긴 것의 길이를 말한다.  \n",
    "  \n",
    "입력으로 루트가 있는 트리를 가중치가 있는 간선들로 줄 때, 트리의 지름을 구해서 출력하는 프로그램을 작성하시오.  \n",
    "아래와 같은 트리가 주어진다면 트리의 지름은 45가 된다.  \n",
    "\n",
    "<img src=\"https://www.acmicpc.net/JudgeOnline/upload/201007/tttttt.png\"> \n",
    "\n",
    "#### 입력\n",
    "파일의 첫 번째 줄은 노드의 개수 n(1 ≤ n ≤ 10,000)이다. 둘째 줄부터 n번째 줄까지 각 간선에 대한 정보가 들어온다.  \n",
    "간선에 대한 정보는 세 개의 정수로 이루어져 있다.  \n",
    "첫 번째 정수는 간선이 연결하는 두 노드 중 부모 노드의 번호를 나타내고, 두 번째 정수는 자식 노드를, 세 번째 정수는 간선의 가중치를 나타낸다.   \n",
    "간선에 대한 정보는 부모 노드의 번호가 작은 것이 먼저 입력되고, 부모 노드의 번호가 같으면 자식 노드의 번호가 작은 것이 먼저 입력된다.  \n",
    "루트 노드의 번호는 항상 1이라고 가정하며, 간선의 가중치는 100보다 크지 않은 양의 정수이다.  \n",
    "  \n",
    "#### 출력\n",
    "첫째 줄에 트리의 지름을 출력한다.  "
   ]
  },
  {
   "cell_type": "markdown",
   "metadata": {},
   "source": [
    "### ------------------------------------------------------------------------------"
   ]
  }
 ],
 "metadata": {
  "kernelspec": {
   "display_name": "Python 3",
   "language": "python",
   "name": "python3"
  },
  "language_info": {
   "codemirror_mode": {
    "name": "ipython",
    "version": 3
   },
   "file_extension": ".py",
   "mimetype": "text/x-python",
   "name": "python",
   "nbconvert_exporter": "python",
   "pygments_lexer": "ipython3",
   "version": "3.6.3"
  }
 },
 "nbformat": 4,
 "nbformat_minor": 2
}
