{
 "cells": [
  {
   "cell_type": "markdown",
   "metadata": {},
   "source": [
    "## 1번. 배열회전"
   ]
  },
  {
   "cell_type": "markdown",
   "metadata": {},
   "source": [
    "#### 문제 설명\n",
    "배열의 회전이란 모든 원소를 오른쪽으로 한 칸씩 이동시키고, 마지막 원소는 배열의 맨 앞에 넣는 것을 말합니다.  \n",
    "<img src=\"https://grepp-programmers.s3.amazonaws.com/files/production/15c8c589dc/d85f1290-7dc2-4b3f-9047-bda299c47755.png\">\n",
    "두 배열 arrA와 arrB가 매개변수로 주어질 때, arrA를 회전해 arrB로 만들 수 있으면 true를,  \n",
    "그렇지 않으면 false를 return 하는 solution 함수를 작성해주세요.  \n",
    "  \n",
    "#### 제한 조건\n",
    "arrA는 길이가 1 이상 1,500 이하인 배열입니다.  \n",
    "arrA의 원소는 0 이상 1,500 이하인 정수입니다.  \n",
    "arrB는 길이가 1 이상 1,500 이하인 배열입니다  \n",
    "arrB의 원소는 0 이상 1,500 이하인 정수입니다.  "
   ]
  },
  {
   "cell_type": "markdown",
   "metadata": {},
   "source": [
    "#### 입출력 예\n",
    "arrA\tarrB\treturn  \n",
    "[7, 8, 10]\t[10, 7, 8]\ttrue  \n",
    "[4, 3, 2, 1]\t[5, 4, 1, 2]\tfalse  \n",
    "  \n",
    "#### 입출력 예 설명  \n",
    "예시 \\#1  \n",
    "arrA 배열을 한 번 회전하면 arrB와 같아집니다.  \n",
    "  \n",
    "예시 \\#2  \n",
    "arrA 배열은 아무리 회전해도 arrB와 같지 않습니다.  "
   ]
  },
  {
   "cell_type": "code",
   "execution_count": 2,
   "metadata": {
    "collapsed": true
   },
   "outputs": [],
   "source": [
    "def solution(arrA, arrB):\n",
    "    a = arrA[0]\n",
    "    k = arrA.index(a)\n",
    "    if arrB[k:]+arrB[:k] == arrA:\n",
    "        return True\n",
    "    return False"
   ]
  },
  {
   "cell_type": "markdown",
   "metadata": {},
   "source": [
    "얘는 배열의 값이 유일한 경우만 가능.."
   ]
  },
  {
   "cell_type": "code",
   "execution_count": null,
   "metadata": {
    "collapsed": true
   },
   "outputs": [],
   "source": [
    "def solution(arrA, arrB):\n",
    "    from collections import deque\n",
    "    a = deque(arrA)\n",
    "    b = deque(arrB)\n",
    "    for i in range(len(arrB)):\n",
    "        if a==b:\n",
    "            return True\n",
    "        a.rotate(1)\n",
    "    return False"
   ]
  },
  {
   "cell_type": "markdown",
   "metadata": {},
   "source": [
    "시간 제한이 없나.. 그냥 되네"
   ]
  },
  {
   "cell_type": "markdown",
   "metadata": {},
   "source": [
    "## 2번. 전구설치"
   ]
  },
  {
   "cell_type": "markdown",
   "metadata": {},
   "source": [
    "#### 문제 설명\n",
    "서울시에 일직선 모양의 새로운 도로가 생겼습니다. 새로운 도로의 전체 길이는 l이고 도로에는 총 n개의 가로등이 세워졌습니다.  \n",
    "이 도로의 모든 가로등에 전구를 사서 달려고 합니다. 전구를 선택하는 기준은 다음과 같습니다.  \n",
    "  \n",
    "전구는 길의 좌측, 우측 방향으로 각각 d 길이만큼 길을 밝힐 수 있고, d는 자연수입니다.  \n",
    "모든 가로등에는 같은 종류(d 값이 같은)의 전구를 달아야 합니다.  \n",
    "안전을 위하여 도로위에 어두운 부분이 있어서는 안 됩니다.  \n",
    "이때, d 값이 충분히 크다면 전체 도로를 밝게 비출 수 있지만, d 값이 작아진다면 도로 위에 빛이 닿지 않는 부분이 생길 수도 있습니다.  \n",
    "따라서, 도로 위에 어두운 부분이 생기지 않도록 하는 d 값 중 최솟값을 구하려고 합니다.  \n",
    "전체 도로의 길이 l, 가로등이 세워져 있는 위치가 들어있는 배열 v가 매개변수로 주어질 때,  \n",
    "위의 모든 조건을 만족하는 d 의 최솟값을 return 하도록 solution 함수를 완성해주세요.  \n",
    "  \n",
    "#### 제한사항\n",
    "l은 1 이상 1,000,000,000 이하의 자연수입니다.  \n",
    "v에는 가로등의 위치정보가 들어있습니다.  \n",
    "가로등의 위치는 0 이상 l 이하의 정수이며, 같은 위치에 2개 이상의 가로등이 있는 경우는 주어지지 않습니다.  \n",
    "가로등의 개수는 1이상 1,000 이하의 자연수입니다.  "
   ]
  },
  {
   "cell_type": "markdown",
   "metadata": {},
   "source": [
    "#### 입출력 예\n",
    "l\t   v\t          output    \n",
    "15\t[15,5,3,7,9,14,0]\t3  \n",
    "5\t[2,5]\t            2  \n",
    "\n"
   ]
  },
  {
   "cell_type": "markdown",
   "metadata": {},
   "source": [
    "#### 입출력 예 설명\n",
    "입출력 예 \\#1    \n",
    "d가 3보다 작은 경우(아래 그림의 경우 d = 2) 다음과 같이 밝히지 못하는 부분이 생기게 됩니다.  \n",
    "<img src=\"https://res.cloudinary.com/df5yiyxog/image/upload/c_scale,w_450/v1500617953/%EA%B0%80%EB%A1%9C%EB%93%B1_%EC%95%88%EC%A0%95%EB%8B%B5_hcxgr2.png\">\n",
    "  \n",
    "따라서 모든 길을 밝게 비추기 위한 d의 최솟값은 3이 됩니다.  \n",
    "  \n",
    "입출력 예 \\#2  \n",
    "d가 2보다 작은 경우(아래 그림의 경우 d = 1) 다음과 같이 2 위치에 있는 가로등이 길의 시작 부분을 밝히지 못하게 됩니다.   \n",
    "<img src=\"https://res.cloudinary.com/df5yiyxog/image/upload/c_scale,w_300/v1500618172/%EA%B0%80%EB%A1%9C%EB%93%B1_%EC%95%88%EC%A0%95%EB%8B%B52_v630en.png\">\n",
    "  \n",
    "따라서 모든 길을 밝게 비추기 위한 d의 최솟값은 2가 됩니다.  "
   ]
  },
  {
   "cell_type": "code",
   "execution_count": null,
   "metadata": {
    "collapsed": true
   },
   "outputs": [],
   "source": [
    "def solution(l, v):\n",
    "    if len(v) == 1:\n",
    "        return max(v[0], l-v[0])\n",
    "    v.sort()\n",
    "    d = max(v[0], l-v[-1])\n",
    "    covered = 0\n",
    "    i = 0\n",
    "    while covered < l:\n",
    "        diff = (v[i+1]-d) - (v[i]+d)\n",
    "        if diff>0:\n",
    "            d += (diff+1)//2\n",
    "        i += 1\n",
    "        covered = v[i] + d\n",
    "    \n",
    "    return d"
   ]
  },
  {
   "cell_type": "markdown",
   "metadata": {},
   "source": [
    "90점. 몇 개 런타임에러.. 어느경우?  \n",
    "l은 1이상 1,000,000,000 이하  \n",
    "가로등이 하나인경우 예외처리??  ----- ok"
   ]
  },
  {
   "cell_type": "markdown",
   "metadata": {},
   "source": [
    "## 3번. 빙고"
   ]
  },
  {
   "cell_type": "markdown",
   "metadata": {},
   "source": [
    "#### 문제설명\n",
    "빙고는 NxN 크기의 게임 보드 칸에 1부터 NxN까지의 자연수를 중복 없이 하나씩 적은 후 숫자를 하나씩 지워나가는 게임입니다.   \n",
    "이때, 가로, 세로, 대각선 방향으로 한 줄에 적힌 숫자를 모두 지울 경우 빙고를 1개 만들었다고 합니다.  \n",
    "다음은 4X4 크기의 게임 보드를 이용해 게임을 진행한 예시입니다.  \n",
    "<img src=\"https://res.cloudinary.com/dpxurmkij/image/upload/c_scale,w_280/v1496257284/%EB%B9%99%EA%B3%A02_rlkqli.png\">\n",
    "위와 같이 각 칸에 숫자가 적혀 있을 때, 위 게임 보드에서 순서대로 지운 숫자가 [14,3,2,4,13,1,16,11,5,15]인 경우  \n",
    "아래와 같이 빙고 3개가 만들어집니다.  \n",
    "<img src=\"https://res.cloudinary.com/dpxurmkij/image/upload/c_scale,w_350/v1496257283/%EB%B9%99%EA%B3%A0_xibpii.png\">\n",
    "빙고 게임 보드에 적힌 숫자가 담겨있는 배열 board, 게임 보드에서 순서대로 지운 숫자가 들어있는 배열 nums가 매개변수로 주어질 때,  \n",
    "board에서 nums에 들어있는 숫자를 모두 지우면 몇 개의 빙고가 만들어지는지 return하도록 solution함수를 완성해주세요.  \n",
    "  \n",
    "#### 제한사항\n",
    "board는 게임 보드 칸에 적힌 숫자를 뜻하는 NxN크기의 2차원 배열이며, N은 2 이상 500이하의 자연수입니다.  \n",
    "board의 각 칸에는 1 이상 NxN이하의 자연수가 중복 없이 하나씩 들어있습니다.  \n",
    "nums는 board에서 지울 숫자가 들어있는 배열이며, 길이는 1 이상 NxN이하입니다.  \n",
    "nums에 들어있는 숫자는 1 이상 NxN이하의 자연수이며, 중복된 수가 들어있지 않습니다.  "
   ]
  },
  {
   "cell_type": "markdown",
   "metadata": {},
   "source": [
    "#### 입출력 예\n",
    "board\tnums\tresult  \n",
    "[[11,13,15,16],[12,1,4,3],[10,2,7,8],[5,14,6,9]]\t[14,3,2,4,13,1,16,11,5,15]\t3  \n",
    "[[6,15,17,14,23],[5,12,16,13,25],[21,4,2,1,22],[10,20,3,18,8],[11,9,19,24,7]]\t[15,7,2,25,9,16,12,18,5,4,10,13,20]\t2  "
   ]
  },
  {
   "cell_type": "markdown",
   "metadata": {},
   "source": [
    "#### 입출력 예 설명\n",
    "입출력 예 \\#1  \n",
    "문제의 예시와 같습니다.  \n",
    "  \n",
    "입출력 예 \\#2   \n",
    "다음 그림과 같이 2개의 빙고가 만들어집니다.  \n",
    "<img src=\"https://res.cloudinary.com/dpxurmkij/image/upload/c_scale,w_250/v1496258193/%EB%B9%99%EA%B3%A03_l1bqza.png\">"
   ]
  },
  {
   "cell_type": "code",
   "execution_count": 15,
   "metadata": {
    "collapsed": true
   },
   "outputs": [],
   "source": [
    "def solution(board, nums):\n",
    "    n = len(board)\n",
    "    for y in range(n):\n",
    "        for x in range(n):\n",
    "            if board[y][x] in nums:\n",
    "                board[y][x]=0\n",
    "    return check(board,n)\n",
    "\n",
    "def check(board, n):\n",
    "    bingo = 0\n",
    "    board_T = list(zip(*board))\n",
    "    for i in range(n):\n",
    "        if board[i]==[0]*n:\n",
    "            bingo += 1\n",
    "        if board_T[i]==tuple([0]*n):\n",
    "            bingo += 1\n",
    "    diag1 = [(i,n-1-i) for i in range(n)]\n",
    "    diag2 = [(i, i) for i in range(n)]\n",
    "    if all(board[y][x]==0 for x, y in diag1):\n",
    "        bingo += 1\n",
    "    if all(board[y][x]==0 for x, y in diag2):\n",
    "        bingo += 1\n",
    "    return bingo"
   ]
  },
  {
   "cell_type": "code",
   "execution_count": 16,
   "metadata": {},
   "outputs": [
    {
     "name": "stdout",
     "output_type": "stream",
     "text": [
      "2\n"
     ]
    },
    {
     "data": {
      "text/plain": [
       "0.0007872253948448815"
      ]
     },
     "execution_count": 16,
     "metadata": {},
     "output_type": "execute_result"
    }
   ],
   "source": [
    "import time\n",
    "t1 = time.clock()\n",
    "a = solution([[6,15,17,14,23],[5,12,16,13,25],[21,4,2,1,22],[10,20,3,18,8],[11,9,19,24,7]],[15,7,2,25,9,16,12,18,5,4,10,13,20])\n",
    "t2 = time.clock()\n",
    "print(a)\n",
    "t2-t1"
   ]
  },
  {
   "cell_type": "raw",
   "metadata": {},
   "source": [
    "효율성 테스트 실패..  \n",
    "시간 어떻게 줄이냐..일단 0으로 만드는건 이게 최선인데.. 일단 N^2   \n",
    "n번째 줄, 열 체크 개수, 대각선 체크 개수 세서?? n이 되면 ??  "
   ]
  },
  {
   "cell_type": "code",
   "execution_count": 13,
   "metadata": {
    "collapsed": true
   },
   "outputs": [],
   "source": [
    "def solution(board, nums):\n",
    "    n = len(board)\n",
    "    r = [0]*n\n",
    "    c = [0]*n\n",
    "    diag = [0,0]\n",
    "    ans = 0\n",
    "    for y in range(n):\n",
    "        for x in range(n):\n",
    "            if board[y][x] in nums:\n",
    "                r[y] += 1\n",
    "                c[x] += 1\n",
    "                if y==x:\n",
    "                    diag[0] += 1\n",
    "                if y==n-1-x:\n",
    "                    diag[1] += 1\n",
    "    for i in range(n):\n",
    "        if r[i]==n:\n",
    "            ans +=1\n",
    "        if c[i]==n:\n",
    "            ans += 1\n",
    "    for i in range(2):\n",
    "        if diag[i]==n:\n",
    "            ans += 1\n",
    "    return ans"
   ]
  },
  {
   "cell_type": "code",
   "execution_count": 14,
   "metadata": {},
   "outputs": [
    {
     "name": "stdout",
     "output_type": "stream",
     "text": [
      "2\n"
     ]
    },
    {
     "data": {
      "text/plain": [
       "0.0006907466632739556"
      ]
     },
     "execution_count": 14,
     "metadata": {},
     "output_type": "execute_result"
    }
   ],
   "source": [
    "import time\n",
    "t1 = time.clock()\n",
    "a = solution([[6,15,17,14,23],[5,12,16,13,25],[21,4,2,1,22],[10,20,3,18,8],[11,9,19,24,7]],[15,7,2,25,9,16,12,18,5,4,10,13,20])\n",
    "t2 = time.clock()\n",
    "print(a)\n",
    "t2-t1"
   ]
  },
  {
   "cell_type": "markdown",
   "metadata": {},
   "source": [
    "이것도 시간초과나네.. 어째야되냐..  "
   ]
  },
  {
   "cell_type": "code",
   "execution_count": 35,
   "metadata": {
    "collapsed": true
   },
   "outputs": [],
   "source": [
    "def solution(board, nums):\n",
    "    n = len(board)\n",
    "    for y in range(n):\n",
    "        for x in range(n):\n",
    "            if board[y][x] in nums:\n",
    "                board[y][x]=0\n",
    "    return check(board,n)\n",
    "\n",
    "def check(board, n):\n",
    "    bingo = 0\n",
    "    board_T = list(zip(*board))\n",
    "    for i in range(n):\n",
    "        if board[i]==[0]*n:\n",
    "            bingo += 1\n",
    "        if board_T[i]==tuple([0]*n):\n",
    "            bingo += 1\n",
    "    if all(board[i][n-1-i]==0 for i in range(n)):\n",
    "        bingo += 1\n",
    "    if all(board[i][i]==0 for i in range(n)):\n",
    "        bingo += 1\n",
    "    return bingo"
   ]
  },
  {
   "cell_type": "code",
   "execution_count": 36,
   "metadata": {},
   "outputs": [
    {
     "name": "stdout",
     "output_type": "stream",
     "text": [
      "2\n"
     ]
    },
    {
     "data": {
      "text/plain": [
       "0.0016319274808438422"
      ]
     },
     "execution_count": 36,
     "metadata": {},
     "output_type": "execute_result"
    }
   ],
   "source": [
    "import time\n",
    "t1 = time.clock()\n",
    "a = solution([[6,15,17,14,23],[5,12,16,13,25],[21,4,2,1,22],[10,20,3,18,8],[11,9,19,24,7]],[15,7,2,25,9,16,12,18,5,4,10,13,20])\n",
    "t2 = time.clock()\n",
    "print(a)\n",
    "t2-t1"
   ]
  },
  {
   "cell_type": "markdown",
   "metadata": {},
   "source": [
    "안되고..  \n",
    "그래도 얘가 제일 빠른가???"
   ]
  },
  {
   "cell_type": "code",
   "execution_count": 33,
   "metadata": {
    "collapsed": true
   },
   "outputs": [],
   "source": [
    "def solution(board, nums):\n",
    "    n = len(board)\n",
    "    for y in range(n):\n",
    "        for x in range(n):\n",
    "            if board[y][x] in nums:\n",
    "                board[y][x]=0\n",
    "    bingo = 0\n",
    "    board_T = list(zip(*board))\n",
    "    for i in range(n):\n",
    "        if board[i]==[0]*n:\n",
    "            bingo += 1\n",
    "        if board_T[i]==tuple([0]*n):\n",
    "            bingo += 1\n",
    "    if all(board[i][n-1-i]==0 for i in range(n)):\n",
    "        bingo += 1\n",
    "    if all(board[i][i]==0 for i in range(n)):\n",
    "        bingo += 1\n",
    "    return bingo"
   ]
  },
  {
   "cell_type": "code",
   "execution_count": 34,
   "metadata": {},
   "outputs": [
    {
     "name": "stdout",
     "output_type": "stream",
     "text": [
      "2\n"
     ]
    },
    {
     "data": {
      "text/plain": [
       "0.0015888199624782828"
      ]
     },
     "execution_count": 34,
     "metadata": {},
     "output_type": "execute_result"
    }
   ],
   "source": [
    "import time\n",
    "t1 = time.clock()\n",
    "a = solution([[6,15,17,14,23],[5,12,16,13,25],[21,4,2,1,22],[10,20,3,18,8],[11,9,19,24,7]],[15,7,2,25,9,16,12,18,5,4,10,13,20])\n",
    "t2 = time.clock()\n",
    "print(a)\n",
    "t2-t1"
   ]
  },
  {
   "cell_type": "code",
   "execution_count": null,
   "metadata": {
    "collapsed": true
   },
   "outputs": [],
   "source": []
  },
  {
   "cell_type": "code",
   "execution_count": 8,
   "metadata": {},
   "outputs": [],
   "source": [
    "def solution(board, nums):\n",
    "    n = len(board)\n",
    "    rows = [i for i in board]\n",
    "    cols = [i for i in list(zip(*board))]\n",
    "    diags = [[board[i][i] for i in range(n)], [board[i][n-1-i] for i in range(n)]]\n",
    "    ans = 0\n",
    "    for row in rows:\n",
    "        if all(row[i] in nums for i in range(n)):\n",
    "            ans += 1\n",
    "    for col in cols:\n",
    "        if all(col[i] in nums for i in range(n)):\n",
    "            ans += 1\n",
    "    for diag in diags:\n",
    "        if all(diag[i] in nums for i in range(2)):\n",
    "            ans += 1\n",
    "    return ans"
   ]
  },
  {
   "cell_type": "code",
   "execution_count": 10,
   "metadata": {},
   "outputs": [
    {
     "name": "stdout",
     "output_type": "stream",
     "text": [
      "2\n"
     ]
    },
    {
     "data": {
      "text/plain": [
       "0.0009576027293217341"
      ]
     },
     "execution_count": 10,
     "metadata": {},
     "output_type": "execute_result"
    }
   ],
   "source": [
    "import time\n",
    "t1 = time.clock()\n",
    "a = solution([[6,15,17,14,23],[5,12,16,13,25],[21,4,2,1,22],[10,20,3,18,8],[11,9,19,24,7]],[15,7,2,25,9,16,12,18,5,4,10,13,20])\n",
    "t2 = time.clock()\n",
    "print(a)\n",
    "t2-t1"
   ]
  },
  {
   "cell_type": "markdown",
   "metadata": {},
   "source": [
    "모르겠다... 이건 다음에 다시.."
   ]
  },
  {
   "cell_type": "code",
   "execution_count": 37,
   "metadata": {
    "collapsed": true
   },
   "outputs": [],
   "source": [
    "def solution(board, nums):\n",
    "    n = len(board)\n",
    "    coords = [0]+[0]*(n**2)\n",
    "    for y in range(n):\n",
    "        for x in range(n):\n",
    "            coords[board[y][x]] = (y,x)\n",
    "    for num in nums:\n",
    "        board[coords[num][0]][coords[num][1]] = 0\n",
    "    \n",
    "    bingo = 0\n",
    "    board_T = list(zip(*board))\n",
    "    for i in range(n):\n",
    "        if board[i]==[0]*n:\n",
    "            bingo += 1\n",
    "        if board_T[i]==tuple([0]*n):\n",
    "            bingo += 1\n",
    "    if all(board[i][n-1-i]==0 for i in range(n)):\n",
    "        bingo += 1\n",
    "    if all(board[i][i]==0 for i in range(n)):\n",
    "        bingo += 1\n",
    "    return bingo"
   ]
  },
  {
   "cell_type": "code",
   "execution_count": 38,
   "metadata": {},
   "outputs": [
    {
     "name": "stdout",
     "output_type": "stream",
     "text": [
      "2\n"
     ]
    },
    {
     "data": {
      "text/plain": [
       "0.0009904465528052242"
      ]
     },
     "execution_count": 38,
     "metadata": {},
     "output_type": "execute_result"
    }
   ],
   "source": [
    "import time\n",
    "t1 = time.clock()\n",
    "a = solution([[6,15,17,14,23],[5,12,16,13,25],[21,4,2,1,22],[10,20,3,18,8],[11,9,19,24,7]],[15,7,2,25,9,16,12,18,5,4,10,13,20])\n",
    "t2 = time.clock()\n",
    "print(a)\n",
    "t2-t1"
   ]
  },
  {
   "cell_type": "markdown",
   "metadata": {},
   "source": [
    "이렇게 해야하는구만."
   ]
  },
  {
   "cell_type": "code",
   "execution_count": null,
   "metadata": {
    "collapsed": true
   },
   "outputs": [],
   "source": []
  }
 ],
 "metadata": {
  "kernelspec": {
   "display_name": "Python 3",
   "language": "python",
   "name": "python3"
  },
  "language_info": {
   "codemirror_mode": {
    "name": "ipython",
    "version": 3
   },
   "file_extension": ".py",
   "mimetype": "text/x-python",
   "name": "python",
   "nbconvert_exporter": "python",
   "pygments_lexer": "ipython3",
   "version": "3.6.3"
  }
 },
 "nbformat": 4,
 "nbformat_minor": 2
}
