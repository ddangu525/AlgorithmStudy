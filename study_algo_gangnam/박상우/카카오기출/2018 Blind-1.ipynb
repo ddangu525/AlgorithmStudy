{
 "cells": [
  {
   "cell_type": "markdown",
   "metadata": {},
   "source": [
    "## 1. 오픈채팅방"
   ]
  },
  {
   "cell_type": "markdown",
   "metadata": {},
   "source": [
    "카카오톡 오픈채팅방에서는 친구가 아닌 사람들과 대화를 할 수 있는데, 본래 닉네임이 아닌 가상의 닉네임을 사용하여 채팅방에 들어갈 수 있다.  \n",
    "  \n",
    "신입사원인 김크루는 카카오톡 오픈 채팅방을 개설한 사람을 위해, 다양한 사람들이 들어오고, 나가는 것을 지켜볼 수 있는 관리자창을 만들기로 했다.  \n",
    "채팅방에 누군가 들어오면 다음 메시지가 출력된다.  \n",
    "  \n",
    "[닉네임]님이 들어왔습니다.  \n",
    "  \n",
    "채팅방에서 누군가 나가면 다음 메시지가 출력된다.  \n",
    "  \n",
    "[닉네임]님이 나갔습니다.  \n",
    "  \n",
    "채팅방에서 닉네임을 변경하는 방법은 다음과 같이 두 가지이다.  \n",
    "  \n",
    "채팅방을 나간 후, 새로운 닉네임으로 다시 들어간다.  \n",
    "채팅방에서 닉네임을 변경한다.  \n",
    "닉네임을 변경할 때는 기존에 채팅방에 출력되어 있던 메시지의 닉네임도 전부 변경된다.  \n",
    "  \n",
    "예를 들어, 채팅방에 Muzi와 Prodo라는 닉네임을 사용하는 사람이 순서대로 들어오면 채팅방에는 다음과 같이 메시지가 출력된다.  \n",
    "  \n",
    "Muzi님이 들어왔습니다.  \n",
    "Prodo님이 들어왔습니다.  \n",
    "  \n",
    "채팅방에 있던 사람이 나가면 채팅방에는 다음과 같이 메시지가 남는다.  \n",
    "  \n",
    "Muzi님이 들어왔습니다.  \n",
    "Prodo님이 들어왔습니다.  \n",
    "Muzi님이 나갔습니다.  \n",
    "  \n",
    "Muzi가 나간후 다시 들어올 때, Prodo 라는 닉네임으로 들어올 경우 기존에 채팅방에 남아있던 Muzi도 Prodo로 다음과 같이 변경된다.  \n",
    "  \n",
    "Prodo님이 들어왔습니다.  \n",
    "Prodo님이 들어왔습니다.  \n",
    "Prodo님이 나갔습니다.  \n",
    "Prodo님이 들어왔습니다.  \n",
    "  \n",
    "채팅방은 중복 닉네임을 허용하기 때문에, 현재 채팅방에는 Prodo라는 닉네임을 사용하는 사람이 두 명이 있다.  \n",
    "이제, 채팅방에 두 번째로 들어왔던 Prodo가 Ryan으로 닉네임을 변경하면 채팅방 메시지는 다음과 같이 변경된다.  \n",
    "  \n",
    "Prodo님이 들어왔습니다.  \n",
    "Ryan님이 들어왔습니다.  \n",
    "Prodo님이 나갔습니다.  \n",
    "Prodo님이 들어왔습니다.  \n",
    "  \n",
    "채팅방에 들어오고 나가거나, 닉네임을 변경한 기록이 담긴 문자열 배열 record가 매개변수로 주어질 때, 모든 기록이 처리된 후,  \n",
    "최종적으로 방을 개설한 사람이 보게 되는 메시지를 문자열 배열 형태로 return 하도록 solution 함수를 완성하라.  \n",
    "  \n",
    "### 제한사항\n",
    "record는 다음과 같은 문자열이 담긴 배열이며, 길이는 1 이상 100,000 이하이다.  \n",
    "다음은 record에 담긴 문자열에 대한 설명이다.  \n",
    "모든 유저는 [유저 아이디]로 구분한다.  \n",
    "[유저 아이디] 사용자가 [닉네임]으로 채팅방에 입장 - Enter [유저 아이디] [닉네임] (ex. Enter uid1234 Muzi)  \n",
    "[유저 아이디] 사용자가 채팅방에서 퇴장 - Leave [유저 아이디] (ex. Leave uid1234)  \n",
    "[유저 아이디] 사용자가 닉네임을 [닉네임]으로 변경 - Change [유저 아이디] [닉네임] (ex. Change uid1234 Muzi)  \n",
    "첫 단어는 Enter, Leave, Change 중 하나이다.  \n",
    "각 단어는 공백으로 구분되어 있으며, 알파벳 대문자, 소문자, 숫자로만 이루어져있다.  \n",
    "유저 아이디와 닉네임은 알파벳 대문자, 소문자를 구별한다.  \n",
    "유저 아이디와 닉네임의 길이는 1 이상 10 이하이다.  \n",
    "채팅방에서 나간 유저가 닉네임을 변경하는 등 잘못 된 입력은 주어지지 않는다.  \n",
    "### 입출력 예  \n",
    "  \n",
    "|record|result|\n",
    "|---|---|\n",
    "|[\"Enter uid1234 Muzi\", \"Enter uid4567 Prodo\",\"Leave uid1234\",\"Enter uid1234 Prodo\",\"Change uid4567 Ryan\"]|[\"Prodo님이 들어왔습니다.\", \"Ryan님이 들어왔습니다.\", \"Prodo님이 나갔습니다.\", \"Prodo님이 들어왔습니다.\"]|"
   ]
  },
  {
   "cell_type": "markdown",
   "metadata": {},
   "source": [
    "### ------------------------------------------------------------------------------"
   ]
  },
  {
   "cell_type": "markdown",
   "metadata": {},
   "source": [
    "uid와 닉네임 딕셔너리 만들고 최종 닉네임에 맞춰 형식 맞춰 출력."
   ]
  },
  {
   "cell_type": "code",
   "execution_count": 14,
   "metadata": {
    "collapsed": true
   },
   "outputs": [],
   "source": [
    "def solution(record):\n",
    "    uid_name = {r.split()[1]:r.split()[2] for r in record if r.split()[0] != 'Leave'}\n",
    "    msg = {\"Enter\": '{}님이 들어왔습니다.', \"Leave\": '{}님이 나갔습니다.'}\n",
    "    return [msg[r.split()[0]].format(uid_name[r.split()[1]]) for r in record if r.split()[0] != 'Change']"
   ]
  },
  {
   "cell_type": "markdown",
   "metadata": {},
   "source": [
    "[\"Enter uid1234 Muzi\", \"Enter uid4567 Prodo\", \"Leave uid1234\", \"Enter uid1234 Prodo\", \"Change uid4567 Ryan\"]  "
   ]
  },
  {
   "cell_type": "code",
   "execution_count": 15,
   "metadata": {},
   "outputs": [
    {
     "data": {
      "text/plain": [
       "['Prodo님이 들어왔습니다.', 'Ryan님이 들어왔습니다.', 'Prodo님이 나갔습니다.', 'Prodo님이 들어왔습니다.']"
      ]
     },
     "execution_count": 15,
     "metadata": {},
     "output_type": "execute_result"
    }
   ],
   "source": [
    "solution([\"Enter uid1234 Muzi\", \"Enter uid4567 Prodo\", \"Leave uid1234\", \"Enter uid1234 Prodo\", \"Change uid4567 Ryan\"])"
   ]
  },
  {
   "cell_type": "markdown",
   "metadata": {},
   "source": [
    "## 2. 실패율 "
   ]
  },
  {
   "cell_type": "markdown",
   "metadata": {},
   "source": [
    "슈퍼 게임 개발자 오렐리는 큰 고민에 빠졌다. 그녀가 만든 프랜즈 오천성이 대성공을 거뒀지만, 요즘 신규 사용자의 수가 급감한 것이다.  \n",
    "원인은 신규 사용자와 기존 사용자 사이에 스테이지 차이가 너무 큰 것이 문제였다.  \n",
    "  \n",
    "이 문제를 어떻게 할까 고민 한 그녀는 동적으로 게임 시간을 늘려서 난이도를 조절하기로 했다.  \n",
    "역시 슈퍼 개발자라 대부분의 로직은 쉽게 구현했지만, 실패율을 구하는 부분에서 위기에 빠지고 말았다.  \n",
    "오렐리를 위해 실패율을 구하는 코드를 완성하라.  \n",
    "  \n",
    "실패율은 다음과 같이 정의한다.  \n",
    "스테이지에 도달했으나 아직 클리어하지 못한 플레이어의 수 / 스테이지에 도달한 플레이어 수  \n",
    "전체 스테이지의 개수 N, 게임을 이용하는 사용자가 현재 멈춰있는 스테이지의 번호가 담긴 배열 stages가 매개변수로 주어질 때,  \n",
    "실패율이 높은 스테이지부터 내림차순으로 스테이지의 번호가 담겨있는 배열을 return 하도록 solution 함수를 완성하라.  \n",
    "  \n",
    "### 제한사항\n",
    "스테이지의 개수 N은 1 이상 500 이하의 자연수이다.  \n",
    "stages의 길이는 1 이상 200,000 이하이다.  \n",
    "stages에는 1 이상 N + 1 이하의 자연수가 담겨있다.  \n",
    "각 자연수는 사용자가 현재 도전 중인 스테이지의 번호를 나타낸다.  \n",
    "단, N + 1 은 마지막 스테이지(N 번째 스테이지) 까지 클리어 한 사용자를 나타낸다.  \n",
    "만약 실패율이 같은 스테이지가 있다면 작은 번호의 스테이지가 먼저 오도록 하면 된다.  \n",
    "스테이지에 도달한 유저가 없는 경우 해당 스테이지의 실패율은 0 으로 정의한다.  \n",
    "\n",
    "### 입출력 예\n",
    "  \n",
    "|N|stages|result|\n",
    "|---|---|---|\n",
    "|5|[2, 1, 2, 6, 2, 4, 3, 3]|[3,4,2,1,5]|  \n",
    "|4|[4,4,4,4,4]|[4,1,2,3]|\n",
    "\n",
    "### 입출력 예 설명\n",
    "입출력 예 #1  \n",
    "1번 스테이지에는 총 8명의 사용자가 도전했으며, 이 중 1명의 사용자가 아직 클리어하지 못했다. 따라서 1번 스테이지의 실패율은 다음과 같다.  \n",
    "  \n",
    "- 1 번 스테이지 실패율 : 1/8    \n",
    "  \n",
    "2번 스테이지에는 총 7명의 사용자가 도전했으며, 이 중 3명의 사용자가 아직 클리어하지 못했다. 따라서 2번 스테이지의 실패율은 다음과 같다.  \n",
    "  \n",
    "- 2 번 스테이지 실패율 : 3/7    \n",
    "  \n",
    "마찬가지로 나머지 스테이지의 실패율은 다음과 같다.  \n",
    "  \n",
    "- 3 번 스테이지 실패율 : 2/4  \n",
    "- 4번 스테이지 실패율 : 1/2  \n",
    "- 5번 스테이지 실패율 : 0/1   \n",
    "  \n",
    "각 스테이지의 번호를 실패율의 내림차순으로 정렬하면 다음과 같다.  \n",
    "  \n",
    "[3,4,2,1,5]  \n",
    "  \n",
    "입출력 예 #2  \n",
    "  \n",
    "모든 사용자가 마지막 스테이지에 있으므로 4번 스테이지의 실패율은 1이며 나머지 스테이지의 실패율은 0이다.  \n",
    "  \n",
    "[4,1,2,3]  "
   ]
  },
  {
   "cell_type": "markdown",
   "metadata": {},
   "source": [
    "i번 stage에 실패율은 list에 i인 애들의 수 / i 이상인 애들의 수"
   ]
  },
  {
   "cell_type": "code",
   "execution_count": 16,
   "metadata": {
    "collapsed": true
   },
   "outputs": [],
   "source": [
    "def solution(N, stages):\n",
    "    def calc(s):    # s 단계의 실패율 계산하기..\n",
    "        try_ = sum(map(lambda x: x>=s, stages)) \n",
    "        if try_ == 0:\n",
    "            return 0\n",
    "        fail =  sum(map(lambda x: x==s, stages))\n",
    "        return fail/try_\n",
    "    fr = [(s, calc(s)) for s in range(1, N+1)]  # 각 단계마다 (단계번호, 실패율)저장.\n",
    "    ans = sorted(fr, key=lambda x: x[1], reverse=True)\n",
    "    return [i[0] for i in ans]"
   ]
  },
  {
   "cell_type": "markdown",
   "metadata": {},
   "source": [
    "|N|stages|result|\n",
    "|---|---|---|\n",
    "|5|[2, 1, 2, 6, 2, 4, 3, 3]|[3,4,2,1,5]|  \n",
    "|4|[4,4,4,4,4]|[4,1,2,3]|"
   ]
  },
  {
   "cell_type": "code",
   "execution_count": 17,
   "metadata": {},
   "outputs": [
    {
     "data": {
      "text/plain": [
       "[3, 4, 2, 1, 5]"
      ]
     },
     "execution_count": 17,
     "metadata": {},
     "output_type": "execute_result"
    }
   ],
   "source": [
    "solution(5, [2, 1, 2, 6, 2, 4, 3, 3])"
   ]
  },
  {
   "cell_type": "code",
   "execution_count": 18,
   "metadata": {},
   "outputs": [
    {
     "data": {
      "text/plain": [
       "[4, 1, 2, 3]"
      ]
     },
     "execution_count": 18,
     "metadata": {},
     "output_type": "execute_result"
    }
   ],
   "source": [
    "solution(4, [4,4,4,4,4])"
   ]
  },
  {
   "cell_type": "code",
   "execution_count": 21,
   "metadata": {
    "collapsed": true
   },
   "outputs": [],
   "source": [
    "def solution(N, stages):\n",
    "    def calc(s):    # s 단계의 실패율 계산하기..\n",
    "        try_ = sum(map(lambda x: x>=s, stages)) \n",
    "        if try_ == 0:\n",
    "            return 0\n",
    "        fail =  sum(map(lambda x: x==s, stages))\n",
    "        return fail/try_\n",
    "    ans = sorted([(s, calc(s)) for s in range(1, N+1)], key=lambda x: x[1], reverse=True)  # 각 단계마다 (단계번호, 실패율)저장.\n",
    "    return [i[0] for i in ans]"
   ]
  },
  {
   "cell_type": "code",
   "execution_count": 22,
   "metadata": {},
   "outputs": [
    {
     "data": {
      "text/plain": [
       "[3, 4, 2, 1, 5]"
      ]
     },
     "execution_count": 22,
     "metadata": {},
     "output_type": "execute_result"
    }
   ],
   "source": [
    "solution(5, [2, 1, 2, 6, 2, 4, 3, 3])"
   ]
  },
  {
   "cell_type": "markdown",
   "metadata": {},
   "source": [
    "세 개 시간초과가 나네??? 계산하는데가 비효율적인가보다.. 매 단계마다 배열 다 돌아서..  \n",
    "N = 5이고, stages = [2, 1, 2, 6, 2, 4, 3, 3] 인 경우를 보면, 일단 1단계는 모두가 도전. l = len(stages)라 하면  \n",
    "1단계 실패율은 stages.count(1) / l   그리고 l -= stages.count(1).. 어쨌든 이것도 계속 도는데..  \n",
    "\n",
    "--- \n",
    "아니면 처음 순회할 때 각 단계별로 도전자 수, 멈춘 수 한번에 셀 수 있게 하기!!  \n",
    "다시 위 경우에서 N = 5이고..\n",
    "처음 나온게 2. 얘는 1탄 깨고 2탄 도전중인데 못깸. 그러면 1탄 도전자수 +1 그리고 2탄 도전자수 +1, 2탄 실패수에 +1  \n",
    "그 다음은 1. 얘는 1탄도 못깸. 1탄 도전자수 +1, 실패수 +1  \n",
    "그 다음다음 6이 나오면 얘는 1~5탄 다 깨고 6 도전. 1~6탄 도전자수 모두 1씩 더해주고 6탄 실패수에 +1 해주기..  \n",
    "이렇게 해보자."
   ]
  },
  {
   "cell_type": "code",
   "execution_count": 30,
   "metadata": {},
   "outputs": [],
   "source": [
    "def solution(N, stages):\n",
    "    try_ = [0] * (N+2)  # 각 단계 도전자 수. 다 깬 애들도 있을 수 있어서 이렇게..\n",
    "    fail = [0] * (N+2)  # 각 단계 실패자 수\n",
    "    for i in stages:\n",
    "        fail[i] += 1\n",
    "        for k in range(1, i+1):\n",
    "            try_[k] += 1\n",
    "    ans = sorted([try_[s] != 0 and (s, fail[s]/try_[s]) or (s, 0) for s in range(1, N+1)], key=lambda x: x[1], reverse=True)  # 각 단계마다 (단계번호, 실패율)저장.\n",
    "    return [i[0] for i in ans]"
   ]
  },
  {
   "cell_type": "code",
   "execution_count": 31,
   "metadata": {},
   "outputs": [
    {
     "data": {
      "text/plain": [
       "[3, 4, 2, 1, 5]"
      ]
     },
     "execution_count": 31,
     "metadata": {},
     "output_type": "execute_result"
    }
   ],
   "source": [
    "solution(5, [2, 1, 2, 6, 2, 4, 3, 3])"
   ]
  },
  {
   "cell_type": "code",
   "execution_count": null,
   "metadata": {
    "collapsed": true
   },
   "outputs": [],
   "source": [
    "def solution(N, stages):\n",
    "    try_, fail = [0] * (N+2), [0] * (N+2)\n",
    "    for i in stages:\n",
    "        fail[i] += 1\n",
    "        for k in range(1, i+1):\n",
    "            try_[k] += 1\n",
    "    return [i[0] for i in sorted([try_[s] != 0 and (s, fail[s]/try_[s]) or (s, 0) for s in range(1, N+1)], key=lambda x: x[1], reverse=True)]"
   ]
  },
  {
   "cell_type": "markdown",
   "metadata": {},
   "source": [
    "됐다."
   ]
  }
 ],
 "metadata": {
  "kernelspec": {
   "display_name": "Python 3",
   "language": "python",
   "name": "python3"
  },
  "language_info": {
   "codemirror_mode": {
    "name": "ipython",
    "version": 3
   },
   "file_extension": ".py",
   "mimetype": "text/x-python",
   "name": "python",
   "nbconvert_exporter": "python",
   "pygments_lexer": "ipython3",
   "version": "3.6.3"
  }
 },
 "nbformat": 4,
 "nbformat_minor": 2
}
