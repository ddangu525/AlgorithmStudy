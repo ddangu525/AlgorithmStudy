{
 "cells": [
  {
   "cell_type": "markdown",
   "metadata": {},
   "source": [
    "## 3. 후보키"
   ]
  },
  {
   "cell_type": "markdown",
   "metadata": {},
   "source": [
    "프렌즈대학교 컴퓨터공학과 조교인 제이지는 네오 학과장님의 지시로, 학생들의 인적사항을 정리하는 업무를 담당하게 되었다.  \n",
    "  \n",
    "그의 학부 시절 프로그래밍 경험을 되살려, 모든 인적사항을 데이터베이스에 넣기로 하였고,  \n",
    "이를 위해 정리를 하던 중에 후보키(Candidate Key)에 대한 고민이 필요하게 되었다.  \n",
    "  \n",
    "후보키에 대한 내용이 잘 기억나지 않던 제이지는, 정확한 내용을 파악하기 위해 데이터베이스 관련 서적을 확인하여 아래와 같은 내용을 확인하였다.  \n",
    "  \n",
    "관계 데이터베이스에서 릴레이션(Relation)의 튜플(Tuple)을 유일하게 식별할 수 있는 속성(Attribute) 또는 속성의 집합 중,  \n",
    "다음 두 성질을 만족하는 것을 후보 키(Candidate Key)라고 한다.  \n",
    "유일성(uniqueness) : 릴레이션에 있는 모든 튜플에 대해 유일하게 식별되어야 한다.  \n",
    "최소성(minimality) : 유일성을 가진 키를 구성하는 속성(Attribute) 중 하나라도 제외하는 경우 유일성이 깨지는 것을 의미한다.  \n",
    "즉, 릴레이션의 모든 튜플을 유일하게 식별하는 데 꼭 필요한 속성들로만 구성되어야 한다.  \n",
    "제이지를 위해, 아래와 같은 학생들의 인적사항이 주어졌을 때, 후보 키의 최대 개수를 구하라.  \n",
    "  \n",
    "<img src=\"https://grepp-programmers.s3.amazonaws.com/files/production/f1a3a40ede/005eb91e-58e5-4109-9567-deb5e94462e3.jpg\">   \n",
    "  \n",
    "위의 예를 설명하면, 학생의 인적사항 릴레이션에서 모든 학생은 각자 유일한 학번을 가지고 있다. 따라서 학번은 릴레이션의 후보 키가 될 수 있다.  \n",
    "그다음 이름에 대해서는 같은 이름(apeach)을 사용하는 학생이 있기 때문에, 이름은 후보 키가 될 수 없다.  \n",
    "그러나, 만약 [이름, 전공]을 함께 사용한다면 릴레이션의 모든 튜플을 유일하게 식별 가능하므로 후보 키가 될 수 있게 된다.  \n",
    "물론 [이름, 전공, 학년]을 함께 사용해도 릴레이션의 모든 튜플을 유일하게 식별할 수 있지만, 최소성을 만족하지 못하기 때문에 후보 키가 될 수 없다.  \n",
    "따라서, 위의 학생 인적사항의 후보키는 학번, [이름, 전공] 두 개가 된다.  \n",
    "  \n",
    "릴레이션을 나타내는 문자열 배열 relation이 매개변수로 주어질 때, 이 릴레이션에서 후보 키의 개수를 return 하도록 solution 함수를 완성하라.  \n",
    "  \n",
    "### 제한사항\n",
    "relation은 2차원 문자열 배열이다.  \n",
    "relation의 컬럼(column)의 길이는 1 이상 8 이하이며, 각각의 컬럼은 릴레이션의 속성을 나타낸다.  \n",
    "relation의 로우(row)의 길이는 1 이상 20 이하이며, 각각의 로우는 릴레이션의 튜플을 나타낸다.  \n",
    "relation의 모든 문자열의 길이는 1 이상 8 이하이며, 알파벳 소문자와 숫자로만 이루어져 있다.  \n",
    "relation의 모든 튜플은 유일하게 식별 가능하다.(즉, 중복되는 튜플은 없다.)  \n",
    "\n",
    "### 입출력 예\n",
    "- **relation**  \n",
    "[[\"100\",\"ryan\",\"music\",\"2\"],  \n",
    "[\"200\",\"apeach\",\"math\",\"2\"],  \n",
    "[\"300\",\"tube\",\"computer\",\"3\"],  \n",
    "[\"400\",\"con\",\"computer\",\"4\"],  \n",
    "[\"500\",\"muzi\",\"music\",\"3\"],  \n",
    "[\"600\",\"apeach\",\"music\",\"2\"]]  \n",
    "    \n",
    "- **result**   \n",
    "2  \n",
    "### 입출력 예 설명\n",
    "입출력 예 #1  \n",
    "문제에 주어진 릴레이션과 같으며, 후보 키는 2개이다.  "
   ]
  },
  {
   "cell_type": "markdown",
   "metadata": {},
   "source": [
    "### ------------------------------------------------------------------------------"
   ]
  },
  {
   "cell_type": "markdown",
   "metadata": {},
   "source": [
    "컬럼 최대 8개밖에 없으니까 조합해보기..  릴레이션의 수는 입력 배열의 길이와 같음. 각 키 후보들 별로 set이 그 길이와 같은지 확인.  \n",
    "일단 하나짜리로 검사. 되는애들 빼고 남은애들 조합해서 2개짜리 검사. 되는애들 빼고 또 3개조합해보고..4개...  \n",
    "일딴 배열 transpose해서 연산 쉽게.. zip등 활용.."
   ]
  },
  {
   "cell_type": "code",
   "execution_count": 2,
   "metadata": {},
   "outputs": [
    {
     "data": {
      "text/plain": [
       "2"
      ]
     },
     "execution_count": 2,
     "metadata": {},
     "output_type": "execute_result"
    }
   ],
   "source": [
    "def solution(relation):\n",
    "    from itertools import combinations\n",
    "    n, c = len(relation), len(relation[0])  # 일단 몇개짜린지.. 릴레이션 수, 컬럼 수\n",
    "    tr = tuple(zip(*relation))    # transpose 한 것. \n",
    "    candidate = {i for i in range(c)}  # 후보가 될 컬럼들 번호.. 사용되면 빼주기.\n",
    "    ans = 0  # 정답(후보키의 개수)\n",
    "    for k_n in range(1, c+1):    # 컬럼 몇개 조합을 키로 사용할 것인지.. \n",
    "        for key in combinations(candidate, k_n):\n",
    "            if len(set(zip(*(tr[i] for i in key)))) == n:\n",
    "                ans += 1\n",
    "                candidate.difference_update(set(key))\n",
    "    return ans\n",
    "\n",
    "solution([[\"100\",\"ryan\",\"music\",\"2\"],[\"200\",\"apeach\",\"math\",\"2\"],[\"300\",\"tube\",\"computer\",\"3\"],[\"400\",\"con\",\"computer\",\"4\"],[\"500\",\"muzi\",\"music\",\"3\"],[\"600\",\"apeach\",\"music\",\"2\"]])"
   ]
  },
  {
   "cell_type": "markdown",
   "metadata": {},
   "source": [
    "5개 틀리다.. 뭘까..  \n",
    "0~8까지 컬럼이 있는데 만약 0,1 이용한게 후보키가 됐으면 0,1이 포함된 애들은 검사하지 말아야 하는데   \n",
    "일단 조합된거가 (0,2), (0,3) 이렇게도 쭉 돈다.. 일단 이게 문제.   \n",
    "while문으로 바꿔서 해결해보자."
   ]
  },
  {
   "cell_type": "code",
   "execution_count": 3,
   "metadata": {},
   "outputs": [
    {
     "data": {
      "text/plain": [
       "2"
      ]
     },
     "execution_count": 3,
     "metadata": {},
     "output_type": "execute_result"
    }
   ],
   "source": [
    "def solution(relation):\n",
    "    from itertools import combinations\n",
    "    n, c = len(relation), len(relation[0])  # 일단 몇개짜린지.. 릴레이션 수, 컬럼 수\n",
    "    tr = tuple(zip(*relation))    # transpose 한 것. \n",
    "    candidate = {i for i in range(c)}  # 후보가 될 컬럼들 번호.. 사용되면 빼주기.\n",
    "    ans = 0  # 정답(후보키의 개수)\n",
    "    k_n = 1\n",
    "    while k_n<=c:\n",
    "        for key in combinations(candidate, k_n):\n",
    "            if len(set(zip(*(tr[i] for i in key)))) == n:\n",
    "                ans += 1\n",
    "                candidate.difference_update(set(key))\n",
    "                break\n",
    "        k_n += 1\n",
    "    return ans\n",
    "\n",
    "solution([[\"100\",\"ryan\",\"music\",\"2\"],[\"200\",\"apeach\",\"math\",\"2\"],[\"300\",\"tube\",\"computer\",\"3\"],[\"400\",\"con\",\"computer\",\"4\"],[\"500\",\"muzi\",\"music\",\"3\"],[\"600\",\"apeach\",\"music\",\"2\"]])"
   ]
  },
  {
   "cell_type": "markdown",
   "metadata": {},
   "source": [
    "엥 더틀리네.. 반복이 제대로 안된다. 두개짜리 조합 찾고 다시 다른 두개짜리 조합 찾기 전에 k_n이 커져버림"
   ]
  },
  {
   "cell_type": "code",
   "execution_count": 5,
   "metadata": {},
   "outputs": [
    {
     "name": "stdout",
     "output_type": "stream",
     "text": [
      "(0,)를 후보키로 사용\n",
      "(1, 2)를 후보키로 사용\n"
     ]
    },
    {
     "data": {
      "text/plain": [
       "2"
      ]
     },
     "execution_count": 5,
     "metadata": {},
     "output_type": "execute_result"
    }
   ],
   "source": [
    "def solution(relation):\n",
    "    from itertools import combinations\n",
    "    n, c = len(relation), len(relation[0])  # 일단 몇개짜린지.. 릴레이션 수, 컬럼 수\n",
    "    tr = tuple(zip(*relation))    # transpose 한 것. \n",
    "    candidate = {i for i in range(c)}  # 후보가 될 컬럼들 번호.. 사용되면 빼주기.\n",
    "    ans = 0  # 정답(후보키의 개수)\n",
    "    k_n = 1\n",
    "    while k_n<=len(candidate):     # 후보키로 사용할 컬럼개수가 남은애들보다 작은동안.\n",
    "        find_again = False\n",
    "        for key in combinations(candidate, k_n):\n",
    "            if len(set(zip(*(tr[i] for i in key)))) == n:   # 후보키 조건 만족.\n",
    "                ans += 1\n",
    "                candidate.difference_update(set(key))\n",
    "                find_again = True\n",
    "                print(f'{key}를 후보키로 사용')\n",
    "                break\n",
    "        if not find_again:\n",
    "            k_n += 1\n",
    "    return ans\n",
    "\n",
    "solution([[\"100\",\"ryan\",\"music\",\"2\"],[\"200\",\"apeach\",\"math\",\"2\"],[\"300\",\"tube\",\"computer\",\"3\"],[\"400\",\"con\",\"computer\",\"4\"],[\"500\",\"muzi\",\"music\",\"3\"],[\"600\",\"apeach\",\"music\",\"2\"]])"
   ]
  },
  {
   "cell_type": "markdown",
   "metadata": {},
   "source": [
    "아직도 틀림.. ㅜㅜ   \n",
    "아 1, 2가 사용됐으면 1, 2를 바로 빼주는게 아니라 1, 2, 3 이런게 안되게 해야함... (1, 3)이나 (1, 4), (2,4)는 또 될 수 있다.  \n",
    "일단 k개 조합한거 다 찾고. 그 조합에 포함된 애들을 한번에 빼주자 "
   ]
  },
  {
   "cell_type": "code",
   "execution_count": 8,
   "metadata": {},
   "outputs": [
    {
     "name": "stdout",
     "output_type": "stream",
     "text": [
      "남은 후보키 후보 index들: {0, 1, 2, 3}\n",
      "(0,)를 후보키로 사용\n",
      "남은 후보키 후보 index들: {1, 2, 3}\n",
      "(1, 2)를 후보키로 사용\n",
      "남은것: {3}\n"
     ]
    },
    {
     "data": {
      "text/plain": [
       "2"
      ]
     },
     "execution_count": 8,
     "metadata": {},
     "output_type": "execute_result"
    }
   ],
   "source": [
    "def solution(relation):\n",
    "    from itertools import combinations\n",
    "    n, c = len(relation), len(relation[0])  # 일단 몇개짜린지.. 릴레이션 수, 컬럼 수\n",
    "    tr = tuple(zip(*relation))    # transpose 한 것. \n",
    "    candidate = {i for i in range(c)}  # 후보가 될 컬럼들 번호.. 사용되면 빼주기.\n",
    "    ans = 0  # 정답(후보키의 개수)\n",
    "    k_n = 1\n",
    "    while k_n<=len(candidate):     # 후보키로 사용할 컬럼개수가 남은애들보다 작은동안.\n",
    "        print(f'남은 후보키 후보 index들: {candidate}')\n",
    "        used = set()\n",
    "        for key in combinations(candidate, k_n):\n",
    "            if len(set(zip(*(tr[i] for i in key)))) == n:   # 후보키 조건 만족.\n",
    "                ans += 1\n",
    "                used.update(set(key))\n",
    "                print(f'{key}를 후보키로 사용')\n",
    "        candidate.difference_update(used)\n",
    "        k_n += 1\n",
    "    print(f'남은것: {candidate}')\n",
    "    return ans\n",
    "\n",
    "solution([[\"100\",\"ryan\",\"music\",\"2\"],[\"200\",\"apeach\",\"math\",\"2\"],[\"300\",\"tube\",\"computer\",\"3\"],[\"400\",\"con\",\"computer\",\"4\"],[\"500\",\"muzi\",\"music\",\"3\"],[\"600\",\"apeach\",\"music\",\"2\"]])"
   ]
  },
  {
   "cell_type": "markdown",
   "metadata": {},
   "source": [
    ".. 얘도 처음이랑 똑같이 5개 틀리네.. 진짜 뭐지.. 처음이랑 결국 같은 코드가 된듯.. 그럼 어느경우에 틀리냐..  \n",
    "최소성, 유일성..  \n",
    "(1, 5)가 됐을때 (5,7,8)이 될 수 있다... 지금까지처럼 후보에서 지우면 안되고, 하나씩 빼보면서 후보키에 중복되지 않나 검사해줘야..  \n",
    "그럼 또 오래걸릴 거 같고..  \n",
    "조합을 하는데 0이 먼저 나오는 애를 검사.  0, (0,1), (0,2)...(0,1,2) 이런식으로 하다가.. 아니다 그냥 해야겠다.  \n",
    "하나만 빼주면 안되고 빼줄때도 모든 경우 다 해봐야? ㅠㅠ  \n",
    "좀 멋있는 방법 없을까.."
   ]
  },
  {
   "cell_type": "code",
   "execution_count": 14,
   "metadata": {},
   "outputs": [
    {
     "name": "stdout",
     "output_type": "stream",
     "text": [
      "후보키 찾음! (0,)\n",
      "후보키 찾음! (1, 2)\n"
     ]
    },
    {
     "data": {
      "text/plain": [
       "2"
      ]
     },
     "execution_count": 14,
     "metadata": {},
     "output_type": "execute_result"
    }
   ],
   "source": [
    "def solution(relation):\n",
    "    from itertools import combinations\n",
    "    n, c = len(relation), len(relation[0])  # 일단 몇개짜린지.. 릴레이션 수, 컬럼 수\n",
    "    tr = tuple(zip(*relation))    # transpose 한 것. \n",
    "    candidate = {i for i in range(c)}  # 후보가 될 컬럼들 번호.. 사용되면 빼주기.\n",
    "    keys = set()\n",
    "    for k_n in range(1, c+1):    # 컬럼 몇개 조합을 키로 사용할 것인지.. \n",
    "        for key in combinations(candidate, k_n):\n",
    "            if len(set(zip(*(tr[i] for i in key)))) == n:   # 일단 조건 1 확인. 키가 되는가.\n",
    "                # 조건 2 확인. 최소인가.. 여기서는 지금 후보키에서 다시 조합해봤을때 키가 있으면 안됨..\n",
    "#                 possible = True\n",
    "#                 for j in range(1, k_n):\n",
    "#                     for test in combinations(key, k_n-j):  # 모든 경우 검사해봐야..\n",
    "#                         if test in keys:\n",
    "#                             possible = False\n",
    "#                             break\n",
    "#                     if not possible:\n",
    "#                         break\n",
    "#                 if possible:\n",
    "#                     keys.add(key)\n",
    "#                     print(f'후보키 찾음! {key}')\n",
    "                 \n",
    "                \n",
    "                if all(test not in keys for j in range(1, k_n) for test in combinations(key, k_n-j)):\n",
    "                    keys.add(key)\n",
    "                    print(f'후보키 찾음! {key}')\n",
    "                        \n",
    "                \n",
    "    return len(keys)\n",
    "\n",
    "solution([[\"100\",\"ryan\",\"music\",\"2\"],[\"200\",\"apeach\",\"math\",\"2\"],[\"300\",\"tube\",\"computer\",\"3\"],[\"400\",\"con\",\"computer\",\"4\"],[\"500\",\"muzi\",\"music\",\"3\"],[\"600\",\"apeach\",\"music\",\"2\"]])"
   ]
  },
  {
   "cell_type": "markdown",
   "metadata": {},
   "source": [
    "드디어 됐땅 ㅠㅠㅠ"
   ]
  },
  {
   "cell_type": "code",
   "execution_count": null,
   "metadata": {
    "collapsed": true
   },
   "outputs": [],
   "source": [
    "# 최종 코드\n",
    "def solution(relation):\n",
    "    from itertools import combinations\n",
    "    n, c = len(relation), len(relation[0])\n",
    "    tr = tuple(zip(*relation))\n",
    "    keys = set()\n",
    "    for k_n in range(1, c+1):\n",
    "        for key in combinations(range(c), k_n):\n",
    "            if len(set(zip(*(tr[i] for i in key)))) == n:\n",
    "                if all(test not in keys for j in range(1, k_n) for test in combinations(key, k_n-j)):\n",
    "                    keys.add(key)                        \n",
    "    return len(keys)"
   ]
  },
  {
   "cell_type": "markdown",
   "metadata": {},
   "source": [
    "### 다른사람 비트마스크 이용한 풀이! 이거 괜찮네"
   ]
  },
  {
   "cell_type": "code",
   "execution_count": null,
   "metadata": {
    "collapsed": true
   },
   "outputs": [],
   "source": [
    "def solution(relation):\n",
    "    answer_list = list()\n",
    "    for i in range(1, 1 << len(relation[0])):\n",
    "        tmp_set = set()\n",
    "        for j in range(len(relation)):\n",
    "            tmp = ''\n",
    "            for k in range(len(relation[0])):\n",
    "                if i & (1 << k):\n",
    "                    tmp += str(relation[j][k])\n",
    "            tmp_set.add(tmp)\n",
    "\n",
    "        if len(tmp_set) == len(relation):\n",
    "            not_duplicate = True\n",
    "            for num in answer_list:\n",
    "                if (num & i) == num:\n",
    "                    not_duplicate = False\n",
    "                    break\n",
    "            if not_duplicate:\n",
    "                answer_list.append(i)\n",
    "    return len(answer_list)"
   ]
  },
  {
   "cell_type": "code",
   "execution_count": null,
   "metadata": {
    "collapsed": true
   },
   "outputs": [],
   "source": [
    "#### 이건 중복되는걸 issubset으로 푼것.  issubset시간복잡도 어떻게 되지??\n",
    "def solution(relation):\n",
    "    import itertools\n",
    "    feature = [[row[i] for row in relation] for i in range(len(relation[0]))]\n",
    "    lenfeat = list(range(len(feature)))\n",
    "    key = list()\n",
    "    for i in range(1,len(lenfeat)+1):\n",
    "        for subset in itertools.combinations(lenfeat,i):\n",
    "            for k in key:\n",
    "                if k.issubset(subset):\n",
    "                    break\n",
    "            else:\n",
    "                setzip = list(zip(*list(feature[_] for _ in subset)))\n",
    "                if len(setzip) == len(set(setzip)):\n",
    "                    key.append(set(subset))\n",
    "    answer = len(key)\n",
    "    return answer"
   ]
  }
 ],
 "metadata": {
  "kernelspec": {
   "display_name": "Python 3",
   "language": "python",
   "name": "python3"
  },
  "language_info": {
   "codemirror_mode": {
    "name": "ipython",
    "version": 3
   },
   "file_extension": ".py",
   "mimetype": "text/x-python",
   "name": "python",
   "nbconvert_exporter": "python",
   "pygments_lexer": "ipython3",
   "version": "3.6.3"
  }
 },
 "nbformat": 4,
 "nbformat_minor": 2
}
