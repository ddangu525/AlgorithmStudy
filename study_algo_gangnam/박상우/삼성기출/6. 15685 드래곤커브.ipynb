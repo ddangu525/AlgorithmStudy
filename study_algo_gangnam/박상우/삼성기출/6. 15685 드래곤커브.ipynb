{
 "cells": [
  {
   "cell_type": "markdown",
   "metadata": {},
   "source": [
    "## 문제\n",
    "드래곤 커브는 다음과 같은 세 가지 속성으로 이루어져 있으며, 이차원 좌표 평면 위에서 정의된다. 좌표 평면의 x축은 → 방향, y축은 ↓ 방향이다.  \n",
    "  \n",
    "시작 점  \n",
    "시작 방향  \n",
    "세대  \n",
    "0세대 드래곤 커브는 아래 그림과 같은 길이가 1인 선분이다. 아래 그림은 (0, 0)에서 시작하고, 시작 방향은 오른쪽인 0세대 드래곤 커브이다.  \n",
    "  \n",
    "<img src=\"https://onlinejudgeimages.s3-ap-northeast-1.amazonaws.com/problem/15685/1.png\" width=\"400\">  \n",
    "  \n",
    "1세대 드래곤 커브는 0세대 드래곤 커브를 끝 점을 기준으로 시계 방향으로 90도 회전시킨 다음 0세대 드래곤 커브의 끝 점에 붙인 것이다.   \n",
    "끝 점이란 시작 점에서 선분을 타고 이동했을 때, 가장 먼 거리에 있는 점을 의미한다.  \n",
    "  \n",
    "<img src=\"https://onlinejudgeimages.s3-ap-northeast-1.amazonaws.com/problem/15685/2.png\" width=\"400\">    \n",
    "  \n",
    "2세대 드래곤 커브도 1세대를 만든 방법을 이용해서 만들 수 있다. (파란색 선분은 새로 추가된 선분을 나타낸다)  \n",
    "  \n",
    "<img src=\"https://onlinejudgeimages.s3-ap-northeast-1.amazonaws.com/problem/15685/3.png\" width=\"400\">  \n",
    "  \n",
    "3세대 드래곤 커브도 2세대 드래곤 커브를 이용해 만들 수 있다. 아래 그림은 3세대 드래곤 커브이다.  \n",
    "  \n",
    "<img src=\"https://onlinejudgeimages.s3-ap-northeast-1.amazonaws.com/problem/15685/4.png\" width=\"400\">  \n",
    "  \n",
    "즉, K(K > 1)세대 드래곤 커브는 K-1세대 드래곤 커브를 끝 점을 기준으로 90도 시계 방향 회전 시킨 다음, 그것을 끝 점에 붙인 것이다.  \n",
    "  \n",
    "크기가 100×100인 격자 위에 드래곤 커브가 N개 있다.  \n",
    "이때, 크기가 1×1인 정사각형의 네 꼭짓점이 모두 드래곤 커브의 일부인 정사각형의 개수를 구하는 프로그램을 작성하시오.  \n",
    "격자의 좌표는 (x, y)로 나타내며, 0 ≤ x ≤ 100, 0 ≤ y ≤ 100만 유효한 좌표이다.  \n",
    "  \n",
    "## 입력\n",
    "첫째 줄에 드래곤 커브의 개수 N(1 ≤ N ≤ 20)이 주어진다. 둘째 줄부터 N개의 줄에는 드래곤 커브의 정보가 주어진다.  \n",
    "드래곤 커브의 정보는 네 정수 x, y, d, g로 이루어져 있다. x와 y는 드래곤 커브의 시작 점, d는 시작 방향, g는 세대이다.  \n",
    "(0 ≤ x, y ≤ 100, 0 ≤ d ≤ 3, 0 ≤ g ≤ 10)  \n",
    "  \n",
    "입력으로 주어지는 드래곤 커브는 격자 밖으로 벗어나지 않는다. 드래곤 커브는 서로 겹칠 수 있다.  \n",
    "  \n",
    "방향은 0, 1, 2, 3 중 하나이고, 다음을 의미한다.  \n",
    "  \n",
    "0: x좌표가 증가하는 방향 (→)  \n",
    "1: y좌표가 감소하는 방향 (↑)  \n",
    "2: x좌표가 감소하는 방향 (←)  \n",
    "3: y좌표가 증가하는 방향 (↓)  \n",
    "\n",
    "## 출력\n",
    "첫째 줄에 크기가 1×1인 정사각형의 네 꼭짓점이 모두 드래곤 커브의 일부인 것의 개수를 출력한다.  "
   ]
  },
  {
   "cell_type": "markdown",
   "metadata": {},
   "source": [
    "### ------------------------------------------------------------------------------"
   ]
  },
  {
   "cell_type": "markdown",
   "metadata": {},
   "source": [
    "주어진 드래곤커브 모두 그리고나서 정사각형 돌면서 검사...   \n",
    "끝 점을 제외하고 현재 커브에 있는 점들을 90도 회전시켜서 새로 추가해줌.."
   ]
  },
  {
   "cell_type": "code",
   "execution_count": 6,
   "metadata": {},
   "outputs": [
    {
     "name": "stdout",
     "output_type": "stream",
     "text": [
      "10\n",
      "5 5 0 0\n",
      "5 6 0 0\n",
      "5 7 0 0\n",
      "5 8 0 0\n",
      "5 9 0 0\n",
      "6 5 0 0\n",
      "6 6 0 0\n",
      "6 7 0 0\n",
      "6 8 0 0\n",
      "6 9 0 0\n",
      "8\n"
     ]
    }
   ],
   "source": [
    "# import sys\n",
    "# input = sys.stdin.readline\n",
    "N = int(input())\n",
    "curves = [tuple(map(int, input().split())) for _ in range(N)] # 드래곤 커브 정보.. 시작좌표(x,y), 시작방향 d, 세대 g\n",
    "m = [[0]*101 for _ in range(101)]    # 격자 범위.. 0~100까지. 꼭지점 0으로 초기화. 드래곤 커브가 그려지는 꼭짓점은 1로..\n",
    "diff = ((1, 0), (0, -1), (-1, 0), (0, 1)) # 방향..\n",
    "def draw(x,y,d,g):  # 시작좌표, 방향, 세대를 받아서 그려주는 함수.\n",
    "    # 현재 커브에 포함된 점들의 배열..\n",
    "    p = [(x,y)]\n",
    "    m[y][x] = 1\n",
    "    p.append((x+diff[d][0],y+diff[d][1]))\n",
    "    x0, y0 = p[-1]\n",
    "    m[y0][x0] = 1 # 여기까지 0세대\n",
    "    for _ in range(g): # g세대동안 반복..\n",
    "        x0, y0 = p[-1] # 마지막 좌표가 기준이됨..\n",
    "        for i in range(len(p)-2,-1,-1):  # 뒤에있는애들부터 앞쪽으로..\n",
    "            cx, cy = p[i]\n",
    "            nx, ny = x0-(cy-y0), y0+(cx-x0) # 추가할 좌표 계산..\n",
    "            m[ny][nx] = 1\n",
    "            p.append((nx,ny))\n",
    "for x, y, d, g in curves:\n",
    "    draw(x,y,d,g)\n",
    "\n",
    "ans = 0\n",
    "for j in range(100):\n",
    "    for i in range(100):\n",
    "        if m[j][i] and m[j+1][i] and m[j][i+1] and m[j+1][i+1]:\n",
    "            ans += 1\n",
    "print(ans)          "
   ]
  },
  {
   "cell_type": "markdown",
   "metadata": {},
   "source": [
    "3  \n",
    "3 3 0 1  \n",
    "4 2 1 3  \n",
    "4 2 2 1  \n",
    "\n",
    "---\n",
    "4\n",
    "\n",
    "--- \n",
    "4  \n",
    "50 50 0 10  \n",
    "50 50 1 10  \n",
    "50 50 2 10  \n",
    "50 50 3 10  \n",
    "\n",
    "--- \n",
    "1992  \n",
    "  \n",
    "---\n",
    "10  \n",
    "5 5 0 0  \n",
    "5 6 0 0  \n",
    "5 7 0 0  \n",
    "5 8 0 0  \n",
    "5 9 0 0  \n",
    "6 5 0 0  \n",
    "6 6 0 0  \n",
    "6 7 0 0  \n",
    "6 8 0 0  \n",
    "6 9 0 0  \n",
    "  \n",
    "---\n",
    "8  "
   ]
  }
 ],
 "metadata": {
  "kernelspec": {
   "display_name": "Python 3",
   "language": "python",
   "name": "python3"
  },
  "language_info": {
   "codemirror_mode": {
    "name": "ipython",
    "version": 3
   },
   "file_extension": ".py",
   "mimetype": "text/x-python",
   "name": "python",
   "nbconvert_exporter": "python",
   "pygments_lexer": "ipython3",
   "version": "3.6.3"
  }
 },
 "nbformat": 4,
 "nbformat_minor": 2
}
