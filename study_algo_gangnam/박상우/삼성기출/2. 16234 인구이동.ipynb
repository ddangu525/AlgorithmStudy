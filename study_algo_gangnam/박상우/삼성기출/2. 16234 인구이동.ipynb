{
 "cells": [
  {
   "cell_type": "markdown",
   "metadata": {},
   "source": [
    "### 문제\n",
    "N×N크기의 땅이 있고, 땅은 1×1개의 칸으로 나누어져 있다.  \n",
    "각각의 땅에는 나라가 하나씩 존재하며, r행 c열에 있는 나라에는 A[r][c]명이 살고 있다. 인접한 나라 사이에는 국경선이 존재한다.  \n",
    "모든 나라는 1×1 크기이기 때문에, 모든 국경선은 정사각형 형태이다.  \n",
    "  \n",
    "오늘부터 인구 이동이 시작되는 날이다.  \n",
    "  \n",
    "인구 이동은 다음과 같이 진행되고, 더 이상 아래 방법에 의해 인구 이동이 없을 때까지 지속된다.  \n",
    "  \n",
    "국경선을 공유하는 두 나라의 인구 차이가 L명 이상, R명 이하라면, 두 나라가 공유하는 국경선을 오늘 하루동안 연다.  \n",
    "위의 조건에 의해 열어야하는 국경선이 모두 열렸다면, 인구 이동을 시작한다.  \n",
    "국경선이 열려있어 인접한 칸만을 이용해 이동할 수 있으면, 그 나라를 오늘 하루 동안은 연합이라고 한다.  \n",
    "연합을 이루고 있는 각 칸의 인구수는 (연합의 인구수) / (연합을 이루고 있는 칸의 개수)가 된다. 편의상 소수점은 버린다.  \n",
    "연합을 해체하고, 모든 국경선을 닫는다.  \n",
    "각 나라의 인구수가 주어졌을 때, 인구 이동이 몇 번 발생하는지 구하는 프로그램을 작성하시오.  \n",
    "  \n",
    "### 입력\n",
    "첫째 줄에 N, L, R이 주어진다. (1 ≤ N ≤ 50, 1 ≤ L ≤ R ≤ 100)  \n",
    "  \n",
    "둘째 줄부터 N개의 줄에 각 나라의 인구수가 주어진다. r행 c열에 주어지는 정수는 A[r][c]의 값이다. (1 ≤ A[r][c] ≤ 100)  \n",
    "  \n",
    "인구 이동이 발생하는 횟수가 2,000번 보다 작거나 같은 입력만 주어진다.  \n",
    "  \n",
    "### 출력\n",
    "인구 이동이 몇 번 발생하는지 첫째 줄에 출력한다.  "
   ]
  },
  {
   "cell_type": "markdown",
   "metadata": {},
   "source": [
    "### ------------------------------------------------------------------------------"
   ]
  },
  {
   "cell_type": "markdown",
   "metadata": {},
   "source": [
    "인구이동이 안일어날때까지 반복해서 탐색? 50x50x2000 하면...500만..  \n",
    "바로 옆이랑은 인구수 차이 조건이 안맞더라도 돌아돌아 연합이 될 수도... 방문체크시 주의.."
   ]
  },
  {
   "cell_type": "code",
   "execution_count": 2,
   "metadata": {
    "scrolled": true
   },
   "outputs": [
    {
     "name": "stdout",
     "output_type": "stream",
     "text": [
      "4 10 50\n",
      "10 100 20 90\n",
      "80 100 60 70\n",
      "70 20 30 40\n",
      "50 20 100 10\n",
      "3\n"
     ]
    }
   ],
   "source": [
    "# import sys\n",
    "# input = sys.stdin.readline\n",
    "from collections import deque\n",
    "\n",
    "N, L, R = map(int, input().split())    # map 크기 NxN / 인구차이 L명 이상 R명 이하라면 인구이동..\n",
    "pop = [list(map(int, input().split())) for _ in range(N)]   # 각 나라의 인구 초기값.\n",
    "# 이동방향 4방향.\n",
    "dx = 0, 0, 1, -1\n",
    "dy = 1, -1, 0, 0\n",
    "# 인구이동 횟수 카운트\n",
    "count = 0\n",
    "# 일단 계속 반복..\n",
    "while 1:\n",
    "    v = [[False] * N for _ in range(N)]   # 방문 체크. 반복시마다 초기화. 연합을 이루는지 확실히 결정됐을때만 True로.\n",
    "    # 인구이동이 더이상 없다면 반복문 빠져나옴\n",
    "    move = False\n",
    "    # 전체 순회..\n",
    "    for j in range(N):\n",
    "        for i in range(N):\n",
    "            if not v[j][i]:\n",
    "                # 일단 시작하는 애는 방문체크 해줘도 댐....\n",
    "                v[j][i] = True\n",
    "                q = deque()\n",
    "                q.append((j,i))\n",
    "                # 연합정보.\n",
    "                u = [(j,i)]          # 좌표.\n",
    "                u_pop = pop[j][i]    # 총 인구수. 나중에 연합국가들은 평균값으로 됨..\n",
    "                \n",
    "                while q:\n",
    "                    for _ in range(len(q)):\n",
    "                        y, x = q.popleft()\n",
    "                        for d in range(4):\n",
    "                            cy = y + dy[d]\n",
    "                            cx = x + dx[d]\n",
    "                            # 일단 범위안에 있고, 연합이 되지 않은 애인경우..들어가봄..\n",
    "                            if cx>=0 and cx<N and cy>=0 and cy<N and not v[cy][cx]:\n",
    "                                diff = abs(pop[y][x] - pop[cy][cx])\n",
    "                                # 인구수 차이가 조건에 맞다면 큐에 추가, 여기서 방문체크 True로.\n",
    "                                if diff>=L and diff<=R:\n",
    "                                    q.append((cy, cx))\n",
    "                                    v[cy][cx] = True\n",
    "                                    u.append((cy, cx))\n",
    "                                    u_pop += pop[cy][cx]\n",
    "                # 일단 하나의 연합에 대해서는 끝남..2개이상 국가가 연합이 된경우만.. 방문체크도 했으니 값 update??\n",
    "                if len(u)>1:\n",
    "                    move = True\n",
    "                    n_p = u_pop // len(u) # 새로운 인구수..\n",
    "                    for y, x in u:\n",
    "                        pop[y][x] = n_p\n",
    "    # 인구이동이 없었다면 빠져나옴.\n",
    "    if not move:\n",
    "        break\n",
    "    else:\n",
    "        count += 1\n",
    "print(count)"
   ]
  },
  {
   "cell_type": "markdown",
   "metadata": {},
   "source": [
    "78%에서 시간초과... python3로는 안되는듯..  \n",
    "pypy로 916ms / 872ms.."
   ]
  },
  {
   "cell_type": "markdown",
   "metadata": {},
   "source": [
    "4 10 50  \n",
    "10 100 20 90  \n",
    "80 100 60 70  \n",
    "70 20 30 40  \n",
    "50 20 100 10  \n",
    "  \n",
    "---\n",
    "3"
   ]
  }
 ],
 "metadata": {
  "kernelspec": {
   "display_name": "Python 3",
   "language": "python",
   "name": "python3"
  },
  "language_info": {
   "codemirror_mode": {
    "name": "ipython",
    "version": 3
   },
   "file_extension": ".py",
   "mimetype": "text/x-python",
   "name": "python",
   "nbconvert_exporter": "python",
   "pygments_lexer": "ipython3",
   "version": "3.6.3"
  }
 },
 "nbformat": 4,
 "nbformat_minor": 2
}
