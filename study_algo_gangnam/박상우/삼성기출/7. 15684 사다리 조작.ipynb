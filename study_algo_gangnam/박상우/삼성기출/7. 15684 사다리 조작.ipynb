{
 "cells": [
  {
   "cell_type": "markdown",
   "metadata": {},
   "source": [
    "## 문제\n",
    "사다리 게임은 N개의 세로선과 M개의 가로선으로 이루어져 있다.  \n",
    "인접한 세로선 사이에는 가로선을 놓을 수 있는데, 각각의 세로선마다 가로선을 놓을 수 있는 위치의 개수는 H이고, 모든 세로선이 같은 위치를 갖는다.  \n",
    "아래 그림은 N = 5, H = 6 인 경우의 그림이고, 가로선은 없다.  \n",
    "   \n",
    "<img src=\"https://onlinejudgeimages.s3-ap-northeast-1.amazonaws.com/problem/15684/1.png\" width=\"300\">\n",
    "  \n",
    "초록선은 세로선을 나타내고, 초록선과 점선이 교차하는 점은 가로선을 놓을 수 있는 점이다. 가로선은 인접한 두 세로선을 연결해야 한다.   \n",
    "단, 두 가로선이 연속하거나 서로 접하면 안된다. 또, 가로선은 점선 위에 있어야 한다.  \n",
    "   \n",
    "<img src=\"https://onlinejudgeimages.s3-ap-northeast-1.amazonaws.com/problem/15684/2.png\" width=\"300\">\n",
    "  \n",
    "위의 그림에는 가로선이 총 5개 있다. 가로선은 위의 그림과 같이 인접한 두 세로선을 연결해야 하고, 가로선을 놓을 수 있는 위치를 연결해야 한다.  \n",
    "  \n",
    "사다리 게임은 각각의 세로선마다 게임을 진행하고, 세로선의 가장 위에서부터 아래 방향으로 내려가야 한다.   \n",
    "이때, 가로선을 만나면 가로선을 이용해 옆 세로선으로 이동한 다음, 이동한 세로선에서 아래 방향으로 이동해야 한다.  \n",
    "  \n",
    "위의 그림에서 1번은 3번으로, 2번은 2번으로, 3번은 5번으로, 4번은 1번으로, 5번은 4번으로 도착하게 된다.  \n",
    "아래 두 그림은 1번과 2번이 어떻게 이동했는지 나타내는 그림이다.  \n",
    "  \n",
    "<img src=\"https://onlinejudgeimages.s3-ap-northeast-1.amazonaws.com/problem/15684/3.png\" width=\"300\">1번 세로선     \n",
    "<img src=\"https://onlinejudgeimages.s3-ap-northeast-1.amazonaws.com/problem/15684/4.png\" width=\"300\">2번 세로선  \n",
    "  \n",
    "사다리에 가로선을 추가해서, 사다리 게임의 결과를 조작하려고 한다. 이때, i번 세로선의 결과가 i번이 나와야 한다.  \n",
    "그렇게 하기 위해서 추가해야 하는 가로선 개수의 최솟값을 구하는 프로그램을 작성하시오.  \n",
    "  \n",
    "## 입력\n",
    "첫째 줄에 세로선의 개수 N, 가로선의 개수 M, 세로선마다 가로선을 놓을 수 있는 위치의 개수 H가 주어진다.  \n",
    "(2 ≤ N ≤ 10, 1 ≤ H ≤ 30, 0 ≤ M ≤ (N-1)×H)  \n",
    "  \n",
    "둘째 줄부터 M개의 줄에는 가로선의 정보가 한 줄에 하나씩 주어진다.  \n",
    "  \n",
    "가로선의 정보는 두 정수 a과 b로 나타낸다. (1 ≤ a ≤ H, 1 ≤ b ≤ N-1) b번 세로선과 b+1번 세로선을 a번 점선 위치에서 연결했다는 의미이다.  \n",
    "  \n",
    "가장 위에 있는 점선의 번호는 1번이고, 아래로 내려갈 때마다 1이 증가한다.  \n",
    "세로선은 가장 왼쪽에 있는 것의 번호가 1번이고, 오른쪽으로 갈 때마다 1이 증가한다.  \n",
    "  \n",
    "입력으로 주어지는 가로선이 서로 연속하는 경우는 없다.  \n",
    "  \n",
    "## 출력\n",
    "i번 세로선의 결과가 i번이 나오도록 사다리 게임을 조작하려면, 추가해야 하는 가로선 개수의 최솟값을 출력한다.  \n",
    "만약, 정답이 3보다 큰 값이면 -1을 출력한다. 또, 불가능한 경우에도 -1을 출력한다.  "
   ]
  },
  {
   "cell_type": "markdown",
   "metadata": {},
   "source": [
    "1. 인접한 애들끼리만 swap됨.  \n",
    "2. swap하면 원래 갈 목적지도 서로 swap \n",
    "3. 연결될 세로줄을 지나가는 애들을 추적해야 할듯. \n",
    "4. 가로줄 정보를 위에서부터 읽어서 어디로 연결되는지를 알아내기. \n",
    "5. 이것도 조합을 이용하여 완탐? 세로선 최대 10개..가로선을 놓을 수 있는 위치의 개수 H.--> 높이?\n",
    " \n",
    "---\n",
    "정답이 3보다 큰 값이면 -1. 불가능할때도 -1..  \n",
    "**어디에 어떻게 가로줄을 놓아야 하는지는 알 필요 없을듯..??**\n",
    "swap 최대 3번만 해서 되는지 확인하고 안되면 -1.  \n",
    "또 불가능한 경우는 더 놓을 자리가 없을 때만??  수를 세자.  \n",
    "필요한 swap의 수 어떻게 세지...\n",
    "N개 세로줄 중 자기자신으로 가는(바꿀 필요 없는) 세로줄 개수가 i개이  \n",
    "이게 3보다 크거나, 더 놓을 자리가 없으면 -1..  \n",
    "자리는 충분한데 적절하지 않아서 안되는 경우는 없나??  \n",
    "**두 가로선이 연속하거나 서로 접하면 안된다.**  \n",
    "좌우로도 연속될 수 없고 위아래로도 연속될 수 없다는 건가??  위아래는 괜찮...\n",
    "일단 가로선을 놓을 수 있는 자리 수는 (N-1) * H 가 되지만 이만큼 다 놓을 순 없음..  \n",
    "한 칸 씩 띄엄띄엄.. (N//2) * H가 최대"
   ]
  },
  {
   "cell_type": "code",
   "execution_count": 12,
   "metadata": {
    "scrolled": true
   },
   "outputs": [
    {
     "name": "stdout",
     "output_type": "stream",
     "text": [
      "2 0 3\n",
      "0\n"
     ]
    }
   ],
   "source": [
    "# import sys\n",
    "# input = sys.stdin.readline\n",
    "N, M, H = map(int, input().split())     # 세로선 개수 N / 가로선 개수 M / 높이 H\n",
    "M_max = (N//2) * H\n",
    "# 가로선 정보. a, b가 입력됨. b, b+1번째 세로선을 a번 점선 위치에서 연결 \n",
    "# a가 작은것부터 오름차순으로 정렬하기.\n",
    "swap = sorted([tuple(map(int, input().split())) for _ in range(M)])\n",
    "dst = list(range(N+1))   # 세로선 사다리타면 자기 자신으로..\n",
    "\n",
    "# 여기가 중요! i번째 세로선의 j번 부분이 어디서 출발한애에 속하는지 저장! H+1개 해줘야...\n",
    "v_from = [0]+[[i]*(H+1) for i in range(1,N+1)]\n",
    "for a, b in swap:\n",
    "\n",
    "    # 1. 목적지를 swap시켜줌. \n",
    "    dst[v_from[b][a]], dst[v_from[b+1][a]] = dst[v_from[b+1][a]], dst[v_from[b][a]]\n",
    "    \n",
    "    # 2. v_from update하기. \n",
    "    v_from[b][a:], v_from[b+1][a:] = v_from[b+1][a:], v_from[b][a:]\n",
    "# print(dst)   \n",
    "# 여기까지 잘 됨..\n",
    "# 이제 가로선을 어떻게 추가해야 i:i로 될지...? 는 알 필요 없고 swap을 얼마나 해야되는지만..\n",
    "\n",
    "# 일단 안맞는 애들 번호 찾아서 swap하면서 개수 세기.\n",
    "n_swap = 0\n",
    "for i in range(1, N+1):\n",
    "    if dst[i] == i:\n",
    "        continue\n",
    "    for j in range(i, N+1):\n",
    "        if dst[j] == i:\n",
    "            dst[i], dst[j] = dst[j], dst[i]\n",
    "            n_swap += 1\n",
    "if n_swap>3 or n_swap>M_max-M:    # 3번 이상 바꿔야 하거나 놓을 자리가 없다면..\n",
    "    print(-1)\n",
    "else:\n",
    "    print(n_swap)\n"
   ]
  },
  {
   "cell_type": "markdown",
   "metadata": {},
   "source": [
    "틀렸다 ㅜㅜ 안되는 경우때문인가..? 예제는 다 맞는데 ㅜㅜ  \n",
    "진짜로 빡코딩 해야하나..."
   ]
  },
  {
   "cell_type": "markdown",
   "metadata": {},
   "source": [
    "5 5 6  \n",
    "1 1  \n",
    "3 2  \n",
    "2 3  \n",
    "5 1  \n",
    "5 4  \n",
    "\n",
    "___\n",
    "3"
   ]
  },
  {
   "cell_type": "code",
   "execution_count": null,
   "metadata": {
    "collapsed": true
   },
   "outputs": [],
   "source": []
  }
 ],
 "metadata": {
  "kernelspec": {
   "display_name": "Python 3",
   "language": "python",
   "name": "python3"
  },
  "language_info": {
   "codemirror_mode": {
    "name": "ipython",
    "version": 3
   },
   "file_extension": ".py",
   "mimetype": "text/x-python",
   "name": "python",
   "nbconvert_exporter": "python",
   "pygments_lexer": "ipython3",
   "version": "3.6.3"
  }
 },
 "nbformat": 4,
 "nbformat_minor": 2
}
