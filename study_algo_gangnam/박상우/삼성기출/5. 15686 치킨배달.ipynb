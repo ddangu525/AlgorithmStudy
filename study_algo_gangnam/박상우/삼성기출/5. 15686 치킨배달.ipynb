{
 "cells": [
  {
   "cell_type": "markdown",
   "metadata": {},
   "source": [
    "## 문제\n",
    "크기가 N×N인 도시가 있다. 도시는 1×1크기의 칸으로 나누어져 있다. 도시의 각 칸은 빈 칸, 치킨집, 집 중 하나이다.  \n",
    "도시의 칸은 (r, c)와 같은 형태로 나타내고, r행 c열 또는 위에서부터 r번째 칸, 왼쪽에서부터 c번째 칸을 의미한다. r과 c는 1부터 시작한다.  \n",
    "  \n",
    "이 도시에 사는 사람들은 치킨을 매우 좋아한다. 따라서, 사람들은 \"치킨 거리\"라는 말을 주로 사용한다.  \n",
    "치킨 거리는 집과 가장 가까운 치킨집 사이의 거리이다. 즉, 치킨 거리는 집을 기준으로 정해지며, 각각의 집은 치킨 거리를 가지고 있다.  \n",
    "도시의 치킨 거리는 모든 집의 치킨 거리의 합이다.  \n",
    "  \n",
    "임의의 두 칸 (r1, c1)과 (r2, c2) 사이의 거리는 |r1-r2| + |c1-c2|로 구한다.  \n",
    "  \n",
    "예를 들어, 아래와 같은 지도를 갖는 도시를 살펴보자.  \n",
    "  \n",
    "0 2 0 1 0  \n",
    "1 0 1 0 0  \n",
    "0 0 0 0 0  \n",
    "0 0 0 1 1  \n",
    "0 0 0 1 2  \n",
    "0은 빈 칸, 1은 집, 2는 치킨집이다.  \n",
    "  \n",
    "(2, 1)에 있는 집과 (1, 2)에 있는 치킨집과의 거리는 |2-1| + |1-2| = 2, (5, 5)에 있는 치킨집과의 거리는 |2-5| + |1-5| = 7이다.  \n",
    "따라서, (2, 1)에 있는 집의 치킨 거리는 2이다.  \n",
    "  \n",
    "(5, 4)에 있는 집과 (1, 2)에 있는 치킨집과의 거리는 |5-1| + |4-2| = 6, (5, 5)에 있는 치킨집과의 거리는 |5-5| + |4-5| = 1이다.  \n",
    "따라서, (5, 4)에 있는 집의 치킨 거리는 1이다.  \n",
    "  \n",
    "이 도시에 있는 치킨집은 모두 같은 프랜차이즈이다. 프렌차이즈 본사에서는 수익을 증가시키기 위해 일부 치킨집을 폐업시키려고 한다.  \n",
    "오랜 연구 끝에 이 도시에서 가장 수익을 많이 낼 수 있는  치킨집의 개수는 최대 M개라는 사실을 알아내었다.  \n",
    "  \n",
    "도시에 있는 치킨집 중에서 최대 M개를 고르고, 나머지 치킨집은 모두 폐업시켜야 한다.  \n",
    "어떻게 고르면, 도시의 치킨 거리가 가장 작게 될지 구하는 프로그램을 작성하시오.  \n",
    "  \n",
    "## 입력\n",
    "첫째 줄에 N(2 ≤ N ≤ 50)과 M(1 ≤ M ≤ 13)이 주어진다.  \n",
    "  \n",
    "둘째 줄부터 N개의 줄에는 도시의 정보가 주어진다.  \n",
    "  \n",
    "도시의 정보는 0, 1, 2로 이루어져 있고, 0은 빈 칸, 1은 집, 2는 치킨집을 의미한다. 집의 개수는 2N개를 넘지 않으며, 적어도 1개는 존재한다.  \n",
    "치킨집의 개수는 M보다 크거나 같고, 13보다 작거나 같다.  \n",
    "  \n",
    "## 출력\n",
    "첫째 줄에 폐업시키지 않을 치킨집을 최대 M개를 골랐을 때, 도시의 치킨 거리의 최솟값을 출력한다.  "
   ]
  },
  {
   "cell_type": "markdown",
   "metadata": {},
   "source": [
    "### ------------------------------------------------------------------------------"
   ]
  },
  {
   "cell_type": "markdown",
   "metadata": {},
   "source": [
    "1. 치킨집 기준으로 거리가 제일 작은애들 M개 선택? --x  \n",
    "2. 집 기준으로 거리 1씩 증가시키며 M개 찾기? --x  \n",
    "3. 다 해보기?? 시간초과날거같은데..  \n",
    "최대 $\\binom{13}{7}\\times50^2$ = 4290000  괜찮다....   \n",
    "  \n",
    " \n",
    "1) BFS로 각 집마다 최소거리 구하기?  \n",
    "2) 아니면 치킨집 최대 13개니까 각 집에서 거리 다 구한것 중에 최소값 선택? --> 이렇게 해보자"
   ]
  },
  {
   "cell_type": "code",
   "execution_count": null,
   "metadata": {
    "collapsed": true
   },
   "outputs": [],
   "source": [
    "# import sys\n",
    "# input = sys.stdin.readline\n",
    "from itertools import combinations\n",
    "N, M = map(int, input().split())      # 도시크기 NxN / 고를 치킨집 개수 M\n",
    "chicken = []\n",
    "city = []\n",
    "for j in range(N):\n",
    "    row = list(map(int, input().split()))\n",
    "    city.append(row)\n",
    "    for i in row:\n",
    "        # 치킨집 따로 좌표 저장..\n",
    "        if row[i] == 2:\n",
    "            chicken.append((j,i))\n",
    "min_d = float('inf') # 도시의 치킨거리 무한대로 초기화\n",
    "# 고를애들 정하기.\n",
    "chosen = list(combinations(chicken, M))\n",
    "# 모든 경우마다. 돌아가면서 치킨거리 구하기\n",
    "for case in chosen:\n",
    "    d = 0\n",
    "    for j in range(N):\n",
    "        for i in range(N):\n",
    "            if city[j][i] == 1:\n",
    "                d += min(map(lambda x: abs(x[1]-i)+abs(x[0]-j), case))\n",
    "                print(f'{case}를 고른경우, {j},{i}일때 거리 {d}')\n",
    "    print(f'{case}를 고른경우 도시의 치킨거리 = {d}')\n",
    "    if d<min_d:\n",
    "        min_d = d\n",
    "print(min_d)"
   ]
  },
  {
   "cell_type": "code",
   "execution_count": null,
   "metadata": {
    "collapsed": true
   },
   "outputs": [],
   "source": [
    "# 집 좌표도 따로.. 집, 치킨집 좌표만 필요.\n",
    "# import sys\n",
    "# input = sys.stdin.readline\n",
    "from itertools import combinations\n",
    "N, M = map(int, input().split())\n",
    "chicken = []\n",
    "house = []\n",
    "for j in range(N):\n",
    "    row = list(map(int, input().split()))\n",
    "    for i in range(N):\n",
    "        if row[i] == 2:\n",
    "            chicken.append((j,i))\n",
    "        if row[i] ==1:\n",
    "            house.append((j,i))\n",
    "min_d = float('inf')\n",
    "chosen = list(combinations(chicken, M))\n",
    "for case in chosen:\n",
    "    d = 0\n",
    "    for j, i in house:\n",
    "        d += min(map(lambda x: abs(x[1]-i)+abs(x[0]-j), case))\n",
    "    if d<min_d:\n",
    "        min_d = d\n",
    "print(min_d)"
   ]
  }
 ],
 "metadata": {
  "kernelspec": {
   "display_name": "Python 3",
   "language": "python",
   "name": "python3"
  },
  "language_info": {
   "codemirror_mode": {
    "name": "ipython",
    "version": 3
   },
   "file_extension": ".py",
   "mimetype": "text/x-python",
   "name": "python",
   "nbconvert_exporter": "python",
   "pygments_lexer": "ipython3",
   "version": "3.6.3"
  }
 },
 "nbformat": 4,
 "nbformat_minor": 2
}
