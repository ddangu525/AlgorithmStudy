{
 "cells": [
  {
   "cell_type": "markdown",
   "metadata": {},
   "source": [
    "## 1. (Kakao 2018) 무지의 먹방 라이브"
   ]
  },
  {
   "cell_type": "markdown",
   "metadata": {},
   "source": [
    "**효율성 테스트에 부분 점수가 있는 문제입니다.**\n",
    "  \n",
    "평소 식욕이 왕성한 무지는 자신의 재능을 뽐내고 싶어 졌고 고민 끝에 카카오 TV 라이브로 방송을 하기로 마음먹었다.  \n",
    "  \n",
    "그냥 먹방을 하면 다른 방송과 차별성이 없기 때문에 무지는 아래와 같이 독특한 방식을 생각해냈다.  \n",
    "  \n",
    "회전판에 먹어야 할 N 개의 음식이 있다.   \n",
    "각 음식에는 1부터 N 까지 번호가 붙어있으며, 각 음식을 섭취하는데 일정 시간이 소요된다.   \n",
    "무지는 다음과 같은 방법으로 음식을 섭취한다.  \n",
    "  \n",
    "무지는 1번 음식부터 먹기 시작하며, 회전판은 번호가 증가하는 순서대로 음식을 무지 앞으로 가져다 놓는다.  \n",
    "마지막 번호의 음식을 섭취한 후에는 회전판에 의해 다시 1번 음식이 무지 앞으로 온다.  \n",
    "무지는 음식 하나를 1초 동안 섭취한 후 남은 음식은 그대로 두고, 다음 음식을 섭취한다.  \n",
    "다음 음식이란, 아직 남은 음식 중 다음으로 섭취해야 할 가장 가까운 번호의 음식을 말한다.  \n",
    "회전판이 다음 음식을 무지 앞으로 가져오는데 걸리는 시간은 없다고 가정한다.  \n",
    "무지가 먹방을 시작한 지 K 초 후에 네트워크 장애로 인해 방송이 잠시 중단되었다.  \n",
    "무지는 네트워크 정상화 후 다시 방송을 이어갈 때, 몇 번 음식부터 섭취해야 하는지를 알고자 한다.   \n",
    "**각 음식을 모두 먹는데 필요한 시간이 담겨있는 배열 food_times,  \n",
    "네트워크 장애가 발생한 시간 K 초가 매개변수로 주어질 때 몇 번 음식부터 다시 섭취하면 되는지 return 하도록 solution 함수를 완성하라.**    \n",
    "  \n",
    "### 제한사항\n",
    "food_times 는 각 음식을 모두 먹는데 필요한 시간이 음식의 번호 순서대로 들어있는 배열이다.  \n",
    "k 는 방송이 중단된 시간을 나타낸다.  \n",
    "만약 더 섭취해야 할 음식이 없다면 -1을 반환하면 된다.  \n",
    "정확성 테스트 제한 사항  \n",
    "food_times 의 길이는 1 이상 2,000 이하이다.  \n",
    "food_times 의 원소는 1 이상 1,000 이하의 자연수이다.  \n",
    "k는 1 이상 2,000,000 이하의 자연수이다.  \n",
    "### 효율성 테스트 제한 사항  \n",
    "food_times 의 길이는 1 이상 200,000 이하이다.  \n",
    "food_times 의 원소는 1 이상 100,000,000 이하의 자연수이다.  \n",
    "k는 1 이상 2 x 10^13 이하의 자연수이다.  \n",
    "### 입출력 예\n",
    "  \n",
    "|food_times|k|result|\n",
    "|---|---|---|\n",
    "|[3, 1, 2]|5|1|  \n",
    "### 입출력 예 설명\n",
    "입출력 예 #1  \n",
    "  \n",
    "0~1초 동안에 1번 음식을 섭취한다. 남은 시간은 [2,1,2] 이다.  \n",
    "1~2초 동안 2번 음식을 섭취한다. 남은 시간은 [2,0,2] 이다.  \n",
    "2~3초 동안 3번 음식을 섭취한다. 남은 시간은 [2,0,1] 이다.  \n",
    "3~4초 동안 1번 음식을 섭취한다. 남은 시간은 [1,0,1] 이다.  \n",
    "4~5초 동안 (2번 음식은 다 먹었으므로) 3번 음식을 섭취한다. 남은 시간은 [1,0,0] 이다.  \n",
    "5초에서 네트워크 장애가 발생했다. 1번 음식을 섭취해야 할 때 중단되었으므로, 장애 복구 후에 1번 음식부터 다시 먹기 시작하면 된다.  "
   ]
  },
  {
   "cell_type": "markdown",
   "metadata": {},
   "source": [
    "### ------------------------------------------------------------------------------"
   ]
  },
  {
   "cell_type": "markdown",
   "metadata": {},
   "source": [
    "즉 k초 후에 뭘 먹어야 하는지!"
   ]
  },
  {
   "cell_type": "code",
   "execution_count": null,
   "metadata": {
    "collapsed": true
   },
   "outputs": [],
   "source": [
    "def solution(food_times, k):\n",
    "    n = len(food_times)  # 몇개인지\n",
    "    idx = 0  \n",
    "    for _ in range(k):   # k초동안 simulation\n",
    "        while True:\n",
    "            if food_times[idx%n]:  # idx번째 음식을 다 먹은게 아니라면\n",
    "                food_times[idx%n] -= 1   # 1만큼 먹고\n",
    "                idx += 1               # 다음거 준비..\n",
    "                break\n",
    "            else:          # 다먹은애면 건너뛰기.\n",
    "                idx += 1   \n",
    "    return idx%n+1"
   ]
  },
  {
   "cell_type": "markdown",
   "metadata": {},
   "source": [
    "부정확하고 시간초과.. 음.. 이렇게 다 돌면 안되고..\n",
    "1. k초 후에 그 다음에 남은애들을 또 찾아야한다.  (틀린 이유.)\n",
    "2. 다 먹은 애들은 그냥 없애줘야 빠를듯..\n",
    "\n",
    "q를 이용해서???? (번호, 남은양)저장. 남은양이 0이면 빼고, 아니면 다시 큐에.."
   ]
  },
  {
   "cell_type": "code",
   "execution_count": null,
   "metadata": {
    "collapsed": true
   },
   "outputs": [],
   "source": [
    "def solution(food_times, k):\n",
    "    from collections import deque\n",
    "    q = deque([(i+1,food_times[i]) for i in range(len(food_times))])    # (번호, 남은양) 큐에 저장\n",
    "    for _ in range(k):  # k초동안 먹기\n",
    "        n, v = q.popleft()   # 번호, 남은양\n",
    "        if v>1:                  # 남은양이 1보다 크다면 큐에 (번호, 남은양-1)로 다시 추가. 남은양이 1이면 다먹음.\n",
    "            q.append((n,v-1))  \n",
    "    return q[0][0]"
   ]
  },
  {
   "cell_type": "markdown",
   "metadata": {},
   "source": [
    "런타임에러 3개 + 효율성 테스트 시간초과... 무슨 방법이 있지??  런타임 에러는 왜?????  \n",
    "k 최대값이 $10^{13}$이니까 다 해보는 방법은 안되겠구나...  \n",
    "수학적으로 계산해야하나??   \n",
    "리스트에서 최소값을 찾아서 길이 * 최소값만큼은 무조건 돌 수 있으니까 %연산 사용해서 번호 찾기.  \n",
    "그 다음은 최소값 \n"
   ]
  },
  {
   "cell_type": "code",
   "execution_count": 14,
   "metadata": {
    "scrolled": true
   },
   "outputs": [
    {
     "name": "stdout",
     "output_type": "stream",
     "text": [
      "times_sorted [(1, 1), (2, 2), (3, 0)]\n",
      "k 5\n",
      "left [1, 3]\n",
      "k%n 0\n"
     ]
    },
    {
     "data": {
      "text/plain": [
       "1"
      ]
     },
     "execution_count": 14,
     "metadata": {},
     "output_type": "execute_result"
    }
   ],
   "source": [
    "def solution(food_times, k):\n",
    "    times_sorted = sorted([(val, idx) for idx, val in enumerate(food_times)])  # (idx, val)로 해야 같은값일때 앞번호 먼저? 상관없나..?\n",
    "    print('times_sorted', times_sorted)\n",
    "    t = 0\n",
    "    idx = 0   # 제일 작은 값부터 시작.\n",
    "    n = len(food_times)              # 남은 음식수\n",
    "    cycle = times_sorted[idx][0]     # 남은애들 중 최소인 애만큼 반복해줄 수 있다.\n",
    "    while k-(n*cycle)>0:             # 남는애들 다 돌아도 k가 남는 동안..\n",
    "        print('k', k)\n",
    "        k -= n*cycle                 # 도는 cycle만큼 k값 줄여주고\n",
    "        n -= 1                       # 남은음식도 하나 없애줌.\n",
    "        idx += 1                     # 다음 최소값 검사하기위해..\n",
    "        cycle = times_sorted[idx][0]-times_sorted[idx-1][0]   # 다음 cycle 도는 횟수.\n",
    "        \n",
    "    # 이제 한 음식 다 먹기전에 끝난다.\n",
    "    # 남은애들중 앞에서부터 k%n번째 번호를 출력..다시 sort..\n",
    "    left = [i[1]+1 for i in sorted(times_sorted[idx:], key=lambda x: x[1])]\n",
    "    print('left', left)\n",
    "    print('k%n', k%n)\n",
    "    return left[k%n]\n",
    "\n",
    "solution([3, 1, 2], 5)"
   ]
  },
  {
   "cell_type": "markdown",
   "metadata": {},
   "source": [
    "3개 틀리고 하나 런타임에러...??? 시간초과는 안남.  \n",
    "틀리는 경우... 다 같은값일때!!! 처음에 **정렬을 값기준, 번호기준 두 개 다 고려**해야할것 같다.   \n",
    "아.. 그리고 **먹을게 없으면 -1 반환**이구나.."
   ]
  },
  {
   "cell_type": "code",
   "execution_count": null,
   "metadata": {
    "collapsed": true
   },
   "outputs": [],
   "source": [
    "def solution(food_times, k):\n",
    "    if k>=sum(food_times):\n",
    "        return -1\n",
    "    times_sorted = sorted([(val, idx) for idx, val in enumerate(food_times)], key=lambda x: (x[0], x[1]))\n",
    "    t = 0\n",
    "    idx = 0\n",
    "    n = len(food_times)\n",
    "    cycle = times_sorted[idx][0]\n",
    "    while k-(n*cycle)>0:\n",
    "        k -= n*cycle\n",
    "        n -= 1\n",
    "        idx += 1\n",
    "        cycle = times_sorted[idx][0]-times_sorted[idx-1][0]\n",
    "    left = [i[1]+1 for i in sorted(times_sorted[idx:], key=lambda x: x[1])]\n",
    "    return left[k%n]"
   ]
  },
  {
   "cell_type": "markdown",
   "metadata": {},
   "source": [
    "됐다!!!! 이제 숏코딩 좀 해보자"
   ]
  },
  {
   "cell_type": "code",
   "execution_count": null,
   "metadata": {
    "collapsed": true
   },
   "outputs": [],
   "source": [
    "def solution(food_times, k):\n",
    "    if k>=sum(food_times):return -1\n",
    "    times_sorted = sorted([(idx, val) for idx, val in enumerate(food_times)], key=lambda x: x[1])\n",
    "    t = idx = 0\n",
    "    n = len(food_times)\n",
    "    cycle = times_sorted[0][1]\n",
    "    while k-(n*cycle)>0:\n",
    "        k -= n*cycle\n",
    "        n -= 1\n",
    "        idx += 1\n",
    "        cycle = times_sorted[idx][1]-times_sorted[idx-1][1]\n",
    "    return [i[0]+1 for i in sorted(times_sorted[idx:])][k%n]"
   ]
  },
  {
   "cell_type": "markdown",
   "metadata": {},
   "source": [
    "끝.."
   ]
  },
  {
   "cell_type": "markdown",
   "metadata": {},
   "source": [
    "## 2. 11559 PuyoPuyo"
   ]
  },
  {
   "cell_type": "markdown",
   "metadata": {},
   "source": [
    "#### 문제\n",
    "뿌요뿌요의 룰은 다음과 같다.  \n",
    "  \n",
    "필드에 여러 가지 색깔의 뿌요를 놓는다. 뿌요는 중력의 영향을 받아 아래에 바닥이나 다른 뿌요가 나올 때까지 아래로 떨어진다.  \n",
    "  \n",
    "뿌요를 놓고 난 후, 같은 색 뿌요가 4개 이상 상하좌우로 연결되어 있으면 연결된 같은 색 뿌요들이 한꺼번에 없어진다.  \n",
    "  \n",
    "뿌요들이 없어지고 나서 위에 다른 뿌요들이 있다면, 역시 중력의 영향을 받아 차례대로 아래로 떨어지게 된다.  \n",
    "  \n",
    "아래로 떨어지고 나서 다시 같은 색의 뿌요들이 4개 이상 모이게 되면 또 터지게 되는데,  \n",
    "터진 후 뿌요들이 내려오고 다시 터짐을 반복할 때마다 1연쇄씩 늘어난다.  \n",
    "  \n",
    "터질 수 있는 뿌요가 여러 그룹이 있다면 동시에 터져야 하고 여러 그룹이 터지더라도 한번의 연쇄가 추가된다.  \n",
    "  \n",
    "남규는 최근 뿌요뿌요 게임에 푹 빠졌다. 이 게임은 1:1로 붙는 대전게임이라 잘 쌓는 것도 중요하지만,  \n",
    "상대방이 터뜨린다면 연쇄가 몇 번이 될지 바로 파악할 수 있는 능력도 필요하다.  \n",
    "하지만 아직 실력이 부족하여 남규는 자기 필드에만 신경 쓰기 바쁘다. 상대방의 필드가 주어졌을 때,  \n",
    "연쇄가 몇 번 연속으로 일어날지 계산하여 남규를 도와주자!  \n",
    "  \n",
    "#### 입력\n",
    "12*6의 문자가 주어진다.  \n",
    "  \n",
    "이때 .은 빈공간이고 .이 아닌것은 각각의 색깔의 뿌요를 나타낸다.  \n",
    "  \n",
    "R은 빨강, G는 초록, B는 파랑, P는 보라, Y는 노랑이다.(모두 대문자로 주어진다.)  \n",
    "  \n",
    "입력으로 주어지는 필드는 뿌요들이 전부 아래로 떨어진 뒤의 상태(즉 뿌요 아래에 빈 칸이 있는 경우는 없음) 이다.  \n",
    "  \n",
    "#### 출력\n",
    "현재 주어진 상황에서 몇연쇄가 되는지 출력하라. (하나도 터지지 않는다면 0을 출력하면 된다.)"
   ]
  },
  {
   "cell_type": "markdown",
   "metadata": {},
   "source": [
    "### ------------------------------------------------------------------------------"
   ]
  },
  {
   "cell_type": "markdown",
   "metadata": {},
   "source": [
    "이번 turn에 터질 애들 한번에 저장해서 같이 터트리고, 나머지 떨어뜨리기.  \n",
    "얘도 컬럼을 하나씩 저장해서 빈공간을 당겨야하나??  \n",
    "\n",
    "1. 일단 bfs로 4개 이상 연속된 뿌요 찾기.  \n",
    "2. 1에서 찾은 애들의 무리를 저장해서 한번에 터트려주기.  \n",
    "3. 남은 뿌요 아래로 떨어뜨리기.  \n",
    "4. 1-2-3 반복해서 몇연쇄되는지 출력.."
   ]
  },
  {
   "cell_type": "code",
   "execution_count": null,
   "metadata": {
    "collapsed": true
   },
   "outputs": [],
   "source": [
    "from collections import deque\n",
    "\n",
    "state = [list(input()) for _ in range(12)]  # 입력  .:빈공간 / RGBPY:뿌요 색깔. list로 저장해주기.\n",
    "\n",
    "# 4개 이상인 애를 찾아서, 터트리고 return True. 재귀 말고 While문으로 반복해서 돌리자.\n",
    "def check():\n",
    "    visit = [[False] * 6 for _ in range(12)]  # 방문체크..\n",
    "    chain = False\n",
    "    for y in range(12):\n",
    "        for x in range(6):\n",
    "            if not visit[y][x] and state[y][x] != '.':  # 방문하지 않았고 뿌요가 있다면.\n",
    "                color = state[y][x]  # 현재뿌요 색깔!\n",
    "                visit[y][x] = True\n",
    "                q = deque()  # bfs돌기..\n",
    "                q.append((x, y))\n",
    "                puyos = [(x, y)]\n",
    "                while q:\n",
    "                    cx, cy = q.popleft()\n",
    "                    if cx > 0 and not visit[cy][cx - 1] and state[cy][cx - 1] == color:\n",
    "                        visit[cy][cx - 1] = True\n",
    "                        puyos.append((cx - 1, cy))\n",
    "                        q.append((cx - 1, cy))\n",
    "                    if cx < 5 and not visit[cy][cx + 1] and state[cy][cx + 1] == color:\n",
    "                        visit[cy][cx + 1] = True\n",
    "                        puyos.append((cx + 1, cy))\n",
    "                        q.append((cx + 1, cy))\n",
    "                    if cy > 0 and not visit[cy - 1][cx] and state[cy - 1][cx] == color:\n",
    "                        visit[cy - 1][cx] = True\n",
    "                        puyos.append((cx, cy - 1))\n",
    "                        q.append((cx, cy - 1))\n",
    "                    if cy < 11 and not visit[cy + 1][cx] and state[cy + 1][cx] == color:\n",
    "                        visit[cy + 1][cx] = True\n",
    "                        puyos.append((cx, cy + 1))\n",
    "                        q.append((cx, cy + 1))\n",
    "                if len(puyos) > 3:  # 4개 이상이 붙어있으면 터뜨리기.\n",
    "                    chain = True\n",
    "                    for x, y in puyos:\n",
    "                        state[y][x] = '.'\n",
    "\n",
    "    if chain:\n",
    "        return True\n",
    "    else:\n",
    "        return False\n",
    "# 뿌요 밑에 빈 공간이 생기면, 거기로 떨어뜨려주기.\n",
    "def nextState():\n",
    "    for x in range(6):\n",
    "        is_empty = False  # 빈 공간이 있나..\n",
    "        std_idx = 11  # 위에 있는 뿌요가 떨어질 index. 맨 밑칸.. 11\n",
    "        for y in range(11, -1, -1):  # column별로 밑에서부터 검사..\n",
    "            if not is_empty and state[y][x] == '.':\n",
    "                is_empty = True\n",
    "                std_idx = y  # 위에 있는 뿌요가 여기로 떨어짐..\n",
    "            if is_empty and state[y][x] != '.':  # 위에 뿌요가 떨어짐..\n",
    "                state[std_idx][x], state[y][x] = state[y][x], '.'  # 떨어뜨려주고\n",
    "                std_idx -= 1  # 다음 떨어질 애는 그 위칸..\n",
    "\n",
    "\n",
    "chain = 0  # 몇연쇄인지..\n",
    "while check():  # 4개이상 붙은 뿌요가 있는동안. 터트리고\n",
    "    nextState()  # 떨어뜨리기..\n",
    "    for y in range(12):\n",
    "        print(''.join(state[y]))\n",
    "    print('\\n\\n')\n",
    "    chain += 1\n",
    "\n",
    "print(chain)"
   ]
  },
  {
   "cell_type": "markdown",
   "metadata": {},
   "source": [
    "## 3. 10026 적록색약"
   ]
  },
  {
   "cell_type": "markdown",
   "metadata": {},
   "source": [
    "#### 문제\n",
    "적록색약은 빨간색과 초록색의 차이를 거의 느끼지 못한다. 따라서, 적록색약인 사람이 보는 그림은 아닌 사람이 보는 그림과는 좀 다를 수 있다.  \n",
    "  \n",
    "크기가 N×N인 그리드의 각 칸에 R(빨강), G(초록), B(파랑) 중 하나를 색칠한 그림이 있다.  \n",
    "그림은 몇 개의 구역으로 나뉘어져 있는데, 구역은 같은 색으로 이루어져 있다.  \n",
    "또, 같은 색상이 상하좌우로 인접해 있는 경우에 두 글자는 같은 구역에 속한다.  \n",
    "(색상의 차이를 거의 느끼지 못하는 경우도 같은 색상이라 한다)  \n",
    "  \n",
    "예를 들어, 그림이 아래와 같은 경우에  \n",
    "  \n",
    "RRRBB  \n",
    "GGBBB  \n",
    "BBBRR  \n",
    "BBRRR  \n",
    "RRRRR  \n",
    "적록색약이 아닌 사람이 봤을 때 구역의 수는 총 4개이다. (빨강 2, 파랑 1, 초록 1)  \n",
    "하지만, 적록색약인 사람은 구역을 3개 볼 수 있다. (빨강-초록 2, 파랑 1)  \n",
    "  \n",
    "그림이 입력으로 주어졌을 때, 적록색약인 사람이 봤을 때와 아닌 사람이 봤을 때 구역의 수를 구하는 프로그램을 작성하시오.  \n",
    "  \n",
    "#### 입력\n",
    "첫째 줄에 N이 주어진다. (1 ≤ N ≤ 100)  \n",
    "  \n",
    "둘째 줄부터 N개 줄에는 그림이 주어진다.  \n",
    "  \n",
    "#### 출력\n",
    "적록색약이 아닌 사람이 봤을 때의 구역의 개수와 적록색약인 사람이 봤을 때의 구역의 수를 공백으로 구분해 출력한다.  "
   ]
  },
  {
   "cell_type": "markdown",
   "metadata": {},
   "source": [
    "### ------------------------------------------------------------------------------"
   ]
  },
  {
   "cell_type": "markdown",
   "metadata": {},
   "source": [
    "그냥, 적록색약 2 개 나눠서.. "
   ]
  },
  {
   "cell_type": "code",
   "execution_count": null,
   "metadata": {
    "collapsed": true
   },
   "outputs": [],
   "source": [
    "# import sys\n",
    "# input = sys.stdin.readline\n",
    "from collections import deque\n",
    "N = int(input())\n",
    "v1 = [[False] * N for _ in range(N)]   # 일반 방문체크\n",
    "v2 = [[False] * N for _ in range(N)]   # 적록색약 방문체크\n",
    "paint = [input().rstrip() for _ in range(N)]\n",
    "\n",
    "diff = ((0,1),(0,-1),(1,0),(-1,0))\n",
    "a1 = a2 = 0  # 일반, 색약 구역의 수.\n",
    "for y in range(N):\n",
    "    for x in range(N):\n",
    "        if not v1[y][x]:\n",
    "            v1[y][x] = True\n",
    "            color = paint[y][x]\n",
    "            q = deque()\n",
    "            q.append((x,y))\n",
    "            while q:\n",
    "                cx, cy = q.popleft()\n",
    "                for dx, dy in diff:\n",
    "                    nx, ny = cx+dx, cy+dy\n",
    "                    if nx>=0 and ny>=0 and nx<N and ny<N and not v1[ny][nx] and paint[ny][nx]==color:\n",
    "                        q.append((nx,ny))\n",
    "                        v1[ny][nx] = True\n",
    "            a1 += 1\n",
    "        if not v2[y][x]:\n",
    "            v2[y][x] = True\n",
    "            color = paint[y][x]\n",
    "            if color == 'G':   # RG를 같게..\n",
    "                color = 'R'\n",
    "            q = deque()\n",
    "            q.append((x,y))\n",
    "            while q:\n",
    "                cx, cy = q.popleft()\n",
    "                for dx, dy in diff:\n",
    "                    nx, ny = cx+dx, cy+dy\n",
    "                    if nx>=0 and ny>=0 and nx<N and ny<N and not v2[ny][nx]:\n",
    "                        if color == 'R' and paint[ny][nx]!='B':\n",
    "                            q.append((nx,ny))\n",
    "                            v2[ny][nx] = True\n",
    "                        elif color =='B' and paint[ny][nx] == 'B':\n",
    "                            q.append((nx,ny))\n",
    "                            v2[ny][nx] = True\n",
    "            a2 += 1\n",
    "print(a1, a2)\n",
    "                        \n",
    "#                 if cx>0 and not v1[cy][cx-1] and cc == paint[cy][cx-1]:\n",
    "#                     q.append((cx-1,cy))\n",
    "#                     v1[cy][cx-1] = True\n",
    "#                 if cx<N-1 and not v1[cy][cx+1]:\n",
    "#                     q.append((cx+1,cy))\n",
    "#                     v1[cy][cx+1] = True\n",
    "#                 if cy>0 and not v1[cy-1][cx]:\n",
    "#                     q.append((cx,cy-1))\n",
    "#                     v1[cy-1][cx] = True\n",
    "#                 if cy<N-1 and not v1[cy+1][cx]:\n",
    "#                     q.append((cx,cy+1))\n",
    "#                     v1[cy+1][cx] = True"
   ]
  },
  {
   "cell_type": "markdown",
   "metadata": {},
   "source": [
    "조금 느리다. 일단 일반으로 한번 하고, 그 결과를 이용해서 적록색약의 경우 간단하게 할 수 잇을까?  \n",
    "느린거는 방향 순회를 if문 4개로 나눠서 하면 훨씬 빨라질듯"
   ]
  },
  {
   "cell_type": "markdown",
   "metadata": {},
   "source": [
    "## 4. 1005 ACM Craft"
   ]
  },
  {
   "cell_type": "markdown",
   "metadata": {},
   "source": [
    "#### 문제\n",
    "서기 2012년! 드디어 2년간 수많은 국민들을 기다리게 한 게임 ACM Craft (Association of Construction Manager Craft)가 발매되었다.  \n",
    "  \n",
    "이 게임은 지금까지 나온 게임들과는 다르게 ACM크래프트는 다이나믹한 게임 진행을 위해 건물을 짓는 순서가 정해져 있지 않다.  \n",
    "즉, 첫 번째 게임과 두 번째 게임이 건물을 짓는 순서가 다를 수도 있다. 매 게임시작 시 건물을 짓는 순서가 주어진다.  \n",
    "또한 모든 건물은 각각 건설을 시작하여 완성이 될 때까지 Delay가 존재한다.  \n",
    "\n",
    "<img src=\"https://www.acmicpc.net/upload/201003/star.JPG\"> \n",
    "  \n",
    "위의 예시를 보자.  \n",
    "  \n",
    "이번 게임에서는 다음과 같이 건설 순서 규칙이 주어졌다.  \n",
    "1번 건물의 건설이 완료된다면 2번과 3번의 건설을 시작할수 있다. (동시에 진행이 가능하다)  \n",
    "그리고 4번 건물을 짓기 위해서는 2번과 3번 건물이 모두 건설 완료되어야지만 4번건물의 건설을 시작할수 있다.  \n",
    "  \n",
    "따라서 4번건물의 건설을 완료하기 위해서는 우선 처음 1번 건물을 건설하는데 10초가 소요된다.  \n",
    "그리고 2번 건물과 3번 건물을 동시에 건설하기 시작하면 2번은 1초뒤에 건설이 완료되지만 아직 3번 건물이 완료되지 않았으므로 4번 건물을 건설할 수 없다.  \n",
    "3번 건물이 완성되고 나면 그때 4번 건물을 지을수 있으므로 4번 건물이 완성되기까지는 총 120초가 소요된다.  \n",
    "  \n",
    "프로게이머 최백준은 애인과의 데이트 비용을 마련하기 위해 서강대학교배 ACM크래프트 대회에 참가했다!  \n",
    "최백준은 화려한 컨트롤 실력을 가지고 있기 때문에 모든 경기에서 특정 건물만 짓는다면 무조건 게임에서 이길 수 있다.  \n",
    "그러나 매 게임마다 특정건물을 짓기 위한 순서가 달라지므로 최백준은 좌절하고 있었다.  \n",
    "백준이를 위해 특정건물을 가장 빨리 지을 때까지 걸리는 최소시간을 알아내는 프로그램을 작성해주자.  \n",
    "  \n",
    "#### 입력\n",
    "첫째 줄에는 테스트케이스의 개수 T가 주어진다. 각 테스트 케이스는 다음과 같이 주어진다.  \n",
    "첫째 줄에 건물의 개수 N 과 건물간의 건설순서규칙의 총 개수 K이 주어진다. (건물의 번호는 1번부터 N번까지 존재한다)   \n",
    "    \n",
    "둘째 줄에는 각 건물당 건설에 걸리는 시간 D가 공백을 사이로 주어진다.  \n",
    "셋째 줄부터 K+2줄까지 건설순서 X Y가 주어진다. (이는 건물 X를 지은 다음에 건물 Y를 짓는 것이 가능하다는 의미이다)   \n",
    "  \n",
    "마지막 줄에는 백준이가 승리하기 위해 건설해야 할 건물의 번호 W가 주어진다.  \n",
    "(1 ≤ N ≤ 1000, 1 ≤ K ≤ 100000 , 1≤ X,Y,W ≤ N, 0 ≤ D ≤ 100000)  \n",
    "  \n",
    "#### 출력\n",
    "건물 W를 건설완료 하는데 드는 최소 시간을 출력한다. 편의상 건물을 짓는 명령을 내리는 데는 시간이 소요되지 않는다고 가정한다.  \n",
    "  \n",
    "모든 건물을 지을 수 없는 경우는 없다.  "
   ]
  },
  {
   "cell_type": "markdown",
   "metadata": {},
   "source": [
    "### ------------------------------------------------------------------------------"
   ]
  },
  {
   "cell_type": "markdown",
   "metadata": {},
   "source": [
    "시간 늘려가면서 보는건 시간초과날거같은데..  \n",
    "재귀로 풀자..  \n",
    "i번째 건물을 짓는데 완료된 시간 = max(i번째건물짓기전에 필요한 건물들의 완료시간) + i번째 건물 짓는데 걸리는 시간  \n",
    "memoization 이용."
   ]
  },
  {
   "cell_type": "code",
   "execution_count": null,
   "metadata": {
    "collapsed": true
   },
   "outputs": [],
   "source": [
    "# import sys\n",
    "# input = sys.stdin.readline\n",
    "# 어떤 건물이 완성되는 시간.\n",
    "def find(building):\n",
    "    if building == 1\n",
    "        return time[1]\n",
    "    return max([find(need) for need in rules[building]]) + time[building]  \n",
    "    \n",
    "# 각 케이스마다\n",
    "for _ in range(int(input())):\n",
    "    \n",
    "    ###### input ######\n",
    "    N, K = map(int, input().split())                   # 건물개수, 규칙개수\n",
    "    time = [0] + list(map(int, input().split()))       # 각 건물의 건설시간\n",
    "    rules = {i:[] for i in range(1,N+1)}               # 각 건물을 짓기 위해 무슨 건물들이 필요한지 저장.\n",
    "    rules[1].append(0)                                 # 1번 건물을 짓기 위해 0번 건물이 필요하다고 생각.\n",
    "    built = [True]+[False]*(N)                         # 위에 이어서.. 0번건물은 이미 지어졌다고 생각.\n",
    "    for _ in range(K):\n",
    "        x, y = map(int, input().split())\n",
    "        rules[y].append(x)                             # 건물 y를 짓기위해 x가 필요..\n",
    "    W = int(input())                                   # 지어야 할 건물 번호..\n",
    "    ##################\n",
    "    \n",
    "    print(find(W))                                     # 지어야 할 건물 W가 완성되는데 필요한 시간!"
   ]
  },
  {
   "cell_type": "markdown",
   "metadata": {},
   "source": [
    "일단 예제는 나오긴 하는데.. 메모아이제이션 하자.. 안해도 되려나? 런타임 에러인데??? 재귀초관가?  \n",
    "하..왜그래 ㅠㅠ 근데 문제분류에 위상정렬이라는데 위상정렬은 뭘까.. "
   ]
  },
  {
   "cell_type": "code",
   "execution_count": null,
   "metadata": {
    "collapsed": true
   },
   "outputs": [],
   "source": [
    "# Memoization 이용!\n",
    "# import sys\n",
    "# sys.setrecursionlimit(10**6)\n",
    "# input = sys.stdin.readline\n",
    "# 어떤 건물이 완성되는 시간. memoization 이용!\n",
    "def find(building):\n",
    "    if building not in memo:\n",
    "        memo[building] = max([find(need) for need in rules[building]]) + time[building]\n",
    "    return memo[building]\n",
    "\n",
    "# 각 케이스마다\n",
    "for _ in range(int(input())):\n",
    "    N, K = map(int, input().split())  # 건물개수, 규칙개수\n",
    "    time = [0] + list(map(int, input().split()))  # 각 건물의 건설시간\n",
    "    rules = {i: [] for i in range(1, N + 1)}  # 각 건물을 짓기 위해 무슨 건물들이 필요한지 저장.\n",
    "#     rules[1].append(0)  # 1번 건물을 짓기 위해 0번 건물이 필요하다고 생각 이거 필요없음.\n",
    "    for _ in range(K):\n",
    "        x, y = map(int, input().split())\n",
    "        rules[y].append(x)  # 건물 y를 짓기위해 x가 필요..\n",
    "    W = int(input())  # 지어야 할 건물 번호..\n",
    "    memo = {1:time[1]}\n",
    "    print(find(W))  # 지어야 할 건물 W가 완성되는데 필요한 시간!"
   ]
  },
  {
   "cell_type": "markdown",
   "metadata": {},
   "source": [
    "왜 런타임에러냐... 1번 건물을 무조건 젤 먼저 짓는게 아닌가보다....ㅎㅎㅎㅎ  \n",
    "그러네..."
   ]
  },
  {
   "cell_type": "code",
   "execution_count": null,
   "metadata": {
    "collapsed": true
   },
   "outputs": [],
   "source": [
    "import sys\n",
    "sys.setrecursionlimit(10**6)\n",
    "# input = sys.stdin.readline\n",
    "# 어떤 건물이 완성되는 시간.\n",
    "def find(building):\n",
    "    if not rules[building]:\n",
    "        memo[building] = time[building]\n",
    "        return time[building]\n",
    "    if building not in memo:\n",
    "        memo[building] = max([find(need) for need in rules[building]]) + time[building]\n",
    "    return memo[building]\n",
    "\n",
    "# 각 케이스마다\n",
    "for _ in range(int(input())):\n",
    "    N, K = map(int, input().split())  # 건물개수, 규칙개수\n",
    "    time = [0] + list(map(int, input().split()))  # 각 건물의 건설시간\n",
    "    rules = {i: [] for i in range(1, N + 1)}  # 각 건물을 짓기 위해 무슨 건물들이 필요한지 저장.\n",
    "    for _ in range(K):\n",
    "        x, y = map(int, input().split())\n",
    "        rules[y].append(x)  # 건물 y를 짓기위해 x가 필요..\n",
    "    W = int(input())  # 지어야 할 건물 번호..\n",
    "    print('rules: ', rules)\n",
    "    memo = {}\n",
    "    print(find(W))  # 지어야 할 건물 W가 완성되는데 필요한 시간!\n",
    "    print('memo: ', memo)"
   ]
  },
  {
   "cell_type": "markdown",
   "metadata": {},
   "source": [
    "드디어 됐다... 1132ms. sys.setrecursionlimit(10\\**6)이거 꼭 해줘야되네"
   ]
  },
  {
   "cell_type": "markdown",
   "metadata": {},
   "source": [
    "어떻게 하면 좀 더 빠르게 할 수 있을까?? 재귀 말고 풀어써서?? for문으로는 못바꾸나??"
   ]
  },
  {
   "cell_type": "code",
   "execution_count": null,
   "metadata": {
    "collapsed": true
   },
   "outputs": [],
   "source": [
    "# 백준 이사람 멋있네.. 한글코딩  DP. output을 따로 저장해서 나중에 출력했네..\n",
    "import sys\n",
    "sys.setrecursionlimit(10**5)\n",
    "T = int(input())\n",
    "output = []\n",
    "def 탐색(index):\n",
    "    max = 0\n",
    "    for i in range(len(그래프[index])):\n",
    "        다음인덱스 = 그래프[index][i] - 1\n",
    "        if DP[다음인덱스] == -1:\n",
    "            DP[다음인덱스] = 탐색(다음인덱스)\n",
    "        if DP[다음인덱스] > max:\n",
    "            max = DP[다음인덱스]\n",
    "    DP[index] = max + int(N[index])\n",
    "    return DP[index]\n",
    "\n",
    "for i in range(T):\n",
    "    N, K = map(int, sys.stdin.readline().split())\n",
    "    N = sys.stdin.readline().split()\n",
    "    그래프 = []\n",
    "    DP = []\n",
    "    for j in range(1000):\n",
    "        그래프.append([])\n",
    "        DP.append(-1)\n",
    "    for j in range(K):\n",
    "        순서규칙 = sys.stdin.readline().split()\n",
    "        그래프[int(순서규칙[1])-1].append(int(순서규칙[0]))\n",
    "    W = int(sys.stdin.readline())\n",
    "    output.append(탐색(W-1))\n",
    "\n",
    "\n",
    "for i in range(len(output)):\n",
    "    print(output[i])"
   ]
  },
  {
   "cell_type": "code",
   "execution_count": null,
   "metadata": {
    "collapsed": true
   },
   "outputs": [],
   "source": [
    "# 또 다른거\n",
    "import sys\n",
    "read = sys.stdin.readline\n",
    "sys.setrecursionlimit(100000)\n",
    "\n",
    "def p(n):\n",
    "    if mem[n]!=-1:\n",
    "        return mem[n]\n",
    "    T=0\n",
    "    for a in o[n]:\n",
    "        tmp=p(a)\n",
    "        if tmp>T:\n",
    "            T=tmp\n",
    "    mem[n]=T+d[n]\n",
    "    return mem[n]\n",
    "    \n",
    "t = int(read())\n",
    "for _ in range(t):\n",
    "    n, k = map(int, read().split())\n",
    "    d = [0] + list(map(int, read().split()))\n",
    "    o = [[] for __ in range(n+1)]\n",
    "    for ___ in range(k):\n",
    "        a, b = map(int, read().split())\n",
    "        o[b] += [a]\n",
    "    mem=[-1]*(n+1)\n",
    "    print(p(int(read())))"
   ]
  }
 ],
 "metadata": {
  "kernelspec": {
   "display_name": "Python 3",
   "language": "python",
   "name": "python3"
  },
  "language_info": {
   "codemirror_mode": {
    "name": "ipython",
    "version": 3
   },
   "file_extension": ".py",
   "mimetype": "text/x-python",
   "name": "python",
   "nbconvert_exporter": "python",
   "pygments_lexer": "ipython3",
   "version": "3.6.3"
  }
 },
 "nbformat": 4,
 "nbformat_minor": 2
}
