{
 "cells": [
  {
   "cell_type": "markdown",
   "metadata": {},
   "source": [
    "## 1. 돈 출금"
   ]
  },
  {
   "cell_type": "markdown",
   "metadata": {},
   "source": [
    "#### 문제 설명\n",
    "계좌에 들어있는 돈 일부를 은행에서 출금하고자 합니다. 돈 담을 지갑이 최대한 가볍도록 큰 금액의 화폐 위주로 받습니다.  \n",
    "  \n",
    "돈의 액수 money가 매개변수로 주어질 때, 오만 원권, 만 원권, 오천 원권, 천 원권, 오백원 동전, 백원 동전, 오십원 동전, 십원 동전, 일원 동전 각 몇 개로 변환되는지 금액이 큰 순서대로 배열에 담아 return 하도록 solution 메서드를 완성해주세요.  \n",
    "  \n",
    "#### 제한사항\n",
    "money는 1 이상 1,000,000 이하인 자연수입니다.  \n",
    "  \n",
    "#### 입출력 예\n",
    "    money\tresult \n",
    "    50237\t[1, 0, 0, 0, 0, 2, 0, 3, 7]\n",
    "    15000\t[0, 1, 1, 0, 0, 0, 0, 0, 0]\n",
    "  \n",
    "#### 입출력 예 설명\n",
    "입출력 예 #1  \n",
    "50,237원은 5만 원권 1매, 100원짜리 동전 2개, 10원짜리 동전 3개, 1원짜리 동전 7개로 만들 수 있습니다.  \n",
    "  \n",
    "입출력 예 #2  \n",
    "15,000원은 만 원권 1매, 5천 원권 1매로 만들 수 있습니다.  "
   ]
  },
  {
   "cell_type": "markdown",
   "metadata": {},
   "source": [
    "### ------------------------------------------------------------------------------"
   ]
  },
  {
   "cell_type": "markdown",
   "metadata": {},
   "source": [
    "5만, 만, 오천, 천, 오백, 백, 오십, 십, 일 9개."
   ]
  },
  {
   "cell_type": "code",
   "execution_count": null,
   "metadata": {
    "collapsed": true
   },
   "outputs": [],
   "source": [
    "def solution(money):\n",
    "    cases = [50000, 10000, 5000, 1000, 500, 100, 50, 10, 1]\n",
    "    answer = [0]*9\n",
    "    for i in range(9):\n",
    "        n = money//cases[i]\n",
    "        answer[i] = n\n",
    "        money -= cases[i]*n\n",
    "    return answer"
   ]
  },
  {
   "cell_type": "markdown",
   "metadata": {},
   "source": [
    "## 2. 토지분양"
   ]
  },
  {
   "cell_type": "markdown",
   "metadata": {},
   "source": [
    "#### 문제 설명\n",
    "물 좋고 공기 좋은 강원도 양양의 한 개발자 마을 토지를 분양받고자 합니다.  \n",
    "토지는 직사각형 형태로 분양받을 수 있으며, x축(수평 방향)과 y축(수직 방향)에 의해 만들어지는 2차원 평면에서  \n",
    "두 점 P1(x1, y1)과 P2(x2, y2)로 표현할 수 있습니다. 마을 곳곳에는 식수원이 존재하여,  \n",
    "이미 분양된 토지와 겹치지 않으며 식수원 일부를 포함한 토지를 분양받고자 합니다.  \n",
    "    \n",
    "<img src=\"https://grepp-programmers.s3.amazonaws.com/files/production/e4a0bcfa53/2cbca6d6-4f46-4389-aa3e-d0e207da5652.png\" width=\"600\">\n",
    "  \n",
    "위의 예에서 이미 분양된 토지와 겹치지 않으며 식수원을 포함하고 있으므로 분양 가능합니다.  \n",
    "  \n",
    "이미 분양된 토지별 위치를 담은 이차원 배열 lands와 식수원별 위치를 담은 이차원 배열 wells,  \n",
    "분양받고자 하는 토지의 위치를 담은 배열 point가 매개변수로 주어질 때,  \n",
    "토지분양이 가능한지 판별하여 return 하도록 solution 메서드를 완성해주세요.  \n",
    "  \n",
    "#### 제한사항\n",
    "lands와 wells의 길이는 1 이상 10,000 이하입니다.  \n",
    "lands와 wells의 원소(토지와 식수원의 위치)는 [x1, y1, x2, y2]로 들어있습니다.  \n",
    "point의 길이는 4입니다.  \n",
    "point에는 점이 [x1, y1, x2, y2]로 들어있습니다.  \n",
    "x 좌표와 y 좌표는 0 이상 1,000,000 이하인 정수입니다.  \n",
    "  \n",
    "#### 입출력 예\n",
    "                          lands\t                                             wells\t                      point\t      result\n",
    "    [ [10, 0, 30, 5], [0, 30, 20, 50], [30, 30, 40, 40] ]\t[ [15, 15, 25, 25], [40, 10, 50, 20] ]\t[10, 10, 30, 30]\ttrue\n",
    "    [ [0, 0, 20, 10], [10, 20, 20, 40], [30, 0, 50, 20] ]\t[ [20, 40, 30, 50], [30, 20, 50, 30] ]\t[20, 30, 30, 40]\tfalse\n",
    "  \n",
    "#### 입출력 예 설명\n",
    "입출력 예 #1  \n",
    "문제의 예시와 같습니다.  \n",
    "  \n",
    "입출력 예 #2  \n",
    "이미 분양된 토지와 겹치지 않지만 식수원 일부를 포함하고 있지 않아 분양받을 수 없습니다.  "
   ]
  },
  {
   "cell_type": "markdown",
   "metadata": {},
   "source": [
    "### ------------------------------------------------------------------------------"
   ]
  },
  {
   "cell_type": "markdown",
   "metadata": {},
   "source": [
    "lands: 이미 분양된 토지    \n",
    "wells: 식수원들의 위치..    \n",
    "point: 분양받고자 하는 토지.    \n",
    "분양 가능한지 여부??  이미 분양된 토지와 겹치지 않으면서 식수원 일부를 포함.\n",
    "  \n",
    "**(x,y)를 왼쪽 위로 하는 정사각형 한칸씩 분양된 토지정보에 포함시키고,  \n",
    "마찬가지로 식수원 정보를 저장. 분양받고자 하는 토지가 분양된 부분은 안포함하고, 식수원 정보를 포함하면 True return.**"
   ]
  },
  {
   "cell_type": "code",
   "execution_count": null,
   "metadata": {
    "collapsed": true
   },
   "outputs": [],
   "source": [
    "def solution(lands, wells, point):\n",
    "    set_lands = set()\n",
    "    for x1, y1, x2, y2 in lands:\n",
    "        for y in range(y1,y2):\n",
    "            for x in range(x1,x2):\n",
    "                set_lands.add((x,y))\n",
    "    \n",
    "#     set_lands = {(x,y) for x1,y1,x2,y2 in lands for x in range(x1,x2) for y in range(y1,y2)}\n",
    "    \n",
    "    set_wells = set()\n",
    "    for x1, y1, x2, y2 in wells:\n",
    "        for y in range(y1,y2):\n",
    "            for x in range(x1,x2):\n",
    "                set_wells.add((x,y))\n",
    "    \n",
    "    x1, y1, x2, y2 = point\n",
    "    well = False\n",
    "    for y in range(y1,y2):\n",
    "        for x in range(x1,x2):\n",
    "            if (x,y) in set_lands:\n",
    "                return False\n",
    "            if (x,y) in set_wells:\n",
    "                well = True\n",
    "    return True if well else False"
   ]
  },
  {
   "cell_type": "code",
   "execution_count": 43,
   "metadata": {},
   "outputs": [
    {
     "data": {
      "text/plain": [
       "True"
      ]
     },
     "execution_count": 43,
     "metadata": {},
     "output_type": "execute_result"
    }
   ],
   "source": [
    "lands = [[10, 0, 30, 5], [0, 30, 20, 50], [30, 30, 40, 40]]\n",
    "set_lands1 = set()\n",
    "for x1, y1, x2, y2 in lands:\n",
    "    for y in range(y1,y2):\n",
    "        for x in range(x1,x2):\n",
    "            set_lands1.add((x,y))\n",
    "            \n",
    "set_lands2 = {(x,y) for x1,y1,x2,y2 in lands for x in range(x1,x2) for y in range(y1,y2)}    \n",
    "set_lands1 == set_lands2"
   ]
  },
  {
   "cell_type": "code",
   "execution_count": null,
   "metadata": {
    "collapsed": true
   },
   "outputs": [],
   "source": [
    "def solution(lands, wells, point):\n",
    "    set_lands = {(x,y) for x1,y1,x2,y2 in lands for x in range(x1,x2) for y in range(y1,y2)}\n",
    "    set_wells = {(x,y) for x1,y1,x2,y2 in wells for x in range(x1,x2) for y in range(y1,y2)}\n",
    "    x1, y1, x2, y2 = point\n",
    "    well = False\n",
    "    for y in range(y1,y2):\n",
    "        for x in range(x1,x2):\n",
    "            if (x,y) in set_lands:\n",
    "                return False\n",
    "            if (x,y) in set_wells:\n",
    "                well = True\n",
    "    return True if well else False"
   ]
  },
  {
   "cell_type": "markdown",
   "metadata": {},
   "source": [
    "## 3. 청개구리"
   ]
  },
  {
   "cell_type": "markdown",
   "metadata": {},
   "source": [
    "#### 문제 설명\n",
    "어느 연못에 엄마 말씀을 좀처럼 듣지 않는 청개구리가 살고 있었습니다. 청개구리는 엄마가 하는 말은 무엇이든 반대로 말하였습니다.  \n",
    "  \n",
    "엄마 말씀 word가 매개변수로 주어질 때, 아래 청개구리 사전을 참고해 반대로 변환하여 return 하도록 solution 메서드를 완성해주세요.  \n",
    "  \n",
    "A\tB\tC\tD\tE\tF\tG\tH\tI\tJ\tK\tL\tM\tN\tO\tP\tQ\tR\tS\tT\tU\tV\tW\tX\tY\tZ  \n",
    "Z\tY\tX\tW\tV\tU\tT\tS\tR\tQ\tP\tO\tN\tM\tL\tK\tJ\tI\tH\tG\tF\tE\tD\tC\tB\tA  \n",
    "  \n",
    "#### 제한사항\n",
    "word는 길이가 1 이상 1,000 이하인 문자열입니다.  \n",
    "알파벳 외의 문자는 변환하지 않습니다.  \n",
    "알파벳 대문자는 알파벳 대문자로, 알파벳 소문자는 알파벳 소문자로 변환합니다.  \n",
    "  \n",
    "#### 입출력 예  \n",
    "    word\t      result\n",
    "    I love you\tR olev blf\n",
    "  \n",
    "#### 입출력 예 설명\n",
    "입출력 예 #1  \n",
    "  \n",
    "'I'는 알파벳 대문자이므로 'R'로 변환할 수 있습니다.  \n",
    "공백(스페이스 바)은 알파벳 외의 문자이므로 변환하지 않습니다.  \n",
    "'l'은 알파벳 소문자이므로 'o'로 변환할 수 있습니다.  \n",
    "'o'은 알파벳 소문자이므로 'l'로 변환할 수 있습니다.  \n",
    "'v'은 알파벳 소문자이므로 'e'로 변환할 수 있습니다.  \n",
    "'e'은 알파벳 소문자이므로 'v'로 변환할 수 있습니다.  \n",
    "공백(스페이스 바)은 알파벳 외의 문자이므로 변환하지 않습니다.  \n",
    "'y'은 알파벳 소문자이므로 'b'로 변환할 수 있습니다.  \n",
    "'o'은 알파벳 소문자이므로 'l'로 변환할 수 있습니다.  \n",
    "'u'은 알파벳 소문자이므로 'f'로 변환할 수 있습니다.   "
   ]
  },
  {
   "cell_type": "markdown",
   "metadata": {},
   "source": [
    "### ------------------------------------------------------------------------------"
   ]
  },
  {
   "cell_type": "code",
   "execution_count": 12,
   "metadata": {},
   "outputs": [
    {
     "data": {
      "text/plain": [
       "'R olev blf'"
      ]
     },
     "execution_count": 12,
     "metadata": {},
     "output_type": "execute_result"
    }
   ],
   "source": [
    "def solution(word):\n",
    "    dic = {}\n",
    "    alpha = \"ABCDEFGHIJKLMNOPQRSTUVWXYZ\"\n",
    "    frog = ''.join(\"Z Y X W V U T S R Q P O N M L K J I H G F E D C B A\".split())\n",
    "    dic = {alpha[i]:frog[i] for i in range(len(alpha))}\n",
    "    dic.update({alpha[i].lower():frog[i].lower() for i in range(len(alpha))})\n",
    "    return ''.join([i in dic and dic[i] or i for i in word])"
   ]
  },
  {
   "cell_type": "code",
   "execution_count": 39,
   "metadata": {
    "collapsed": true
   },
   "outputs": [],
   "source": [
    "def solution(word):\n",
    "    dic = {}\n",
    "    alpha = \"ABCDEFGHIJKLMNOPQRSTUVWXYZ\"\n",
    "    frog = alpha[::-1]\n",
    "    dic = {alpha[i]:frog[i] for i in range(len(alpha))}\n",
    "    dic.update({alpha[i].lower():frog[i].lower() for i in range(len(alpha))})\n",
    "    return ''.join([i in dic and dic[i] or i for i in word])"
   ]
  },
  {
   "cell_type": "markdown",
   "metadata": {},
   "source": [
    "## 4. 포비와 크롱"
   ]
  },
  {
   "cell_type": "markdown",
   "metadata": {},
   "source": [
    "#### 문제 설명\n",
    "포비와 크롱이 페이지 번호가 1부터 시작되는 400 페이지의 책을 주웠습니다.  \n",
    "책을 살펴보니 왼쪽 페이지는 홀수, 오른쪽 페이지는 짝수 번호이고 모든 페이지에는 번호가 적혀있었습니다.  \n",
    "책이 마음에 든 포비와 크롱은 페이지 번호 게임을 통해 게임에서 이긴 사람이 책을 갖기로 합니다. 페이지 번호 게임의 규칙은 아래와 같습니다.  \n",
    "  \n",
    "1. 책을 임의로 펼칩니다.  \n",
    "2. 왼쪽 페이지 번호의 각 자리 숫자를 모두 더하거나, 모두 곱해 가장 큰 수를 구합니다.  \n",
    "3. 오른쪽 페이지 번호의 각 자리 숫자를 모두 더하거나, 모두 곱해 가장 큰 수를 구합니다.  \n",
    "4. 2~3 과정에서 가장 큰 수를 본인의 점수로 합니다.  \n",
    "5. 점수를 비교해 가장 높은 사람이 게임의 승자입니다.  \n",
    "6. 시작 면이나 마지막 면이 나오도록 책을 펼치지 않습니다.  \n",
    "  \n",
    "포비와 크롱이 펼친 페이지가 들어있는 배열 pobi와 crong이 주어질 때,  \n",
    "포비가 이긴다면 1, 크롱이 이긴다면 2, 무승부는 0, 예외사항은 -1로 return 하도록 solution 메서드를 완성해주세요.  \n",
    "  \n",
    "#### 제한사항\n",
    "pobi와 crong의 길이는 2입니다.  \n",
    "pobi와 crong에는 [왼쪽 페이지 번호, 오른쪽 페이지 번호]가 순서대로 들어있습니다.  \n",
    "  \n",
    "#### 입출력 예  \n",
    "    pobi\t      crong     result\n",
    "    [97, 98]    [197, 198]     0\n",
    "    [131, 132]  [211, 212]     1\n",
    "    [99, 102]   [211, 212]    -1\n",
    "     \n",
    "#### 입출력 예 설명 \n",
    "입출력 예 #1  \n",
    "포비의 점수는 72점, 크롱의 점수도 72점이므로 무승부입니다.  \n",
    "  \n",
    "    이름\t왼쪽 페이지 각 자리 숫자의 합\t왼쪽 각 자리 숫자의 곱\t오른쪽 페이지 각 자리 숫자의 합\t오른쪽 각 자리 숫자의 곱\n",
    "    포비\t            16\t                        63                       \t 17                            72\n",
    "    크롱\t            17\t                        63\t                        18\t                        72\n",
    "    \n",
    "입출력 예 #2  \n",
    "포비의 점수는 6점, 크롱의 점수는 5점이므로 포비의 승리입니다.  \n",
    "  \n",
    "    이름\t왼쪽 페이지 각 자리 숫자의 합\t왼쪽 각 자리 숫자의 곱\t오른쪽 페이지 각 자리 숫자의 합\t오른쪽 각 자리 숫자의 곱\n",
    "    포비\t            5\t                        3                            6\t                            6\n",
    "    크롱\t            4\t                        2\t                        5\t                            4\n",
    "    \n",
    "입출력 예 #3  \n",
    "포비가 펼친 페이지의 왼쪽 페이지 번호는 99, 오른쪽 페이지 번호는 101입니다. 올바른 페이지 번호가 아니므로 예외사항에 해당됩니다.  "
   ]
  },
  {
   "cell_type": "markdown",
   "metadata": {},
   "source": [
    "### ------------------------------------------------------------------------------"
   ]
  },
  {
   "cell_type": "markdown",
   "metadata": {},
   "source": [
    "예외: 첫장이나 마지막장, 그리고 왼쪽이 홀수, 오른쪽이 짝수가 아니거나, 차이가 1보다 큰경우."
   ]
  },
  {
   "cell_type": "code",
   "execution_count": 17,
   "metadata": {},
   "outputs": [
    {
     "data": {
      "text/plain": [
       "0"
      ]
     },
     "execution_count": 17,
     "metadata": {},
     "output_type": "execute_result"
    }
   ],
   "source": [
    "def solution(pobi, crong):\n",
    "    # 예외처리 1  페이지 홀 짝.\n",
    "    if pobi[0]%2==0 or pobi[1]%2 or crong[0]%2==0 or crong[1]%2:\n",
    "        return -1\n",
    "    # 2. 시작, 끝\n",
    "    if 1 in pobi or 1 in crong or 400 in pobi or 400 in crong:\n",
    "        return -1\n",
    "    # 3. 양쪽 페이지 차이가 1 이 아닌경우\n",
    "    if pobi[1]-pobi[0]!=1 or crong[1]-crong[0]!=1:\n",
    "        return -1\n",
    "    s_p = s_c = 0 # score\n",
    "    # 일단 더한것.\n",
    "    s_p = max(sum(map(int, list(str(pobi[0])))), sum(map(int, list(str(pobi[1])))))\n",
    "    s_c = max(sum(map(int, list(str(crong[0])))), sum(map(int, list(str(crong[1])))))\n",
    "    # 그 다음 곱한것.\n",
    "    s_p = max(s_p, eval('*'.join(list(str(pobi[0])))), eval('*'.join(list(str(pobi[1])))))\n",
    "    s_c = max(s_c, eval('*'.join(list(str(crong[0])))), eval('*'.join(list(str(crong[1])))))\n",
    "    return 1 if s_p>s_c else 2 if s_p<s_c else 0\n",
    "solution([97, 98], [197, 198])"
   ]
  },
  {
   "cell_type": "code",
   "execution_count": 16,
   "metadata": {},
   "outputs": [
    {
     "data": {
      "text/plain": [
       "'1*2*3'"
      ]
     },
     "execution_count": 16,
     "metadata": {},
     "output_type": "execute_result"
    }
   ],
   "source": [
    "a = '123'\n",
    "'*'.join(list(a))"
   ]
  },
  {
   "cell_type": "markdown",
   "metadata": {},
   "source": [
    "## 5. 369게임"
   ]
  },
  {
   "cell_type": "markdown",
   "metadata": {},
   "source": [
    "#### 문제 설명\n",
    "배달이가 좋아하는 369게임(배달이는 아재입니다.)을 하고자 합니다.  \n",
    "놀이법은 1부터 숫자를 하나씩 대면서, 3, 6, 9가 들어가는 숫자는 숫자를 말하는 대신 3, 6, 9의 개수만큼 손뼉을 쳐야 합니다.  \n",
    "  \n",
    "숫자 number가 매개변수로 주어질 때, 1부터 number까지 손뼉을 몇 번 쳐야 하는지 횟수를 return 하도록 solution 메서드를 완성해주세요.  \n",
    "  \n",
    "#### 제한사항\n",
    "number는 1 이상 10,000 이하인 자연수입니다.  \n",
    "  \n",
    "#### 입출력 예\n",
    "    number\tresult\n",
    "    13\t      4\n",
    "    33\t     14\n",
    "  \n",
    "#### 입출력 예 설명\n",
    "입출력 예 #1  \n",
    "1부터 13까지 총 4번의 손뼉을 쳐야 합니다.  \n",
    "  \n",
    "    3\t 6    9    13\n",
    "    짝   짝   짝   짝\n",
    "  \n",
    "입출력 예 #2  \n",
    "1부터 33까지 총 14번의 손뼉을 쳐야 합니다.  \n",
    "  \n",
    "    3    6    9    13   16   19   23   26   29   30   31   32   33\n",
    "    짝   짝   짝   짝   짝   짝   짝   짝   짝   짝   짝   짝   짝짝"
   ]
  },
  {
   "cell_type": "markdown",
   "metadata": {},
   "source": [
    "### ------------------------------------------------------------------------------"
   ]
  },
  {
   "cell_type": "code",
   "execution_count": 21,
   "metadata": {},
   "outputs": [],
   "source": [
    "a = '123331231344123124124'"
   ]
  },
  {
   "cell_type": "code",
   "execution_count": 22,
   "metadata": {},
   "outputs": [
    {
     "data": {
      "text/plain": [
       "6"
      ]
     },
     "execution_count": 22,
     "metadata": {},
     "output_type": "execute_result"
    }
   ],
   "source": [
    "a.count('1')"
   ]
  },
  {
   "cell_type": "code",
   "execution_count": 24,
   "metadata": {},
   "outputs": [
    {
     "data": {
      "text/plain": [
       "6"
      ]
     },
     "execution_count": 24,
     "metadata": {},
     "output_type": "execute_result"
    }
   ],
   "source": [
    "sum((1,2,3))"
   ]
  },
  {
   "cell_type": "code",
   "execution_count": 23,
   "metadata": {
    "collapsed": true
   },
   "outputs": [],
   "source": [
    "def solution(number):\n",
    "    a = ''.join([str(i) for i in range(1, number+1)])\n",
    "    return sum((a.count('3'), a.count('6'), a.count('9')))"
   ]
  },
  {
   "cell_type": "code",
   "execution_count": null,
   "metadata": {
    "collapsed": true
   },
   "outputs": [],
   "source": [
    "def solution(number):\n",
    "    a = ''.join([str(i) for i in range(1, number+1)])\n",
    "    return sum([1 for i in a if i in {'3','6','9'}])\n",
    "    return sum((a.count('3'), a.count('6'), a.count('9')))"
   ]
  },
  {
   "cell_type": "code",
   "execution_count": 56,
   "metadata": {},
   "outputs": [
    {
     "data": {
      "text/plain": [
       "177063"
      ]
     },
     "execution_count": 56,
     "metadata": {},
     "output_type": "execute_result"
    }
   ],
   "source": [
    "def solution(number):\n",
    "    return sum([1 for j in ''.join([str(i) for i in range(1, number+1)]) if j in {'3','6','9'}])\n",
    "\n",
    "solution(123231)"
   ]
  },
  {
   "cell_type": "markdown",
   "metadata": {},
   "source": [
    "## 6. 티케팅"
   ]
  },
  {
   "cell_type": "markdown",
   "metadata": {},
   "source": [
    "#### 문제 설명\n",
    "성공한 덕후로서 연예 기획사에 입사를 하게 된 배달이는 첫 프로젝트로 콘서트 티켓팅을 진행하게 되었습니다.  \n",
    "기존에는 팬으로서 참여했던 티켓팅을 운영자로서 참여하게 되어서 감회가 새로운 배달이었지만  \n",
    "한편으로 팬들의 마음을 누구보다도 잘 알았기 때문에 그들의 힘듦을 최소화해주고 싶다는 책임감에 잠 못 이루었습니다.  \n",
    "결국 티켓팅 시뮬레이션을 통해 적절한 솔루션을 찾기 위해 테스트 시뮬레이션을 만들기로 하였습니다.  \n",
    "  \n",
    "총 티켓 수 totalTicket과 접속/취소 로그 배열 logs가 주어질 때,  \n",
    "아래의 시뮬레이션 설명을 참고하여 티켓팅에 성공한 유저의 아이디 목록을 추출하여 return 하도록 solution 메서드를 완성해주세요.  \n",
    "  \n",
    "#### 시뮬레이션 설명\n",
    "접속 시도를 하면 request 로그가 남고 접속 후 1분 이내 접속을 종료하면 leave 로그가 남는다.  \n",
    "이미 한 유저가 접속한 상태라면 다른 유저들은 접속을 할 수 없으며 다시 접속을 시도해야 한다.  \n",
    "티켓을 구매하기 위해서는 서버 접속 후 1분을 유지해야 한다.  \n",
    "티켓 구매를 성공한 유저는 접속은 가능하지만 다시 구매는 할 수 없다.  \n",
    "  \n",
    "<img src=\"https://grepp-programmers.s3.amazonaws.com/files/production/5b9486bab4/f18199e7-985c-4dad-af3e-343ac8def9d3.png\" widh=\"600\">  \n",
    "  \n",
    "case 1  \n",
    "09:12:29에 request 한 woni는 1분 동안 접속을 유지하여 티켓 구매에 성공함.  \n",
    "case 2  \n",
    "09:23:11에 request 한 brown은 1분 동안 접속을 유지하지 못하고 09:23:44초에 접속을 종료하여 leave 로그가 남으며 티켓 구매에 실패함.  \n",
    "case 3  \n",
    "jason과 jun과 cu가 접속을 시도하였지만 가장 빨리 접속 시도를 한 jason이 접속을 하였고 그 이후로 접속 시도한 jun과 cu는 접속을 실패함.  \n",
    "#### 구매 성공\n",
    "구매 중인 유저가 없을 때 request 하여 1분 동안 접속 유지(leave 로그가 없음)  \n",
    "#### 구매 실패  \n",
    "접속 후 1분을 유지하지 못한 경우(leave 로그 있음)  \n",
    "다른 유저가 접속한 상태에서 request 한 경우  \n",
    "  \n",
    "#### 제한사항\n",
    "티켓팅 시간은 9시부터 10시이다. (10시 0분 0초에 서버가 종료된다)  \n",
    "같은 시간(시분초)의 로그는 발생하지 않습니다.  \n",
    "로그는 request 유형과 leave 유형만 존재합니다.  \n",
    "총 티켓 수는 0부터 10,000까지 정수입니다.  \n",
    "id는 소문자 알파벳만 가능합니다.  \n",
    "id는 오름차순으로 정렬해 return 해주세요.  \n",
    "  \n",
    "#### 입력\n",
    "총 티켓 수  \n",
    "접속 시도/취소 로그 배열 (id, action[request/leave], 시분초 hh:mm:ss)  \n",
    "**input sample**  \n",
    "    totalTicket = 2000   \n",
    "    logs = [  \n",
    "        \"woni request 09:12:29\",  \n",
    "        \"brown request 09:23:11\",  \n",
    "        \"brown leave 09:23:44\",  \n",
    "        \"jason request 09:33:51\",  \n",
    "        \"jun request 09:33:56\",  \n",
    "        \"cu request 09:34:02\"  \n",
    "    ]  \n",
    "#### 출력\n",
    "티켓팅 성공한 id 배열  \n",
    "**output sample**  \n",
    "    [  \n",
    "        \"jason\",  \n",
    "        \"woni\"  \n",
    "    ]  "
   ]
  },
  {
   "cell_type": "markdown",
   "metadata": {},
   "source": [
    "### ------------------------------------------------------------------------------"
   ]
  },
  {
   "cell_type": "raw",
   "metadata": {},
   "source": [
    "접속(request). 1분이내 나가면(leave). 1분이상 접속해있어야 구매.. 이미 산 애들도 접속은 되는데 구매 불가..\n",
    "시간을 초단위로 저장하자. 그리고 마지막애 **59분 이후에 접속한애는 구매 불가**"
   ]
  },
  {
   "cell_type": "code",
   "execution_count": 38,
   "metadata": {},
   "outputs": [
    {
     "data": {
      "text/plain": [
       "['jason', 'woni']"
      ]
     },
     "execution_count": 38,
     "metadata": {},
     "output_type": "execute_result"
    }
   ],
   "source": [
    "def solution(totalTicket, logs):\n",
    "    t_access = -60\n",
    "    purchased = set()\n",
    "    \n",
    "    for log in logs:\n",
    "        id_, state, time = log.split()\n",
    "        time = int(time.split(':')[1])*60 + int(time.split(':')[2])\n",
    "        # request일때.. \n",
    "        if state=='request':\n",
    "            # 59분 이후 접속이면 구입 불가능.\n",
    "            if time>59*60:  \n",
    "                continue\n",
    "            # 접속 가능하고 티켓이 남았다면..\n",
    "            if time-t_access>=60 and totalTicket:\n",
    "                purchased.add(id_)\n",
    "                totalTicket -= 1\n",
    "                t_access = time    \n",
    "                \n",
    "        # 접속한애가 떠날때..\n",
    "        if state=='leave':\n",
    "            # 시간 초기화.\n",
    "            totalTicket += 1\n",
    "            t_access = -60\n",
    "            purchased.remove(id_)\n",
    "            \n",
    "    return sorted(purchased)\n",
    "\n",
    "solution(totalTicket = 2000, logs = [\n",
    "    \"woni request 09:12:29\",\n",
    "    \"brown request 09:23:11\",\n",
    "    \"brown leave 09:23:44\",\n",
    "    \"jason request 09:33:51\",\n",
    "    \"jun request 09:33:56\",\n",
    "    \"cu request 09:34:02\"\n",
    "])"
   ]
  },
  {
   "cell_type": "code",
   "execution_count": 37,
   "metadata": {},
   "outputs": [
    {
     "data": {
      "text/plain": [
       "[1, 3, 4, 6]"
      ]
     },
     "execution_count": 37,
     "metadata": {},
     "output_type": "execute_result"
    }
   ],
   "source": [
    "a = {1, 4, 3, 6}\n",
    "sorted(a)"
   ]
  },
  {
   "cell_type": "markdown",
   "metadata": {},
   "source": [
    "## 7. 암호문"
   ]
  },
  {
   "cell_type": "markdown",
   "metadata": {},
   "source": [
    "#### 문제 설명\n",
    "암호문을 좋아하는 괴짜 개발자 브라운이 이번에는 중복 문자를 이용한 새로운 암호를 만들었습니다.  \n",
    "예를 들어 browoanoommnaon이라는 암호문은 다음과 같은 순서로 해독할 수 있습니다.  \n",
    "  \n",
    "1. \"browoanoommnaon\"  \n",
    "2. \"browoannaon\"  \n",
    "3. \"browoaaon\"  \n",
    "4. \"browoon\"  \n",
    "5. \"brown\"  \n",
    "  \n",
    "임의의 문자열 cryptogram이 매개변수로 주어질 때, 연속하는 중복 문자들을 삭제한 결과를 return 하도록 solution 메서드를 완성해주세요.  \n",
    "  \n",
    "#### 제한사항\n",
    "cryptogram은 길이가 1 이상 1000 이하인 문자열입니다.  \n",
    "cryptogram은 알파벳 소문자로만 이루어져 있습니다.  \n",
    "  \n",
    "#### 입출력 예\n",
    "    cryptogram          result\n",
    "    ---------------------------\n",
    "    browoanoommnaon     brown\n",
    "    zyelleyz              \"\"\n",
    "  \n",
    "#### 입출력 예 설명\n",
    "입출력 예 #1  \n",
    "문제의 예시와 같습니다.  \n",
    "  \n",
    "입출력 예 #2  \n",
    "다음과 같은 순서로 해독할 수 있습니다.  \n",
    "  \n",
    "1. \"zyelleyz\"  \n",
    "2. \"zyeeyz\"  \n",
    "3. \"zyyz\"  \n",
    "4. \"zz\"  \n",
    "5. \"\"  "
   ]
  },
  {
   "cell_type": "markdown",
   "metadata": {},
   "source": [
    "### ------------------------------------------------------------------------------"
   ]
  },
  {
   "cell_type": "markdown",
   "metadata": {},
   "source": [
    "browoanoommnaon"
   ]
  },
  {
   "cell_type": "code",
   "execution_count": 55,
   "metadata": {},
   "outputs": [
    {
     "data": {
      "text/plain": [
       "'brown'"
      ]
     },
     "execution_count": 55,
     "metadata": {},
     "output_type": "execute_result"
    }
   ],
   "source": [
    "def solution(cryptogram):\n",
    "    crypto = list(cryptogram)\n",
    "    n = len(crypto)\n",
    "    for i in range(n-1, 0, -1):\n",
    "        try:\n",
    "            if crypto[i]==crypto[i-1]:\n",
    "                del crypto[i]\n",
    "                del crypto[i-1]\n",
    "        except:\n",
    "            continue\n",
    "    return ''.join(crypto)\n",
    "\n",
    "solution(\"browoanoommnaon\")"
   ]
  },
  {
   "cell_type": "code",
   "execution_count": null,
   "metadata": {
    "collapsed": true
   },
   "outputs": [],
   "source": []
  }
 ],
 "metadata": {
  "kernelspec": {
   "display_name": "Python 3",
   "language": "python",
   "name": "python3"
  },
  "language_info": {
   "codemirror_mode": {
    "name": "ipython",
    "version": 3
   },
   "file_extension": ".py",
   "mimetype": "text/x-python",
   "name": "python",
   "nbconvert_exporter": "python",
   "pygments_lexer": "ipython3",
   "version": "3.6.3"
  }
 },
 "nbformat": 4,
 "nbformat_minor": 2
}
