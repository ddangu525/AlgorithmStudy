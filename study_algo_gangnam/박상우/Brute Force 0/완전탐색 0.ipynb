{
 "cells": [
  {
   "cell_type": "markdown",
   "metadata": {},
   "source": [
    "## 1. 11723 집합"
   ]
  },
  {
   "cell_type": "markdown",
   "metadata": {},
   "source": [
    "#### 문제\n",
    "비어있는 공집합 S가 주어졌을 때, 아래 연산을 수행하는 프로그램을 작성하시오.  \n",
    "  \n",
    "add x: S에 x를 추가한다. (1 ≤ x ≤ 20) S에 x가 이미 있는 경우에는 연산을 무시한다.  \n",
    "remove x: S에서 x를 제거한다. (1 ≤ x ≤ 20) S에 x가 없는 경우에는 연산을 무시한다.  \n",
    "check x: S에 x가 있으면 1을, 없으면 0을 출력한다.  \n",
    "toggle x: S에 x가 있으면 x를 제거하고, 없으면 x를 추가한다. (1 ≤ x ≤ 20)  \n",
    "all: S를 {1, 2, ..., 20} 으로 바꾼다.  \n",
    "empty: S를 공집합으로 바꾼다.   \n",
    "  \n",
    "#### 입력\n",
    "첫째 줄에 수행해야 하는 연산의 수 M (1 ≤ M ≤ 3,000,000)이 주어진다.  \n",
    "  \n",
    "둘째 줄부터 M개의 줄에 수행해야 하는 연산이 한 줄에 하나씩 주어진다.  \n",
    "  \n",
    "#### 출력\n",
    "check 연산이 주어질때마다, 결과를 출력한다.  "
   ]
  },
  {
   "cell_type": "markdown",
   "metadata": {},
   "source": [
    "### ------------------------------------------------------------------------------"
   ]
  },
  {
   "cell_type": "code",
   "execution_count": null,
   "metadata": {
    "collapsed": true
   },
   "outputs": [],
   "source": [
    "# import sys\n",
    "# input = sys.stdin.readline\n",
    "M = int(input())\n",
    "S = [False] * 21  # 범위가 1~20까지.. 원소가 포함되면 1, 아니면 0\n",
    "for _ in range(M):\n",
    "    op = input().split()\n",
    "    # add, remove, check, toggle, all, empty\n",
    "    if op[0] == 'add':\n",
    "        S[int(op[1])] = True\n",
    "    elif op[0] == 'remove':\n",
    "        S[int(op[1])] = False\n",
    "    elif op[0] == 'check':\n",
    "        print(int(S[int(op[1])]))\n",
    "    elif op[0] == 'toggle':\n",
    "        S[int(op[1])] = not S[int(op[1])]\n",
    "    elif op[0] == 'all':\n",
    "        S = [True] * 21\n",
    "    elif op[0] == 'empty':\n",
    "        S = [False] * 21\n"
   ]
  },
  {
   "cell_type": "markdown",
   "metadata": {},
   "source": [
    "4144ms.. 시간 엄청 오래걸리네... 줄여보자.  \n",
    "일단 조건문으로 연산이 뭔지 검사하지 말고 바로 실행할 수 있게.."
   ]
  },
  {
   "cell_type": "code",
   "execution_count": 31,
   "metadata": {},
   "outputs": [
    {
     "name": "stdout",
     "output_type": "stream",
     "text": [
      "4\n",
      "add 3\n",
      "all\n",
      "check 9\n",
      "1\n",
      "check 10\n",
      "1\n"
     ]
    }
   ],
   "source": [
    "# import sys\n",
    "# input = sys.stdin.readline\n",
    "M = int(input())\n",
    "S = [0] * 21  # 범위가 1~20까지.. 원소가 포함되면 1, 아니면 0\n",
    "def add(x):\n",
    "    S[int(x[0])] = 1\n",
    "def remove(x):\n",
    "    S[int(x[0])] = 0\n",
    "def check(x):\n",
    "    print(S[int(x[0])])\n",
    "def toggle(x):\n",
    "    S[int(x[0])] = 1 - S[int(x[0])]\n",
    "def all_(x):\n",
    "    S[:] = [1] * 21\n",
    "def empty(x):\n",
    "    S[:] = [0] * 21\n",
    "\n",
    "ops = {'add': add, 'remove': remove, 'check': check, 'toggle': toggle, 'all': all_, 'empty': empty} # 어떤 함수 사용할 것인지 저장.\n",
    "for _ in range(M):\n",
    "    op, *x = input().split()\n",
    "    ops[op](x)\n"
   ]
  },
  {
   "cell_type": "markdown",
   "metadata": {},
   "source": [
    "함수 안에서 그냥 S = [1] * 21 하면 밖에 있는 S에 대입되는 게 아니다.... S[:] = [1] * 21 이렇게 해서 밖에 있는 S를 변경해줌....\n",
    "4096ms.. 거의 차이 없넹.."
   ]
  },
  {
   "cell_type": "code",
   "execution_count": 40,
   "metadata": {},
   "outputs": [
    {
     "name": "stdout",
     "output_type": "stream",
     "text": [
      "4\n",
      "add 3\n",
      "check 9\n",
      "0\n",
      "all\n",
      "check 9\n",
      "0\n"
     ]
    }
   ],
   "source": [
    "# 기본 set 쓰는게 더 빠르당..\n",
    "# import sys\n",
    "# input = sys.stdin.readline\n",
    "M = int(input())\n",
    "s = set()\n",
    "m = {i for i in range(1,21)}\n",
    "for _ in range(M):\n",
    "    a = input()\n",
    "    if a[1] == 'd':\n",
    "        s.add(int(a[4]))\n",
    "    elif a[1] == 'h':\n",
    "        print(1 if int(a[6]) in s else 0)\n",
    "    elif a[1] == 'e':\n",
    "        s.discard(int(a[7]))\n",
    "    elif a[1] == 'o':\n",
    "        if int(a[7]) in s:\n",
    "            s.remove(int(a[7]))\n",
    "        else:\n",
    "            s.add(int(a[7]))\n",
    "    elif a[1] == 'l':\n",
    "        s = m\n",
    "    else:\n",
    "        s.clear()"
   ]
  },
  {
   "cell_type": "markdown",
   "metadata": {},
   "source": [
    "3156 ms.. 왜 더 빠를까..??"
   ]
  },
  {
   "cell_type": "markdown",
   "metadata": {},
   "source": [
    "## 2. 10972 다음 순열"
   ]
  },
  {
   "cell_type": "markdown",
   "metadata": {},
   "source": [
    "#### 문제\n",
    "1부터 N까지의 수로 이루어진 순열이 있다. 이때, 사전순으로 다음에 오는 순열을 구하는 프로그램을 작성하시오.  \n",
    "  \n",
    "사전 순으로 가장 앞서는 순열은 오름차순으로 이루어진 순열이고, 가장 마지막에 오는 순열은 내림차순으로 이루어진 순열이다.   \n",
    "  \n",
    "N = 3인 경우에 사전순으로 순열을 나열하면 다음과 같다.  \n",
    "  \n",
    "1, 2, 3  \n",
    "1, 3, 2  \n",
    "2, 1, 3  \n",
    "2, 3, 1  \n",
    "3, 1, 2  \n",
    "3, 2, 1  \n",
    "\n",
    "#### 입력\n",
    "첫째 줄에 N(1 ≤ N ≤ 10,000)이 주어진다. 둘째 줄에 순열이 주어진다.  \n",
    "  \n",
    "#### 출력\n",
    "첫째 줄에 입력으로 주어진 순열의 다음에 오는 순열을 출력한다. 만약, 사전순으로 마지막에 오는 순열인 경우에는 -1을 출력한다.  "
   ]
  },
  {
   "cell_type": "markdown",
   "metadata": {},
   "source": [
    "### ------------------------------------------------------------------------------"
   ]
  },
  {
   "cell_type": "markdown",
   "metadata": {},
   "source": [
    "123456     \n",
    "123465  \n",
    "123546  \n",
    "123564  \n",
    "123645  \n",
    "123654  \n",
    "124356  \n",
    "124365  \n",
    "124536  \n",
    "124563  \n",
    "124635  \n",
    "124653  \n",
    "...  \n",
    "  \n",
    "126345  \n",
    "126354  \n",
    "126435  \n",
    "126453    \n",
    "126534   \n",
    "1~N까지 수로 이루어진 어떤 순열의 다음 순열을 찾으려면, 일단 가장 큰 수인 N을 기준으로 좌우로 나눠서 살펴본다.. \n",
    "왼쪽은 일단 상관 없고..  \n",
    "1. N 오른쪽이 내림차순으로 돼있다면, N의 왼쪽위치에 그 다음수를 넣어주고 나머지 N과 오른쪽에 있던 애들을 오름차순으로...\n",
    "2. 그렇지 않으면, N 오른쪽에서 다시 최대값을 찾아서 1을 적용할 수 있을때까지 반복..\n",
    "  \n",
    "**248931675** 을 보면,  \n",
    "9를 기준으로 오른쪽이 내림차순으로 정렬 x   \n",
    "오른쪽에서 다시 최대값인 7을 찾음.  그 오른쪽은 5만.. 내림차순으로 돼있다.!  \n",
    "7왼쪽이 6이므로 그 위치에 그 다음값인 7을 넣어주고, 나머지 5, 6을 오름차순으로 뒤에 붙임..  \n",
    "다음 순열은 248931756 이 된다.   \n",
    "이러면 좀 오래걸릴거같은데 인덱스 찾고..   \n",
    "\n",
    "---\n",
    "그냥 뒤에서 부터 검사하면서 오름차순이 깨지는 부분을 찾기??  \n",
    "다시 **248931675** 을 보면,    \n",
    "뒤부터 보면 5 7 6.. 6에서 오름차순이 깨짐..거기까지 있는 5, 6, 7 중 6 다음인 7을 가장 앞에 두고, 나머지를 오름차순으로 붙임..   \n",
    "간단?? 일단 검사는 최대 N. 남은애들 정렬 nlogn??  "
   ]
  },
  {
   "cell_type": "code",
   "execution_count": 49,
   "metadata": {},
   "outputs": [
    {
     "name": "stdout",
     "output_type": "stream",
     "text": [
      "5\n",
      "1 3 5 2 4\n",
      "1 3 5 4 2\n"
     ]
    }
   ],
   "source": [
    "N = int(input())\n",
    "p = list(map(int, input().split()))\n",
    "if p == [i for i in range(N,0,-1)]:    # 마지막 순열이면, 내림차순으로 돼있다.:\n",
    "    print(-1)\n",
    "    exit()\n",
    "for i in range(N-1,0,-1):   # 끝에서부터 검사.\n",
    "    if p[i]>p[i-1]:         # 뒤에있는애가 더 크다면.. \n",
    "        res = sorted(p[i-1:])       # 얘네들만 이용해서 다음거 만들 수 있음..\n",
    "        idx = res.index(p[i-1])+1      # 남은애들중에 맨 처음올 값의 index.\n",
    "        next_p = p[:i-1] + [res[idx]] + res[:idx] + res[idx+1:]\n",
    "        print(' '.join(map(str, next_p)))\n",
    "        break"
   ]
  },
  {
   "cell_type": "markdown",
   "metadata": {},
   "source": [
    "\\>>> a = [1, 2, 3, 4, 5]  \n",
    "\\>>> print(*a)  \n",
    "1 2 3 4 5   \n",
    "!!!  \n",
    "그래도 ' '.join(map(str, a))가 메모리도 적게먹고 빠르네.... "
   ]
  },
  {
   "cell_type": "markdown",
   "metadata": {},
   "source": [
    "## 3. 10973 이전순열"
   ]
  },
  {
   "cell_type": "markdown",
   "metadata": {},
   "source": [
    "#### 문제\n",
    "1부터 N까지의 수로 이루어진 순열이 있다. 이때, 사전순으로 바로 이전에 오는 순열을 구하는 프로그램을 작성하시오.  \n",
    "  \n",
    "사전 순으로 가장 앞서는 순열은 오름차순으로 이루어진 순열이고, 가장 마지막에 오는 순열은 내림차순으로 이루어진 순열이다.  \n",
    "  \n",
    "N = 3인 경우에 사전순으로 순열을 나열하면 다음과 같다.  \n",
    "  \n",
    "1, 2, 3  \n",
    "1, 3, 2  \n",
    "2, 1, 3  \n",
    "2, 3, 1  \n",
    "3, 1, 2  \n",
    "3, 2, 1    \n",
    "#### 입력\n",
    "첫째 줄에 N(1 ≤ N ≤ 10,000)이 주어진다. 둘째 줄에 순열이 주어진다.  \n",
    "  \n",
    "#### 출력\n",
    "첫째 줄에 입력으로 주어진 순열의 이전에 오는 순열을 출력한다. 만약, 사전순으로 가장 처음에 오는 순열인 경우에는 -1을 출력한다.  "
   ]
  },
  {
   "cell_type": "markdown",
   "metadata": {},
   "source": [
    "### ------------------------------------------------------------------------------"
   ]
  },
  {
   "cell_type": "markdown",
   "metadata": {},
   "source": [
    "얘는 반대로 끝에서부터 봤을때 내림차순이 아니면..  \n",
    "**251346**이면  뒤에서부터 볼 때, 6 4 3 1 5. 얘네들만 가지고 이전 순열을 만듦..  \n",
    "5 이전에 오는애를 찾고(4) 나머지를 내림차순으로 뒤에 붙임!  \n",
    "&rarr; 246531 "
   ]
  },
  {
   "cell_type": "code",
   "execution_count": 50,
   "metadata": {
    "scrolled": true
   },
   "outputs": [
    {
     "name": "stdout",
     "output_type": "stream",
     "text": [
      "6\n",
      "2 5 1 3 4 6\n",
      "2 4 6 5 3 1\n"
     ]
    }
   ],
   "source": [
    "N = int(input())\n",
    "p = [*map(int, input().split())]\n",
    "if p == list(range(1,N+1)):\n",
    "    print(-1)\n",
    "    exit()\n",
    "for i in range(N-1,0,-1):   # 끝에서부터 검사.\n",
    "    if p[i]<p[i-1]:         # 뒤에있는애가 더 크다면.. \n",
    "        res = sorted(p[i-1:], reverse=True)       # 얘네들만 이용해서 다음거 만들 수 있음..\n",
    "        idx = res.index(p[i-1])+1      # 남은애들중에 맨 처음올 값의 index.\n",
    "        next_p = p[:i-1] + [res[idx]] + res[:idx] + res[idx+1:]\n",
    "        print(' '.join(map(str, next_p)))\n",
    "        break"
   ]
  },
  {
   "cell_type": "markdown",
   "metadata": {},
   "source": [
    "## 4. 10974 모든 순열"
   ]
  },
  {
   "cell_type": "markdown",
   "metadata": {},
   "source": [
    "#### 문제\n",
    "N이 주어졌을 때, 1부터 N까지의 수로 이루어진 순열을 사전순으로 출력하는 프로그램을 작성하시오.  \n",
    "  \n",
    "#### 입력  \n",
    "첫째 줄에 N(1 ≤ N ≤ 8)이 주어진다.   \n",
    "  \n",
    "#### 출력\n",
    "첫째 줄부터 N!개의 줄에 걸쳐서 모든 순열을 사전순으로 출력한다.  "
   ]
  },
  {
   "cell_type": "markdown",
   "metadata": {},
   "source": [
    "### ------------------------------------------------------------------------------"
   ]
  },
  {
   "cell_type": "code",
   "execution_count": null,
   "metadata": {
    "collapsed": true
   },
   "outputs": [],
   "source": [
    "N = int(input())\n",
    "a = list(range(1, N+1))\n",
    "check = [False] * (N+1)   # check 배열..\n",
    "\n",
    "def permutation(ls, r, perm=[]):     # 리스트에서 r개 선택..\n",
    "    if r==0:                   # 더 선택할 게 없다면 선택완료.. 결과 반환..\n",
    "        print(' '.join(map(str, perm)))\n",
    "    for i in range(len(ls)):   # i: 순열이 시작될 index 번호..\n",
    "        if not check[i]:       # 방문하지 않았다면\n",
    "            check[i] = True    # 체크해주고,\n",
    "            perm.append(ls[i]) # 결과 배열에 저장.\n",
    "            permutation(ls, r-1, perm) # 다음거 방문해보기.\n",
    "            # 백트래킹 후 체크 다시 이전상태로!!\n",
    "            check[i] = False\n",
    "            perm.pop()\n",
    "                \n",
    "                \n",
    "permutation(a, N)"
   ]
  },
  {
   "cell_type": "markdown",
   "metadata": {},
   "source": [
    "236ms.. 비효율적인 구현이었나??"
   ]
  },
  {
   "cell_type": "code",
   "execution_count": null,
   "metadata": {
    "collapsed": true
   },
   "outputs": [],
   "source": [
    "from itertools import permutations as p\n",
    "for i in p(range(1,int(input())+1)):\n",
    "    print(*i)"
   ]
  },
  {
   "cell_type": "markdown",
   "metadata": {},
   "source": [
    "180ms"
   ]
  },
  {
   "cell_type": "code",
   "execution_count": null,
   "metadata": {
    "collapsed": true
   },
   "outputs": [],
   "source": [
    "from itertools import permutations as p\n",
    "for i in p(''.join(map(str, range(1, int(input())+1)))):\n",
    "    print(' '.join(i))"
   ]
  },
  {
   "cell_type": "markdown",
   "metadata": {},
   "source": [
    "88ms! 문자열 순열 만드는 게 더 빠르네..???"
   ]
  },
  {
   "cell_type": "markdown",
   "metadata": {},
   "source": [
    "## 5. 1722 순열의 순서"
   ]
  },
  {
   "cell_type": "markdown",
   "metadata": {},
   "source": [
    "#### 문제\n",
    "1부터 N까지의 수를 임의로 배열한 순열은 총 N! = N×(N-1)×…×2×1 가지가 있다.  \n",
    "  \n",
    "임의의 순열은 정렬을 할 수 있다.  \n",
    "예를 들어  N=3인 경우 {1, 2, 3}, {1, 3, 2}, {2, 1, 3}, {2, 3, 1}, {3, 1, 2}, {3, 2, 1}의 순서로 생각할 수 있다.  \n",
    "첫 번째 수가 작은 것이 순서상에서 앞서며, 첫 번째 수가 같으면 두 번째 수가 작은 것이, 두 번째 수도 같으면 세 번째 수가 작은 것이….  \n",
    "  \n",
    "N이 주어지면, 아래의 두 소문제 중에 하나를 풀어야 한다.  \n",
    "k가 주어지면 k번째 순열을 구하고, 임의의 순열이 주어지면 이 순열이 몇 번째 순열인지를 출력하는 프로그램을 작성하시오.  \n",
    "  \n",
    "#### 입력\n",
    "첫째 줄에 N(1≤N≤20)이 주어진다. 둘째 줄의 첫 번째 수는 소문제 번호이다.  \n",
    "1인 경우 k(1≤k≤N!)를 입력받고, 2인 경우 임의의 순열을 나타내는 N개의 수를 입력받는다.  \n",
    "N개의 수에는 1부터 N까지의 정수가 한 번씩만 나타난다.  \n",
    "  \n",
    "#### 출력\n",
    "k번째 수열을 나타내는 N개의 수를 출력하거나, 몇 번째 수열인지를 출력하면 된다.  "
   ]
  },
  {
   "cell_type": "markdown",
   "metadata": {},
   "source": [
    "### ------------------------------------------------------------------------------"
   ]
  },
  {
   "cell_type": "markdown",
   "metadata": {},
   "source": [
    "얘는 앞에서부터 봐야...\n",
    "1~N까지 N!개를 만들 수 있는데,  \n",
    "끝에 M개로는 M!개를 만들 수 있다.  \n",
    "231456이라면, \n",
    "일단 1로 시작하는 순열은 다 끝. &rarr; 5!\n",
    "그 다음 21로 시작하는 순열도 끝. 4!\n",
    "그 다음 첫번째 순열.  따라서 5! + 4! + 1 번째. 145번째 순열이 됨."
   ]
  },
  {
   "cell_type": "markdown",
   "metadata": {},
   "source": [
    "1. k번째 순열을 만들려면 k//m!이 0이 아닌 가장 큰 m을 찾아 채워주는 식으로.. k와 m을 update해가며 만들어주기. &rarr; 된듯??  \n",
    "2. 순열의 순서를 아는건 좀 더 쉬울듯..  "
   ]
  },
  {
   "cell_type": "code",
   "execution_count": 107,
   "metadata": {
    "scrolled": true
   },
   "outputs": [
    {
     "name": "stdout",
     "output_type": "stream",
     "text": [
      "5\n",
      "facotiral = [1, 1, 2, 6, 24, 120]\n",
      "1 119\n",
      "ans = [], num = {1, 2, 3, 4, 5}\n",
      "N = 5, k = 119\n",
      "if\n",
      "ans = [5], num = {1, 2, 3, 4}\n",
      "N = 4, k = 23\n",
      "if\n",
      "ans = [5, 4], num = {1, 2, 3}\n",
      "N = 3, k = 5\n",
      "if\n",
      "ans = [5, 4, 3], num = {1, 2}\n",
      "N = 2, k = 1\n",
      "else\n",
      "ans = [5, 4, 3, 1], num = {2}\n",
      "N = 1, k = 1\n",
      "break\n",
      "5 4 3 1 2\n"
     ]
    }
   ],
   "source": [
    "from math import factorial\n",
    "N = int(input())\n",
    "f = [factorial(i) for i in range(N+1)]   # 0!부터 N!까지 factorial값 저장..\n",
    "print(f'facotiral = {f}')\n",
    "num = {i for i in range(1, N+1)}         # 남은 수들 set으로 정리.. \n",
    "c, *p = map(int, input().split())        # input 받는데 c가 1이면 p는 [k]이렇게 저장.. c가 2이면 p는 풀어야 할 순열 그냥 저장..\n",
    "if c == 1:                               # case 1, k번째 순열 출력.\n",
    "    k = p[0]\n",
    "    ans = []\n",
    "    while N:                                 # 큰거부터 검사.\n",
    "        print(f'ans = {ans}, num = {num}')\n",
    "        if f[N] == k:                        # k가 N!이라면 남은 수들 내림차순으로 해서 마지막 순열 만들어주기.. 종료!\n",
    "            print(f'N = {N}, k = {k}\\nbreak')\n",
    "            ans.extend(sorted(num, reverse=True))\n",
    "            break\n",
    "        if k > f[N-1]:                          # k가 (N-1)!보다 크다면, b = k // (N-1)! 이라 할 때, 앞에 수가 늘어남.\n",
    "            print(f'N = {N}, k = {k}\\nif')\n",
    "            q = (k-1)//f[N-1]                   # 몫!!!\n",
    "            t = sorted(num)[q]                  # 앞에 올 수를 정해줌..\n",
    "            ans.append(t)                       # 정답 순열에 t를 더해주고,\n",
    "            num.remove(t)                       # 남은 수 집합에서 빼주기.\n",
    "            k -= f[N-1]*q                       # k값 update.\n",
    "        else:                                   # k가 N!보다 작으면 앞에다 제일 작은애 추가해줌.\n",
    "            print(f'N = {N}, k = {k}\\nelse')\n",
    "            ans.append(min(num))\n",
    "            num.remove(min(num))\n",
    "        N -= 1                                  # N 작게해서 계속 검사.\n",
    "    print(' '.join(map(str, ans)))\n",
    "else:                                      # case 2, 임의의 순열을 입력받아 몇번째 순열인지 순서 출력.\n",
    "    ans = 1\n",
    "    for idx, v in enumerate(p):            # input으로 받은 p 앞쪽부터.. idx랑 값..\n",
    "        print(f'num = {num}, idx = {idx}, v = {v}, ans = {ans}')\n",
    "        if v != min(num):                  # 앞에오는애가 남은 수 중 최소값이 아니면, (N-1)!이 몇 번 돌았는지 확인..\n",
    "            print(f'if.... v = {v}, num = {num}')\n",
    "            q = sorted(num).index(v)       # v가 3번째로 큰 수라면 (N-1)!은 2번 돔.. \n",
    "            ans += f[N-idx-1]*q\n",
    "            num.remove(v)\n",
    "        else:\n",
    "            num.remove(min(num))           # 앞에오는 애가 제일 작은 값이면 num에서 빼주기!!\n",
    "    print(ans)"
   ]
  },
  {
   "cell_type": "markdown",
   "metadata": {},
   "source": [
    "18번째 line에서 몫을 k//f[N-1]로 하면 안되고, (k-1)//f[N-1]로 해야한다!!"
   ]
  },
  {
   "cell_type": "code",
   "execution_count": null,
   "metadata": {
    "collapsed": true
   },
   "outputs": [],
   "source": [
    "# 백준..\n",
    "f=lambda n:n<2or n*f(n-1)           # factorial 이렇게...lambda도 재귀로 되는구나......\n",
    "x=list(range(1,int(input())+1))     # 1~N까지 list 만들어주고..\n",
    "t=list(map(int,input().split()))    # 어떤 문제를 풀지.. input\n",
    "if~-t[0]:                           # ~-1 = 0, ~-2 = 1.... 이건 몇번째인지 찾는거..\n",
    " r=1;h=t[1:]                        # 정답 r=1로 초기화, h는 우리가 몇번째인지 찾을 순열..\n",
    " while x:i=x.index(h.pop(0));x.pop(i);r+=f(len(x))*i   # 순열 첫번째 원소를 찾아서 그 전에 (N-1)!만큼 돌려줌... 이렇게만 하면 되네..\n",
    " print(r)\n",
    "else:                               # k번째 순열을 구해야 하는 문제..이게 이렇게 간단하게 되는구나..\n",
    " v=t[1]-1\n",
    " while x:m,v=divmod(v,f(len(x)-1));print(x.pop(m),end=' ')"
   ]
  }
 ],
 "metadata": {
  "kernelspec": {
   "display_name": "Python 3",
   "language": "python",
   "name": "python3"
  },
  "language_info": {
   "codemirror_mode": {
    "name": "ipython",
    "version": 3
   },
   "file_extension": ".py",
   "mimetype": "text/x-python",
   "name": "python",
   "nbconvert_exporter": "python",
   "pygments_lexer": "ipython3",
   "version": "3.6.3"
  }
 },
 "nbformat": 4,
 "nbformat_minor": 2
}
