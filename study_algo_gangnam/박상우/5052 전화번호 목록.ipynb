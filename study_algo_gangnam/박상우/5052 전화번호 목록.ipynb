{
 "cells": [
  {
   "cell_type": "markdown",
   "metadata": {},
   "source": [
    "#### 문제\n",
    "전화번호 목록이 주어진다. 이때, 이 목록이 일관성이 있는지 없는지를 구하는 프로그램을 작성하시오.  \n",
    "  \n",
    "전화번호 목록이 일관성을 유지하려면, 한 번호가 다른 번호의 접두어인 경우가 없어야 한다.  \n",
    "  \n",
    "예를 들어, 전화번호 목록이 아래와 같은 경우를 생각해보자  \n",
    "  \n",
    "    긴급전화: 911\n",
    "    상근: 97 625 999\n",
    "    선영: 91 12 54 26\n",
    "  \n",
    "이 경우에 선영이에게 전화를 걸 수 있는 방법이 없다.  \n",
    "전화기를 들고 선영이 번호의 처음 세 자리를 누르는 순간 바로 긴급전화가 걸리기 때문이다.  \n",
    "따라서, 이 목록은 일관성이 없는 목록이다.  \n",
    "  \n",
    "#### 입력\n",
    "첫째 줄에 테스트 케이스의 개수 t가 주어진다. (1 ≤ t ≤ 50)  \n",
    "각 테스트 케이스의 첫째 줄에는 전화번호의 수 n이 주어진다. (1 ≤ n ≤ 10000)  \n",
    "다음 n개의 줄에는 목록에 포함되어 있는 전화번호가 하나씩 주어진다.  \n",
    "전화번호의 길이는 길어야 10자리이며, 목록에 있는 두 전화번호가 같은 경우는 없다.  \n",
    "  \n",
    "#### 출력\n",
    "각 테스트 케이스에 대해서, 일관성 있는 목록인 경우에는 YES, 아닌 경우에는 NO를 출력한다.  "
   ]
  },
  {
   "cell_type": "markdown",
   "metadata": {},
   "source": [
    "### ----------------------------------------------------------------------------------------------"
   ]
  },
  {
   "cell_type": "code",
   "execution_count": null,
   "metadata": {
    "collapsed": true
   },
   "outputs": [],
   "source": [
    "import sys\n",
    "input = sys.stdin.readline\n",
    "\n",
    "NUMS = 10\n",
    "\n",
    "class NumTrie():\n",
    "\n",
    "    def __init__(self):\n",
    "        self.terminal = False\n",
    "        self.children = [None] * NUMS\n",
    "\n",
    "    # 포인터가 없기 때문에 현재 key의 몇번째 원소를 보고 있는지 알려주는 index i가 추가로 필요.\n",
    "    def insert(self, key, i=0):\n",
    "        if i == len(key):\n",
    "            self.terminal = True\n",
    "        else:\n",
    "            next_ = int(key[i])\n",
    "            if self.children[next_] == None:\n",
    "                self.children[next_] = NumTrie()\n",
    "            self.children[next_].insert(key, i + 1)\n",
    "\n",
    "    def find(self, key, i=0):\n",
    "        if i == len(key):\n",
    "            return self\n",
    "        next_ = int(key[i])\n",
    "        if self.children[next_] == None:\n",
    "            return None\n",
    "        return self.children[next_].find(key, i + 1)\n",
    "\n",
    "    def has_children(self):\n",
    "        \"\"\"\n",
    "        어떤 노드가 terminal인데 자식 노드가 있으면 안됨..\n",
    "        \"\"\"\n",
    "        if any(self.children[i] for i in range(10)):\n",
    "            return True\n",
    "        return False\n",
    "\n",
    "if __name__ == \"__main__\":\n",
    "    for _ in range(int(input())):\n",
    "        root = NumTrie()\n",
    "        n = int(input())\n",
    "        nums = [input().rstrip() for _ in range(n)]\n",
    "        for num in nums:\n",
    "            root.insert(num)\n",
    "\n",
    "        consistency = True\n",
    "\n",
    "        for num in nums:\n",
    "            if root.find(num).has_children():\n",
    "                print('NO')\n",
    "                consistency = False\n",
    "                break\n",
    "\n",
    "        if consistency:\n",
    "            print('YES')"
   ]
  },
  {
   "cell_type": "markdown",
   "metadata": {},
   "source": [
    "    2\n",
    "    3\n",
    "    911\n",
    "    97625999\n",
    "    91125426\n",
    "    5\n",
    "    113\n",
    "    12340\n",
    "    123440\n",
    "    12345\n",
    "    98346\n",
    "    -----\n",
    "    NO\n",
    "    YES"
   ]
  },
  {
   "cell_type": "markdown",
   "metadata": {
    "collapsed": true
   },
   "source": [
    "맞았는데 개느리다.. 3292ms 속도, 메모리 전부 안좋음..  \n",
    "1. 일단 번호를 저장해놓지 않아도 될 듯.\n",
    "2. 트라이에 넣을때마다 일관성 검사??"
   ]
  },
  {
   "cell_type": "code",
   "execution_count": null,
   "metadata": {
    "collapsed": true
   },
   "outputs": [],
   "source": [
    "import sys\n",
    "input = sys.stdin.readline\n",
    "\n",
    "NUMS = 10\n",
    "consistency = True\n",
    "class NumTrie():\n",
    "\n",
    "    def __init__(self):\n",
    "        self.terminal = False\n",
    "        self.children = [None] * NUMS\n",
    "\n",
    "    # 포인터가 없기 때문에 현재 key의 몇번째 원소를 보고 있는지 알려주는 index i가 추가로 필요.\n",
    "    def insert(self, key, i=0):\n",
    "        if i == len(key):\n",
    "            self.terminal = True\n",
    "            if any(self.children[i] for i in range(10)):\n",
    "                global consistency\n",
    "                consistency = False\n",
    "        else:\n",
    "            next_ = int(key[i])\n",
    "            if self.children[next_] == None:\n",
    "                self.children[next_] = NumTrie()\n",
    "            self.children[next_].insert(key, i + 1)\n",
    "            if self.terminal:\n",
    "                global consistency\n",
    "                consistency = False\n",
    "\n",
    "if __name__ == \"__main__\":\n",
    "    for _ in range(int(input())):\n",
    "        root = NumTrie()\n",
    "        for _ in range(int(input())):\n",
    "            if not consi\n",
    "            root.insert(input().rstrip())\n",
    "            if not consistency:\n",
    "                print('NO')\n",
    "                break\n",
    "        else:\n",
    "            print('YES') "
   ]
  },
  {
   "cell_type": "markdown",
   "metadata": {},
   "source": [
    "input받는 중에 break하면 안되지ㅎㅎ"
   ]
  },
  {
   "cell_type": "code",
   "execution_count": null,
   "metadata": {
    "collapsed": true
   },
   "outputs": [],
   "source": [
    "import sys\n",
    "input = sys.stdin.readline\n",
    "\n",
    "NUMS = 10\n",
    "\n",
    "class NumTrie():\n",
    "    consistency = True\n",
    "    def __init__(self):\n",
    "        self.terminal = False\n",
    "        self.children = [None] * NUMS\n",
    "\n",
    "    # 포인터가 없기 때문에 현재 key의 몇번째 원소를 보고 있는지 알려주는 index i가 추가로 필요.\n",
    "    def insert(self, key, i=0):\n",
    "        if i == len(key):\n",
    "            self.terminal = True\n",
    "            if any(self.children[i] for i in range(10)):\n",
    "                NumTrie.consistency = False\n",
    "        else:\n",
    "            next_ = int(key[i])\n",
    "            if self.children[next_] == None:\n",
    "                self.children[next_] = NumTrie()\n",
    "            self.children[next_].insert(key, i + 1)\n",
    "            if self.terminal:\n",
    "                NumTrie.consistency = False\n",
    "\n",
    "if __name__ == \"__main__\":\n",
    "    for _ in range(int(input())):\n",
    "        consistency = True\n",
    "        root = NumTrie()\n",
    "        for _ in range(int(input())):\n",
    "            if not NumTrie.consistency:\n",
    "                input()\n",
    "            else:\n",
    "                root.insert(input().rstrip())\n",
    "\n",
    "        if NumTrie.consistency:\n",
    "            print('YES')\n",
    "        else:\n",
    "            print('NO')\n",
    "            NumTrie.consistency = True"
   ]
  },
  {
   "cell_type": "markdown",
   "metadata": {},
   "source": [
    "트라이 이용해서 더 최적화 할 순 없을깡.."
   ]
  },
  {
   "cell_type": "code",
   "execution_count": null,
   "metadata": {
    "collapsed": true
   },
   "outputs": [],
   "source": [
    "# 그냥 기본 str함수쓰는게 훨씬훨씬 빠르네 이정도 범위에선. str sort하면 그냥 되는구나!! O(N)\n",
    "import sys\n",
    "input = sys.stdin.readline\n",
    "for _ in range(int(input())):\n",
    "    n = int(input())\n",
    "    nums = sorted(input().rstrip() for _ in range(n))\n",
    "    for i in range(n - 1):\n",
    "        if nums[i+1].startswith(nums[i]):\n",
    "            print(\"NO\")\n",
    "            break\n",
    "    else:\n",
    "        print(\"YES\")"
   ]
  }
 ],
 "metadata": {
  "kernelspec": {
   "display_name": "Python 3",
   "language": "python",
   "name": "python3"
  },
  "language_info": {
   "codemirror_mode": {
    "name": "ipython",
    "version": 3
   },
   "file_extension": ".py",
   "mimetype": "text/x-python",
   "name": "python",
   "nbconvert_exporter": "python",
   "pygments_lexer": "ipython3",
   "version": "3.6.3"
  }
 },
 "nbformat": 4,
 "nbformat_minor": 2
}
