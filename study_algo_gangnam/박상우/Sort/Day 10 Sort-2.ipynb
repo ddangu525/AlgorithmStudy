{
 "cells": [
  {
   "cell_type": "markdown",
   "metadata": {},
   "source": [
    "## 1.10989 수 정렬하기3"
   ]
  },
  {
   "cell_type": "markdown",
   "metadata": {},
   "source": [
    "#### 문제\n",
    "N개의 수가 주어졌을 때, 이를 오름차순으로 정렬하는 프로그램을 작성하시오.   \n",
    "  \n",
    "#### 입력\n",
    "첫째 줄에 수의 개수 N(1 ≤ N ≤ 10,000,000)이 주어진다. 둘째 줄부터 N개의 줄에는 숫자가 주어진다. 이 수는 10,000보다 작거나 같은 자연수이다.  \n",
    "  \n",
    "#### 출력\n",
    "첫째 줄부터 N개의 줄에 오름차순으로 정렬한 결과를 한 줄에 하나씩 출력한다.  "
   ]
  },
  {
   "cell_type": "markdown",
   "metadata": {},
   "source": [
    "### ------------------------------------------------------------------------------"
   ]
  },
  {
   "cell_type": "markdown",
   "metadata": {},
   "source": [
    "Counting sort 구현??  \n",
    "기본 input()으로는 불가. sys.stdin.readline 사용"
   ]
  },
  {
   "cell_type": "code",
   "execution_count": null,
   "metadata": {
    "collapsed": true
   },
   "outputs": [],
   "source": [
    "import sys\n",
    "c = [0]*10001\n",
    "for _ in range(int(input())):\n",
    "    c[int(sys.stdin.readline())] += 1\n",
    "s = []\n",
    "for i in range(1,10001):\n",
    "    if c[i]:\n",
    "        s += str(i)*c[i]\n",
    "print('\\n'.join(s))"
   ]
  },
  {
   "cell_type": "markdown",
   "metadata": {},
   "source": [
    "메모리 초과.. 정렬결과 저장 없이 출력해야할듯."
   ]
  },
  {
   "cell_type": "code",
   "execution_count": null,
   "metadata": {
    "collapsed": true
   },
   "outputs": [],
   "source": [
    "import sys\n",
    "c = [0]*10001\n",
    "for _ in range(int(input())):\n",
    "    c[int(sys.stdin.readline())] += 1\n",
    "s = []\n",
    "for i in range(1,10001):\n",
    "    if c[i]:\n",
    "        print('\\n'.join([str(i)]*c[i]))"
   ]
  },
  {
   "cell_type": "markdown",
   "metadata": {},
   "source": [
    "되긴 되는데 좀 느리네.. 6076ms"
   ]
  },
  {
   "cell_type": "code",
   "execution_count": null,
   "metadata": {
    "collapsed": true
   },
   "outputs": [],
   "source": [
    "# 백준.. 4500ms정도. \n",
    "n=10001;a=[0]*n;f=open(0);f.readline()\n",
    "for i in f:a[int(i)]+=1\n",
    "for i in range(n):print(\"%s\\n\"%i*a[i],end=\"\")"
   ]
  },
  {
   "cell_type": "markdown",
   "metadata": {},
   "source": [
    "## 2. 11652 카드"
   ]
  },
  {
   "cell_type": "markdown",
   "metadata": {},
   "source": [
    "#### 문제\n",
    "준규는 숫자 카드 N장을 가지고 있다. 숫자 카드에는 정수가 하나 적혀있는데, 적혀있는 수는 $-2^{62}$보다 크거나 같고,$ 2^{62} $보다 작거나 같다.  \n",
    "  \n",
    "준규가 가지고 있는 카드가 주어졌을 때, 가장 많이 가지고 있는 정수를 구하는 프로그램을 작성하시오.  \n",
    "만약, 가장 많이 가지고 있는 정수가 여러 가지라면, 작은 것을 출력한다.  \n",
    "  \n",
    "#### 입력\n",
    "첫째 줄에 준규가 가지고 있는 숫자 카드의 개수 N (1 <= N <= 1000000)이 주어진다. 둘째 줄부터 N개 줄에는 숫자 카드에 적혀있는 정수가 주어진다.  \n",
    "  \n",
    "#### 출력\n",
    "첫째 줄에 준규가 가장 많이 가지고 있는 정수를 출력한다.  "
   ]
  },
  {
   "cell_type": "markdown",
   "metadata": {},
   "source": [
    "### ------------------------------------------------------------------------------"
   ]
  },
  {
   "cell_type": "markdown",
   "metadata": {},
   "source": [
    "### 마크다운 문법. \n",
    "#### \\$로 수식 감싸기.. \\$ 하나면 inline, 두 개면 한 줄에 하나씩..  \n",
    "#### 위의 $ -2^{62} $ 를 쓰려면 \\$ -2^{62} \\$ 이렇게 표현.  "
   ]
  },
  {
   "cell_type": "markdown",
   "metadata": {},
   "source": [
    "가장 많이 가지고 있는 정수.. 작은수부터 세가면서 더 많은 경우에만 update.  \n",
    "일단 그냥 해보자.. 메모리는 여유.."
   ]
  },
  {
   "cell_type": "code",
   "execution_count": null,
   "metadata": {
    "collapsed": true
   },
   "outputs": [],
   "source": [
    "import sys\n",
    "from collections import defaultdict\n",
    "cards = defaultdict(int)\n",
    "for _ in range(int(input())):\n",
    "    cards[int(sys.stdin.readline())] += 1\n",
    "cards = sorted(sorted(list(cards.items())), key = lambda x: x[1], reverse=True)\n",
    "print(cards[0][0])"
   ]
  },
  {
   "cell_type": "markdown",
   "metadata": {},
   "source": [
    "168ms. 한번에 통과라니 ㅜㅜ"
   ]
  },
  {
   "cell_type": "code",
   "execution_count": null,
   "metadata": {
    "collapsed": true
   },
   "outputs": [],
   "source": [
    "# 백준...숏코딩 + 시간1등.. 104ms. \n",
    "from collections import*;import sys;input();d=Counter(sys.stdin);print(max(d,key=lambda k:(d[k],-int(k))))"
   ]
  },
  {
   "cell_type": "markdown",
   "metadata": {},
   "source": [
    "sys.stdin만 해도 입력 전체가 받아와지는건가..  \n",
    "Counter로 하면 되는구나.."
   ]
  },
  {
   "cell_type": "markdown",
   "metadata": {},
   "source": [
    "## 3. 11004 k번째 수"
   ]
  },
  {
   "cell_type": "markdown",
   "metadata": {},
   "source": [
    "#### 문제\n",
    "수 N개 A1, A2, ..., AN이 주어진다. A를 오름차순 정렬했을 때, 앞에서부터 K번째 있는 수를 구하는 프로그램을 작성하시오.  \n",
    "  \n",
    "#### 입력\n",
    "첫째 줄에 N(1 ≤ N ≤ 5,000,000)과 K (1 ≤ K ≤ N)이 주어진다.  \n",
    "   \n",
    "둘째에는 $A_1, A_2, ..., A_N$이 주어진다. ($-10^9$ ≤ A_i ≤ $10^9$)  \n",
    "  \n",
    "#### 출력\n",
    "A를 정렬했을 때, 앞에서부터 K번째 있는 수를 출력한다.  "
   ]
  },
  {
   "cell_type": "markdown",
   "metadata": {},
   "source": [
    "### ------------------------------------------------------------------------------"
   ]
  },
  {
   "cell_type": "markdown",
   "metadata": {},
   "source": [
    "### Markdown\n",
    "$ A_i $ 는 \\$ A_i \\$"
   ]
  },
  {
   "cell_type": "markdown",
   "metadata": {},
   "source": [
    "전체를 정렬할 필요가 없는건가? 앞쪽이랑 가까운지 뒷쪽이랑 가까운지에 따라 다르게?  \n",
    "일단 해보기"
   ]
  },
  {
   "cell_type": "code",
   "execution_count": null,
   "metadata": {
    "collapsed": true
   },
   "outputs": [],
   "source": [
    "import sys\n",
    "N, K = map(int, input().split())\n",
    "print(sorted(list(map(int, sys.stdin.readline().split())))[K-1])"
   ]
  },
  {
   "cell_type": "markdown",
   "metadata": {},
   "source": [
    "되긴 되는데 느림.. 4100~4300 1등은 3600정도.  \n",
    "그리고 이렇게 여러줄이 아니라 한 줄에 여러개 입력받는 경우는 input()이나 sys.stdin.readline()이나 비슷한듯??"
   ]
  },
  {
   "cell_type": "code",
   "execution_count": null,
   "metadata": {
    "collapsed": true
   },
   "outputs": [],
   "source": [
    "# 백준. quick selection?\n",
    "import sys\n",
    "n,k = list(map(int,sys.stdin.readline().strip().split()))\n",
    "l = list(map(int,sys.stdin.readline().strip().split()))\n",
    "\n",
    "def quick_selection(arr, kth):\n",
    "    pivot = arr[(len(arr)+1)//2 - 1]           # 일단 중앙값으로 pivot 설정.\n",
    "    left, mid, right = [], [], []\n",
    "    for i in range(len(arr)):\n",
    "        if arr[i] < pivot:                     # pivot보다 작다면 left에 추가\n",
    "            left.append(arr[i])\n",
    "        elif arr[i] > pivot:                   # 크면 right에 추가\n",
    "            right.append(arr[i])\n",
    "        else:                                  # pivot과 값이 같으면 mid에 추가.\n",
    "            mid.append(arr[i])\n",
    "    \n",
    "    if kth < len(left):                        # 구하려는 수가 pivot보다 왼쪽에 있으면\n",
    "        return quick_selection(left, kth)      # 왼쪽에서 다시 quick sort해서 찾기..\n",
    "    elif kth < len(left) + len(mid):           # 구하려는 수가 mid에 있으면\n",
    "        return mid[0]                          # 그냥 mid의 값 바로 출력. mid는 다 같은 수..\n",
    "    else:\n",
    "        return quick_selection(right, kth - len(left) - len(mid))  # 오른쪽에 있으면 k의 값을 바꿔서 right에서 다시 수행.\n",
    "        \n",
    "print(quick_selection(l,k-1))"
   ]
  },
  {
   "cell_type": "markdown",
   "metadata": {},
   "source": [
    "확실히 이 방법이 빠르겠다.."
   ]
  },
  {
   "cell_type": "markdown",
   "metadata": {},
   "source": [
    "## 4. 1377 버블소트"
   ]
  },
  {
   "cell_type": "markdown",
   "metadata": {},
   "source": [
    "#### 문제\n",
    "영식이는 다음과 같은 버블 소트 프로그램을 C++로 작성했다.    \n",
    "  \n",
    "    bool change = false;  \n",
    "    for (int i=1; i<=n+1; i++) {  \n",
    "        change = false;  \n",
    "        for (int j=1; j<=n-i; j++) {  \n",
    "            if (a[j] > a[j+1]) {  \n",
    "                change = true;  \n",
    "                swap(a[j], a[j+1]);  \n",
    "            }  \n",
    "        }  \n",
    "        if (change == false) {  \n",
    "            cout << i << '\\n';  \n",
    "            break;  \n",
    "        }  \n",
    "    }  \n",
    "위 소스에서 n은 배열의 크기이고, a는 수가 들어있는 배열이다. 수는 배열의 1번방부터 채운다.  \n",
    "  \n",
    "위와 같은 소스를 실행시켰을 때, 어떤 값이 출력되는지 구하는 프로그램을 작성하시오.  \n",
    "  \n",
    "#### 입력\n",
    "첫째 줄에 N이 주어진다. N은 500,000보다 작거나 같은 자연수이다. 둘째 줄부터 N개의 줄에 A[1]부터 A[N]까지 하나씩 주어진다.  \n",
    "A에 들어있는 수는 1,000,000보다 작거나 같은 자연수 또는 0이다.  \n",
    "  \n",
    "#### 출력  \n",
    "정답을 출력한다.  "
   ]
  },
  {
   "cell_type": "markdown",
   "metadata": {},
   "source": [
    "### ------------------------------------------------------------------------------"
   ]
  },
  {
   "cell_type": "markdown",
   "metadata": {},
   "source": [
    "## Markdown \n",
    "### 화살표기호.  \n",
    "오른쪽: &rarr;  \n",
    "&(방향)arr; &emsp;&emsp;l u d r  \n",
    "&uarr;    \n",
    "&darr;  \n",
    "&larr;  \n",
    "&rarr;  \n",
    "아니면 복붙.. https://unicode-table.com/en/sets/arrows-symbols/\n",
    "### space, tab..\n",
    "&'이 안에';  \n",
    "1. Type \"nbsp\" to add a single space.\n",
    "2. Type \"ensp\" to add 2 spaces.\n",
    "3. Type \"emsp\" to add 4 spaces.\n",
    "4. Use the non-breaking space (nbsp) 4 times to insert a tab.  \n",
    "&emsp;This is an example.   "
   ]
  },
  {
   "cell_type": "markdown",
   "metadata": {},
   "source": [
    "버블소트 코드 그대로 짜서 해봐야?? 아님 그냥 조건만 보고?\n",
    "\n",
    "    bool change = false;  \n",
    "    for (int i=1; i<=n+1; i++) {         # 배열에는 A[1]부터 A[N]까지 있음.\n",
    "        change = false;                  # i 반복 시작마다 초기화\n",
    "        for (int j=1; j<=n-i; j++) {     # i가 1부터 n까지 커지는 동안 j는 1부터 n-i까지 반복.\n",
    "            if (a[j] > a[j+1]) {         # 앞의 수가 뒤보다 크면 위치를 바꿈.  change = true가 됨. \n",
    "                change = true;           # i가 1 증가할 때마다 뒤부터 가장 큰 원소가 채워짐.\n",
    "                swap(a[j], a[j+1]);  \n",
    "            }  \n",
    "        }  \n",
    "        if (change == false) {           # change가 false로 남아있는 경우는 정렬이 완료된 순간..\n",
    "            cout << i << '\\n';  \n",
    "            break;  \n",
    "        }  \n",
    "    }  \n",
    "    \n",
    "코드 안짜고 하려면..? 가장 큰 값 몇 개를 뒤로 보내면 정렬이 완료되는지...  \n",
    "A = [3,1,2,5,4]면  \n",
    "1 2 3 4 5로 한번에..  &rarr; 2 출력  \n",
    "4 1 2 5 3이면 1 2 4 3 5  - 1 2 3 4 5 두 번. &rarr; 3출력. 일단 그냥 해보자..  "
   ]
  },
  {
   "cell_type": "code",
   "execution_count": null,
   "metadata": {
    "collapsed": true
   },
   "outputs": [],
   "source": [
    "import sys\n",
    "N = int(input())\n",
    "a = [0] + [int(sys.stdin.readline()) for _ in range(N)]\n",
    "for i in range(1, N+2):\n",
    "    change = False\n",
    "    for j in range(1, N+1-i):\n",
    "        if a[j] > a[j+1]:\n",
    "            a[j], a[j+1] = a[j+1], a[j]\n",
    "            change = True\n",
    "    if not change:\n",
    "        print(i)\n",
    "        break"
   ]
  },
  {
   "cell_type": "markdown",
   "metadata": {},
   "source": [
    "$O(N^2)$역시 시간초과. 그럼 어떻게 세지??  \n",
    "앞에있는 큰 수는 정렬된 위치까지 한번에 이동..  \n",
    "뒤에 있는 작은수는 정렬된 위치까지 한번에 한번씩만.. 얘의 최대값을 구하자.   \n",
    "그러면 $O(NlogN+N)=O(NlogN)$ ?  \n",
    "값이 중복되는 경우도 있을텐데..  \n",
    "원래 배열 앞의 원소부터 정렬된 배열에서 index 검색해서 index차이 계산.  "
   ]
  },
  {
   "cell_type": "markdown",
   "metadata": {},
   "source": [
    "## python bisect module\n",
    "### bisect.bisect_left(a, x, lo=0, hi=len(a))\n",
    "정렬된 순서를 유지하도록 a에 x를 삽입할 위치를 찾습니다. 매개 변수 lo 와 hi는 고려해야 할 리스트의 부분집합을 지정하는 데 사용될 수 있습니다.  \n",
    "기본적으로 전체 리스트가 사용됩니다. x가 a에 이미 있으면, 삽입 위치는 기존 항목 앞(왼쪽)이 됩니다.  \n",
    "반환 값은 a가 이미 정렬되었다고 가정할 때 list.insert()의 첫 번째 매개 변수로 사용하기에 적합합니다.  \n",
    "  \n",
    "반환된 삽입 위치 i는 배열 a를 이분하여, 왼쪽은 all(val < x for val in a[lo:i]), 오른쪽은 all(val >= x for val in a[i:hi])이 되도록 만듭니다.  \n",
    "  \n",
    "### bisect.bisect_right(a, x, lo=0, hi=len(a))  \n",
    "### bisect.bisect(a, x, lo=0, hi=len(a))  \n",
    "bisect_left()와 비슷하지만, a에 있는 x의 기존 항목 뒤(오른쪽)에 오는 삽입 위치를 반환합니다.  \n",
    "**bisect.bisect_right와 그냥 bisect.bisect는 동일**\n",
    "  \n",
    "반환된 삽입 위치 i는 배열 a를 이분하여, 왼쪽은 all(val <= x for val in a[lo:i]), 오른쪽은 all(val > x for val in a[i:hi])이 되도록 만듭니다.  \n",
    "  \n",
    "### bisect.insort_left(a, x, lo=0, hi=len(a))  \n",
    "a에 x를 정렬된 순서로 삽입합니다. a가 이미 정렬되었다고 가정할 때 a.insert(bisect.bisect_left(a, x, lo, hi), x)와 동등합니다.  \n",
    "O(log n) 검색이 느린 O(n) 삽입 단계에 가려짐에 유념하십시오.  \n",
    "  \n",
    "### bisect.insort_right(a, x, lo=0, hi=len(a)) == bisect.insort(a, x, lo=0, hi=len(a))\n",
    "insort_left()와 비슷하지만, a에 x를 x의 기존 항목 다음에 삽입합니다.  "
   ]
  },
  {
   "cell_type": "code",
   "execution_count": null,
   "metadata": {
    "collapsed": true
   },
   "outputs": [],
   "source": [
    "import sys\n",
    "import bisect\n",
    "N = int(input())\n",
    "a = [int(sys.stdin.readline()) for _ in range(N)]\n",
    "s = sorted(a)\n",
    "used = [False] * N\n",
    "diff_max = 0\n",
    "for i in range(N):\n",
    "    idx = bisect.bisect_left(s, a[i])\n",
    "    if used[idx]: \n",
    "        while used[idx]:\n",
    "            idx += 1\n",
    "        used[idx] = True\n",
    "    else:\n",
    "        used[idx] = True\n",
    "    diff = i - idx\n",
    "    if diff > diff_max:\n",
    "        diff_max = diff\n",
    "print(diff_max + 1)"
   ]
  },
  {
   "cell_type": "markdown",
   "metadata": {},
   "source": [
    "이것도 시간초과 ㅠㅠ 중복 처리가 비효율적.."
   ]
  },
  {
   "cell_type": "code",
   "execution_count": null,
   "metadata": {
    "collapsed": true
   },
   "outputs": [],
   "source": [
    "import sys\n",
    "import bisect\n",
    "N = int(input())\n",
    "a = [int(sys.stdin.readline()) for _ in range(N)]\n",
    "s = sorted(a)\n",
    "diff_max = 0\n",
    "for i in range(N):\n",
    "    right = bisect.bisect(s, a[i]) - 1\n",
    "    diff = i - right\n",
    "    if diff > diff_max:\n",
    "        diff_max = diff\n",
    "print(diff_max + 1)"
   ]
  },
  {
   "cell_type": "markdown",
   "metadata": {},
   "source": [
    "성공.."
   ]
  },
  {
   "cell_type": "code",
   "execution_count": 24,
   "metadata": {},
   "outputs": [
    {
     "name": "stdout",
     "output_type": "stream",
     "text": [
      "1 2 3 4 5\n",
      "sorted = [0, 1, 2, 3, 4, 5], length = 6\n",
      "a = [0, 1, 2, 3, 4, 5], i = 1\n",
      "1\n"
     ]
    }
   ],
   "source": [
    "a = [0] + list(map(int, input().split()))\n",
    "print(f'sorted = {sorted(a)}, length = {len(a)}')\n",
    "for i in range(1, len(a)+1):\n",
    "    change = False\n",
    "    for j in range(1, len(a)-i):\n",
    "        if a[j] > a[j+1]:\n",
    "            a[j], a[j+1] = a[j+1], a[j]\n",
    "            change = True\n",
    "    print(f'a = {a}, i = {i}')\n",
    "    if not change:\n",
    "        print(i)\n",
    "        break"
   ]
  },
  {
   "cell_type": "code",
   "execution_count": 25,
   "metadata": {},
   "outputs": [
    {
     "name": "stdout",
     "output_type": "stream",
     "text": [
      "1 2 3 4 5\n",
      "sorted list = [1, 2, 3, 4, 5], length = 5\n",
      "i =  0, value = 1, idx = 0, diff = 0, diff_max = 0\n",
      "i =  1, value = 2, idx = 1, diff = 0, diff_max = 0\n",
      "i =  2, value = 3, idx = 2, diff = 0, diff_max = 0\n",
      "i =  3, value = 4, idx = 3, diff = 0, diff_max = 0\n",
      "i =  4, value = 5, idx = 4, diff = 0, diff_max = 0\n",
      "1\n"
     ]
    }
   ],
   "source": [
    "import bisect\n",
    "a = list(map(int, input().split()))\n",
    "s = sorted(a)\n",
    "print(f'sorted list = {s}, length = {len(a)}')\n",
    "used = [False] * len(a)\n",
    "diff_max = -999\n",
    "for i in range(len(a)):\n",
    "    idx = bisect.bisect_left(s, a[i])\n",
    "    if used[idx]: \n",
    "        while used[idx]:\n",
    "            idx += 1\n",
    "        used[idx] = True\n",
    "    else:\n",
    "        used[idx] = True\n",
    "    diff = i - idx\n",
    "    if diff > diff_max:\n",
    "        diff_max = diff\n",
    "    print(f'i =  {i}, value = {a[i]}, idx = {idx}, diff = {diff}, diff_max = {diff_max}')\n",
    "print(diff_max + 1)"
   ]
  },
  {
   "cell_type": "markdown",
   "metadata": {},
   "source": [
    "## 정렬알고리즘 간단 정리. \n",
    "### 1. 버블정렬\n",
    "앞에서부터 좌우를 비교해서 큰 수를 뒤로 보냄\n",
    "### 2. 선택정렬\n",
    "i번째 반복에서 가장 작은 수를 찾아 a[i]와 위치를 바꿈\n",
    "### 3. 삽입정렬\n",
    "i번째 반복에서 a[i-1]까지 정렬되어있는 부분에 a[i]를 적당한 위치에 추가.\n",
    "### 4. 계수정렬(Counting)\n",
    "0이상 정수인 경우. 최대값을 알 때 각 수의 개수를 세서 정렬.\n",
    "### 5. 기수정렬(Radix)\n",
    "얘도 0이상 정수인경우?? 낮은자리수부터 비교해가며 정렬.\n",
    "### 6. 병합정렬\n",
    "리스트를 계속 중간 기준으로 좌우로 나누고 각각 정렬이 됐으면 다시 좌우 원소 비교해서 하나로 합침.\n",
    "### 7. 퀵정렬\n",
    "pivot을 하나 정해서 얘보다 작은애는 왼쪽, 큰애는 오른쪽으로 보냄. 그 안에서 다시 똑같이 반복."
   ]
  }
 ],
 "metadata": {
  "kernelspec": {
   "display_name": "Python 3",
   "language": "python",
   "name": "python3"
  },
  "language_info": {
   "codemirror_mode": {
    "name": "ipython",
    "version": 3
   },
   "file_extension": ".py",
   "mimetype": "text/x-python",
   "name": "python",
   "nbconvert_exporter": "python",
   "pygments_lexer": "ipython3",
   "version": "3.6.3"
  }
 },
 "nbformat": 4,
 "nbformat_minor": 2
}
