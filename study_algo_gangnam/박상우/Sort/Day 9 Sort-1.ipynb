{
 "cells": [
  {
   "cell_type": "markdown",
   "metadata": {},
   "source": [
    "## 1. 2751 수 정렬하기2"
   ]
  },
  {
   "cell_type": "markdown",
   "metadata": {},
   "source": [
    "#### 문제\n",
    "N개의 수가 주어졌을 때, 이를 오름차순으로 정렬하는 프로그램을 작성하시오.  \n",
    "  \n",
    "#### 입력\n",
    "첫째 줄에 수의 개수 N(1 ≤ N ≤ 1,000,000)이 주어진다. 둘째 줄부터 N개의 줄에는 숫자가 주어진다.  \n",
    "이 수는 절댓값이 1,000,000보다 작거나 같은 정수이다. 수는 중복되지 않는다.  \n",
    "  \n",
    "#### 출력\n",
    "첫째 줄부터 N개의 줄에 오름차순으로 정렬한 결과를 한 줄에 하나씩 출력한다.  "
   ]
  },
  {
   "cell_type": "markdown",
   "metadata": {},
   "source": [
    "### ------------------------------------------------------------------------------"
   ]
  },
  {
   "cell_type": "code",
   "execution_count": null,
   "metadata": {
    "collapsed": true
   },
   "outputs": [],
   "source": [
    "import sys\n",
    "N = int(input())\n",
    "nums = sorted(list(map(int, sys.stdin.read().splitlines())))\n",
    "# for i in nums:\n",
    "#     print(i)\n",
    "print('\\n'.join(map(str,nums)))"
   ]
  },
  {
   "cell_type": "markdown",
   "metadata": {},
   "source": [
    "## 2. 11650 좌표 정렬하기"
   ]
  },
  {
   "cell_type": "markdown",
   "metadata": {},
   "source": [
    "#### 문제\n",
    "2차원 평면 위의 점 N개가 주어진다. 좌표를 x좌표가 증가하는 순으로, x좌표가 같으면 y좌표가 증가하는 순서로 정렬한 다음 출력하는 프로그램을 작성하시오.  \n",
    "  \n",
    "#### 입력\n",
    "첫째 줄에 점의 개수 N (1 ≤ N ≤ 100,000)이 주어진다. 둘째 줄부터 N개의 줄에는 i번점의 위치 xi와 yi가 주어진다.  \n",
    "(-100,000 ≤ xi, yi ≤ 100,000) 좌표는 항상 정수이고, 위치가 같은 두 점은 없다.  \n",
    "  \n",
    "#### 출력\n",
    "첫째 줄부터 N개의 줄에 점을 정렬한 결과를 출력한다.  "
   ]
  },
  {
   "cell_type": "markdown",
   "metadata": {},
   "source": [
    "### ------------------------------------------------------------------------------"
   ]
  },
  {
   "cell_type": "code",
   "execution_count": null,
   "metadata": {
    "collapsed": true
   },
   "outputs": [],
   "source": [
    "import sys\n",
    "c = sorted([list(map(int, sys.stdin.readline().split())) for _ in range(int(input()))])\n",
    "c = [f'{i[0]} {i[1]}' for i in c]\n",
    "print('\\n'.join(c))"
   ]
  },
  {
   "cell_type": "code",
   "execution_count": null,
   "metadata": {
    "collapsed": true
   },
   "outputs": [],
   "source": [
    "# 308ms 1등!! 길이도 줄였다.\n",
    "import sys\n",
    "c = sorted([tuple(map(int, sys.stdin.readline().split())) for _ in range(int(input()))])\n",
    "c = [f'{i[0]} {i[1]}' for i in c]\n",
    "print('\\n'.join(c))"
   ]
  },
  {
   "cell_type": "markdown",
   "metadata": {},
   "source": [
    "## 3. 11651 좌표 정렬하기2"
   ]
  },
  {
   "cell_type": "markdown",
   "metadata": {},
   "source": [
    "#### 문제\n",
    "2차원 평면 위의 점 N개가 주어진다. 좌표를 y좌표가 증가하는 순으로, y좌표가 같으면 x좌표가 증가하는 순서로 정렬한 다음 출력하는 프로그램을 작성하시오.  \n",
    "  \n",
    "#### 입력\n",
    "첫째 줄에 점의 개수 N (1 ≤ N ≤ 100,000)이 주어진다. 둘째 줄부터 N개의 줄에는 i번점의 위치 xi와 yi가 주어진다.  \n",
    "(-100,000 ≤ xi, yi ≤ 100,000) 좌표는 항상 정수이고, 위치가 같은 두 점은 없다.  \n",
    "  \n",
    "#### 출력\n",
    "첫째 줄부터 N개의 줄에 점을 정렬한 결과를 출력한다.  "
   ]
  },
  {
   "cell_type": "markdown",
   "metadata": {},
   "source": [
    "### ------------------------------------------------------------------------------"
   ]
  },
  {
   "cell_type": "code",
   "execution_count": null,
   "metadata": {
    "collapsed": true
   },
   "outputs": [],
   "source": [
    "import sys\n",
    "c = sorted([tuple(map(int, sys.stdin.readline().split())) for _ in range(int(input()))], key=lambda x: (x[1], x[0]))\n",
    "c = [f'{i[0]} {i[1]}' for i in c]\n",
    "print('\\n'.join(c))"
   ]
  },
  {
   "cell_type": "code",
   "execution_count": null,
   "metadata": {
    "collapsed": true
   },
   "outputs": [],
   "source": [
    "import sys\n",
    "c=sorted([tuple(map(int,sys.stdin.readline().split()[::-1])) for _ in range(int(input()))])\n",
    "c=[f'{i[1]} {i[0]}' for i in c]\n",
    "print('\\n'.join(c))"
   ]
  },
  {
   "cell_type": "markdown",
   "metadata": {},
   "source": [
    "## 4. 10814 나이순 정렬"
   ]
  },
  {
   "cell_type": "markdown",
   "metadata": {},
   "source": [
    "#### 문제\n",
    "온라인 저지에 가입한 사람들의 나이와 이름이 가입한 순서대로 주어진다.  \n",
    "이때, 회원들을 나이가 증가하는 순으로, 나이가 같으면 먼저 가입한 사람이 앞에 오는 순서로 정렬하는 프로그램을 작성하시오.  \n",
    "  \n",
    "#### 입력\n",
    "첫째 줄에 온라인 저지 회원의 수 N이 주어진다. (1 ≤ N ≤ 100,000)  \n",
    "  \n",
    "둘째 줄부터 N개의 줄에는 각 회원의 나이와 이름이 공백으로 구분되어 주어진다.  \n",
    "나이는 1보다 크거나 같으며, 200보다 작거나 같은 정수이고, 이름은 알파벳 대소문자로 이루어져 있고, 길이가 100보다 작거나 같은 문자열이다.  \n",
    "입력은 가입한 순서로 주어진다.  \n",
    "  \n",
    "#### 출력\n",
    "첫째 줄부터 총 N개의 줄에 걸쳐 온라인 저지 회원을 나이 순, 나이가 같으면 가입한 순으로 한 줄에 한 명씩 나이와 이름을 공백으로 구분해 출력한다.  "
   ]
  },
  {
   "cell_type": "markdown",
   "metadata": {},
   "source": [
    "### ------------------------------------------------------------------------------"
   ]
  },
  {
   "cell_type": "markdown",
   "metadata": {},
   "source": [
    "예제입력  \n",
    "3  \n",
    "21 Junkyu  \n",
    "21 Dohyun  \n",
    "20 Sunyoung   "
   ]
  },
  {
   "cell_type": "markdown",
   "metadata": {},
   "source": [
    "얘는 자료형이 달라서 한번에 간단하게 하긴 어렵겠다... 아닌가?"
   ]
  },
  {
   "cell_type": "code",
   "execution_count": null,
   "metadata": {
    "collapsed": true
   },
   "outputs": [],
   "source": [
    "import sys \n",
    "u = sorted([tuple(sys.stdin.readline().split()) for _ in range(int(input()))], key=lambda x: int(x[0]))\n",
    "u = [f'{i[0]} {i[1]}' for i in u]\n",
    "print('\\n'.join(u))"
   ]
  },
  {
   "cell_type": "markdown",
   "metadata": {},
   "source": [
    "## 5. 10825 국영수"
   ]
  },
  {
   "cell_type": "markdown",
   "metadata": {},
   "source": [
    "#### 문제\n",
    "도현이네 반 학생 N명의 이름과 국어, 영어, 수학 점수가 주어진다. 이때, 다음과 같은 조건으로 학생의 성적을 정렬하는 프로그램을 작성하시오.  \n",
    "  \n",
    "국어 점수가 감소하는 순서로  \n",
    "국어 점수가 같으면 영어 점수가 증가하는 순서로  \n",
    "국어 점수와 영어 점수가 같으면 수학 점수가 감소하는 순서로  \n",
    "모든 점수가 같으면 이름이 사전 순으로 증가하는 순서로 (단, 아스키 코드에서 대문자는 소문자보다 작으므로 사전순으로 앞에 온다.)  \n",
    "#### 입력 \n",
    "첫째 줄에 도현이네 반의 학생의 수 N (1 ≤ N ≤ 100,000)이 주어진다.  \n",
    "둘째 줄부터 한 줄에 하나씩 각 학생의 이름, 국어, 영어, 수학 점수가 공백으로 구분해 주어진다.  \n",
    "점수는 1보다 크거나 같고, 100보다 작거나 같은 자연수이다. 이름은 알파벳 대소문자로 이루어진 문자열이고, 길이는 10자리를 넘지 않는다.  \n",
    "  \n",
    "#### 출력\n",
    "문제에 나와있는 정렬 기준으로 정렬한 후 첫째 줄부터 N개의 줄에 걸쳐 각 학생의 이름을 출력한다.  "
   ]
  },
  {
   "cell_type": "markdown",
   "metadata": {},
   "source": [
    "### ------------------------------------------------------------------------------"
   ]
  },
  {
   "cell_type": "markdown",
   "metadata": {},
   "source": [
    "얘는 간단한 방법이 없다네..  \n",
    "https://stackoverflow.com/questions/11476371/sort-by-multiple-keys-using-different-orderings   \n",
    "우선순위가 낮은애들부터 sort해야.  \n",
    "이름, 국어, 영어, 수학"
   ]
  },
  {
   "cell_type": "code",
   "execution_count": null,
   "metadata": {
    "collapsed": true
   },
   "outputs": [],
   "source": [
    "import sys\n",
    "r = [tuple(sys.stdin.readline().split()) for _ in range(int(input()))]\n",
    "r = sorted(sorted(r, key=lambda x: x[0]), key=lambda x: int(x[3]), reverse=True)\n",
    "r = sorted(sorted(r, key=lambda x: int(x[2]), key=lambda x: int(x[1]), reverse=True)\n",
    "r = [i[0] for i in r]\n",
    "print('\\n'.join(r))"
   ]
  },
  {
   "cell_type": "markdown",
   "metadata": {},
   "source": [
    "input을 받을 때 순서를 맞춰주면 정렬 한번만 해도 됨...  \n",
    "국, 영, 수, 이름 순서로 들가게.."
   ]
  },
  {
   "cell_type": "code",
   "execution_count": null,
   "metadata": {
    "collapsed": true
   },
   "outputs": [],
   "source": [
    "import sys\n",
    "r = []\n",
    "for _ in range(int(input())):\n",
    "    n, k, e, m = sys.stdin.readline().split()\n",
    "    r.append((-int(k),int(e), -int(m), n))\n",
    "r.sort()\n",
    "r = [i[3] for i in r]\n",
    "print('\\n'.join(r))"
   ]
  }
 ],
 "metadata": {
  "kernelspec": {
   "display_name": "Python 3",
   "language": "python",
   "name": "python3"
  },
  "language_info": {
   "codemirror_mode": {
    "name": "ipython",
    "version": 3
   },
   "file_extension": ".py",
   "mimetype": "text/x-python",
   "name": "python",
   "nbconvert_exporter": "python",
   "pygments_lexer": "ipython3",
   "version": "3.6.3"
  }
 },
 "nbformat": 4,
 "nbformat_minor": 2
}
