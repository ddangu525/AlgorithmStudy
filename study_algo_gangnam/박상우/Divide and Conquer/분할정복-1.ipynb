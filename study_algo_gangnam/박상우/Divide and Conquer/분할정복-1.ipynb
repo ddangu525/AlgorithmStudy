{
 "cells": [
  {
   "cell_type": "markdown",
   "metadata": {},
   "source": [
    "## 1. 10815 숫자카드"
   ]
  },
  {
   "cell_type": "markdown",
   "metadata": {},
   "source": [
    "#### 문제\n",
    "숫자 카드는 정수 하나가 적혀져 있는 카드이다. 상근이는 숫자 카드 N개를 가지고 있다.  \n",
    "정수 M개가 주어졌을 때, 이 수가 적혀있는 숫자 카드를 상근이가 가지고 있는지 아닌지를 구하는 프로그램을 작성하시오.  \n",
    "  \n",
    "#### 입력\n",
    "첫째 줄에 상근이가 가지고 있는 숫자 카드의 개수 N(1 ≤ N ≤ 500,000)이가 주어진다. 둘째 줄에는 숫자 카드에 적혀있는 정수가 주어진다.   \n",
    "숫자 카드에 적혀있는 수는 -10,000,000보다 크거나 같고, 10,000,000보다 작거나 같다. 두 숫자 카드에 같은 수가 적혀있는 경우는 없다.     \n",
    "  \n",
    "셋째 줄에는 M(1 ≤ M ≤ 500,000)이 주어진다.  \n",
    "넷째 줄에는 상근이가 가지고 있는 숫자 카드인지 아닌지를 구해야 할 M개의 정수가 주어지며, 이 수는 공백으로 구분되어져 있다.  \n",
    "이 수도 -10,000,000보다 크거나 같고, 10,000,000보다 작거나 같다  \n",
    "  \n",
    "#### 출력\n",
    "첫째 줄에 입력으로 주어진 M개의 수에 대해서, 각 수가 적힌 숫자 카드를 상근이가 가지고 있으면 1을, 아니면 0을 공백으로 구분해 출력한다.  "
   ]
  },
  {
   "cell_type": "markdown",
   "metadata": {},
   "source": [
    "### ------------------------------------------------------------------------------"
   ]
  },
  {
   "cell_type": "markdown",
   "metadata": {},
   "source": []
  },
  {
   "cell_type": "code",
   "execution_count": 2,
   "metadata": {
    "scrolled": false
   },
   "outputs": [
    {
     "name": "stdout",
     "output_type": "stream",
     "text": [
      "5\n",
      "6 3 2 10 -10\n",
      "8\n",
      "10 9 -5 2 3 4 5 -10\n",
      "1 0 0 1 1 0 0 1\n"
     ]
    }
   ],
   "source": [
    "N = int(input())\n",
    "cards = {i:1 for i in map(int, input().split())}\n",
    "M = int(input())\n",
    "print(' '.join(map(str, [cards.get(i, 0) for i in map(int, input().split())])))"
   ]
  },
  {
   "cell_type": "markdown",
   "metadata": {},
   "source": [
    "628ms.. "
   ]
  },
  {
   "cell_type": "code",
   "execution_count": 3,
   "metadata": {},
   "outputs": [
    {
     "name": "stdout",
     "output_type": "stream",
     "text": [
      "5\n",
      "6 3 2 10 -10\n",
      "8\n",
      "10 9 -5 2 3 4 5 -10\n",
      "1 0 0 1 1 0 0 1\n"
     ]
    }
   ],
   "source": [
    "N = int(input())\n",
    "cards = set(map(int, input().split()))\n",
    "M = int(input())\n",
    "print(' '.join(map(str, [int(i in cards) for i in map(int, input().split())])))"
   ]
  },
  {
   "cell_type": "markdown",
   "metadata": {},
   "source": [
    "5  \n",
    "6 3 2 10 -10  \n",
    "8  \n",
    "10 9 -5 2 3 4 5 -10  \n",
    "\n",
    "--- \n",
    "1 0 0 1 1 0 0 1"
   ]
  },
  {
   "cell_type": "markdown",
   "metadata": {},
   "source": [
    "## 2. 10816 숫자카드 2"
   ]
  },
  {
   "cell_type": "markdown",
   "metadata": {},
   "source": [
    "#### 문제\n",
    "숫자 카드는 정수 하나가 적혀져 있는 카드이다. 상근이는 숫자 카드 N개를 가지고 있다.  \n",
    "정수 M개가 주어졌을 때, 이 수가 적혀있는 숫자 카드를 상근이가 몇 개 가지고 있는지 구하는 프로그램을 작성하시오.  \n",
    "  \n",
    "#### 입력\n",
    "첫째 줄에 상근이가 가지고 있는 숫자 카드의 개수 N(1 ≤ N ≤ 500,000)이가 주어진다. 둘째 줄에는 숫자 카드에 적혀있는 정수가 주어진다.  \n",
    "숫자 카드에 적혀있는 수는 -10,000,000보다 크거나 같고, 10,000,000보다 작거나 같다.  \n",
    "  \n",
    "셋째 줄에는 M(1 ≤ M ≤ 500,000)이 주어진다.  \n",
    "넷째 줄에는 상근이가 몇 개 가지고 있는 숫자 카드인지 구해야 할 M개의 정수가 주어지며, 이 수는 공백으로 구분되어져 있다.  \n",
    "이수도 -10,000,000보다 크거나 같고, 10,000,000보다 작거나 같다.  \n",
    "  \n",
    "#### 출력\n",
    "첫째 줄에 입력으로 주어진 M개의 수에 대해서, 각 수가 적힌 숫자 카드를 상근이가 몇 개 가지고 있는지를 공백으로 구분해 출력한다.  "
   ]
  },
  {
   "cell_type": "markdown",
   "metadata": {},
   "source": [
    "### ------------------------------------------------------------------------------"
   ]
  },
  {
   "cell_type": "markdown",
   "metadata": {},
   "source": [
    "얘는 몇장있는지...Counter 쓰자."
   ]
  },
  {
   "cell_type": "code",
   "execution_count": null,
   "metadata": {
    "collapsed": true
   },
   "outputs": [],
   "source": [
    "from collections import Counter\n",
    "N = int(input())\n",
    "cards = Counter(map(int, input().split()))\n",
    "M = int(input())\n",
    "print(' '.join(map(str, [cards[i] for i in map(int, input().split())])))"
   ]
  },
  {
   "cell_type": "markdown",
   "metadata": {},
   "source": [
    "정수로 할필요가 없네 참.. 느려지기만.."
   ]
  },
  {
   "cell_type": "code",
   "execution_count": 5,
   "metadata": {},
   "outputs": [
    {
     "name": "stdout",
     "output_type": "stream",
     "text": [
      "5\n",
      "1 2 3 2 2\n",
      "5\n",
      "4 3 5 2 1\n",
      "0 1 0 3 1\n"
     ]
    }
   ],
   "source": [
    "from collections import Counter\n",
    "N = int(input())\n",
    "cards = Counter(input().split())\n",
    "M = int(input())\n",
    "print(' '.join([str(cards[i]) for i in input().split()]))"
   ]
  },
  {
   "cell_type": "markdown",
   "metadata": {},
   "source": [
    "628ms!!"
   ]
  },
  {
   "cell_type": "markdown",
   "metadata": {},
   "source": [
    "## 3. 11728 배열 합치기"
   ]
  },
  {
   "cell_type": "markdown",
   "metadata": {},
   "source": [
    "#### 문제\n",
    "정렬되어있는 두 배열 A와 B가 주어진다. 두 배열을 합친 다음 정렬해서 출력하는 프로그램을 작성하시오.  \n",
    "  \n",
    "#### 입력\n",
    "첫째 줄에 배열 A의 크기 N, 배열 B의 크기 M이 주어진다. (1 ≤ N, M ≤ 1,000,000)  \n",
    "  \n",
    "둘째 줄에는 배열 A의 내용이, 셋째 줄에는 배열 B의 내용이 주어진다. 배열에 들어있는 수는 절댓값이 $10^9$보다 작거나 같은 정수이다.  \n",
    "  \n",
    "#### 출력\n",
    "첫째 줄에 두 배열을 합친 후 정렬한 결과를 출력한다.  "
   ]
  },
  {
   "cell_type": "markdown",
   "metadata": {},
   "source": [
    "### ------------------------------------------------------------------------------"
   ]
  },
  {
   "cell_type": "markdown",
   "metadata": {},
   "source": [
    "merge sort에서 합치는 과정..index로.."
   ]
  },
  {
   "cell_type": "code",
   "execution_count": 6,
   "metadata": {},
   "outputs": [
    {
     "name": "stdout",
     "output_type": "stream",
     "text": [
      "4 4\n",
      "1 2 3 4\n",
      "2 3 3 5\n",
      " B나머지 추가. B[r:] = [5]\n",
      "1 2 2 3 3 3 4 5\n"
     ]
    }
   ],
   "source": [
    "N, M = map(int, input().split())\n",
    "*A, = map(int, input().split())\n",
    "*B, = map(int, input().split())\n",
    "l = r = 0\n",
    "ans = []\n",
    "while l<N and r<M:\n",
    "    if A[l]<B[r]:             # A의 원소가 더 작은경우..\n",
    "        ans.append(A[l])      # 먼저 추가해주고 \n",
    "        l += 1                # A 인덱스 증가.\n",
    "    elif A[l]>B[r]:           # B가 더 작은경우.\n",
    "        ans.append(B[r])\n",
    "        r += 1\n",
    "    # 같은경우. 둘 다 추가. 이렇게 안하는게 나으려나..? 일단 그냥 해보기. \n",
    "    # 이러면 while 빠져나간 후도 조건이 하나 더 붙음...\n",
    "    else:                     \n",
    "        ans.extend([A[l]]*2)\n",
    "        l += 1\n",
    "        r += 1\n",
    "if r < M:      # A의 원소 다 쓰고 B가 남은경우..\n",
    "    print(f' B나머지 추가. B[r:] = {B[r:]}')\n",
    "    ans.extend(B[r:])   # B 나머지 뒤에 붙임.\n",
    "elif l < N:    # B의 원소 다 쓰고 A가 남은경우.\n",
    "    print(f' A나머지 추가. A[l:] = {A[l:]}')\n",
    "    ans.extend(A[l:])\n",
    "print(' '.join(map(str, ans)))\n",
    "    "
   ]
  },
  {
   "cell_type": "markdown",
   "metadata": {},
   "source": [
    "2072 ms.."
   ]
  },
  {
   "cell_type": "code",
   "execution_count": 5,
   "metadata": {},
   "outputs": [
    {
     "name": "stdout",
     "output_type": "stream",
     "text": [
      "4 3\n",
      "2 3 5 8\n",
      "1 4 7\n",
      "1 2 3 4 5 7 8\n"
     ]
    }
   ],
   "source": [
    "# 합치는 과정에서 값이 같은경우 왼쪽 먼저 쓰도록.\n",
    "\n",
    "N, M = map(int, input().split())\n",
    "*A, = map(int, input().split())\n",
    "*B, = map(int, input().split())\n",
    "l = r = 0\n",
    "ans = []\n",
    "while l<N and r<M:\n",
    "    if A[l]<=B[r]:             # A의 원소가 더 작은경우..\n",
    "        ans.append(A[l])      # 먼저 추가해주고 \n",
    "        l += 1                # A 인덱스 증가.\n",
    "    elif A[l]>B[r]:           # B가 더 작은경우.\n",
    "        ans.append(B[r])\n",
    "        r += 1\n",
    "    \n",
    "if r < M:      # A의 원소 다 쓰고 B가 남은경우..\n",
    "    ans.extend(B[r:])   # B 나머지 뒤에 붙임.\n",
    "else:         # B의 원소 다 쓰고 A가 남은경우.\n",
    "    ans.extend(A[l:])\n",
    "print(' '.join(map(str, ans)))"
   ]
  },
  {
   "cell_type": "markdown",
   "metadata": {},
   "source": [
    "1940 ms 별 차이 없네... 느리당.. 1등 892ms.. 어떻게 하면 더 빠를까?? 일단 A를 정렬된 배열로 생각하고 B를 input받을 때   \n",
    "A에다가 이분탐색으로 원소 추가??   \n",
    "1. 그냥 두 개 합쳐서 sort해보기.  \n",
    "2. "
   ]
  },
  {
   "cell_type": "code",
   "execution_count": 7,
   "metadata": {},
   "outputs": [
    {
     "name": "stdout",
     "output_type": "stream",
     "text": [
      "3 3\n",
      "1 4 7\n",
      "2 3 4\n",
      "1 2 3 4 4 7\n"
     ]
    }
   ],
   "source": [
    "# 1. 두 배열 합쳐서 그냥 다시 sort()\n",
    "N, M = map(int, input().split())\n",
    "*A, = map(int, input().split())\n",
    "*B, = map(int, input().split())\n",
    "print(' '.join(map(str, sorted(A+B))))"
   ]
  },
  {
   "cell_type": "markdown",
   "metadata": {},
   "source": [
    "1296 ms.. 왜 더 빠를까..."
   ]
  },
  {
   "cell_type": "code",
   "execution_count": 9,
   "metadata": {
    "scrolled": true
   },
   "outputs": [
    {
     "name": "stdout",
     "output_type": "stream",
     "text": [
      "4 4\n",
      "1 2 3 5\n",
      "2 3 4 7\n",
      "1 2 2 3 3 4 5 7\n"
     ]
    }
   ],
   "source": [
    "# 1-1 좀 더 다듬기....\n",
    "input()\n",
    "*A, = map(int, input().split())\n",
    "A += map(int, input().split())\n",
    "print(' '.join(map(str, sorted(A))))"
   ]
  },
  {
   "cell_type": "code",
   "execution_count": 10,
   "metadata": {},
   "outputs": [
    {
     "name": "stdout",
     "output_type": "stream",
     "text": [
      "3 3\n",
      "1 2 5\n",
      "2 4 7\n",
      "1 2 2 4 5 7\n"
     ]
    }
   ],
   "source": [
    "# string으로 한번에정렬하기..  \n",
    "input()\n",
    "print(' '.join(sorted(input().split()+input().split())))\n",
    "\n",
    "# 이러면 음수 정렬이 안된다.... -1, -2, -4, 이렇게 됨..."
   ]
  },
  {
   "cell_type": "code",
   "execution_count": 12,
   "metadata": {},
   "outputs": [
    {
     "name": "stdout",
     "output_type": "stream",
     "text": [
      "4 4\n",
      "-1 -2 -6 9\n",
      "9 2 3\n",
      "-6 -2 -1 2 3 9 9\n"
     ]
    }
   ],
   "source": [
    "i=input\n",
    "i()\n",
    "print(' '.join(map(str, sorted(map(int, i().split()+i().split())))))"
   ]
  },
  {
   "cell_type": "code",
   "execution_count": 14,
   "metadata": {},
   "outputs": [
    {
     "name": "stdout",
     "output_type": "stream",
     "text": [
      "4 4\n",
      "1 3 5 7\n",
      "2 3 4 8\n",
      "1 2 3 3 4 5 7 8\n"
     ]
    }
   ],
   "source": [
    "import bisect\n",
    "input()\n",
    "*A, = map(int, input().split())\n",
    "*B, = map(int, input().split())\n",
    "for i in B:\n",
    "    bisect.insort(A, i)\n",
    "print(' '.join(map(str, A)))"
   ]
  },
  {
   "cell_type": "markdown",
   "metadata": {},
   "source": [
    "음 이게 오히려 시간초과.. 이분탐색 자체도 시간걸리고, 리스트에 삽입하는것도 시간이 많이 걸린다.."
   ]
  },
  {
   "cell_type": "code",
   "execution_count": null,
   "metadata": {
    "collapsed": true
   },
   "outputs": [],
   "source": [
    "# 백준!!!! string형식으로 된 수를 정렬할 때 key를 int로 하면 제대로 정렬이 되는구나..!!!\n",
    "input()\n",
    "print(\" \".join(sorted(input().split()+input().split(),key=int)))"
   ]
  },
  {
   "cell_type": "markdown",
   "metadata": {},
   "source": [
    "1004ms.. 더 빠르게 어떻게 했을까?? 뽀록인가.."
   ]
  },
  {
   "cell_type": "code",
   "execution_count": 15,
   "metadata": {},
   "outputs": [
    {
     "name": "stdout",
     "output_type": "stream",
     "text": [
      "3 5\n",
      "1 4 7 9\n",
      "2 3 5 6 8 10\n",
      "1 2 3 4 5 6 7 8 9 10\n"
     ]
    }
   ],
   "source": [
    "from collections import deque\n",
    "input()\n",
    "A = deque(map(int, input().split()))\n",
    "B = deque(map(int, input().split()))\n",
    "ans = deque()\n",
    "while A and B:\n",
    "    if A[0]<=B[0]:\n",
    "        ans.append(A.popleft())\n",
    "    else:\n",
    "        ans.append(B.popleft())\n",
    "if A:\n",
    "    ans.extend(A)\n",
    "else:\n",
    "    ans.extend(B)\n",
    "print(' '.join(map(str, ans)))\n",
    "    "
   ]
  },
  {
   "cell_type": "markdown",
   "metadata": {},
   "source": [
    "1760 ms.."
   ]
  },
  {
   "cell_type": "code",
   "execution_count": 16,
   "metadata": {
    "scrolled": true
   },
   "outputs": [
    {
     "name": "stdout",
     "output_type": "stream",
     "text": [
      "3 5\n",
      "2 5 8\n",
      "1 2 5 7 9\n"
     ]
    },
    {
     "ename": "TypeError",
     "evalue": "sequence index must be integer, not 'slice'",
     "output_type": "error",
     "traceback": [
      "\u001b[1;31m---------------------------------------------------------------------------\u001b[0m",
      "\u001b[1;31mTypeError\u001b[0m                                 Traceback (most recent call last)",
      "\u001b[1;32m<ipython-input-16-c7658efdc138>\u001b[0m in \u001b[0;36m<module>\u001b[1;34m()\u001b[0m\n\u001b[0;32m     14\u001b[0m \u001b[1;33m\u001b[0m\u001b[0m\n\u001b[0;32m     15\u001b[0m \u001b[1;32mif\u001b[0m \u001b[0mr\u001b[0m \u001b[1;33m<\u001b[0m \u001b[0mM\u001b[0m\u001b[1;33m:\u001b[0m      \u001b[1;31m# A의 원소 다 쓰고 B가 남은경우..\u001b[0m\u001b[1;33m\u001b[0m\u001b[0m\n\u001b[1;32m---> 16\u001b[1;33m     \u001b[0mans\u001b[0m\u001b[1;33m.\u001b[0m\u001b[0mextend\u001b[0m\u001b[1;33m(\u001b[0m\u001b[0mB\u001b[0m\u001b[1;33m[\u001b[0m\u001b[0mr\u001b[0m\u001b[1;33m:\u001b[0m\u001b[1;33m]\u001b[0m\u001b[1;33m)\u001b[0m   \u001b[1;31m# B 나머지 뒤에 붙임.\u001b[0m\u001b[1;33m\u001b[0m\u001b[0m\n\u001b[0m\u001b[0;32m     17\u001b[0m \u001b[1;32melse\u001b[0m\u001b[1;33m:\u001b[0m         \u001b[1;31m# B의 원소 다 쓰고 A가 남은경우.\u001b[0m\u001b[1;33m\u001b[0m\u001b[0m\n\u001b[0;32m     18\u001b[0m     \u001b[0mans\u001b[0m\u001b[1;33m.\u001b[0m\u001b[0mextend\u001b[0m\u001b[1;33m(\u001b[0m\u001b[0mA\u001b[0m\u001b[1;33m[\u001b[0m\u001b[0ml\u001b[0m\u001b[1;33m:\u001b[0m\u001b[1;33m]\u001b[0m\u001b[1;33m)\u001b[0m\u001b[1;33m\u001b[0m\u001b[0m\n",
      "\u001b[1;31mTypeError\u001b[0m: sequence index must be integer, not 'slice'"
     ]
    }
   ],
   "source": [
    "from collections import deque\n",
    "N, M = map(int, input().split())\n",
    "A = deque(map(int, input().split()))\n",
    "B = deque(map(int, input().split()))\n",
    "ans = deque()\n",
    "l = r = 0\n",
    "while l<N and r<M:\n",
    "    if A[l]<=B[r]:             # A의 원소가 더 작은경우..\n",
    "        ans.append(A[l])      # 먼저 추가해주고 \n",
    "        l += 1                # A 인덱스 증가.\n",
    "    elif A[l]>B[r]:           # B가 더 작은경우.\n",
    "        ans.append(B[r])\n",
    "        r += 1\n",
    "    \n",
    "if r < M:      # A의 원소 다 쓰고 B가 남은경우..\n",
    "    ans.extend(B[r:])   # B 나머지 뒤에 붙임.\n",
    "else:         # B의 원소 다 쓰고 A가 남은경우.\n",
    "    ans.extend(A[l:])\n",
    "print(' '.join(map(str, ans)))"
   ]
  },
  {
   "cell_type": "markdown",
   "metadata": {},
   "source": [
    "deque는 slice가 안되네..."
   ]
  },
  {
   "cell_type": "code",
   "execution_count": 17,
   "metadata": {},
   "outputs": [
    {
     "name": "stdout",
     "output_type": "stream",
     "text": [
      "5 3\n",
      "1 5 8 9 14\n",
      "2 4 6\n",
      "1 2 4 5 6 8 9 14\n"
     ]
    }
   ],
   "source": [
    "# append 대신 대입..\n",
    "N, M = map(int, input().split())\n",
    "*A, = map(int, input().split())\n",
    "*B, = map(int, input().split())\n",
    "l = r = k = 0\n",
    "ans = [None]*(N+M)\n",
    "while l<N and r<M:\n",
    "    if A[l]<=B[r]:             # A의 원소가 더 작은경우..\n",
    "        ans[k] = A[l]\n",
    "        l += 1                # A 인덱스 증가.\n",
    "        k += 1                # ans 인덱스 증가..\n",
    "    elif A[l]>B[r]:           # B가 더 작은경우.\n",
    "        ans[k] = B[r]\n",
    "        r += 1\n",
    "        k += 1\n",
    "if r < M:      # A의 원소 다 쓰고 B가 남은경우..\n",
    "    ans[k:] = B[r:]   # B 나머지 뒤에 붙임.\n",
    "else:         # B의 원소 다 쓰고 A가 남은경우.\n",
    "    ans[k:] = A[l:]\n",
    "print(' '.join(map(str, ans))) "
   ]
  },
  {
   "cell_type": "markdown",
   "metadata": {},
   "source": [
    "2124ms.. 오히려 느려졌네.."
   ]
  },
  {
   "cell_type": "code",
   "execution_count": 18,
   "metadata": {
    "scrolled": true
   },
   "outputs": [
    {
     "name": "stdout",
     "output_type": "stream",
     "text": [
      "6 4\n",
      "-9 -3 -1 0 3 8\n",
      "-3 -2 0 1\n",
      "-9 -3 -3 -2 -1 0 0 1 3 8\n"
     ]
    }
   ],
   "source": [
    "# 최대한 string으로...\n",
    "N, M = map(int, input().split())\n",
    "A = input().split()\n",
    "B = input().split()\n",
    "l = r = 0\n",
    "ans = []\n",
    "while l<N and r<M:\n",
    "    if int(A[l])<=int(B[r]):  # A의 원소가 더 작거나 같은 경우..\n",
    "        ans.append(A[l])      # 먼저 추가해주고 \n",
    "        l += 1                # A 인덱스 증가.\n",
    "    else:                     # B가 더 작은경우.\n",
    "        ans.append(B[r])\n",
    "        r += 1\n",
    "if r < M:      # A의 원소 다 쓰고 B가 남은경우..\n",
    "    ans.extend(B[r:])   # B 나머지 뒤에 붙임.\n",
    "else:         # B의 원소 다 쓰고 A가 남은경우.\n",
    "    ans.extend(A[l:])\n",
    "print(' '.join(ans))"
   ]
  },
  {
   "cell_type": "markdown",
   "metadata": {},
   "source": [
    "1988ms... 진짜 왜 그냥 sort하는게 더 빠를까???  \n",
    "파이썬 기본 정렬 알고리즘은 Timsort..  \n",
    "https://medium.com/@fiv3star/python-sorted-%EC%95%8C%EA%B3%A0%EB%A6%AC%EC%A6%98-timsort-dca0ec7a08be  \n",
    "https://orchistro.tistory.com/175  참고  \n",
    "merge sort를 최적화한 것..  \n",
    "원소의 개수가 64개 이하라면 이진삽입정렬이 가장 빠르다...   "
   ]
  }
 ],
 "metadata": {
  "kernelspec": {
   "display_name": "Python 3",
   "language": "python",
   "name": "python3"
  },
  "language_info": {
   "codemirror_mode": {
    "name": "ipython",
    "version": 3
   },
   "file_extension": ".py",
   "mimetype": "text/x-python",
   "name": "python",
   "nbconvert_exporter": "python",
   "pygments_lexer": "ipython3",
   "version": "3.6.3"
  }
 },
 "nbformat": 4,
 "nbformat_minor": 2
}
