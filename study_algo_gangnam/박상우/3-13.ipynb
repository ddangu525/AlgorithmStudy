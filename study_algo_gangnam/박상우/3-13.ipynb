{
 "cells": [
  {
   "cell_type": "markdown",
   "metadata": {},
   "source": [
    "## 1. 블록게임"
   ]
  },
  {
   "cell_type": "markdown",
   "metadata": {},
   "source": [
    "프렌즈 블록이라는 신규 게임이 출시되었고, 어마어마한 상금이 걸린 이벤트 대회가 개최 되었다.  \n",
    "  \n",
    "이 대회는 사람을 대신해서 플레이할 프로그램으로 참가해도 된다는 규정이 있어서, 게임 실력이 형편없는 프로도는 프로그램을 만들어서 참가하기로 결심하고 개발을 시작하였다.  \n",
    "  \n",
    "프로도가 우승할 수 있도록 도와서 빠르고 정확한 프로그램을 작성해 보자.  \n",
    "  \n",
    "### 게임규칙\n",
    "아래 그림과 같이 1×1 크기의 블록을 이어 붙여 만든 3 종류의 블록을 회전해서 총 12가지 모양의 블록을 만들 수 있다.  \n",
    "   \n",
    "<img src=\"https://grepp-programmers.s3.amazonaws.com/files/production/1b22ebaad2/13a37af2-2ed1-4312-aae4-94ba9ef21679.png\">\n",
    "    \n",
    "1 x 1 크기의 정사각형으로 이루어진 N x N 크기의 보드 위에 이 블록들이 배치된 채로 게임이 시작된다.(보드 위에 놓인 블록은 회전할 수 없다).  \n",
    "모든 블록은 블록을 구성하는 사각형들이 정확히 보드 위의 사각형에 맞도록 놓여있으며, 선 위에 걸치거나 보드를 벗어나게 놓여있는 경우는 없다.  \n",
    "  \n",
    "플레이어는 위쪽에서 1 x 1 크기의 검은 블록을 떨어뜨려 쌓을 수 있다. 검은 블록은 항상 맵의 한 칸에 꽉 차게 떨어뜨려야 하며, 줄에 걸치면 안된다.   \n",
    "이때, 검은 블록과 기존에 놓인 블록을 합해 속이 꽉 채워진 직사각형을 만들 수 있다면 그 블록을 없앨 수 있다.  \n",
    "  \n",
    "예를 들어 검은 블록을 떨어뜨려 아래와 같이 만들 경우 주황색 블록을 없앨 수 있다.  \n",
    "   \n",
    "<img src=\"https://grepp-programmers.s3.amazonaws.com/files/production/d56e9f9068/8ed8b26d-6a1a-4543-b4ee-60f8f287e748.png\">  \n",
    "  \n",
    "빨간 블록을 가로막던 주황색 블록이 없어졌으므로 다음과 같이 빨간 블록도 없앨 수 있다.  \n",
    "  \n",
    "<img src=\"https://grepp-programmers.s3.amazonaws.com/files/production/a3ca48b567/010e4297-4499-4ea4-987d-4b42e2fc4c3c.png\">  \n",
    "  \n",
    "그러나 다른 블록들은 검은 블록을 떨어뜨려 직사각형으로 만들 수 없기 때문에 없앨 수 없다.    \n",
    "    \n",
    "따라서 위 예시에서 없앨 수 있는 블록은 최대 2개이다.  \n",
    "  \n",
    "보드 위에 놓인 블록의 상태가 담긴 2차원 배열 board가 주어질 때, 검은 블록을 떨어뜨려 없앨 수 있는 블록 개수의 최댓값을 구하라.  \n",
    "  \n",
    "### 제한사항 \n",
    "board는 블록의 상태가 들어있는 N x N 크기 2차원 배열이다.  \n",
    "N은 4 이상 50 이하다.  \n",
    "board의 각 행의 원소는 0 이상 200 이하의 자연수이다.  \n",
    "0 은 빈 칸을 나타낸다.  \n",
    "board에 놓여있는 각 블록은 숫자를 이용해 표현한다.  \n",
    "잘못된 블록 모양이 주어지는 경우는 없다.  \n",
    "모양에 관계 없이 서로 다른 블록은 서로 다른 숫자로 표현된다.  \n",
    "예를 들어 문제에 주어진 예시의 경우 다음과 같이 주어진다.  \n",
    "  \n",
    "<img src=\"https://grepp-programmers.s3.amazonaws.com/files/production/4d16d87605/9f555cf3-e664-44c4-8567-e01445b9b3b6.png\">\n",
    "  \n",
    "### 입출력 예\n",
    "board  \n",
    "[[0,0,0,0,0,0,0,0,0,0],  \n",
    "[0,0,0,0,0,0,0,0,0,0],  \n",
    "[0,0,0,0,0,0,0,0,0,0],  \n",
    "[0,0,0,0,0,0,0,0,0,0],  \n",
    "[0,0,0,0,0,0,4,0,0,0],  \n",
    "[0,0,0,0,0,4,4,0,0,0],  \n",
    "[0,0,0,0,3,0,4,0,0,0],  \n",
    "[0,0,0,2,3,0,0,0,5,5],  \n",
    "[1,2,2,2,3,3,0,0,0,5],  \n",
    "[1,1,1,0,0,0,0,0,0,5]] \n",
    "  \n",
    "result  \n",
    "2    \n",
    "  \n",
    "### 입출력 예 설명\n",
    "입출력 예 #1  \n",
    "문제에 주어진 예시와 같음"
   ]
  },
  {
   "cell_type": "markdown",
   "metadata": {},
   "source": [
    "### ------------------------------------------------------------------------------"
   ]
  },
  {
   "cell_type": "markdown",
   "metadata": {},
   "source": [
    "board의 상태가 주어졌을 때 몇 개를 없앨 수 있는지...  \n",
    "가로로 두 개를 붙이거나, 세로로 두 개를 붙이는 경우, 그리고 ㅗ모양일 때 양 옆에 붙이는 세 case 뿐이다.  \n",
    "위에서부터 검사해서 없애고, 재귀적으로 호출하기"
   ]
  },
  {
   "cell_type": "code",
   "execution_count": null,
   "metadata": {
    "collapsed": true
   },
   "outputs": [],
   "source": [
    "def solution(board):\n",
    "    N = len(board)\n",
    "    answer = 0\n",
    "    check = [True]*N  # 각 column에 놓는게 가능한지..\n",
    "    def go():\n",
    "        nonlocal answer\n",
    "        # 위에서부터 검사!\n",
    "        for y in range(N):\n",
    "            for x in range(N):\n",
    "                if board[y][x] and check[x]:\n",
    "                    cb = board[y][x]\n",
    "                    # case 1  ㄴ 모양\n",
    "                    if x<N-2 and y<N-1 and all(i==cb for i in (board[y+1][x], board[y+1][x+1], board[y+1][x+2])):\n",
    "                        if (board[y][x+1], board[y][x+2]) == (0,0):\n",
    "                            board[y][x] = board[y+1][x] = board[y+1][x+1] = board[y+1][x+2] = 0\n",
    "                            answer += 1\n",
    "                            go()\n",
    "                    # case 2  ㅗ 모양\n",
    "                    if x>0 and x<N-1 and y<N-1 and all(i==cb for i in (board[y+1][x-1], board[y+1][x], board[y+1][x+1])):\n",
    "                        if (board[y][x-1], board[y][x+1]) == (0,0):\n",
    "                            board[y][x] = board[y+1][x-1] = board[y+1][x] = board[y+1][x+1] = 0\n",
    "                            answer += 1\n",
    "                            go()\n",
    "                    # case 3   ㄴ 대칭모양\n",
    "                    if x>1 and y<N-1 and all(i==cb for i in (board[y+1][x-2], board[y+1][x-1], board[y+1][x])):    \n",
    "                        if (board[y][x-1], board[y][x-2]) == (0,0):\n",
    "                            board[y][x] = board[y+1][x-2] = board[y+1][x-1] = board[y+1][x] = 0\n",
    "                            answer += 1\n",
    "                            go()\n",
    "    go()\n",
    "    return answer"
   ]
  },
  {
   "cell_type": "markdown",
   "metadata": {},
   "source": [
    "위에가 안되면 밑에도 안되게 해야하는데... 놓을 수 없는 컬럼을 체크하면 될듯.. 다시짜야.."
   ]
  },
  {
   "cell_type": "code",
   "execution_count": null,
   "metadata": {
    "collapsed": true
   },
   "outputs": [],
   "source": []
  },
  {
   "cell_type": "markdown",
   "metadata": {},
   "source": [
    "## 2. 14502 연구소"
   ]
  },
  {
   "cell_type": "markdown",
   "metadata": {},
   "source": [
    "#### 문제\n",
    "인체에 치명적인 바이러스를 연구하던 연구소에서 바이러스가 유출되었다.  \n",
    "다행히 바이러스는 아직 퍼지지 않았고, 바이러스의 확산을 막기 위해서 연구소에 벽을 세우려고 한다.  \n",
    "   \n",
    "연구소는 크기가 N×M인 직사각형으로 나타낼 수 있으며, 직사각형은 1×1 크기의 정사각형으로 나누어져 있다.  \n",
    "연구소는 빈 칸, 벽으로 이루어져 있으며, 벽은 칸 하나를 가득 차지한다.   \n",
    "  \n",
    "일부 칸은 바이러스가 존재하며, 이 바이러스는 상하좌우로 인접한 빈 칸으로 모두 퍼져나갈 수 있다.  \n",
    "새로 세울 수 있는 벽의 개수는 3개이며, 꼭 3개를 세워야 한다.  \n",
    "  \n",
    "예를 들어, 아래와 같이 연구소가 생긴 경우를 살펴보자.  \n",
    "  \n",
    "2 0 0 0 1 1 0  \n",
    "0 0 1 0 1 2 0  \n",
    "0 1 1 0 1 0 0  \n",
    "0 1 0 0 0 0 0  \n",
    "0 0 0 0 0 1 1  \n",
    "0 1 0 0 0 0 0  \n",
    "0 1 0 0 0 0 0  \n",
    "이때, 0은 빈 칸, 1은 벽, 2는 바이러스가 있는 곳이다. 아무런 벽을 세우지 않는다면, 바이러스는 모든 빈 칸으로 퍼져나갈 수 있다.  \n",
    "  \n",
    "2행 1열, 1행 2열, 4행 6열에 벽을 세운다면 지도의 모양은 아래와 같아지게 된다.  \n",
    "  \n",
    "2 1 0 0 1 1 0  \n",
    "1 0 1 0 1 2 0  \n",
    "0 1 1 0 1 0 0  \n",
    "0 1 0 0 0 1 0  \n",
    "0 0 0 0 0 1 1  \n",
    "0 1 0 0 0 0 0  \n",
    "0 1 0 0 0 0 0  \n",
    "바이러스가 퍼진 뒤의 모습은 아래와 같아진다.  \n",
    "  \n",
    "2 1 0 0 1 1 2  \n",
    "1 0 1 0 1 2 2  \n",
    "0 1 1 0 1 2 2  \n",
    "0 1 0 0 0 1 2  \n",
    "0 0 0 0 0 1 1  \n",
    "0 1 0 0 0 0 0  \n",
    "0 1 0 0 0 0 0  \n",
    "벽을 3개 세운 뒤, 바이러스가 퍼질 수 없는 곳을 안전 영역이라고 한다. 위의 지도에서 안전 영역의 크기는 27이다.  \n",
    "  \n",
    "연구소의 지도가 주어졌을 때 얻을 수 있는 안전 영역 크기의 최댓값을 구하는 프로그램을 작성하시오.  \n",
    "  \n",
    "#### 입력\n",
    "첫째 줄에 지도의 세로 크기 N과 가로 크기 M이 주어진다. (3 ≤ N, M ≤ 8)  \n",
    "  \n",
    "둘째 줄부터 N개의 줄에 지도의 모양이 주어진다. 0은 빈 칸, 1은 벽, 2는 바이러스가 있는 위치이다.  \n",
    "2의 개수는 2보다 크거나 같고, 10보다 작거나 같은 자연수이다.  \n",
    "  \n",
    "빈 칸의 개수는 3개 이상이다.  \n",
    "  \n",
    "#### 출력\n",
    "첫째 줄에 얻을 수 있는 안전 영역의 최대 크기를 출력한다.  "
   ]
  },
  {
   "cell_type": "markdown",
   "metadata": {},
   "source": [
    "### ------------------------------------------------------------------------------"
   ]
  },
  {
   "cell_type": "code",
   "execution_count": null,
   "metadata": {
    "collapsed": true
   },
   "outputs": [],
   "source": []
  },
  {
   "cell_type": "markdown",
   "metadata": {},
   "source": [
    "## 3. 17069 파이프 옮기기 2"
   ]
  },
  {
   "cell_type": "markdown",
   "metadata": {},
   "source": [
    "#### 문제\n",
    "유현이가 새 집으로 이사했다. 새 집의 크기는 N×N의 격자판으로 나타낼 수 있고, 1×1크기의 정사각형 칸으로 나누어져 있다.  \n",
    "각각의 칸은 (r, c)로 나타낼 수 있다. 여기서 r은 행의 번호, c는 열의 번호이고, 행과 열의 번호는 1부터 시작한다.  \n",
    "각각의 칸은 빈 칸이거나 벽이다.  \n",
    "  \n",
    "오늘은 집 수리를 위해서 파이프 하나를 옮기려고 한다. 파이프는 아래와 같은 형태이고, 2개의 연속된 칸을 차지하는 크기이다.  \n",
    "  \n",
    "<img src=\"https://upload.acmicpc.net/3ceac594-87df-487d-9152-c532f7136e1e/-/preview/\" width=\"200\">\n",
    "  \n",
    "파이프는 회전시킬 수 있으며, 아래와 같이 3가지 방향이 가능하다.  \n",
    "  \n",
    "<img src=\"https://upload.acmicpc.net/b29efafa-dbae-4522-809c-76d5c184a231/-/preview/\" width=\"700\">\n",
    "\n",
    "파이프는 매우 무겁기 때문에, 유현이는 파이프를 밀어서 이동시키려고 한다.  \n",
    "벽에는 새로운 벽지를 발랐기 때문에, 파이프가 벽을 긁으면 안된다. 즉, 파이프는 항상 빈 칸만 차지해야 한다.  \n",
    "  \n",
    "파이프를 밀 수 있는 방향은 총 3가지가 있으며, →, ↘, ↓ 방향이다. 파이프는 밀면서 회전시킬 수 있다.  \n",
    "회전은 45도만 회전시킬 수 있으며, 미는 방향은 오른쪽, 아래, 또는 오른쪽 아래 대각선 방향이어야 한다.  \n",
    "  \n",
    "파이프가 가로로 놓여진 경우에 가능한 이동 방법은 총 2가지, 세로로 놓여진 경우에는 2가지, 대각선 방향으로 놓여진 경우에는 3가지가 있다.  \n",
    "아래 그림은 파이프가 놓여진 방향에 따라서 이동할 수 있는 방법을 모두 나타낸 것이고, 꼭 빈 칸이어야 하는 곳은 색으로 표시되어져 있다.  \n",
    "  \n",
    "<img src=\"https://upload.acmicpc.net/0f445b26-4e5b-4169-8a1a-89c9e115907e/-/preview/\" width=\"400\">\n",
    "  \n",
    "가로  \n",
    "\n",
    "<img src=\"https://upload.acmicpc.net/045d071f-0ea2-4ab5-a8db-61c215e7e7b7/-/preview/\" width=\"400\">  \n",
    "  \n",
    "세로  \n",
    "  \n",
    "<img src=\"https://upload.acmicpc.net/ace5e982-6a52-4982-b51d-6c33c6b742bf/-/preview/\" width=\"600\">  \n",
    "  \n",
    "대각선  \n",
    "  \n",
    "가장 처음에 파이프는 (1, 1)와 (1, 2)를 차지하고 있고, 방향은 가로이다. 파이프의 한쪽 끝을 (N, N)로 이동시키는 방법의 개수를 구해보자.  \n",
    "#### 입력\n",
    "첫째 줄에 집의 크기 N(3 ≤ N ≤ 32)이 주어진다. 둘째 줄부터 N개의 줄에는 집의 상태가 주어진다.  \n",
    "빈 칸은 0, 벽은 1로 주어진다. (1, 1)과 (1, 2)는 항상 빈 칸이다.  \n",
    "  \n",
    "#### 출력\n",
    "첫째 줄에 파이프의 한쪽 끝을 (N, N)으로 이동시키는 방법의 수를 출력한다. 이동시킬 수 없는 경우에는 0을 출력한다.  "
   ]
  },
  {
   "cell_type": "markdown",
   "metadata": {},
   "source": [
    "### ------------------------------------------------------------------------------"
   ]
  },
  {
   "cell_type": "markdown",
   "metadata": {},
   "source": [
    "A형 1번이랑 조건은 좀 다르다. 시작할때 방향 고정이고, 도착할때도 앞부분만 도착하면 됨.."
   ]
  },
  {
   "cell_type": "code",
   "execution_count": null,
   "metadata": {
    "collapsed": true
   },
   "outputs": [],
   "source": [
    "from collections import deque\n",
    "# import sys\n",
    "# input = sys.stdin.readline\n",
    "N = int(input())\n",
    "house = [list(map(int, input().split())) for _ in range(N)]\n",
    "\n",
    "# 시험볼땐 현재위치와 방향이 가능한지 판단.. 가능하면 다른 세 방향으로 큐 추가.\n",
    "def check(x,y,d,nd):\n",
    "    # 이건 그대로 했고..\n",
    "    if (d, nd) in ((1, 0), (0, 1)):\n",
    "        return False\n",
    "# 시험볼땐 이렇게 안했다..\n",
    "def check(x,y,d,nd):   # 현재위치와 방향을 받아서 다음방향으로 이동이 가능하지 여부를 return해줌..\n",
    "    # 아 훨씬 간단하게 짰었던거 같은데ㅋㅋㅋㅋㅋ 헷갈리네 \n",
    "    # 0. 오른쪽 아래 한번에 바뀔 수 없다.\n",
    "    if (d,nd) in ((1, 0), (0, 1)): \n",
    "        return False\n",
    "    \n",
    "    # 1. 또 오른쪽으로\n",
    "    if (d, nd) == (0, 0):  \n",
    "        if x+2<N and house[y][x+2] == 0:   # 범위 안에 있고 빈칸인경우 가능.\n",
    "            return True\n",
    "        else:\n",
    "            return False           # 아니면 불가능\n",
    "    # 2. 또 아래쪽으로\n",
    "    if (d, nd) == (1, 1): # 또 아래\n",
    "        if y+2<N and house[y+2][x] == 0:   # 범위 안에 있고 빈칸인경우 가능.\n",
    "            return True\n",
    "        else:\n",
    "            return False           # 아니면 불가능\n",
    "    \n",
    "    # 3. 대각선 계속\n",
    "    if (d, nd) == (2, 2):\n",
    "        if y+2<N and X+2<N and house[y+2][x] == 0:\n",
    "            return True\n",
    "        else:\n",
    "            return False\n",
    "    \n",
    "    # 4. 오 -> 대\n",
    "    if (d, nd) == (0, 2):\n",
    "        if \n",
    "    \n",
    "    # 5. 아 -> 대\n",
    "    \n",
    "    # 6. 대 -> 오\n",
    "    \n",
    "    # 7. 대 -> 아\n",
    "    \n",
    "# 방향 : 오른쪽(0) / 아래(1) / 대각선(2)\n",
    "def next_loc(x,y,d):\n",
    "    if d==0:\n",
    "        x += 1\n",
    "    elif d==1:\n",
    "        y += 1\n",
    "    else:\n",
    "        x += 1\n",
    "        y += 1\n",
    "    return x, y\n",
    "\n",
    "q = deque()\n",
    "q.append((0,0,0))  # 시작 위치가 0,0이고 오른쪽을 보고있음.\n",
    "ans = 0\n",
    "while q:\n",
    "    cx, cy, cd = q.popleft()\n",
    "    for nd in range(3):        \n",
    "        if check(cx,cy,cd,nd):\n",
    "            nx, ny = next_loc(cx,cy,d)\n",
    "            if (nx, ny) == (N-1, N-1):\n",
    "                ans += 1\n",
    "            else:\n",
    "                q.append((nx,ny,nd))\n",
    "print(ans)"
   ]
  }
 ],
 "metadata": {
  "kernelspec": {
   "display_name": "Python 3",
   "language": "python",
   "name": "python3"
  },
  "language_info": {
   "codemirror_mode": {
    "name": "ipython",
    "version": 3
   },
   "file_extension": ".py",
   "mimetype": "text/x-python",
   "name": "python",
   "nbconvert_exporter": "python",
   "pygments_lexer": "ipython3",
   "version": "3.6.3"
  }
 },
 "nbformat": 4,
 "nbformat_minor": 2
}
