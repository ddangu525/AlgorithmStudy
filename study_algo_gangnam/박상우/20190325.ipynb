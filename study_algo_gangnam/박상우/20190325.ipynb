{
 "cells": [
  {
   "cell_type": "markdown",
   "metadata": {},
   "source": [
    "## 1. 1654 랜선 자르기"
   ]
  },
  {
   "cell_type": "markdown",
   "metadata": {},
   "source": [
    "#### 문제\n",
    "집에서 시간을 보내던 오영식은 박성원의 부름을 받고 급히 달려왔다.  \n",
    "박성원이 캠프 때 쓸 N개의 랜선을 만들어야 하는데 너무 바빠서 영식이에게 도움을 청했다.  \n",
    "  \n",
    "이미 오영식은 자체적으로 K개의 랜선을 가지고 있다. 그러나 K개의 랜선은 길이가 제각각이다.  \n",
    "박성원은 랜선을 모두 N개의 같은 길이의 랜선으로 만들고 싶었기 때문에 K개의 랜선을 잘라서 만들어야 한다.  \n",
    "예를 들어 300cm 짜리 랜선에서 140cm 짜리 랜선을 두 개 잘라내면 20cm 은 버려야 한다.(이미 자른 랜선은 붙일 수 없다.)  \n",
    "  \n",
    "편의를 위해 랜선을 자르거나 만들 때 손실되는 길이는 없다고 가정하며, 기존의 K개의 랜선으로 N개의 랜선을 만들 수 없는 경우는 없다고 가정하자.  \n",
    "그리고 자를 때는 항상 센티미터 단위로 정수길이만큼 자른다고 가정하자. 이때 만들 수 있는 최대 랜선의 길이를 구하는 프로그램을 작성하시오.  \n",
    "  \n",
    "#### 입력\n",
    "첫째 줄에는 오영식이 이미 가지고 있는 랜선의 개수 K, 그리고 필요한 랜선의 개수 N이 입력된다.  \n",
    "K는 1이상 10,000이하의 정수이고, N은 1이상 1,000,000이하의 정수이다. 그리고 항상 K ≦ N 이다.  \n",
    "그 후 K줄에 걸쳐 이미 가지고 있는 각 랜선의 길이가 센티미터 단위의 정수로 입력된다. 랜선의 길이는 $2^{31}-1$보다 작거나 같은 자연수이다.  \n",
    "  \n",
    "#### 출력\n",
    "첫째 줄에 N개를 만들 수 있는 랜선의 최대 길이를 센티미터 단위의 정수로 출력한다."
   ]
  },
  {
   "cell_type": "markdown",
   "metadata": {},
   "source": [
    "### ------------------------------------------------------------------------------"
   ]
  },
  {
   "cell_type": "markdown",
   "metadata": {},
   "source": [
    "길이가 제각각인 랜선 K개를 잘 잘라서 동일한 길이의 랜선 N개를 만드는데 이 때 가능한 길게 만들어야함!  \n",
    "어떻게 풀 수 있을까?? 일단 갖고있는 랜선들을 정렬해서..  ??   \n",
    "답이 나오긴 한다.. 근데 당연히 시간초과 날 것.. 난다 2%.   \n",
    "그렇다면 어떻게 시간을 줄일것인가..??  이분탐색이라는 힌트가 있어도 모르겠는데..   \n",
    "힌트 없다고 생각하고 일단..  중요한건 N개가 만들어져야 하고 그 중 최대여야함..  "
   ]
  },
  {
   "cell_type": "code",
   "execution_count": 16,
   "metadata": {
    "scrolled": true
   },
   "outputs": [
    {
     "name": "stdout",
     "output_type": "stream",
     "text": [
      "3 6\n",
      "6\n",
      "6\n",
      "6\n",
      "왼쪽, 시도, 오른쪽 = 1, 2, 3\n",
      "왼쪽, 시도, 오른쪽 = 3, 3, 3\n",
      "3\n"
     ]
    }
   ],
   "source": [
    "# 일단 Naive 하게 짜보쟈.. 시간초과나는 코드로!\n",
    "K, N = map(int, input().split())\n",
    "have = [int(input()) for _ in range(K)]\n",
    "total = sum(have)      # 전체 길이\n",
    "max_L = int(total//N)  # 전체길이 // 만들어야 하는 개수. 이게 상한. 버리는게 없을때..\n",
    "min_L = 1\n",
    "while min_L<=max_L:\n",
    "    try_L = (max_L+min_L)//2\n",
    "    print(f'왼쪽, 시도, 오른쪽 = {min_L}, {try_L}, {max_L}')\n",
    "    N_calculated = sum([k//try_L for k in have])\n",
    "    if N>N_calculated:   # 적게 생성..L을 줄여야함.\n",
    "        max_L = try_L-1      \n",
    "    else:\n",
    "        min_L = try_L+1\n",
    "print(max_L)"
   ]
  },
  {
   "cell_type": "markdown",
   "metadata": {},
   "source": [
    "import sys 써주면.. 492ms에서 88ms... "
   ]
  },
  {
   "cell_type": "code",
   "execution_count": null,
   "metadata": {
    "collapsed": true
   },
   "outputs": [],
   "source": [
    "# 최종\n",
    "# import sys\n",
    "# input = sys.stdin.readline\n",
    "K, N = map(int, input().split())\n",
    "have = [int(input()) for _ in range(K)]\n",
    "max_L = 2**31\n",
    "min_L = 1\n",
    "while min_L<=max_L:\n",
    "    try_L = (max_L+min_L)//2\n",
    "    N_calculated = sum([k//try_L for k in have])\n",
    "    if N>N_calculated:\n",
    "        max_L = try_L-1      \n",
    "    else:\n",
    "        min_L = try_L+1\n",
    "print(max_L)"
   ]
  },
  {
   "cell_type": "markdown",
   "metadata": {},
   "source": [
    "4 11  \n",
    "802  \n",
    "743  \n",
    "457  \n",
    "539  \n",
    "\n",
    "---\n",
    "200"
   ]
  },
  {
   "cell_type": "markdown",
   "metadata": {},
   "source": [
    "## 2. 2805 나무 자르기"
   ]
  },
  {
   "cell_type": "markdown",
   "metadata": {},
   "source": [
    "#### 문제\n",
    "상근이는 나무 M미터가 필요하다. 근처에 나무를 구입할 곳이 모두 망해버렸기 때문에, 정부에 벌목 허가를 요청했다.  \n",
    "정부는 상근이네 집 근처의 나무 한 줄에 대한 벌목 허가를 내주었고, 상근이는 새로 구입한 목재절단기을 이용해서 나무를 구할것이다.  \n",
    "  \n",
    "목재절단기는 다음과 같이 동작한다. 먼저, 상근이는 절단기에 높이 H를 지정해야 한다.  \n",
    "높이를 지정하면 톱날이 땅으로부터 H미터 위로 올라간다. 그 다음, 한 줄에 연속해있는 나무를 모두 절단해버린다.  \n",
    "따라서, 높이가 H보다 큰 나무는 H 위의 부분이 잘릴 것이고, 낮은 나무는 잘리지 않을 것이다.  \n",
    "예를 들어, 한 줄에 연속해있는 나무의 높이가 20, 15, 10, 17이라고 하자.  \n",
    "상근이가 높이를 15로 지정했다면, 나무를 자른 뒤의 높이는 15, 15, 10, 15가 될 것이고,  \n",
    "상근이는 길이가 5인 나무와 2인 나무를 들고 집에 갈 것이다. (총 7미터를 집에 들고 간다)  \n",
    "  \n",
    "상근이는 환경에 매우 관심이 많기 때문에, 나무를 필요한 만큼만 집으로 가져가려고 한다.  \n",
    "이때, 적어도 M미터의 나무를 집에 가져가기 위해서 절단기에 설정할 수 있는 높이의 최댓값을 구하는 프로그램을 작성하시오.  \n",
    "  \n",
    "#### 입력\n",
    "첫째 줄에 나무의 수 N과 상근이가 집으로 가져가려고 하는 나무의 길이 M이 주어진다. (1 ≤ N ≤ 1,000,000, 1 ≤ M ≤ 2,000,000,000)  \n",
    "  \n",
    "둘째 줄에는 나무의 높이가 주어진다. 나무의 높이의 합은 항상 M을 넘기 때문에, 상근이는 집에 필요한 나무를 항상 가져갈 수 있다.  \n",
    "높이는 1,000,000,000보다 작거나 같은 양의 정수 또는 0이다.  \n",
    "  \n",
    "#### 출력\n",
    "적어도 M미터의 나무를 집에 가져가기 위해서 절단기에 설정할 수 있는 높이의 최댓값을 출력한다.  "
   ]
  },
  {
   "cell_type": "markdown",
   "metadata": {},
   "source": [
    "### ------------------------------------------------------------------------------"
   ]
  },
  {
   "cell_type": "markdown",
   "metadata": {},
   "source": [
    "나무를 총 M미터 이상 들고가야하는데, 가장 조금만 자르기 위해 높이를 최대한으로 해야함..  "
   ]
  },
  {
   "cell_type": "code",
   "execution_count": 18,
   "metadata": {
    "scrolled": true
   },
   "outputs": [
    {
     "name": "stdout",
     "output_type": "stream",
     "text": [
      "4 7\n",
      "20 15 10 17\n",
      "15\n"
     ]
    }
   ],
   "source": [
    "N, M = map(int, input().split())\n",
    "*Trees, = map(int, input().split())\n",
    "mx = 10**9\n",
    "mn = 0\n",
    "\n",
    "while mn<=mx:\n",
    "    t = (mn+mx)//2\n",
    "    cal_M = sum([max(k-t, 0) for k in Trees])\n",
    "    if cal_M<M:\n",
    "        mx = t-1\n",
    "    else:\n",
    "        mn = t+1\n",
    "print(mx)"
   ]
  },
  {
   "cell_type": "markdown",
   "metadata": {},
   "source": [
    "똑같이 하는데 왜 또 시간초과니..ㅠㅠㅠ pypy는 1284ms로 통과.."
   ]
  },
  {
   "cell_type": "markdown",
   "metadata": {},
   "source": [
    "sort해서 긴애들만 자를 수 있구나..!!"
   ]
  },
  {
   "cell_type": "code",
   "execution_count": null,
   "metadata": {
    "collapsed": true
   },
   "outputs": [],
   "source": [
    "# 백준\n",
    "N,M=map(int,input().split())\n",
    "wd=list(map(int,input().split()))\n",
    "wd.sort(reverse=True)\n",
    "s=0\n",
    "i=1\n",
    "while s<M and i<N:s+=(wd[i-1]-wd[i])*i;i+=1\n",
    "if s>M:print(wd[i-1]+(s-M)//(i-1))\n",
    "if s==M:print(wd[i-1])\n",
    "if s<M:print(wd[-1]-((M-s+N-1)//N))"
   ]
  },
  {
   "cell_type": "code",
   "execution_count": null,
   "metadata": {
    "collapsed": true
   },
   "outputs": [],
   "source": [
    "# 다듬기\n",
    "N, M = map(int, input().split())\n",
    "# 나무 큰애들부터 정렬해주고..\n",
    "t = sorted(map(int,input().split()),reverse=True)\n",
    "s = 0   # 잘라준 값.\n",
    "i = 1   # index.\n",
    "# 자른길이가 M보다 작고, 마지막나무까지 확인이 끝나지 않은 동안..\n",
    "while s<M and i<N:\n",
    "    s+=(t[i-1]-t[i])*i\n",
    "    i+=1\n",
    "if s>M:\n",
    "    print(wd[i-1]+(s-M)//(i-1))\n",
    "elif s==M:\n",
    "    print(wd[i-1])\n",
    "else:\n",
    "    print(wd[-1]-((M-s+N-1)//N))"
   ]
  },
  {
   "cell_type": "code",
   "execution_count": null,
   "metadata": {
    "collapsed": true
   },
   "outputs": [],
   "source": [
    "# 하나 더. 정렬해서 어디까지 보면 되는지 찾고 이분탐색.\n",
    "if __name__ == \"__main__\":\n",
    "    N, M = map(int, input().split())\n",
    "    trees = [int(x) for x in input().split()]\n",
    "    trees = sorted(trees, reverse=True)\n",
    "\n",
    "    count = 0\n",
    "    total = 0\n",
    "    for i in range(1, len(trees)):\n",
    "        total += (trees[i-1] - trees[i]) * i\n",
    "        if total >= M:\n",
    "            count = i\n",
    "            break\n",
    "    else:\n",
    "        total += trees[-1] * len(trees)\n",
    "        count = len(trees)\n",
    "    \n",
    "    top = trees[count - 1]\n",
    "    bottom = 0 if len(trees) == count else trees[count]\n",
    "    base = bottom * count\n",
    "\n",
    "    while True:\n",
    "        mid = (top + bottom) // 2\n",
    "        if mid == bottom:\n",
    "            break\n",
    "        elif total - (mid * count - base) >= M:\n",
    "            bottom = mid\n",
    "        else:\n",
    "            top = mid\n",
    "\n",
    "    print(bottom)"
   ]
  },
  {
   "cell_type": "code",
   "execution_count": null,
   "metadata": {
    "collapsed": true
   },
   "outputs": [],
   "source": [
    "# 또하나. array 쓰는 풀이..\n",
    "import sys\n",
    "import array\n",
    "input = sys.stdin.readline\n",
    "n, m = map(int, input().split())\n",
    "a = array.array('i', map(int, input().split()))   # 정수 array라는 뜻.\n",
    "L, R = 0, 10 ** 9\n",
    "while L < R:\n",
    "    M = L + R + 1 >> 1      # >> 1로 나누기 2 해주는 거 그렇게 빨라지진 않는다.\n",
    "    t = 0\n",
    "    for x in a:\n",
    "        if x > M:\n",
    "            t += x - M\n",
    "    if t < m:\n",
    "        R = M - 1\n",
    "    else:\n",
    "        L = M\n",
    "print(L)"
   ]
  },
  {
   "cell_type": "markdown",
   "metadata": {},
   "source": [
    "4 7  \n",
    "20 15 10 17  \n",
    "\n",
    "--- \n",
    "15"
   ]
  },
  {
   "cell_type": "markdown",
   "metadata": {},
   "source": [
    "## 3. 2110 공유기 설치"
   ]
  },
  {
   "cell_type": "markdown",
   "metadata": {},
   "source": [
    "#### 문제\n",
    "도현이의 집 N개가 수직선 위에 있다. 각각의 집의 좌표는 x1, ..., xN이고, 집 여러개가 같은 좌표를 가지는 일은 없다.  \n",
    "  \n",
    "도현이는 언제 어디서나 와이파이를 즐기기 위해서 집에 공유기 C개를 설치하려고 한다.  \n",
    "최대한 많은 곳에서 와이파이를 사용하려고 하기 때문에, 한 집에는 공유기를 하나만 설치할 수 있고,  \n",
    "가장 인접한 두 공유기 사이의 거리를 가능한 크게 하여 설치하려고 한다.  \n",
    "  \n",
    "C개의 공유기를 N개의 집에 적당히 설치해서, 가장 인접한 두 공유기 사이의 거리를 최대로 하는 프로그램을 작성하시오.  \n",
    "  \n",
    "#### 입력\n",
    "첫째 줄에 집의 개수 N (2 ≤ N ≤ 200,000)과 공유기의 개수 C (2 ≤ C ≤ N)이 하나 이상의 빈 칸을 사이에 두고 주어진다.  \n",
    "둘째 줄부터 N개의 줄에는 집의 좌표를 나타내는 xi (1 ≤ xi ≤ 1,000,000,000)가 한 줄에 하나씩 주어진다.  \n",
    "  \n",
    "#### 출력\n",
    "첫째 줄에 가장 인접한 두 공유기 사이의 최대 거리를 출력한다."
   ]
  },
  {
   "cell_type": "markdown",
   "metadata": {},
   "source": [
    "### ------------------------------------------------------------------------------"
   ]
  },
  {
   "cell_type": "markdown",
   "metadata": {},
   "source": [
    "일단 양 끝은 무조건..! 그리고 좌표는 정렬해줘야겠지?  \n",
    "균등하게 나눠진다면, 공유기 간 거리는,전체 집 길이 / (C-1)이 될 것.  이것을 가장 인접한공유기 사이의 거리 상한으로 사용.  \n",
    "하한은 1.  "
   ]
  },
  {
   "cell_type": "code",
   "execution_count": 25,
   "metadata": {
    "scrolled": true
   },
   "outputs": [
    {
     "name": "stdout",
     "output_type": "stream",
     "text": [
      "5 3\n",
      "1\n",
      "2\n",
      "8\n",
      "4\n",
      "9\n",
      "3\n"
     ]
    }
   ],
   "source": [
    "# import sys\n",
    "# input = sys.stdin.readline\n",
    "N, C = map(int, input().split())\n",
    "coords = sorted([int(input()) for _ in range(N)]) # 작은게 앞에...\n",
    "right = coords[-1]//(C-1)\n",
    "left = 1\n",
    "while left<=right:\n",
    "    mid = left+right>>1  # 검사할 거리..\n",
    "    cx = coords[0]       # 이전 공유기의 위치. (처음위치에서 시작)\n",
    "    i = 1        # 현재 공유기 수. 양 끝에 두 개. 일단 맨 처음에만 설치한다고 생각.\n",
    "    idx = 1      # 검사할 index.\n",
    "    while i<C and idx<N :   # C개 다 놓거나 끝까지 검사완료..\n",
    "        if coords[idx]-cx>=mid:   # 거리가 같거나 길다면 공유기 놔주기.\n",
    "            i += 1\n",
    "            cx = coords[idx]\n",
    "        # 다음칸 검사.\n",
    "        idx += 1\n",
    "    # 검사한 거리가 길어서 공유기 다 못놓음.. 줄여줘야함.\n",
    "    if i<C:\n",
    "        right = mid - 1\n",
    "    else:\n",
    "        left = mid + 1\n",
    "print(right)"
   ]
  },
  {
   "cell_type": "markdown",
   "metadata": {},
   "source": [
    "488ms!"
   ]
  },
  {
   "cell_type": "markdown",
   "metadata": {
    "collapsed": true
   },
   "source": [
    "5 3  \n",
    "1  \n",
    "2  \n",
    "8  \n",
    "4  \n",
    "9  \n",
    " \n",
    "--- \n",
    "3"
   ]
  },
  {
   "cell_type": "code",
   "execution_count": null,
   "metadata": {
    "collapsed": true
   },
   "outputs": [],
   "source": [
    "# 백준 1등코드.. 260ms..  왜 더 빠를까??\n",
    "# from sys import stdin\n",
    "# input = stdin.readline\n",
    "\n",
    "def paramax(F, l, r, fail):\n",
    "    if l >= r: return l if F(l) else fail\n",
    "    if l+1 == r:\n",
    "        if F(l): return r if F(r) else l\n",
    "        return fail\n",
    "    mid = (l+r)//2\n",
    "    if F(mid): return paramax(F, mid, r, fail)\n",
    "    return paramax(F, l, mid-1, fail)\n",
    "\n",
    "def install(d):\n",
    "    last = house[0]\n",
    "    used = 1\n",
    "    for x in house:\n",
    "        if x - last >= d:\n",
    "            last = x\n",
    "            used+= 1\n",
    "    return used >= c\n",
    "\n",
    "n, c = map(int,input().split())\n",
    "house = [int(input()) for i in range(n)]\n",
    "house.sort()\n",
    "print(paramax(install, 1, 1000000010, -1))"
   ]
  }
 ],
 "metadata": {
  "kernelspec": {
   "display_name": "Python 3",
   "language": "python",
   "name": "python3"
  },
  "language_info": {
   "codemirror_mode": {
    "name": "ipython",
    "version": 3
   },
   "file_extension": ".py",
   "mimetype": "text/x-python",
   "name": "python",
   "nbconvert_exporter": "python",
   "pygments_lexer": "ipython3",
   "version": "3.6.3"
  }
 },
 "nbformat": 4,
 "nbformat_minor": 2
}
