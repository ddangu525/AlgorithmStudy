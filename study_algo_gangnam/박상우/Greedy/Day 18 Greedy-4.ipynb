{
 "cells": [
  {
   "cell_type": "markdown",
   "metadata": {},
   "source": [
    "## 1. 1080 행렬"
   ]
  },
  {
   "cell_type": "markdown",
   "metadata": {},
   "source": [
    "#### 문제\n",
    "0과 1로만 이루어진 행렬 A와 행렬 B가 있다. 이때, 행렬 A를 행렬 B로 바꾸는데 필요한 연산의 횟수의 최솟값을 구하는 프로그램을 작성하시오.  \n",
    "  \n",
    "행렬을 변환하는 연산은 어떤 3*3크기의 부분 행렬에 있는 모든 원소를 뒤집는 것이다. (0 -> 1, 1 -> 0)  \n",
    "  \n",
    "#### 입력\n",
    "첫째 줄에 행렬의 크기 N M이 주어진다. N과 M은 50보다 작거나 같은 자연수이다.  \n",
    "둘째 줄부터 N개의 줄에는 행렬 A가 주어지고, 그 다음줄부터 N개의 줄에는 행렬 B가 주어진다.  \n",
    "  \n",
    "#### 출력\n",
    "첫째 줄에 문제의 정답을 출력한다. 만약 A를 B로 바꿀 수 없다면 -1을 출력한다.  "
   ]
  },
  {
   "cell_type": "markdown",
   "metadata": {},
   "source": [
    "### ------------------------------------------------------------------------------"
   ]
  },
  {
   "cell_type": "markdown",
   "metadata": {},
   "source": [
    "왼쪽 위부터 뒤집기를 하면 0,0 은 한번으로 유일하게 결정. 나머지 순서대로 결정해가기..   \n",
    "불가능한 경우를 바로 알 순 없나?  일단 3x3돌면서 다 정해주고. 의존적인 가장자리 애들만 따져보기.."
   ]
  },
  {
   "cell_type": "code",
   "execution_count": 1,
   "metadata": {},
   "outputs": [
    {
     "name": "stdout",
     "output_type": "stream",
     "text": [
      "1 1\n",
      "1\n",
      "0\n",
      "A = [[True]]\n",
      "B = [[False]]\n",
      "-1\n",
      "-1\n",
      "0\n"
     ]
    }
   ],
   "source": [
    "# import sys\n",
    "# input = sys.stdin.readline\n",
    "N, M = map(int, input().split())\n",
    "A = [list(map(bool, map(int, input()))) for _ in range(N)]   # True / False로 저장.\n",
    "B = [list(map(bool, map(int, input()))) for _ in range(N)]\n",
    "print(f'A = {A}\\nB = {B}')\n",
    "ans = 0\n",
    "for y in range(N-2):\n",
    "    for x in range(M-2):     # 왼쪽 위 기준으로..\n",
    "        if A[y][x] != B[y][x]:  # 일치하지 않은경우..\n",
    "            for j in range(3):\n",
    "                for i in range(3):  # 3x3 크기에 원소들 반대로 해주기..\n",
    "                    A[y+j][x+i] = not A[y+j][x+i]\n",
    "            ans += 1  # 변환횟수 추가.\n",
    "    # 일단 x 끝까지 돈 후 오른쪽 모서리쪽 애들 2개 일치여부 검사.\n",
    "    if A[y][x+1] != B[y][x+1] or A[y][x+2] != B[y][x+2]:\n",
    "        print(-1)\n",
    "#         exit()\n",
    "# y 끝까지 다 돈 후 아래쪽 모서리 애들 2줄 일치여부 검사.\n",
    "for y in range(N-2,N):\n",
    "    for x in range(M):\n",
    "        if A[y][x] != B[y][x]:\n",
    "            print(-1)\n",
    "#             exit()\n",
    "# 다 통과하면 연산횟수 출력.\n",
    "print(ans)"
   ]
  },
  {
   "cell_type": "markdown",
   "metadata": {},
   "source": [
    "런타임 에러.. N, M이 3보다 작은경우 아예 변환연산이 불가능.. 0이거나 -1  "
   ]
  },
  {
   "cell_type": "code",
   "execution_count": 45,
   "metadata": {},
   "outputs": [
    {
     "name": "stdout",
     "output_type": "stream",
     "text": [
      "3 3\n",
      "000\n",
      "000\n",
      "000\n",
      "111\n",
      "111\n",
      "111\n",
      "A==B? : False\n",
      "1\n"
     ]
    }
   ],
   "source": [
    "# import sys\n",
    "# input = sys.stdin.readline\n",
    "N, M = map(int, input().split())\n",
    "A = [list(map(bool, map(int, input()))) for _ in range(N)]   # True / False로 저장.\n",
    "B = [list(map(bool, map(int, input()))) for _ in range(N)]\n",
    "print(f'A==B? : {A==B}')\n",
    "# 변환연산이 불가능한 경우. A, B가 일치하면 0 아니면 -1\n",
    "if N<3 or M<3:\n",
    "    print(A==B and '0' or -1)    # 그냥 0으로 하면 False가 돼서 -1이 출력됨..\n",
    "    print('여기')\n",
    "#     exit()\n",
    "ans = 0\n",
    "for y in range(N-2):\n",
    "    for x in range(M-2):     # 왼쪽 위 기준으로..\n",
    "        if A[y][x] != B[y][x]:  # 일치하지 않은경우..\n",
    "            for j in range(3):\n",
    "                for i in range(3):  # 3x3 크기에 원소들 반대로 해주기..\n",
    "                    A[y+j][x+i] = not A[y+j][x+i]\n",
    "            ans += 1  # 변환횟수 추가.\n",
    "    # 일단 x 끝까지 돈 후 오른쪽 모서리쪽 애들 2개 일치여부 검사.\n",
    "    if A[y][x+1] != B[y][x+1] or A[y][x+2] != B[y][x+2]:\n",
    "        print(-1)\n",
    "#         exit()\n",
    "# y 끝까지 다 돈 후 아래쪽 모서리 애들 2줄 일치여부 검사.\n",
    "for y in range(N-2,N):\n",
    "    for x in range(M):\n",
    "        if A[y][x] != B[y][x]:\n",
    "            print(-1)\n",
    "#             exit()\n",
    "# 다 통과하면 연산횟수 출력.\n",
    "print(ans)"
   ]
  },
  {
   "cell_type": "code",
   "execution_count": 44,
   "metadata": {
    "scrolled": true
   },
   "outputs": [
    {
     "name": "stdout",
     "output_type": "stream",
     "text": [
      "1 1\n",
      "0\n",
      "0\n"
     ]
    },
    {
     "data": {
      "text/plain": [
       "'0'"
      ]
     },
     "execution_count": 44,
     "metadata": {},
     "output_type": "execute_result"
    }
   ],
   "source": [
    "def solve():\n",
    "    N, M = map(int, input().split())\n",
    "    A = [list(map(bool, map(int, input()))) for _ in range(N)]   # True / False로 저장.\n",
    "    B = [list(map(bool, map(int, input()))) for _ in range(N)]\n",
    "    # 변환연산이 불가능한 경우. A, B가 일치하면 0 아니면 -1\n",
    "    if N<3 or M<3:\n",
    "        return A==B and '0' or -1\n",
    "    ans = 0\n",
    "    for y in range(N-2):\n",
    "        for x in range(M-2):     # 왼쪽 위 기준으로..\n",
    "            if A[y][x] != B[y][x]:  # 일치하지 않은경우..\n",
    "                for j in range(3):\n",
    "                    for i in range(3):  # 3x3 크기에 원소들 반대로 해주기..\n",
    "                        A[y+j][x+i] = not A[y+j][x+i]\n",
    "                ans += 1  # 변환횟수 추가.\n",
    "        # 일단 x 끝까지 돈 후 오른쪽 모서리쪽 애들 2개 일치여부 검사.\n",
    "        print(y, x)\n",
    "        if A[y][x+1] != B[y][x+1] or A[y][x+2] != B[y][x+2]:\n",
    "            return -1\n",
    "    # y 끝까지 다 돈 후 아래쪽 모서리 애들 2줄 일치여부 검사.\n",
    "    for y in range(N-2,N):\n",
    "        for x in range(M):\n",
    "            if A[y][x] != B[y][x]: \n",
    "                return -1\n",
    "    # 다 통과하면 연산횟수 출력.\n",
    "    return ans\n",
    "solve()"
   ]
  },
  {
   "cell_type": "markdown",
   "metadata": {},
   "source": [
    "런타임 에러..  뭐지..ㅜㅜ"
   ]
  },
  {
   "cell_type": "markdown",
   "metadata": {},
   "source": [
    "3 4  \n",
    "0000  \n",
    "0010  \n",
    "0000  \n",
    "1001  \n",
    "1011  \n",
    "1001  \n",
    "\n",
    "---\n",
    "2"
   ]
  },
  {
   "cell_type": "markdown",
   "metadata": {},
   "source": [
    "## 2. 2873 롤러코스터"
   ]
  },
  {
   "cell_type": "markdown",
   "metadata": {},
   "source": [
    "#### 문제\n",
    "상근이는 우리나라에서 가장 유명한 놀이 공원을 운영하고 있다. 이 놀이 공원은 야외에 있고, 다양한 롤러코스터가 많이 있다.  \n",
    "  \n",
    "어느날 벤치에 앉아있던 상근이는 커다란 황금을 발견한 기분이 들었다.  \n",
    "자신의 눈 앞에 보이는 이 부지를 구매해서 롤러코스터를 만든다면, 세상에서 가장 재미있는 롤러코스터를 만들 수 있다고 생각했다.  \n",
    "  \n",
    "이 부지는 직사각형 모양이고, 상근이는 R행 C열의 표 모양으로 나누었다.  \n",
    "롤러코스터는 가장 왼쪽 위 칸에서 시작할 것이고, 가장 오른쪽 아래 칸에서 도착할 것이다.  \n",
    "롤러코스터는 현재 있는 칸과 위, 아래, 왼쪽, 오른쪽으로 인접한 칸으로 이동할 수 있다.  \n",
    "각 칸은 한 번 방문할 수 있고, 방문하지 않은 칸이 있어도 된다.  \n",
    "  \n",
    "각 칸에는 그 칸을 지나갈 때, 탑승자가 얻을 수 있는 기쁨을 나타낸 숫자가 적혀있다.  \n",
    "롤러코스터를 탄 사람이 얻을 수 있는 기쁨은 지나간 칸의 기쁨의 합이다.  \n",
    "가장 큰 기쁨을 주는 롤러코스터는 어떻게 움직여야 하는지를 구하는 프로그램을 작성하시오.  \n",
    "  \n",
    "#### 입력\n",
    "첫째 줄에 R과 C가 주어진다. (2 ≤ R, C ≤ 1000)  \n",
    "둘째 줄부터 R개 줄에는 각 칸을 지나갈 때 얻을 수 있는 기쁨이 주어진다. 이 값은 1000보다 작은 양의 정수이다.  \n",
    "   \n",
    "#### 출력\n",
    "첫째 줄에 가장 가장 큰 기쁨을 주는 롤러코스터는 가장 왼쪽 위 칸부터 가장 오른쪽 아래 칸으로 어떻게 움직이면 되는지를 출력한다.  \n",
    "위는 U, 오른쪽은 R, 왼쪽은 L, 아래는 D로 출력한다. 정답은 여러 가지 일 수도 있다.  "
   ]
  },
  {
   "cell_type": "markdown",
   "metadata": {},
   "source": [
    "### ------------------------------------------------------------------------------"
   ]
  },
  {
   "cell_type": "markdown",
   "metadata": {},
   "source": [
    "기쁨이 양수이니까 될 수 있으면 다 먹기..   \n",
    "1. R, C 둘 중 하나라도 홀수인 경우에는 모든 칸을 방문할 수 있다.  \n",
    "R이 홀수일 때는 그냥 오른쪽으로 쭉, 아래 한칸, 왼쪽 쭉, 아래 한칸, 오른쪽 쭉.. 이 순서대로 출력.  \n",
    "C만 홀수일 때는 아래로 쭉, 오른쪽 한칸, 위로 쭉, 오른쪽 한칸.. 이렇게 출력.  \n",
    "2. R, C 모두 짝수인 경우는 방문 못하는 칸이 생긴다..  \n",
    "방문하지 못하는 칸의 행복이 최소가 되게..     \n",
    "근데 대각성분을 방문하지 않으면 방문하지 못하는 칸이 하나 더 생김.. 대각성분은 무조건 방문해야..   \n",
    "그려보니 첫 칸에서부터 거리가 홀수인 위치를 방문하지 않을때는 나머지 다 방문 가능.   \n",
    "하지만 첫 칸에서부터 거리가 짝수인 위치를 방문하지 않으면, 나머지중에서 또 방문 불가능한 지점이 생긴다.   \n",
    "거리가 홀수인 애들중에 기쁨 값이 최소인 위치를 빼자.  이동경로는 어떻게 구하지..  그냥 규칙을 정하자.  그림 참고.."
   ]
  },
  {
   "cell_type": "markdown",
   "metadata": {},
   "source": [
    "<img src=\"https://github.com/hyperpace/study_algo_gangnam/blob/master/%EB%B0%95%EC%83%81%EC%9A%B0/Greedy/1.jpg?raw=true\" width=\"500\">\n",
    "<img src=\"https://github.com/hyperpace/study_algo_gangnam/blob/master/%EB%B0%95%EC%83%81%EC%9A%B0/Greedy/2.jpg?raw=true\" width=\"500\">\n",
    "<img src=\"https://github.com/hyperpace/study_algo_gangnam/blob/master/%EB%B0%95%EC%83%81%EC%9A%B0/Greedy/3.jpg?raw=true\" width=\"500\">\n",
    "<img src=\"https://github.com/hyperpace/study_algo_gangnam/blob/master/%EB%B0%95%EC%83%81%EC%9A%B0/Greedy/4.jpg?raw=true\" width=\"500\">\n",
    "<img src=\"https://github.com/hyperpace/study_algo_gangnam/blob/master/%EB%B0%95%EC%83%81%EC%9A%B0/Greedy/5.jpg?raw=true\" width=\"500\">\n",
    "<img src=\"https://github.com/hyperpace/study_algo_gangnam/blob/master/%EB%B0%95%EC%83%81%EC%9A%B0/Greedy/6.jpg?raw=true\" width=\"500\">\n",
    "<img src=\"https://github.com/hyperpace/study_algo_gangnam/blob/master/%EB%B0%95%EC%83%81%EC%9A%B0/Greedy/7.jpg?raw=true\" width=\"500\">\n",
    "<img src=\"https://github.com/hyperpace/study_algo_gangnam/blob/master/%EB%B0%95%EC%83%81%EC%9A%B0/Greedy/8.jpg?raw=true\" width=\"500\">\n",
    "<img src=\"https://github.com/hyperpace/study_algo_gangnam/blob/master/%EB%B0%95%EC%83%81%EC%9A%B0/Greedy/9.jpg?raw=true\" width=\"500\">"
   ]
  },
  {
   "cell_type": "markdown",
   "metadata": {},
   "source": [
    "아 index 0부터 썼어야 되는데... 홀 짝 반대로."
   ]
  },
  {
   "cell_type": "code",
   "execution_count": 24,
   "metadata": {},
   "outputs": [
    {
     "name": "stdout",
     "output_type": "stream",
     "text": [
      "4 4\n",
      "2 0 9 8\n",
      "2 3 4 4\n",
      "5 5 5 5\n",
      "6 6 6 6\n"
     ]
    },
    {
     "data": {
      "text/plain": [
       "'DDDRRRULLURRULLURURDDDD'"
      ]
     },
     "execution_count": 24,
     "metadata": {},
     "output_type": "execute_result"
    }
   ],
   "source": [
    "##### import sys\n",
    "# input = sys.stdin.readline\n",
    "\n",
    "# 문제 풀이 함수 만들기\n",
    "def solve():\n",
    "    R, C = map(int, input().split())       # R행, C열짜리..\n",
    "    path = ''                              # 정답 출력할 string.  U R L D\n",
    "    #  1. R 또는 C가 홀수인경우 바로 정답 반환 가능. input도 필요없다..\n",
    "    if R%2:                     # 1. R이 홀수인경우. 오른쪽쭉, 아래한칸, 왼쪽쭉, 아래한칸 ... 오른쪽 쭉.\n",
    "        path += 'R'*(C-1)       # 일단 첫줄..\n",
    "        # R//2만큼  아래, 왼쪽쭉, 아래, 오른쪽 쭉 이 cycle 추가.\n",
    "        path += f\"D{'L'*(C-1)}D{'R'*(C-1)}\"*(R//2)\n",
    "        return path\n",
    "    if C%2:                     # 2. C가 홀수인 경우. 아래쭉, 오른쪽한칸, 위 쭉, 오른쪽한칸, 아래 쭉...\n",
    "        path += 'D'*(R-1)       # 첫행..\n",
    "        # C//2만큼 오른쪽, 위쭉, 오른쪽, 아래 쭉 이 pattern 추가.\n",
    "        path += f\"R{'U'*(R-1)}R{'D'*(R-1)}\"*(C//2)\n",
    "        return path\n",
    "    \n",
    "    # 2. 이제 둘 다 짝수인경우.. 이때만 input 받기..가능한가? 일단 제출해보자. happy 배열 만들 필요도 없다.\n",
    "    min_happy = float('inf')\n",
    "    min_coord = None\n",
    "    for y in range(R):\n",
    "        row = tuple(map(int, input().split()))\n",
    "        for x in range(C):\n",
    "            if (y+x)%2:    # 0,0에서부터 길이가 홀수인, 뺄 수 있는 애들만 검사.\n",
    "                if row[x]<min_happy:    # 걔네들 중 최소인 애의 값과 좌표 저장.\n",
    "                    min_happy = row[x]\n",
    "                    min_coord = (y,x)\n",
    "    \n",
    "    # 3. 또 minimum points의 r의 홀수여부에 따라 path 만들어주기. 총 5단계에 걸쳐...\n",
    "    r, c = min_coord\n",
    "    # 1. r이 홀수인경우...\n",
    "    if r%2:\n",
    "        # 1단계..\n",
    "        path += f\"{'D'*(R-1)}R{'U'*(R-1)}R\"*(C//2)   # c-1 행까지 일단 채우기.\n",
    "        # 2단계..\n",
    "        path += 'R'*(C-c-1)+'D'   # 위에 첫줄..\n",
    "        path += f\"{'L'*(C-c-1)}D{'R'*(C-c-1)}D\"*(r//2) # 나머지..\n",
    "        # 3단계..\n",
    "        path += f\"{'D'*(R-r-1)}L{'U'*(R-r-1)}L\"*((C-c)//2)\n",
    "        # 4단계..\n",
    "        path += 'DLDR'*((R-r)//2)\n",
    "        # 5단계..\n",
    "        path += 'R'*(C-c-1)\n",
    "    # 2. r이 짝수인경우...\n",
    "    else:\n",
    "        # 1단계..\n",
    "        path += f\"{'R'*(C-1)}D{'L'*(C-1)}D\"*(r//2)   # r-1 열까지 일단 채우기.\n",
    "        # 2단계..\n",
    "        path += 'D'*(R-r-1)+'R'   # 앞에 첫행..\n",
    "        path += f\"{'U'*(R-r-1)}R{'D'*(R-r-1)}R\"*(r//2) # 나머지..\n",
    "        # 3단계..\n",
    "        path += f\"{'R'*(C-c-1)}U{'L'*(C-c-1)}U\"*((R-r)//2)\n",
    "        # 4단계..\n",
    "        path += 'RURD'*((C-c)//2)\n",
    "        # 5단계..\n",
    "        path += 'D'*(R-r-1)\n",
    "    return path\n",
    "\n",
    "solve()"
   ]
  },
  {
   "cell_type": "markdown",
   "metadata": {},
   "source": [
    "틀림...ㅎㅎㅎㅎ"
   ]
  },
  {
   "cell_type": "code",
   "execution_count": 40,
   "metadata": {
    "scrolled": true
   },
   "outputs": [
    {
     "name": "stdout",
     "output_type": "stream",
     "text": [
      "4 6\n",
      "1 1 1 1 1 1\n",
      "1 1 1 1 1 1\n",
      "1 0 1 1 1 1\n",
      "1 1 1 1 1 1\n"
     ]
    },
    {
     "data": {
      "text/plain": [
       "'RRRRRDLLLLLDDRURDRRURDRURD'"
      ]
     },
     "execution_count": 40,
     "metadata": {},
     "output_type": "execute_result"
    }
   ],
   "source": [
    "##### import sys\n",
    "# input = sys.stdin.readline\n",
    "\n",
    "# 문제 풀이 함수 만들기\n",
    "def solve():\n",
    "    R, C = map(int, input().split())       # R행, C열짜리..\n",
    "    path = ''                              # 정답 출력할 string.  U R L D\n",
    "    #  1. R 또는 C가 홀수인경우 바로 정답 반환 가능. input도 필요없다..\n",
    "    if R%2:                     # 1. R이 홀수인경우. 오른쪽쭉, 아래한칸, 왼쪽쭉, 아래한칸 ... 오른쪽 쭉.\n",
    "        path += 'R'*(C-1)       # 일단 첫줄..\n",
    "        # R//2만큼  아래, 왼쪽쭉, 아래, 오른쪽 쭉 이 cycle 추가.\n",
    "        path += f\"D{'L'*(C-1)}D{'R'*(C-1)}\"*(R//2)\n",
    "        return path\n",
    "    if C%2:                     # 2. C가 홀수인 경우. 아래쭉, 오른쪽한칸, 위 쭉, 오른쪽한칸, 아래 쭉...\n",
    "        path += 'D'*(R-1)       # 첫행..\n",
    "        # C//2만큼 오른쪽, 위쭉, 오른쪽, 아래 쭉 이 pattern 추가.\n",
    "        path += f\"R{'U'*(R-1)}R{'D'*(R-1)}\"*(C//2)\n",
    "        return path\n",
    "    \n",
    "    # 2. 이제 둘 다 짝수인경우.. 이때만 input 받기..가능한가? 일단 제출해보자. happy 배열 만들 필요도 없다.\n",
    "    min_happy = float('inf')\n",
    "    min_coord = None\n",
    "    for y in range(R):\n",
    "        row = tuple(map(int, input().split()))\n",
    "        for x in range(C):\n",
    "            if (y+x)%2:    # 0,0에서부터 길이가 홀수인, 뺄 수 있는 애들만 검사.\n",
    "                if row[x]<min_happy:    # 걔네들 중 최소인 애의 값과 좌표 저장.\n",
    "                    min_happy = row[x]\n",
    "                    min_coord = (y,x)\n",
    "    \n",
    "    # 3. 또 minimum points의 r의 홀수여부에 따라 path 만들어주기. 총 5단계에 걸쳐...\n",
    "    r, c = min_coord\n",
    "    # 1. r이 홀수인경우...\n",
    "    if r%2:\n",
    "        # 1단계..\n",
    "        path += f\"{'D'*(R-1)}R{'U'*(R-1)}R\"*(c//2)   # c-1 행까지 일단 채우기.\n",
    "        # 2단계..\n",
    "        path += 'R'*(C-c-1)+'D'   # 위에 첫줄..\n",
    "        path += f\"{'L'*(C-c-1)}D{'R'*(C-c-1)}D\"*(r//2) # 나머지..\n",
    "        # 3단계..\n",
    "        path += f\"{'D'*(R-r-2)}L{'U'*(R-r-2)}L\"*((C-c-1)//2)\n",
    "        # 4단계..\n",
    "        path += 'DLDR'*((R-r)//2)\n",
    "        # 5단계..\n",
    "        path += 'R'*(C-c-2)\n",
    "    # 2. r이 짝수인경우...\n",
    "    else:\n",
    "        # 1단계..\n",
    "        path += f\"{'R'*(C-1)}D{'L'*(C-1)}D\"*(r//2)   # r-1 열까지 일단 채우기.\n",
    "        # 2단계..\n",
    "        path += 'D'*(R-r-1)+'R'   # 앞에 첫행..\n",
    "        path += f\"{'U'*(R-r-1)}R{'D'*(R-r-1)}R\"*(r//2) # 나머지..\n",
    "        # 3단계..\n",
    "        path += f\"{'R'*(C-c-2)}U{'L'*(C-c-2)}U\"*((R-r-1)//2)\n",
    "        # 4단계..\n",
    "        path += 'RURD'*((C-c)//2)\n",
    "        # 5단계..\n",
    "        path += 'D'*(R-r-2)\n",
    "    return path\n",
    "\n",
    "solve()"
   ]
  },
  {
   "cell_type": "markdown",
   "metadata": {},
   "source": [
    "3 3  \n",
    "5 1 3  \n",
    "2 4 8  \n",
    "1 1 2  \n",
    "\n",
    "---\n",
    "RRDLLDRR"
   ]
  },
  {
   "cell_type": "markdown",
   "metadata": {},
   "source": [
    "또..틀리다니.. 시발..!!! DFS 써야되나..??"
   ]
  },
  {
   "cell_type": "markdown",
   "metadata": {},
   "source": [
    "예외 처리가 너무 많다... Rule Based로 풀라고 낸 문제가 아닌가..."
   ]
  },
  {
   "cell_type": "code",
   "execution_count": null,
   "metadata": {
    "collapsed": true
   },
   "outputs": [],
   "source": []
  }
 ],
 "metadata": {
  "kernelspec": {
   "display_name": "Python 3",
   "language": "python",
   "name": "python3"
  },
  "language_info": {
   "codemirror_mode": {
    "name": "ipython",
    "version": 3
   },
   "file_extension": ".py",
   "mimetype": "text/x-python",
   "name": "python",
   "nbconvert_exporter": "python",
   "pygments_lexer": "ipython3",
   "version": "3.6.3"
  }
 },
 "nbformat": 4,
 "nbformat_minor": 2
}
