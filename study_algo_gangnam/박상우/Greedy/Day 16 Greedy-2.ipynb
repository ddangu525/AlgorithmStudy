{
 "cells": [
  {
   "cell_type": "markdown",
   "metadata": {},
   "source": [
    "## 1. 1541 잃어버린 괄호"
   ]
  },
  {
   "cell_type": "markdown",
   "metadata": {},
   "source": [
    "#### 문제\n",
    "세준이는 양수와 +, -, 그리고 괄호를 가지고 길이가 최대 50인 식을 만들었다. 그리고 나서 세준이는 괄호를 모두 지웠다.  \n",
    "  \n",
    "그리고 나서 세준이는 괄호를 적절히 쳐서 이 식의 값을 최소로 만들려고 한다.  \n",
    "  \n",
    "괄호를 적절히 쳐서 이 식의 값을 최소로 만드는 프로그램을 작성하시오.  \n",
    "  \n",
    "#### 입력\n",
    "첫째 줄에 식이 주어진다. 식은 ‘0’~‘9’, ‘+’, 그리고 ‘-’만으로 이루어져 있고, 가장 처음과 마지막 문자는 숫자이다.  \n",
    "그리고 연속해서 두 개 이상의 연산자가 나타나지 않고, 5자리보다 많이 연속되는 숫자는 없다. 수는 0으로 시작할 수 있다.  \n",
    "  \n",
    "#### 출력\n",
    "첫째 줄에 정답을 출력한다."
   ]
  },
  {
   "cell_type": "markdown",
   "metadata": {},
   "source": [
    "### ------------------------------------------------------------------------------"
   ]
  },
  {
   "cell_type": "markdown",
   "metadata": {},
   "source": [
    "음수들을 최대한 크게.  \n",
    "55-50+40+30-10-30-40+30  이렇게 있으면..  \n",
    "-뒤에 + 애들을 묶고..이러기만 하면 끝??"
   ]
  },
  {
   "cell_type": "code",
   "execution_count": 8,
   "metadata": {},
   "outputs": [
    {
     "name": "stdout",
     "output_type": "stream",
     "text": [
      "55-50+40+30-10-30-40+30\n",
      "-기준으로 나눈결과: ['55', '50+40+30', '10', '30', '40+30']\n",
      "-175\n"
     ]
    }
   ],
   "source": [
    "eq = input().split('-')\n",
    "print(f'-기준으로 나눈결과: {eq}')\n",
    "ans = 0\n",
    "if eq[0]:\n",
    "    ans += eval(eq[0])\n",
    "for i in eq[1:]:\n",
    "    ans -= eval(i)\n",
    "print(ans)"
   ]
  },
  {
   "cell_type": "markdown",
   "metadata": {},
   "source": [
    "이러면 eval에서 0으로 시작하는 숫자 처리가 안되네..  \n",
    "그러면 일단 -가 처음 나온시점부터는 모든 수를 빼줄 수 있다!!  \n",
    "처음나온 -를 기준으로 두 개로 나눠서 앞에 나온 수는 다 더해주고, 뒤에 나오는 수는 다 빼주기.  "
   ]
  },
  {
   "cell_type": "code",
   "execution_count": 9,
   "metadata": {},
   "outputs": [
    {
     "name": "stdout",
     "output_type": "stream",
     "text": [
      "55-50+40+30-10-30-40+30\n",
      "-175\n"
     ]
    }
   ],
   "source": [
    "eq = input().split('-', 1)\n",
    "add = sub = 0   # 더해줄 애들, 빼줄애들 총 합.\n",
    "if eq[0]:         # 더해줄 애들이 있다면..\n",
    "    add = sum(map(int, eq[0].split('+')))   # 얘는 다 +니까 간단히 해결..\n",
    "\n",
    "if len(eq)>1:    # -가 있는경우만!\n",
    "    eq[1] = eq[1].replace('+', ' ').replace('-', ' ').split()\n",
    "    sub = sum(map(int, eq[1]))\n",
    "print(add-sub)"
   ]
  },
  {
   "cell_type": "markdown",
   "metadata": {},
   "source": [
    "55-50+40"
   ]
  },
  {
   "cell_type": "markdown",
   "metadata": {},
   "source": [
    "## 2. 1744 수 묶기"
   ]
  },
  {
   "cell_type": "markdown",
   "metadata": {},
   "source": [
    "#### 문제\n",
    "길이가 N인 수열이 주어졌을 때, 그 수열의 합을 구하려고 한다.  \n",
    "하지만, 그냥 그 수열의 합을 모두 더해서 구하는 것이 아니라, 수열의 두 수를 묶으려고 한다.  \n",
    "어떤 수를 묶으려고 할 때, 위치에 상관없이 묶을 수 있다. 하지만, 같은 위치에 있는 수(자기 자신)를 묶는 것은 불가능하다.  \n",
    "그리고 어떤 수를 묶게 되면, 수열의 합을 구할 때 묶은 수는 서로 곱한 후에 더한다.  \n",
    "  \n",
    "예를 들면, 어떤 수열이 {0, 1, 2, 4, 3, 5}일 때, 그냥 이 수열의 합을 구하면 0+1+2+4+3+5 = 15이다.  \n",
    "하지만, 2와 3을 묶고, 4와 5를 묶게 되면, 0+1+(2*3)+(4*5) = 27이 되어 최대가 된다.  \n",
    "  \n",
    "수열의 모든 수는 단 한번만 묶거나, 아니면 묶지 않아야한다.  \n",
    "  \n",
    "수열이 주어졌을 때, 수열의 각 수를 적절히 묶었을 때, 그 합이 최대가 되게 하는 프로그램을 작성하시오.  \n",
    "  \n",
    "#### 입력\n",
    "첫째 줄에 수열의 크기 N이 주어진다. N은 10,000보다 작다. 둘째 줄부터 N개의 줄에, 수열의 각 수가 주어진다.  \n",
    "수열의 수는 -10,000보다 크거나 같고, 10,000보다 작거나 같은 정수이다.  \n",
    "  \n",
    "#### 출력\n",
    "수를 적절히 묶어 그 합이 최댓값을 출력한다. 정답은 항상 $2^{31}$보다 작다.  "
   ]
  },
  {
   "cell_type": "markdown",
   "metadata": {},
   "source": [
    "### ------------------------------------------------------------------------------"
   ]
  },
  {
   "cell_type": "markdown",
   "metadata": {},
   "source": [
    "2이상인 수들끼리는 곱하는게 그냥 더하는 것보다 무조건 크다. 그리고 큰 수끼리 곱하니까 더 크다.  \n",
    "그냥 정렬해서 2이상인 애들 곱하면 될듯.  \n",
    "그리고 -값인 애들도!!! 묶어줘야.. 얘네도 최대한 절대값 큰애들끼리 곱해주는데, -1, -2인 애들도 일단 다 곱해서 양수로 만들어주기.  "
   ]
  },
  {
   "cell_type": "code",
   "execution_count": 27,
   "metadata": {
    "scrolled": true
   },
   "outputs": [
    {
     "name": "stdout",
     "output_type": "stream",
     "text": [
      "2\n",
      "-9\n",
      "0\n",
      "양수 수열: [0]\n",
      "음수 수열: [-9]\n",
      "-9\n"
     ]
    }
   ],
   "source": [
    "# import sys\n",
    "# input = sys.stdin.readline\n",
    "import bisect\n",
    "N = int(input())\n",
    "pos = []  # 양수 오름차순으로 저장\n",
    "neg = []  # 음수 오름차순으로 저장\n",
    "ans = 0   # 결과값 저장.\n",
    "for _ in range(N):\n",
    "    i = int(input())\n",
    "    if i>=0:\n",
    "        bisect.insort(pos, i)\n",
    "    else:\n",
    "        bisect.insort(neg, i)\n",
    "print(f'양수 수열: {pos}\\n음수 수열: {neg}')\n",
    "for i in range(len(pos)-1, 0, -2):\n",
    "    a, b = pos[i], pos[i-1]\n",
    "    if a>=2 and b>=2:\n",
    "        ans += a*b\n",
    "    else:\n",
    "        ans += a+b\n",
    "if len(pos)%2:\n",
    "    ans += pos[0]\n",
    "for i in range(0, len(neg)-1, 2):\n",
    "    ans += neg[i]*neg[i+1]\n",
    "if len(neg)%2:\n",
    "    ans += neg[-1]\n",
    "print(ans)    "
   ]
  },
  {
   "cell_type": "markdown",
   "metadata": {},
   "source": [
    "위 방법으로 한 후, -가 하나 남고, 0이 있으면, 음수값을 0으로 만들어 줘야함!!"
   ]
  },
  {
   "cell_type": "code",
   "execution_count": 32,
   "metadata": {
    "scrolled": true
   },
   "outputs": [
    {
     "name": "stdout",
     "output_type": "stream",
     "text": [
      "3\n",
      "-3\n",
      "-2\n",
      "-0\n",
      "양수 수열: []\n",
      "음수 수열: [-3, -2, 0]\n",
      "6\n"
     ]
    }
   ],
   "source": [
    "# import sys\n",
    "# input = sys.stdin.readline\n",
    "import bisect\n",
    "N = int(input())\n",
    "pos = []  # 양수 오름차순으로 저장\n",
    "neg = []  # 음수 오름차순으로 저장 + 0도 저장\n",
    "ans = 0   # 결과값 저장.\n",
    "for _ in range(N):\n",
    "    i = int(input())\n",
    "    if i>0:\n",
    "        bisect.insort(pos, i)\n",
    "    else:\n",
    "        bisect.insort(neg, i)\n",
    "print(f'양수 수열: {pos}\\n음수 수열: {neg}')\n",
    "for i in range(len(pos)-1, 0, -2):\n",
    "    a, b = pos[i], pos[i-1]\n",
    "    if a>=2 and b>=2:\n",
    "        ans += a*b\n",
    "    else:\n",
    "        ans += a+b\n",
    "if len(pos)%2:\n",
    "    ans += pos[0]\n",
    "for i in range(0, len(neg)-1, 2):\n",
    "    ans += neg[i]*neg[i+1]\n",
    "if len(neg)%2 and neg[-1]:     # 음수 배열이 하나 남고, 그게 0이 아닌경우. 하나만 빼주면 된다.\n",
    "    ans += neg[-1]\n",
    "print(ans)    "
   ]
  },
  {
   "cell_type": "markdown",
   "metadata": {},
   "source": [
    "입력받을 때 1을 양수배열에 넣지말고 그냥 정답에 더해주면 좀 더 빨라진다..  \n",
    "bisect도 할 필요가 없넹.. "
   ]
  },
  {
   "cell_type": "code",
   "execution_count": null,
   "metadata": {
    "collapsed": true
   },
   "outputs": [],
   "source": [
    "# 최종 코드\n",
    "# import sys\n",
    "# input = sys.stdin.readline\n",
    "N = int(input())\n",
    "pos = []\n",
    "neg = []\n",
    "ans = 0\n",
    "for _ in range(N):\n",
    "    i = int(input())\n",
    "    if i>1:\n",
    "        pos.append(i)\n",
    "    elif i<=0:\n",
    "        neg.append(i)\n",
    "    else:\n",
    "        ans += 1\n",
    "pos.sort()\n",
    "neg.sort()\n",
    "for i in range(len(pos)-1, 0, -2):\n",
    "    ans += pos[i]*pos[i-1]\n",
    "if len(pos)%2:\n",
    "    ans += pos[0]\n",
    "for i in range(0, len(neg)-1, 2):\n",
    "    ans += neg[i]*neg[i+1]\n",
    "if len(neg)%2 and neg[-1]:\n",
    "    ans += neg[-1]\n",
    "print(ans)    "
   ]
  },
  {
   "cell_type": "markdown",
   "metadata": {},
   "source": [
    "## 3. 2875 대회 or 인턴"
   ]
  },
  {
   "cell_type": "markdown",
   "metadata": {},
   "source": [
    "#### 문제\n",
    "백준대학교에서는 대회에 나갈 때 2명의 여학생과 1명의 남학생이 팀을 결성해서 나가는 것이 원칙이다.  \n",
    "(왜인지는 총장님께 여쭈어보는 것이 좋겠다.)  \n",
    "  \n",
    "백준대학교는 뛰어난 인재들이 많아 올해에도 N명의 여학생과 M명의 남학생이 팀원을 찾고 있다.  \n",
    "  \n",
    "그런데 올해에는 대회에 참여하려는 학생들 중 K명을 반드시 인턴쉽 프로그램에 참여하라는 학교의 방침이 생기게 되었다.  \n",
    "인턴쉽에 참여하는 학생은 대회에 참여하지 못한다.  \n",
    "  \n",
    "백준대학교에서는 뛰어난 인재들이 많기 때문에, 많은 팀을 만드는 것이 최선이다.  \n",
    "  \n",
    "여러분은 N명의 여학생과 M명의 남학생, K명의 인턴쉽에 참여해야하는 인원이 주어질 때 만들 수 있는 최대의 팀 수를 구하면 된다.  \n",
    "  \n",
    "#### 입력\n",
    "첫째 줄에 N, M, K가 순서대로 주어진다. (0 ≤ M ≤ 100), (0 ≤ N ≤ 100), (0 ≤ K ≤ M+N),  \n",
    "  \n",
    "#### 출력\n",
    "만들 수 있는 팀의 최댓값을 출력하면 된다.  "
   ]
  },
  {
   "cell_type": "markdown",
   "metadata": {},
   "source": [
    "### ------------------------------------------------------------------------------"
   ]
  },
  {
   "cell_type": "markdown",
   "metadata": {},
   "source": [
    "남 여 1:2 비율로 팀. 근데 K명은 인턴해야.. 이 때 최대한 팀을 많이 만들기..  \n",
    "1. 일단 남자 여자 수 부터 따져보기.. N>2M이라면, 즉 여자가 남는다면.  \n",
    "일단 남는 여자애들 다 인턴쉽. 그리고 부족한 인턴쉽에 팀 하나씩 없애가며 3명씩 보충..  \n",
    "2. N<2M. 남자가 남는경우..  \n",
    "남는 남자 다 인턴쉽으로 가고, 부족한 인턴쉽 인원에 마찬가지로 팀 하나씩 없애가며 3명씩 보충..\n",
    "3. 비율이 맞는경우..  \n",
    "바로 그냥 팀 하나씩 없애가며 인턴십 채우기..  \n",
    "  \n",
    "N-2M값을 이용해서 풀기. +면 여자가 남고, -면 남자가 남고.. 0이면 비율 맞음.."
   ]
  },
  {
   "cell_type": "code",
   "execution_count": 41,
   "metadata": {
    "scrolled": true
   },
   "outputs": [
    {
     "name": "stdout",
     "output_type": "stream",
     "text": [
      "9 3 1\n",
      "3\n"
     ]
    }
   ],
   "source": [
    "N, M, K = map(int, input().split())\n",
    "r = N-2*M\n",
    "if r>0:    # 일단 팀을 최대한 만들고 여자가 남는경우. 팀의 수는 남자의 수만큼.\n",
    "    K -= r # 남는 애들 인턴시키고,\n",
    "    if K>0:  # 인턴 더 해야되면, 1팀 해체할때마다 3명씩 인턴 채울 수 있다. 4명 필요하면 2 팀 필요... (K+2)//3만큼..\n",
    "        print(M-(K+2)//3)\n",
    "    else:      # 아니면 그대로 출력\n",
    "        print(M)\n",
    "elif r<0:  # 남자가 남는경우.. 근데 이 때 여자도 남을 수 있다!!!!!!!! 주의... r이홀수면 여자도 한명 남음!!\n",
    "    m = (abs(r)+1)//2  # 남자 남는 수..\n",
    "    K -= m\n",
    "    if r%2:     # 여자도 한명 남는경우..\n",
    "        K -= 1\n",
    "    if K>0:\n",
    "        print(M-m-(K+2)//3)\n",
    "    else:   \n",
    "        print(M-m)\n",
    "else:                          # 비율 맞는경우 팀해체만..\n",
    "    print(M-(K+2)//3)"
   ]
  },
  {
   "cell_type": "code",
   "execution_count": null,
   "metadata": {
    "collapsed": true
   },
   "outputs": [],
   "source": [
    "# 백준.. 그냥 이러면 된다고..???\n",
    "import sys\n",
    "girl,boy,K= map(int,sys.stdin.readline().split())\n",
    "team=min((girl+boy-K)//3,girl//2)\n",
    "team=min(team,boy)\n",
    "print(team)"
   ]
  },
  {
   "cell_type": "code",
   "execution_count": null,
   "metadata": {
    "collapsed": true
   },
   "outputs": [],
   "source": [
    "# 한줄짜리...\n",
    "n,m,k=map(int,input().split());print(min(n//2,m,(n+m-k)//3))"
   ]
  },
  {
   "cell_type": "markdown",
   "metadata": {},
   "source": [
    "남자가 많이 남아서 남자로만 인턴 수 맞추는 경우가 n//2이고,    \n",
    "여자가 많이 남아서 여자로만 인턴 수 맞추는 경우가 m이고,  \n",
    "그 외 남 여 적절히 인턴 빠져주면 (n+m-k)//3 만큼 팀이 생긴다..."
   ]
  }
 ],
 "metadata": {
  "kernelspec": {
   "display_name": "Python 3",
   "language": "python",
   "name": "python3"
  },
  "language_info": {
   "codemirror_mode": {
    "name": "ipython",
    "version": 3
   },
   "file_extension": ".py",
   "mimetype": "text/x-python",
   "name": "python",
   "nbconvert_exporter": "python",
   "pygments_lexer": "ipython3",
   "version": "3.6.3"
  }
 },
 "nbformat": 4,
 "nbformat_minor": 2
}
