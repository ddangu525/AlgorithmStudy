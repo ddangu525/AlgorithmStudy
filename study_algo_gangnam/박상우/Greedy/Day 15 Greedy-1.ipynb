{
 "cells": [
  {
   "cell_type": "markdown",
   "metadata": {},
   "source": [
    "## 1. 11047 동전0"
   ]
  },
  {
   "cell_type": "markdown",
   "metadata": {},
   "source": [
    "#### 문제\n",
    "준규가 가지고 있는 동전은 총 N종류이고, 각각의 동전을 매우 많이 가지고 있다.  \n",
    "  \n",
    "동전을 적절히 사용해서 그 가치의 합을 K로 만들려고 한다. 이때 필요한 동전 개수의 최솟값을 구하는 프로그램을 작성하시오.  \n",
    "  \n",
    "#### 입력\n",
    "첫째 줄에 N과 K가 주어진다. (1 ≤ N ≤ 10, 1 ≤ K ≤ 100,000,000)  \n",
    "  \n",
    "둘째 줄부터 N개의 줄에 동전의 가치 Ai가 오름차순으로 주어진다. (1 ≤ $A_i$ ≤ 1,000,000, $A_1$ = 1, i ≥ 2인 경우에 $A_i$는 $A_{i-1}$의 배수)  \n",
    "  \n",
    "#### 출력\n",
    "첫째 줄에 K원을 만드는데 필요한 동전 개수의 최솟값을 출력한다.  "
   ]
  },
  {
   "cell_type": "markdown",
   "metadata": {},
   "source": [
    "### ------------------------------------------------------------------------------"
   ]
  },
  {
   "cell_type": "markdown",
   "metadata": {},
   "source": [
    "$A_i$가 $A_{i-1}$의 배수라서 그냥 바로 큰 동전부터 greedy 가능."
   ]
  },
  {
   "cell_type": "code",
   "execution_count": null,
   "metadata": {
    "collapsed": true
   },
   "outputs": [],
   "source": [
    "# import sys\n",
    "# input = sys.stdin.readline\n",
    "N, K = map(int, input().split())\n",
    "coins = [int(input()) for _ in range(N)]\n",
    "ans = 0\n",
    "for coin in coins[::-1]:\n",
    "    if K>=coin:\n",
    "        ans += K//coin\n",
    "        K %= coin\n",
    "print(ans)"
   ]
  },
  {
   "cell_type": "markdown",
   "metadata": {},
   "source": [
    "## 2. 1931 회의실 배정"
   ]
  },
  {
   "cell_type": "markdown",
   "metadata": {},
   "source": [
    "#### 문제\n",
    "한 개의 회의실이 있는데 이를 사용하고자 하는 N개의 회의들에 대하여 회의실 사용표를 만들려고 한다.  \n",
    "각 회의 I에 대해 시작시간과 끝나는 시간이 주어져 있고, 각 회의가 겹치지 않게 하면서 회의실을 사용할 수 있는 최대수의 회의를 찾아라.  \n",
    "단, 회의는 한번 시작하면 중간에 중단될 수 없으며 한 회의가 끝나는 것과 동시에 다음 회의가 시작될 수 있다.  \n",
    "회의의 시작시간과 끝나는 시간이 같을 수도 있다. 이 경우에는 시작하자마자 끝나는 것으로 생각하면 된다.  \n",
    "  \n",
    "#### 입력\n",
    "첫째 줄에 회의의 수 N(1 ≤ N ≤ 100,000)이 주어진다.  \n",
    "둘째 줄부터 N+1 줄까지 각 회의의 정보가 주어지는데 이것은 공백을 사이에 두고 회의의 시작시간과 끝나는 시간이 주어진다.  \n",
    "시작 시간과 끝나는 시간은 $2^{31}$-1보다 작거나 같은 자연수 또는 0이다.  \n",
    "  \n",
    "#### 출력\n",
    "첫째 줄에 최대 사용할 수 있는 회의 수를 출력하여라."
   ]
  },
  {
   "cell_type": "markdown",
   "metadata": {},
   "source": [
    "### ------------------------------------------------------------------------------"
   ]
  },
  {
   "cell_type": "markdown",
   "metadata": {},
   "source": [
    "1. 회의 시간이 짧은애들부터 우선적으로 선택?? -- x안되는 경우가 있다.  \n",
    "2. 회의 시간이 빠른 애들부터 선택하는데 그 구간이 나눠질 수 있으면 나누기.  \n",
    "일단 회의시간이 같다면 무조건 짧은애 선택. --> 이건 확실..  \n",
    "왤케 틀리냐 ㅜㅜ 일단 길이 0인애들은 선택 잘 되는데...   \n",
    "그리고 길이 1인애들 처리도.."
   ]
  },
  {
   "cell_type": "code",
   "execution_count": 2,
   "metadata": {
    "scrolled": true
   },
   "outputs": [
    {
     "name": "stdout",
     "output_type": "stream",
     "text": [
      "3\n",
      "0 9\n",
      "2 10\n",
      "3 11\n",
      "회의 리스트: [(0, 9), (2, 10), (3, 11)]\n",
      "현재 보고있는 회의는 2시부터 10시까지..\n",
      "현재 보고있는 회의는 3시부터 11시까지..\n",
      "1\n"
     ]
    }
   ],
   "source": [
    "# import sys\n",
    "# input = sys.stdin.readline\n",
    "N = int(input())\n",
    "if N == 1:\n",
    "    print(1)\n",
    "    exit()\n",
    "# 시작시간, 끝나는시간으로 주어지는 입력. 회의시간이 빠르고, 짧은 순서로 정렬.\n",
    "conf = sorted([tuple(map(int, input().split())) for _ in range(N)], key= lambda x: (x[0], x[1]-x[0]))\n",
    "ans = 1 # 선택한 회의의 수! 적어도 하나는 열림.\n",
    "# 1. 현재 고려중인 회의의 시작, 끝시간. 이 뒤에 열리는 애가 더 빨리 끝나면 그걸로 대체.\n",
    "# 2. 그리고 다음회의의 시작시간이 끝시간보다 느리다면 고려한 애를 선택하고 개수 1증가, 그리고 다시 값 바꿔줌.\n",
    "# 3. \n",
    "start, end = conf[0]  # 현재 고려중인 회의의 시작, 끝시간.. 처음걸로 초기화. 뒤에 열리는 애가 이거보다 빨리 끝나면 그걸로 대체.\n",
    "l = end # 마지막으로 선택된 회의가 끝나는 시간.\n",
    "print(f'회의 리스트: {conf}')\n",
    "# 1번 index위치부터 탐색 시작.\n",
    "for i in range(1, N):\n",
    "    s, e = conf[i] # 현재 시작시간, 끝나는 시간. \n",
    "    print(f'현재 보고있는 회의는 {s}시부터 {e}시까지..')\n",
    "    if s >= end: # 뒤에 열린애가 지금 고려중인 회의 이후 시작이라면 고려중인애를 선택하고 start, end 바꿔주기.\n",
    "        print(f'{start}시부터 {end}시까지 열리는 회의가 선택됨.')\n",
    "        ans += 1\n",
    "        l = end\n",
    "        start, end = s, e\n",
    "    # 이 외만약 앞에 회의와 시간이 같다면, 더 길다는 소리. 버림.\n",
    "    elif s == start:\n",
    "        continue\n",
    "    elif e < end:   # 뒤에 열린애가 더 빨리 끝난다면, 현재 고려중인 걸 바꿔줌.\n",
    "        start, end = s, e\n",
    "if N>1 and conf[N-1][0] >= l:\n",
    "    ans += 1\n",
    "    print(f'{conf[N-1]}도 마지막으로 선택.')\n",
    "if ans>1:\n",
    "    print(ans-1)\n",
    "else:\n",
    "    print(ans)"
   ]
  },
  {
   "cell_type": "markdown",
   "metadata": {},
   "source": [
    "15번만에... 근데 너무 더러운데 코드..ㅋㅋ"
   ]
  },
  {
   "cell_type": "markdown",
   "metadata": {},
   "source": [
    "아 끝나는 시간이 빠른걸 고르면 되는구나..."
   ]
  },
  {
   "cell_type": "code",
   "execution_count": 5,
   "metadata": {},
   "outputs": [
    {
     "name": "stdout",
     "output_type": "stream",
     "text": [
      "3\n",
      "0 9\n",
      "1 10\n",
      "2 11\n",
      "1\n"
     ]
    }
   ],
   "source": [
    "# import sys\n",
    "# input = sys.stdin.readline\n",
    "N = int(input())\n",
    "# 시작시간, 끝나는시간으로 주어지는 입력. 끝나는 시간이 빠르고, 시작시간이 빠른 순으로 정렬...\n",
    "conf = sorted([tuple(map(int, input().split())) for _ in range(N)], key= lambda x: (x[1], x[0]))\n",
    "start, end = 0, 0\n",
    "ans = 0\n",
    "for i in range(N):\n",
    "    s, e = conf[i]\n",
    "    if s>=end:\n",
    "        ans += 1\n",
    "        end = e\n",
    "print(ans)"
   ]
  },
  {
   "cell_type": "code",
   "execution_count": null,
   "metadata": {
    "collapsed": true
   },
   "outputs": [],
   "source": [
    "# 백준 그 사람 short coding\n",
    "e=r=0\n",
    "for b,a in sorted([*map(int,input().split()[::-1])]for _ in[0]*int(input())):\n",
    " if a>=e:r+=1;e=b\n",
    "print(r)"
   ]
  },
  {
   "cell_type": "markdown",
   "metadata": {},
   "source": [
    "11  \n",
    "1 4  \n",
    "3 5  \n",
    "0 6  \n",
    "5 7  \n",
    "3 8  \n",
    "5 9  \n",
    "6 10  \n",
    "8 11  \n",
    "8 12  \n",
    "2 13  \n",
    "12 14  \n",
    "\n",
    "---\n",
    "4"
   ]
  },
  {
   "cell_type": "markdown",
   "metadata": {},
   "source": [
    "## 3. 11399 ATM"
   ]
  },
  {
   "cell_type": "markdown",
   "metadata": {},
   "source": [
    "#### 문제\n",
    "인하은행에는 ATM이 1대밖에 없다. 지금 이 ATM앞에 N명의 사람들이 줄을 서있다.  \n",
    "사람은 1번부터 N번까지 번호가 매겨져 있으며, i번 사람이 돈을 인출하는데 걸리는 시간은 Pi분이다.  \n",
    "  \n",
    "사람들이 줄을 서는 순서에 따라서, 돈을 인출하는데 필요한 시간의 합이 달라지게 된다.  \n",
    "예를 들어, 총 5명이 있고, P1 = 3, P2 = 1, P3 = 4, P4 = 3, P5 = 2 인 경우를 생각해보자.  \n",
    "[1, 2, 3, 4, 5] 순서로 줄을 선다면, 1번 사람은 3분만에 돈을 뽑을 수 있다.  \n",
    "2번 사람은 1번 사람이 돈을 뽑을 때 까지 기다려야 하기 때문에, 3+1 = 4분이 걸리게 된다.  \n",
    "3번 사람은 1번, 2번 사람이 돈을 뽑을 때까지 기다려야 하기 때문에, 총 3+1+4 = 8분이 필요하게 된다.  \n",
    "4번 사람은 3+1+4+3 = 11분, 5번 사람은 3+1+4+3+2 = 13분이 걸리게 된다.  \n",
    "이 경우에 각 사람이 돈을 인출하는데 필요한 시간의 합은 3+4+8+11+13 = 39분이 된다.  \n",
    "  \n",
    "줄을 [2, 5, 1, 4, 3] 순서로 줄을 서면, 2번 사람은 1분만에, 5번 사람은 1+2 = 3분, 1번 사람은 1+2+3 = 6분, 4번 사람은 1+2+3+3 = 9분,  \n",
    "3번 사람은 1+2+3+3+4 = 13분이 걸리게 된다. 각 사람이 돈을 인출하는데 필요한 시간의 합은 1+3+6+9+13 = 32분이다.  \n",
    "이 방법보다 더 필요한 시간의 합을 최소로 만들 수는 없다.  \n",
    "  \n",
    "줄을 서 있는 사람의 수 N과 각 사람이 돈을 인출하는데 걸리는 시간 Pi가 주어졌을 때,  \n",
    "각 사람이 돈을 인출하는데 필요한 시간의 합의 최솟값을 구하는 프로그램을 작성하시오.  \n",
    "  \n",
    "#### 입력\n",
    "첫째 줄에 사람의 수 N(1 ≤ N ≤ 1,000)이 주어진다. 둘째 줄에는 각 사람이 돈을 인출하는데 걸리는 시간 Pi가 주어진다. (1 ≤ Pi ≤ 1,000)  \n",
    "  \n",
    "#### 출력\n",
    "첫째 줄에 각 사람이 돈을 인출하는데 필요한 시간의 합의 최솟값을 출력한다."
   ]
  },
  {
   "cell_type": "markdown",
   "metadata": {},
   "source": [
    "### ------------------------------------------------------------------------------"
   ]
  },
  {
   "cell_type": "markdown",
   "metadata": {},
   "source": [
    "그냥 조금 걸리는 애가 먼저 뽑기.."
   ]
  },
  {
   "cell_type": "code",
   "execution_count": 1,
   "metadata": {},
   "outputs": [
    {
     "name": "stdout",
     "output_type": "stream",
     "text": [
      "5\n",
      "3 1 4 3 2\n",
      "1\n",
      "4\n",
      "10\n",
      "19\n",
      "32\n",
      "32\n"
     ]
    }
   ],
   "source": [
    "N = int(input())\n",
    "*P, = sorted(map(int, input().split()))\n",
    "a = b = 0\n",
    "for i in P:\n",
    "    b += i\n",
    "    a += b\n",
    "print(a)"
   ]
  },
  {
   "cell_type": "markdown",
   "metadata": {},
   "source": [
    "5  \n",
    "3 1 4 3 2\n",
    "\n",
    "--- \n",
    "32"
   ]
  }
 ],
 "metadata": {
  "kernelspec": {
   "display_name": "Python 3",
   "language": "python",
   "name": "python3"
  },
  "language_info": {
   "codemirror_mode": {
    "name": "ipython",
    "version": 3
   },
   "file_extension": ".py",
   "mimetype": "text/x-python",
   "name": "python",
   "nbconvert_exporter": "python",
   "pygments_lexer": "ipython3",
   "version": "3.6.3"
  }
 },
 "nbformat": 4,
 "nbformat_minor": 2
}
