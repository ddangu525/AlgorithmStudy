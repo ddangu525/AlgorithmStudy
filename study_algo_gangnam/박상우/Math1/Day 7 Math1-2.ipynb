{
 "cells": [
  {
   "cell_type": "markdown",
   "metadata": {},
   "source": [
    "## 1. 1373 2진수 8진수 "
   ]
  },
  {
   "cell_type": "markdown",
   "metadata": {},
   "source": [
    "#### 문제\n",
    "2진수가 주어졌을 때, 8진수로 변환하는 프로그램을 작성하시오.  \n",
    "  \n",
    "#### 입력\n",
    "첫째 줄에 2진수가 주어진다. 주어지는 수의 길이는 1,000,000을 넘지 않는다.  \n",
    "  \n",
    "#### 출력\n",
    "첫째 줄에 주어진 수를 8진수로 변환하여 출력한다.  "
   ]
  },
  {
   "cell_type": "markdown",
   "metadata": {},
   "source": [
    "### ------------------------------------------------------------------------------"
   ]
  },
  {
   "cell_type": "code",
   "execution_count": 1,
   "metadata": {},
   "outputs": [
    {
     "name": "stdout",
     "output_type": "stream",
     "text": [
      "11001100\n",
      "314\n"
     ]
    }
   ],
   "source": [
    "print(oct(int(input(), 2))[2:])"
   ]
  },
  {
   "cell_type": "markdown",
   "metadata": {},
   "source": [
    "## 2. 1212 8진수 2진수"
   ]
  },
  {
   "cell_type": "markdown",
   "metadata": {},
   "source": [
    "#### 문제\n",
    "8진수가 주어졌을 때, 2진수로 변환하는 프로그램을 작성하시오.  \n",
    "  \n",
    "#### 입력\n",
    "첫째 줄에 8진수가 주어진다. 주어지는 수의 길이는 333,334을 넘지 않는다.  \n",
    "  \n",
    "#### 출력\n",
    "첫째 줄에 주어진 수를 2진수로 변환하여 출력한다. 수가 0인 경우를 제외하고는 반드시 1로 시작해야 한다.  "
   ]
  },
  {
   "cell_type": "markdown",
   "metadata": {},
   "source": [
    "### ------------------------------------------------------------------------------"
   ]
  },
  {
   "cell_type": "code",
   "execution_count": 2,
   "metadata": {},
   "outputs": [
    {
     "name": "stdout",
     "output_type": "stream",
     "text": [
      "314\n",
      "11001100\n"
     ]
    }
   ],
   "source": [
    "print(bin(int(input(), 8))[2:])"
   ]
  },
  {
   "cell_type": "markdown",
   "metadata": {},
   "source": [
    "## 3. 2089 -2진수"
   ]
  },
  {
   "cell_type": "markdown",
   "metadata": {},
   "source": [
    "#### 문제\n",
    "-2진법은 부호 없는 2진수로 표현이 된다. 2진법에서는 20, 21, 22, 23이 표현 되지만 -2진법에서는 (-2)0 = 1, (-2)1 = -2, (-2)2 = 4, (-2)3 = -8을 표현한다.  \n",
    "10진수로 1부터 표현하자면 1, 110, 111, 100, 101, 11010, 11011, 11000, 11001 등이다.  \n",
    "  \n",
    "10진법의 수를 입력 받아서 -2진수를 출력하는 프로그램을 작성하시오.  \n",
    "  \n",
    "#### 입력\n",
    "첫 줄에 10진법으로 표현된 수 N(-2,000,000,000≤N≤2,000,000,000)이 주어진다.  \n",
    "  \n",
    "#### 출력\n",
    "-2진법 수를 출력한다.  "
   ]
  },
  {
   "cell_type": "markdown",
   "metadata": {},
   "source": [
    "### ------------------------------------------------------------------------------"
   ]
  },
  {
   "cell_type": "markdown",
   "metadata": {},
   "source": [
    "1, -2, 4, -8, 16, -32, 64, .....일단 주어진 값보다 큰 애로 시작해야..?? 그렇지많은 않다.  \n",
    "-2의 짝수제곱이 +, 홀수제곱이 -값.  \n",
    "2^N (N은 짝수)가 처음 나왔을 때 가능한 최소값은? 2^N - 2^(N-1) - 2^(N-3) - ... - 2  \n",
    "  \n",
    "300이라면, 일단 512 .. 2^9  \n",
    "그 다음 -212를 채워야. -> -256 해주고,  -2^8  \n",
    "44를 더해줘야. -> x  -2^9가 되네..  2^8로 시작해야할듯.   \n",
    "   \n",
    "256 더해주고, 44만큼 남음.. 128빼주지 않고, 64 더해주고.20 초과.  \n",
    "32 빼주고, 12 남음. 16 더해주고, 4 초과. 8 빼주고, 4 남음 4 더해줌 끝.  \n",
    "전체 -> 101111100 이렇게?\n",
    "  \n",
    "보통 방식대로 나누기 해보자      곱한값이 남은 수보다 작아야!  \n",
    "300 = -2 * -150  나머지 0   \n",
    "-150 = -2 * 75 나머지 0   \n",
    "75 = -2 * -37 나머지 1   \n",
    "-37 = -2 * 19 나머지 1   \n",
    "19 = -2 * -9 나머지 1   \n",
    "-9 = -2 * 5 나머지 1  \n",
    "5 = -2 * -2 나머지 1  \n",
    "-2 = -2 * 1 나머지 0  \n",
    "그대로 된다!  \n",
    "\n",
    "음수인 경우?  \n",
    "-300을 해보자  \n",
    "-300 = -2 * 150 나머지 0      \n",
    "150 = -2 * -75 나머지 0    \n",
    "-75 = -2 * 38 나머지 1    \n",
    "38 = -2 * -19 나머지 0     \n",
    "-19 = -2 * 10 나머지 1   \n",
    "10 = -2 * -5 나머지 0  \n",
    "-5 = -2 * 3 나머지 1   \n",
    "3 = -2 * -1 나머지 1  \n",
    "-1 = -2 * 1 나머지 1  여기까지...\n",
    "\n",
    "-512 해주면 212 남고 256 더해주면 44만큼 초과.  \n",
    "128 빼주면 84 남고, 64 더해주면 20 남고, 32 안빼고, 16 더해주고 8 안빼고 4 더해주고 2 안빼고 1 안더함.\n",
    "-> 1111010100 이렇게 돼야함..\n",
    "...   \n",
    "똑같은 방식으로 하면 되는듯 하지만, 수를 -2로 나눌 때 그냥 하면 -5 // -2 는 2가 나옴.. 나머지는 -1. 나머지가 1이 되도록 해주어야 한다."
   ]
  },
  {
   "cell_type": "code",
   "execution_count": 14,
   "metadata": {},
   "outputs": [
    {
     "name": "stdout",
     "output_type": "stream",
     "text": [
      "4\n",
      "100\n"
     ]
    }
   ],
   "source": [
    "N = int(input())\n",
    "if N == 0:\n",
    "    print(0)\n",
    "    exit()\n",
    "r = ''\n",
    "while N:\n",
    "    if N % 2 == 0:  # 나눠 떨어지면 문제 없음. 0 추가.\n",
    "        r += '0'    # 0 더해주고\n",
    "        N //= -2     # N update. \n",
    "    else:           # -2로 나눠주면 몫과 나머지가 달라짐.. 나머지가 -1로 나오게 연산됨.\n",
    "        r += '1'    # 1 더해주고,\n",
    "        N = N//-2 + 1\n",
    "print(r[::-1])     # 뒤집어서 출력해 주어야함.     "
   ]
  },
  {
   "cell_type": "code",
   "execution_count": 16,
   "metadata": {},
   "outputs": [
    {
     "name": "stdout",
     "output_type": "stream",
     "text": [
      "-300\n",
      "1111010100\n"
     ]
    }
   ],
   "source": [
    "# 왜 그냥 되지???\n",
    "n=-int(input());a=\"\"\n",
    "if not n:print(0);exit()\n",
    "while n:a+=str(n%2);n//=-2\n",
    "print(a[::-1])"
   ]
  },
  {
   "cell_type": "code",
   "execution_count": 23,
   "metadata": {},
   "outputs": [
    {
     "name": "stdout",
     "output_type": "stream",
     "text": [
      "300\n",
      "101111100\n"
     ]
    }
   ],
   "source": [
    "# 이 코든 뭐지??\n",
    "n = int(input())\n",
    "schroeppe = 0xaaaaaaaaa\n",
    "res = (n+schroeppe)^schroeppe\n",
    "print(bin(res)[2:])"
   ]
  },
  {
   "cell_type": "markdown",
   "metadata": {},
   "source": [
    "## 4. 11576 Base Conversion"
   ]
  },
  {
   "cell_type": "markdown",
   "metadata": {},
   "source": [
    "#### 문제\n",
    "타임머신을 개발하는 정이는 오랜 노력 끝에 타임머신을 개발하는데 성공하였다.  \n",
    "미래가 궁금한 정이는 자신이 개발한 타임머신을 이용하여 500년 후의 세계로 여행을 떠나게 되었다.  \n",
    "500년 후의 세계에서도 프로그래밍을 하고 싶었던 정이는 백준 사이트에 접속하여 문제를 풀기로 하였다.  \n",
    "그러나 미래세계는 A진법을 사용하고 있었고, B진법을 사용하던 정이는 문제를 풀 수가 없었다.  \n",
    "뛰어난 프로그래머였던 정이는 A진법으로 나타낸 숫자를 B진법으로 변환시켜주는 프로그램을 작성하기로 하였다.   \n",
    "  \n",
    "N진법이란, 한 자리에서 숫자를 표현할 때 쓸 수 있는 숫자의 가짓수가 N이라는 뜻이다.  \n",
    "예를 들어 N은 17일 때 한 자릿수에서 사용할 수 있는 수는 0, 1, 2, ... , 16으로 총 17가지가 된다.  \n",
    "  \n",
    "#### 입력\n",
    "입력의 첫 줄에는 미래세계에서 사용하는 진법 A와 정이가 사용하는 진법 B가 공백을 구분으로 주어진다. A와 B는 모두 2이상 30이하의 자연수다.  \n",
    "  \n",
    "입력의 두 번째 줄에는 A진법으로 나타낸 숫자의 자리수의 개수 m(1 ≤ m ≤ 25)이 주어진다.  \n",
    "세 번째 줄에는 A진법을 이루고 있는 숫자 m개가 공백을 구분으로 높은 자릿수부터 차례대로 주어진다. 각 숫자는 0이상 A미만임이 보장된다.  \n",
    "또한 수가 0으로 시작하는 경우는 존재하지 않는다.  \n",
    "  \n",
    "A진법으로 나타낸 수를 10진법으로 변환하였을 때의 값은 양의 정수이며 220보다 작다.  \n",
    "  \n",
    "#### 출력\n",
    "입력으로 주어진 A진법으로 나타낸 수를 B진법으로 변환하여 출력한다.  "
   ]
  },
  {
   "cell_type": "markdown",
   "metadata": {},
   "source": [
    "### ------------------------------------------------------------------------------"
   ]
  },
  {
   "cell_type": "markdown",
   "metadata": {},
   "source": [
    "A진법 -> B진법.  \n",
    "A진법을 10진법으로. 그걸 다시 B진법으로.  \n",
    "A진법 m자리 -> A^0, A^1 ,... A^m-1 까지."
   ]
  },
  {
   "cell_type": "code",
   "execution_count": 27,
   "metadata": {},
   "outputs": [
    {
     "name": "stdout",
     "output_type": "stream",
     "text": [
      "17 8\n",
      "2\n",
      "2 16\n",
      "N =  50\n",
      "6 2\n"
     ]
    }
   ],
   "source": [
    "A, B = map(int, input().split())\n",
    "m = int(input())\n",
    "num_A = list(map(int, input().split()))\n",
    "N = sum([num_A[i]*(A**(m-1-i)) for i in range(m)])\n",
    "# print('N = ', N)\n",
    "r = []\n",
    "while N:\n",
    "    r.append(str(N%B))\n",
    "    N //= B\n",
    "print(' '.join(r[::-1]))"
   ]
  },
  {
   "cell_type": "markdown",
   "metadata": {},
   "source": [
    "17 8\n",
    "2\n",
    "2 16"
   ]
  },
  {
   "cell_type": "markdown",
   "metadata": {},
   "source": [
    "## 5. 1978 소수찾기"
   ]
  },
  {
   "cell_type": "markdown",
   "metadata": {},
   "source": [
    "#### 문제\n",
    "주어진 수 N개 중에서 소수가 몇 개인지 찾아서 출력하는 프로그램을 작성하시오.  \n",
    "  \n",
    "#### 입력\n",
    "첫 줄에 수의 개수 N이 주어진다. N은 100이하이다. 다음으로 N개의 수가 주어지는데 수는 1,000 이하의 자연수이다.  \n",
    "  \n",
    "#### 출력\n",
    "주어진 수들 중 소수의 개수를 출력한다.  "
   ]
  },
  {
   "cell_type": "markdown",
   "metadata": {},
   "source": [
    "### ------------------------------------------------------------------------------"
   ]
  },
  {
   "cell_type": "markdown",
   "metadata": {},
   "source": [
    "1000까지 소수 구하고 개수 세자. 에라토스테네스의 체 방법으로"
   ]
  },
  {
   "cell_type": "code",
   "execution_count": 29,
   "metadata": {},
   "outputs": [
    {
     "name": "stdout",
     "output_type": "stream",
     "text": [
      "4\n",
      "1 3 5 7 9 11 13 15 17\n",
      "6\n"
     ]
    }
   ],
   "source": [
    "N = int(input())\n",
    "tmp = [0, 0] +[1]*999      # 1000까지 숫자들.. 소수인지 여부. \n",
    "\n",
    "for i in range(2, 998):\n",
    "    if tmp[i] == 1:\n",
    "        for j in range(2*i, 1001, i):\n",
    "            tmp[j] = 0\n",
    "            \n",
    "nums = list(map(int, input().split()))\n",
    "print(sum([tmp[i] for i in nums]))"
   ]
  },
  {
   "cell_type": "markdown",
   "metadata": {},
   "source": [
    "## 6. 1929 소수 구하기"
   ]
  },
  {
   "cell_type": "markdown",
   "metadata": {},
   "source": [
    "#### 문제\n",
    "M이상 N이하의 소수를 모두 출력하는 프로그램을 작성하시오.  \n",
    "  \n",
    "#### 입력\n",
    "첫째 줄에 자연수 M과 N이 빈 칸을 사이에 두고 주어진다. (1 ≤ M ≤ N ≤ 1,000,000)  \n",
    "   \n",
    "#### 출력\n",
    "한 줄에 하나씩, 증가하는 순서대로 소수를 출력한다.  "
   ]
  },
  {
   "cell_type": "markdown",
   "metadata": {},
   "source": [
    "### ------------------------------------------------------------------------------"
   ]
  },
  {
   "cell_type": "markdown",
   "metadata": {},
   "source": [
    "이것도 그냥 구간안의 소수 다 구하고?? 그게 빠르려나?  N까지..."
   ]
  },
  {
   "cell_type": "code",
   "execution_count": 40,
   "metadata": {
    "scrolled": false
   },
   "outputs": [
    {
     "name": "stdout",
     "output_type": "stream",
     "text": [
      "3 16\n",
      "3\n",
      "5\n",
      "7\n",
      "11\n",
      "13\n"
     ]
    }
   ],
   "source": [
    "# 488ms\n",
    "M, N = map(int, input().split())\n",
    "tmp = [0, 0] +[1]*(N-1)      # N까지 숫자들 소수인지 여부. \n",
    "\n",
    "for i in range(2, N):\n",
    "    if tmp[i] == 1:\n",
    "        for j in range(2*i, N+1, i):\n",
    "            tmp[j] = 0\n",
    "\n",
    "for i in range(M, N+1):\n",
    "    if tmp[i]:\n",
    "        print(i)"
   ]
  },
  {
   "cell_type": "code",
   "execution_count": 41,
   "metadata": {},
   "outputs": [
    {
     "name": "stdout",
     "output_type": "stream",
     "text": [
      "3 16\n",
      "3\n",
      "5\n",
      "7\n",
      "11\n",
      "13\n"
     ]
    }
   ],
   "source": [
    "# 200ms\n",
    "m, n = list(map(int, input().split()))\n",
    "s = [0, 0] + [1] * (n - 1)\n",
    "for i in range(2, int(n ** .5) + 1):\n",
    "    if s[i]:\n",
    "        s[i * 2::i] = [0] * ((n - i) // i)\n",
    "for i in range(m, n+1):\n",
    "    if s[i]:\n",
    "        print(i)"
   ]
  },
  {
   "cell_type": "code",
   "execution_count": null,
   "metadata": {
    "collapsed": true
   },
   "outputs": [],
   "source": []
  }
 ],
 "metadata": {
  "kernelspec": {
   "display_name": "Python 3",
   "language": "python",
   "name": "python3"
  },
  "language_info": {
   "codemirror_mode": {
    "name": "ipython",
    "version": 3
   },
   "file_extension": ".py",
   "mimetype": "text/x-python",
   "name": "python",
   "nbconvert_exporter": "python",
   "pygments_lexer": "ipython3",
   "version": "3.6.3"
  }
 },
 "nbformat": 4,
 "nbformat_minor": 2
}
