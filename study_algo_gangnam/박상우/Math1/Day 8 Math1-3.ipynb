{
 "cells": [
  {
   "cell_type": "markdown",
   "metadata": {},
   "source": [
    "## 1. 6588 골드바흐의 추측"
   ]
  },
  {
   "cell_type": "markdown",
   "metadata": {},
   "source": [
    "#### 문제\n",
    "1742년, 독일의 아마추어 수학가 크리스티안 골드바흐는 레온하르트 오일러에게 다음과 같은 추측을 제안하는 편지를 보냈다.  \n",
    "  \n",
    "4보다 큰 모든 짝수는 두 홀수 소수의 합으로 나타낼 수 있다.  \n",
    "예를 들어 8은 3 + 5로 나타낼 수 있고, 3과 5는 모두 홀수인 소수이다.  \n",
    "또, 20 = 3 + 17 = 7 + 13, 42 = 5 + 37 = 11 + 31 = 13 + 29 = 19 + 23 이다.  \n",
    "  \n",
    "이 추측은 아직도 해결되지 않은 문제이다.  \n",
    "  \n",
    "백만 이하의 모든 짝수에 대해서, 이 추측을 검증하는 프로그램을 작성하시오.  \n",
    "  \n",
    "#### 입력\n",
    "입력은 하나 또는 그 이상의 테스트 케이스로 이루어져 있다. 테스트 케이스의 개수는 100,000개를 넘지 않는다.  \n",
    "  \n",
    "각 테스트 케이스는 짝수 정수 n 하나로 이루어져 있다. (6 ≤ n ≤ 1000000)  \n",
    "  \n",
    "입력의 마지막 줄에는 0이 하나 주어진다.  \n",
    "  \n",
    "#### 출력\n",
    "각 테스트 케이스에 대해서, n = a + b 형태로 출력한다. 이때, a와 b는 홀수 소수이다. 숫자와 연산자는 공백 하나로 구분되어져 있다.  \n",
    "만약, n을 만들 수 있는 방법이 여러 가지라면, b-a가 가장 큰 것을 출력한다.  \n",
    "또, 두 홀수 소수의 합으로 n을 나타낼 수 없는 경우에는 \"Goldbach's conjecture is wrong.\"을 출력한다.  "
   ]
  },
  {
   "cell_type": "markdown",
   "metadata": {},
   "source": [
    "### ------------------------------------------------------------------------------"
   ]
  },
  {
   "cell_type": "markdown",
   "metadata": {},
   "source": [
    "일단 n까지 소수를 구하고 n이 두 소수의 합으로 나타내지는지 확인.. 없는경우 빼면 short coding되겠지?ㅎㅎ"
   ]
  },
  {
   "cell_type": "markdown",
   "metadata": {},
   "source": [
    "입력받는것도 좀 다름. 0이 입력으로 주어질때까지 계속 받음..  while문 써서 입력값 저장.\n",
    "8  \n",
    "20  \n",
    "42  \n",
    "0  \n",
    "n까지 소수를 모두 찾아서 앞의 소수부터 n에서 빼주고 남은게 또 소수인지 확인."
   ]
  },
  {
   "cell_type": "code",
   "execution_count": null,
   "metadata": {
    "collapsed": true
   },
   "outputs": [],
   "source": [
    "while 1:\n",
    "    n = int(input())\n",
    "    if n == 0:\n",
    "        exit()\n",
    "###\n",
    "    s = [0, 0] + [1] * (n - 1)\n",
    "    for i in range(2, int(n ** .5) + 1):\n",
    "        if s[i]:\n",
    "            s[i * 2::i] = [0] * ((n - i) // i)\n",
    "    print(s)\n",
    "    for i in range(3, n-2):\n",
    "        if s[i] and s[n-i]:     # a, n-a 모두 소수면\n",
    "            print(f'{n} = {i} + {n-i}')\n",
    "            break\n",
    "            \n",
    "### 시간초과."
   ]
  },
  {
   "cell_type": "markdown",
   "metadata": {},
   "source": [
    "시간초과. 매번 받을때마다 소수 배열을 만들어서 그런듯.  \n",
    "일단 입력을 다 받고 가장 큰 정수만큼의 크기를 갖도록 배열을 하나만 만들어놓자."
   ]
  },
  {
   "cell_type": "code",
   "execution_count": null,
   "metadata": {
    "collapsed": true
   },
   "outputs": [],
   "source": [
    "# 232ms ! 근데 이거로 input받는거는 어떻게 직접 해봐야하는지..   마지막 for문에서 step을 2로 해주니 208ms까지..\n",
    "import sys\n",
    "tc = list(map(int, sys.stdin.read().splitlines()))[:-1]    # 마지막 0 제외. 문자열분석 문제에서 배운 입력받는법...\n",
    "M = max(tc)                                                # 입력값 중 최대값\n",
    "s = [0, 0] + [1] * (M - 1)\n",
    "for i in range(2, int(M ** .5) + 1):\n",
    "    if s[i]:\n",
    "        s[i * 2::i] = [0] * ((M - i) // i)\n",
    "\n",
    "for n in tc:\n",
    "    for i in range(3, n-2, 2):\n",
    "        if s[i] and s[n-i]:     # a, n-a 모두 소수면\n",
    "            print(f'{n} = {i} + {n-i}')\n",
    "            break"
   ]
  },
  {
   "cell_type": "markdown",
   "metadata": {},
   "source": [
    "## 2. 11653 소인수 분해"
   ]
  },
  {
   "cell_type": "markdown",
   "metadata": {},
   "source": [
    "#### 문제\n",
    "정수 N이 주어졌을 때, 소인수분해하는 프로그램을 작성하시오.  \n",
    "  \n",
    "#### 입력\n",
    "첫째 줄에 정수 N (1 ≤ N ≤ 10,000,000)이 주어진다.  \n",
    "  \n",
    "#### 출력\n",
    "N의 인수를 한 줄에 하나씩 증가하는 순서대로 출력한다.  "
   ]
  },
  {
   "cell_type": "markdown",
   "metadata": {},
   "source": [
    "### ------------------------------------------------------------------------------"
   ]
  },
  {
   "cell_type": "markdown",
   "metadata": {},
   "source": [
    "루트N까지 소수 찾아서 나눠보고, 안나눠지면 걔가 소수.  "
   ]
  },
  {
   "cell_type": "code",
   "execution_count": 9,
   "metadata": {},
   "outputs": [
    {
     "name": "stdout",
     "output_type": "stream",
     "text": [
      "1000000\n",
      "2\n",
      "2\n",
      "2\n",
      "2\n",
      "2\n",
      "2\n",
      "5\n",
      "5\n",
      "5\n",
      "5\n",
      "5\n",
      "5\n"
     ]
    }
   ],
   "source": [
    "N = int(input())\n",
    "s = [0, 0] + [1] * (int(N**.5) - 1)\n",
    "\n",
    "for i in range(2, int(N **.25) + 1):\n",
    "    if s[i]:\n",
    "        s[i * 2::i] = [0] * ((int(N**.5) - i) // i)\n",
    "\n",
    "p = [i for i, v in enumerate(s) if v]\n",
    "# print(p)\n",
    "t = 1\n",
    "for i in p:\n",
    "    while not N%i:    # 소수로 나눠지는동안..\n",
    "        N //=i\n",
    "        print(i)\n",
    "        t = 0\n",
    "if N>1:\n",
    "    print(N)"
   ]
  },
  {
   "cell_type": "markdown",
   "metadata": {},
   "source": [
    "## 3. 10872 팩토리얼"
   ]
  },
  {
   "cell_type": "markdown",
   "metadata": {},
   "source": [
    "#### 문제\n",
    "0보다 크거나 같은 정수 N이 주어진다. 이때, N!을 출력하는 프로그램을 작성하시오.  \n",
    "  \n",
    "#### 입력\n",
    "첫째 줄에 정수 N(0 ≤ N ≤ 12)가 주어진다.  \n",
    "  \n",
    "#### 출력\n",
    "첫째 줄에 N!을 출력한다.  "
   ]
  },
  {
   "cell_type": "markdown",
   "metadata": {},
   "source": [
    "### ------------------------------------------------------------------------------"
   ]
  },
  {
   "cell_type": "markdown",
   "metadata": {},
   "source": [
    "그냥하면 됨.."
   ]
  },
  {
   "cell_type": "code",
   "execution_count": 11,
   "metadata": {},
   "outputs": [
    {
     "name": "stdout",
     "output_type": "stream",
     "text": [
      "100\n",
      "93326215443944152681699238856266700490715968264381621468592963895217599993229915608941463976156518286253697920827223758251185210916864000000000000000000000000\n"
     ]
    }
   ],
   "source": [
    "N = int(input())\n",
    "r = 1\n",
    "for i in range(1, N+1):\n",
    "    r *= i\n",
    "print(r)"
   ]
  },
  {
   "cell_type": "code",
   "execution_count": 14,
   "metadata": {},
   "outputs": [
    {
     "name": "stdout",
     "output_type": "stream",
     "text": [
      "100\n",
      "93326215443944152681699238856266700490715968264381621468592963895217599993229915608941463976156518286253697920827223758251185210916864000000000000000000000000\n"
     ]
    }
   ],
   "source": [
    "r=1\n",
    "for i in range(2,int(input())+1):r*=i;\n",
    "print(r)"
   ]
  },
  {
   "cell_type": "markdown",
   "metadata": {},
   "source": [
    "## 4. 1676 팩토리얼 0의 개수"
   ]
  },
  {
   "cell_type": "markdown",
   "metadata": {},
   "source": [
    "#### 문제\n",
    "N!에서 뒤에서부터 처음 0이 아닌 숫자가 나올 때까지 0의 개수를 구하는 프로그램을 작성하시오.  \n",
    "  \n",
    "#### 입력\n",
    "첫째 줄에 N이 주어진다. (0 ≤ N ≤ 500)  \n",
    "  \n",
    "#### 출력\n",
    "첫째 줄에 구한 0의 개수를 출력한다.  "
   ]
  },
  {
   "cell_type": "markdown",
   "metadata": {},
   "source": [
    "### ------------------------------------------------------------------------------"
   ]
  },
  {
   "cell_type": "markdown",
   "metadata": {},
   "source": [
    "2와 5의 개수만 세자.  \n",
    "1. 2로 최대한 나누고, 5로 최대한 나눠서 작은 수만큼..  \n",
    "2. N//2, N//5값을 통해 바로 계산?  \n",
    "-> 예를들어 100!를 하면 위에서 뒤에 24개의 0이 붙음..  \n",
    "100//2는 50, 100//5 = 20.  ?? 방법이없나.."
   ]
  },
  {
   "cell_type": "code",
   "execution_count": 17,
   "metadata": {},
   "outputs": [
    {
     "name": "stdout",
     "output_type": "stream",
     "text": [
      "100\n",
      "20\n"
     ]
    }
   ],
   "source": [
    "N = int(input())\n",
    "e = o = 0\n",
    "for i in range(2, N+1):\n",
    "    if not i%2:\n",
    "        e += 1\n",
    "    if not i%5:\n",
    "        o += 1\n",
    "print(min(e, o))\n",
    "\n",
    "## 잘못된 접근방법"
   ]
  },
  {
   "cell_type": "code",
   "execution_count": 18,
   "metadata": {},
   "outputs": [
    {
     "name": "stdout",
     "output_type": "stream",
     "text": [
      "100\n",
      "24\n"
     ]
    }
   ],
   "source": [
    "N = int(input())\n",
    "e = o = 0\n",
    "for i in range(2, N+1):\n",
    "    t1 = t2 = i\n",
    "    while not t1%2:    # 2로 나눠떨어질때까지\n",
    "        t1 //= 2\n",
    "        e += 1\n",
    "    while not t2%5:    # 5로 나눠떨어질때까지\n",
    "        t2 //= 5\n",
    "        o += 1\n",
    "print(min(e, o))"
   ]
  },
  {
   "cell_type": "markdown",
   "metadata": {},
   "source": [
    "5의 개수가 항상 더 적다! 어떻게 하면 소인수 5의 지수를 쉽게 알 수 있을까?  \n",
    "N = 500까지다.. \n",
    "5^1 = 5  \n",
    "5^2 = 25  \n",
    "5^3 = 125  \n",
    "5^4 = 625  \n",
    "즉 5^3까지만 고려..  \n",
    "N을 5로나눈 몫 + 25로 나눈 몫 + 125로 나눈 몫?  \n",
    "100이라 하면 20 + 4. 콜!"
   ]
  },
  {
   "cell_type": "code",
   "execution_count": 21,
   "metadata": {},
   "outputs": [
    {
     "name": "stdout",
     "output_type": "stream",
     "text": [
      "100\n",
      "24\n"
     ]
    }
   ],
   "source": [
    "N = int(input())\n",
    "o = 0\n",
    "for i in range(5, N+1, 5):\n",
    "    while not i%5:    # 5로 나눠떨어질때까지\n",
    "        i //= 5\n",
    "        o += 1\n",
    "print(o)"
   ]
  },
  {
   "cell_type": "code",
   "execution_count": 22,
   "metadata": {
    "scrolled": true
   },
   "outputs": [
    {
     "name": "stdout",
     "output_type": "stream",
     "text": [
      "100\n",
      "24\n"
     ]
    }
   ],
   "source": [
    "N = int(input())\n",
    "print(N//5+N//25+N//125)"
   ]
  },
  {
   "cell_type": "markdown",
   "metadata": {},
   "source": [
    "더짧게 어떻게했을까??"
   ]
  },
  {
   "cell_type": "markdown",
   "metadata": {},
   "source": [
    "## 5. 2004 조합 0의 개수"
   ]
  },
  {
   "cell_type": "markdown",
   "metadata": {},
   "source": [
    "#### 문제\n",
    "nCm의 끝자리 0의 개수를 출력하는 프로그램을 작성하시오.  \n",
    "  \n",
    "#### 입력\n",
    "첫째 줄에 정수 n, m(0≤m≤n≤2,000,000,000, n!=0)이 들어온다.  \n",
    "  \n",
    "#### 출력\n",
    "첫째 줄에 0의 개수를 출력한다.  "
   ]
  },
  {
   "cell_type": "markdown",
   "metadata": {},
   "source": [
    "### ------------------------------------------------------------------------------"
   ]
  },
  {
   "cell_type": "markdown",
   "metadata": {},
   "source": [
    "음..4번 팩토리얼 0의 개수를 응용??  \n",
    "nCm = n!/(m!*(n-m)!)  2의 개수, 5의 개수 각각 카운팅해서 약분시키고 남는애들로 10의 거듭제곱.. 0만들기   \n",
    "이것도 5의 개수만 counting해도 될까?  \n",
    "2000000000까지하려면 5**14까지 필요  \n",
    "일단 해보자!"
   ]
  },
  {
   "cell_type": "code",
   "execution_count": 42,
   "metadata": {},
   "outputs": [
    {
     "name": "stdout",
     "output_type": "stream",
     "text": [
      "100 98\n",
      "2\n"
     ]
    }
   ],
   "source": [
    "n, m = map(int, input().split())\n",
    "o = [5**i for i in range(1,15)]\n",
    "o_n = sum([n//i for i in o])\n",
    "o_m = sum([m//i for i in o])\n",
    "r = n-m\n",
    "o_r = sum([r//i for i in o])\n",
    "print(o_n-o_m-o_r)"
   ]
  },
  {
   "cell_type": "markdown",
   "metadata": {},
   "source": [
    "# 어느경우에 틀리지?"
   ]
  },
  {
   "cell_type": "code",
   "execution_count": 26,
   "metadata": {
    "collapsed": true
   },
   "outputs": [],
   "source": [
    "def f(n):\n",
    "\tr = 1\n",
    "\tfor i in range(2,n+1):\n",
    "\t\tr *= i\n",
    "\treturn r"
   ]
  },
  {
   "cell_type": "code",
   "execution_count": 27,
   "metadata": {
    "collapsed": true
   },
   "outputs": [],
   "source": [
    "def c(n,m):\n",
    "\treturn int(f(n)/(f(m)*f(n-m)))"
   ]
  },
  {
   "cell_type": "code",
   "execution_count": 37,
   "metadata": {},
   "outputs": [
    {
     "data": {
      "text/plain": [
       "161700"
      ]
     },
     "execution_count": 37,
     "metadata": {},
     "output_type": "execute_result"
    }
   ],
   "source": [
    "c(100, 97)"
   ]
  },
  {
   "cell_type": "markdown",
   "metadata": {},
   "source": [
    "100C98일때 틀리네.."
   ]
  },
  {
   "cell_type": "code",
   "execution_count": 36,
   "metadata": {},
   "outputs": [
    {
     "name": "stdout",
     "output_type": "stream",
     "text": [
      "2\n",
      "0\n"
     ]
    }
   ],
   "source": [
    "n = int(input())\n",
    "o = [5**i for i in range(1,15)]\n",
    "o_n = sum([n//i for i in o])\n",
    "print(o_n)"
   ]
  },
  {
   "cell_type": "code",
   "execution_count": 35,
   "metadata": {},
   "outputs": [
    {
     "data": {
      "text/plain": [
       "9426890448883247745626185743057242473809693764078951663494238777294707070023223798882976159207729119823605850588608460429412647567360000000000000000000000"
      ]
     },
     "execution_count": 35,
     "metadata": {},
     "output_type": "execute_result"
    }
   ],
   "source": [
    "f(98)"
   ]
  },
  {
   "cell_type": "markdown",
   "metadata": {},
   "source": [
    "2의 개수가 더 적어지는 경우가 생기는듯.. 어떻게 전체 값 계산 없이 할까..? 2도 counting??  \n",
    "2**30까지.."
   ]
  },
  {
   "cell_type": "code",
   "execution_count": null,
   "metadata": {
    "collapsed": true
   },
   "outputs": [],
   "source": [
    "n, m = map(int, input().split())\n",
    "o = [5**i for i in range(1,15)]\n",
    "e = [2**i for i in range(1,31)]\n",
    "o_n = sum([n//i for i in o])\n",
    "e_n = sum([n//i for i in e])\n",
    "o_m = sum([m//i for i in o])\n",
    "e_m = sum([m//i for i in e])\n",
    "r = n-m\n",
    "o_r = sum([r//i for i in o])\n",
    "e_r = sum([r//i for i in e])\n",
    "print(min(o_n-o_m-o_r, e_n-e_m-e_r))"
   ]
  },
  {
   "cell_type": "code",
   "execution_count": null,
   "metadata": {
    "collapsed": true
   },
   "outputs": [],
   "source": [
    "# 코드를 줄일 수 있을까??\n",
    "n, m = map(int, input().split())\n",
    "r = n-m\n",
    "o = [5**i for i in range(1,15)]\n",
    "e = [2**i for i in range(1,31)]\n",
    "o_n = sum([n//i for i in o])\n",
    "e_n = sum([n//i for i in e])\n",
    "o_m = sum([m//i for i in o])\n",
    "e_m = sum([m//i for i in e])\n",
    "o_r = sum([r//i for i in o])\n",
    "e_r = sum([r//i for i in e])\n",
    "print(min(o_n-o_m-o_r, e_n-e_m-e_r))"
   ]
  },
  {
   "cell_type": "code",
   "execution_count": null,
   "metadata": {
    "collapsed": true
   },
   "outputs": [],
   "source": [
    "# 백준 그사람..\n",
    "f=lambda k,n:k and k//n+f(k//n,n);n,m=map(int,input().split());print(min(f(n,c)-f(m,c)-f(n-m,c)for c in(2,5)))"
   ]
  }
 ],
 "metadata": {
  "kernelspec": {
   "display_name": "Python 3",
   "language": "python",
   "name": "python3"
  },
  "language_info": {
   "codemirror_mode": {
    "name": "ipython",
    "version": 3
   },
   "file_extension": ".py",
   "mimetype": "text/x-python",
   "name": "python",
   "nbconvert_exporter": "python",
   "pygments_lexer": "ipython3",
   "version": "3.6.3"
  }
 },
 "nbformat": 4,
 "nbformat_minor": 2
}
