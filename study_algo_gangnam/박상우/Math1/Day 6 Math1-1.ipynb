{
 "cells": [
  {
   "cell_type": "markdown",
   "metadata": {},
   "source": [
    "## 1. 10430 나머지 "
   ]
  },
  {
   "cell_type": "markdown",
   "metadata": {},
   "source": [
    "#### 문제\n",
    "(A+B)%C는 (A%C + B%C)%C 와 같을까?  \n",
    "  \n",
    "(A×B)%C는 (A%C × B%C)%C 와 같을까?  \n",
    "  \n",
    "세 수 A, B, C가 주어졌을 때, 위의 네 가지 값을 구하는 프로그램을 작성하시오.  \n",
    "  \n",
    "#### 입력\n",
    "첫째 줄에 A, B, C가 순서대로 주어진다. (2 ≤ A, B, C ≤ 10000)  \n",
    "  \n",
    "#### 출력\n",
    "첫째 줄에 (A+B)%C, 둘째 줄에 (A%C + B%C)%C, 셋째 줄에 (A×B)%C, 넷째 줄에 (A%C × B%C)%C를 출력한다.  "
   ]
  },
  {
   "cell_type": "markdown",
   "metadata": {},
   "source": [
    "### ------------------------------------------------------------------------------"
   ]
  },
  {
   "cell_type": "code",
   "execution_count": null,
   "metadata": {
    "collapsed": true
   },
   "outputs": [],
   "source": [
    "a, b, c = map(int, input().split())\n",
    "print((a+b)%c)\n",
    "print((a%c + b%c)%c)\n",
    "print((a*b)%c)\n",
    "print((a%c * b%c)%c)"
   ]
  },
  {
   "cell_type": "markdown",
   "metadata": {},
   "source": [
    "## 2. 2609 최대공약수와 최소공배수 "
   ]
  },
  {
   "cell_type": "markdown",
   "metadata": {},
   "source": [
    "#### 문제\n",
    "두 개의 자연수를 입력받아 최대 공약수와 최소 공배수를 출력하는 프로그램을 작성하시오.  \n",
    "  \n",
    "#### 입력\n",
    "첫째 줄에는 두 개의 자연수가 주어진다. 이 둘은 10,000이하의 자연수이며 사이에 한 칸의 공백이 주어진다.  \n",
    "  \n",
    "#### 출력\n",
    "첫째 줄에는 입력으로 주어진 두 수의 최대공약수를,둘째 줄에는 입력으로 주어진 두 수의 최소 공배수를 출력한다.  "
   ]
  },
  {
   "cell_type": "markdown",
   "metadata": {},
   "source": [
    "### ------------------------------------------------------------------------------"
   ]
  },
  {
   "cell_type": "markdown",
   "metadata": {},
   "source": [
    "1) 유클리드(Euclidean) 공식 이용  \n",
    "  \n",
    "  - 큰 수 A를 작은 수 B로 나누어 떨어지면, A, B의 최대공약수는 B  \n",
    "  \n",
    "  - A를 B로 나누었을 때 나머지가 R이면, A, B의 최대공약수는 R과 B의 최대공약수와 같다.  \n",
    "  \n",
    "    GCM(A,B) = GCM(B,R) / ex) GCM(15,12) = GCM(12,3)  "
   ]
  },
  {
   "cell_type": "code",
   "execution_count": 3,
   "metadata": {},
   "outputs": [
    {
     "name": "stdout",
     "output_type": "stream",
     "text": [
      "16 6\n",
      "2\n",
      "48\n"
     ]
    }
   ],
   "source": [
    "a, b = map(int, input().split())\n",
    "m = a*b\n",
    "if b > a:\n",
    "    a, b = b, a\n",
    "while a%b != 0:\n",
    "    a, b = b, a%b\n",
    "print(b, m//b, sep='\\n')"
   ]
  },
  {
   "cell_type": "markdown",
   "metadata": {},
   "source": [
    "## 3. 1934 최소공배수 "
   ]
  },
  {
   "cell_type": "markdown",
   "metadata": {},
   "source": [
    "#### 문제\n",
    "두 자연수 A와 B에 대해서, A의 배수이면서 B의 배수인 자연수를 A와 B의 공배수라고 한다.  \n",
    "이런 공배수 중에서 가장 작은 수를 최소공배수라고 한다. 예를 들어, 6과 15의 공배수는 30, 60, 90등이 있으며, 최소 공배수는 30이다.  \n",
    "  \n",
    "두 자연수 A와 B가 주어졌을 때, A와 B의 최소공배수를 구하는 프로그램을 작성하시오.  \n",
    "  \n",
    "#### 입력\n",
    "첫째 줄에 테스트 케이스의 개수 T(1 ≤ T ≤ 1,000)가 주어진다. 둘째 줄부터 T개의 줄에 걸쳐서 A와 B가 주어진다. (1 ≤ A, B ≤ 45,000)  \n",
    "  \n",
    "#### 출력\n",
    "첫째 줄부터 T개의 줄에 A와 B의 최소공배수를 입력받은 순서대로 한 줄에 하나씩 출력한다.  "
   ]
  },
  {
   "cell_type": "markdown",
   "metadata": {},
   "source": [
    "### ------------------------------------------------------------------------------"
   ]
  },
  {
   "cell_type": "code",
   "execution_count": null,
   "metadata": {
    "collapsed": true
   },
   "outputs": [],
   "source": [
    "for t in range(int(input())):\n",
    "    a, b = map(int, input().split())\n",
    "    m = a*b\n",
    "    if b > a:\n",
    "        a, b = b, a\n",
    "    while a%b != 0:\n",
    "        a, b = b, a%b\n",
    "    print(m//b)"
   ]
  },
  {
   "cell_type": "code",
   "execution_count": null,
   "metadata": {
    "collapsed": true
   },
   "outputs": [],
   "source": [
    "import sys\n",
    "for t in range(int(input())):\n",
    "    a, b = map(int, sys.stdin.readline().split())\n",
    "    m = a*b\n",
    "    if b > a:\n",
    "        a, b = b, a\n",
    "    while b:\n",
    "        a, b = b, a%b\n",
    "    print(m//a)"
   ]
  },
  {
   "cell_type": "markdown",
   "metadata": {},
   "source": [
    "## 4. 9613 GCD 합"
   ]
  },
  {
   "cell_type": "markdown",
   "metadata": {},
   "source": [
    "#### 문제\n",
    "양의 정수 n개가 주어졌을 때, 가능한 모든 쌍의 GCD의 합을 구하는 프로그램을 작성하시오.  \n",
    "  \n",
    "#### 입력\n",
    "첫째 줄에 테스트 케이스의 개수 t (1 ≤ t ≤ 100)이 주어진다. 각 테스트 케이스는 한 줄로 이루어져 있다.  \n",
    "각 테스트 케이스는 수의 개수 n (1 < n ≤ 100)가 주어지고, 다음에는 n개의 수가 주어진다. 입력으로 주어지는 수는 1000000을 넘지 않는다.  \n",
    "  \n",
    "#### 출력\n",
    "각 테스트 케이스마다 가능한 모든 쌍의 GCD의 합을 출력한다.  "
   ]
  },
  {
   "cell_type": "markdown",
   "metadata": {},
   "source": [
    "### ------------------------------------------------------------------------------"
   ]
  },
  {
   "cell_type": "code",
   "execution_count": null,
   "metadata": {
    "collapsed": true
   },
   "outputs": [],
   "source": [
    "import sys\n",
    "from itertools import combinations\n",
    "for _ in range(int(input())):\n",
    "    numbers = list(map(int, sys.stdin.readline().split()))[1:]\n",
    "    C = list(combinations(numbers, 2))\n",
    "    GCDs = []\n",
    "    for a, b in C:\n",
    "        if b > a:\n",
    "            a, b = b, a\n",
    "        while b:\n",
    "            a, b = b, a%b\n",
    "        GCDs.append(a)\n",
    "    print(sum(GCDs))"
   ]
  },
  {
   "cell_type": "markdown",
   "metadata": {},
   "source": [
    "## 5. 11005 진법변환2"
   ]
  },
  {
   "cell_type": "markdown",
   "metadata": {},
   "source": [
    "#### 문제\n",
    "10진법 수 N이 주어진다. 이 수를 B진법으로 바꿔 출력하는 프로그램을 작성하시오.  \n",
    "  \n",
    "10진법을 넘어가는 진법은 숫자로 표시할 수 없는 자리가 있다. 이런 경우에는 다음과 같이 알파벳 대문자를 사용한다.  \n",
    "  \n",
    "A: 10, B: 11, ..., F: 15, ..., Y: 34, Z: 35  \n",
    "  \n",
    "#### 입력\n",
    "첫째 줄에 N과 B가 주어진다. (2 ≤ B ≤ 36) N은 10억보다 작거나 같은 자연수이다.  \n",
    "  \n",
    "#### 출력\n",
    "첫째 줄에 10진법 수 N을 B진법으로 출력한다.  "
   ]
  },
  {
   "cell_type": "markdown",
   "metadata": {},
   "source": [
    "### ------------------------------------------------------------------------------"
   ]
  },
  {
   "cell_type": "markdown",
   "metadata": {},
   "source": [
    "B진법.. B로 나눠가며 나머지를 끝자리수로 저장.."
   ]
  },
  {
   "cell_type": "code",
   "execution_count": 15,
   "metadata": {},
   "outputs": [
    {
     "name": "stdout",
     "output_type": "stream",
     "text": [
      "60466175 36\n",
      "ZZZZZ\n"
     ]
    }
   ],
   "source": [
    "N, B = map(int, input().split())\n",
    "match = [str(i) for i in range(10)] + [chr(j) for j in range(65, 91)]\n",
    "r = ''\n",
    "while N:\n",
    "    r += match[N % B]\n",
    "    N = N // B\n",
    "print(r[::-1])"
   ]
  },
  {
   "cell_type": "markdown",
   "metadata": {},
   "source": [
    "## 6. 2745 진법변환"
   ]
  },
  {
   "cell_type": "markdown",
   "metadata": {},
   "source": [
    "#### 문제\n",
    "B진법 수 N이 주어진다. 이 수를 10진법으로 바꿔 출력하는 프로그램을 작성하시오.  \n",
    "  \n",
    "10진법을 넘어가는 진법은 숫자로 표시할 수 없는 자리가 있다. 이런 경우에는 다음과 같이 알파벳 대문자를 사용한다.  \n",
    "  \n",
    "A: 10, B: 11, ..., F: 15, ..., Y: 34, Z: 35  \n",
    "  \n",
    "#### 입력\n",
    "첫째 줄에 N과 B가 주어진다. (2 ≤ B ≤ 36)  \n",
    "  \n",
    "B진법 수 N을 10진법으로 바꾸면, 항상 10억보다 작거나 같다.  \n",
    "  \n",
    "#### 출력\n",
    "첫째 줄에 B진법 수 N을 10진법으로 출력한다.  "
   ]
  },
  {
   "cell_type": "markdown",
   "metadata": {},
   "source": [
    "### ------------------------------------------------------------------------------"
   ]
  },
  {
   "cell_type": "code",
   "execution_count": 47,
   "metadata": {},
   "outputs": [
    {
     "name": "stdout",
     "output_type": "stream",
     "text": [
      "ZZZZZ 36\n",
      "60466175\n"
     ]
    }
   ],
   "source": [
    "N, B = input().split()                       # N을 string으로 받아야함.\n",
    "B = int(B)\n",
    "match = {str(i): i for i in range(10)}\n",
    "match.update({chr(j):j-55 for j in range(65,91)})\n",
    "r = 0\n",
    "L = len(N)\n",
    "for i in range(L):\n",
    "    r += match[N[i]]*(B**(L-i-1))\n",
    "print(r)"
   ]
  },
  {
   "cell_type": "code",
   "execution_count": null,
   "metadata": {
    "collapsed": true
   },
   "outputs": [],
   "source": [
    "# 백준.. python int함수 자체에 구현돼있음..\n",
    "n, k = input().split()\n",
    "k = int(k)\n",
    "n = int(n,k)\n",
    "print(n)"
   ]
  }
 ],
 "metadata": {
  "kernelspec": {
   "display_name": "Python 3",
   "language": "python",
   "name": "python3"
  },
  "language_info": {
   "codemirror_mode": {
    "name": "ipython",
    "version": 3
   },
   "file_extension": ".py",
   "mimetype": "text/x-python",
   "name": "python",
   "nbconvert_exporter": "python",
   "pygments_lexer": "ipython3",
   "version": "3.6.3"
  }
 },
 "nbformat": 4,
 "nbformat_minor": 2
}
