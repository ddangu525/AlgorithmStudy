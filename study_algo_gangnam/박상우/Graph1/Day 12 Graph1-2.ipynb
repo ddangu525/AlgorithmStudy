{
 "cells": [
  {
   "cell_type": "markdown",
   "metadata": {},
   "source": [
    "## 1. 2331 반복수열"
   ]
  },
  {
   "cell_type": "markdown",
   "metadata": {},
   "source": [
    "#### 문제\n",
    "다음과 같이 정의된 수열이 있다.  \n",
    "  \n",
    "D[1] = A  \n",
    "D[n] = D[n-1]의 각 자리의 숫자를 P번 곱한 수들의 합  \n",
    "예를 들어 A=57, P=2일 때, 수열 D는 {57, 74(=5^2+7^2=25+49), 65, 61, 37, 58, 89, 145, 42, 20, 4, 16, 37, …}이 된다.  \n",
    "그 뒤에는 앞서 나온 수들(57부터가 아니라 58부터)이 반복된다.  \n",
    "  \n",
    "이와 같은 수열을 계속 구하다 보면 언젠가 이와 같은 반복수열이 된다. 이때, 반복되는 부분을 제외했을 때,  \n",
    "수열에 남게 되는 수들의 개수를 구하는 프로그램을 작성하시오. 위의 예에서는 {57, 74, 65, 61}의 네 개의 수가 남게 된다.  \n",
    "  \n",
    "#### 입력\n",
    "첫째 줄에 A(1 ≤ A ≤ 9999), P(1 ≤ P ≤ 5)가 주어진다.  \n",
    "  \n",
    "#### 출력\n",
    "첫째 줄에 반복되는 부분을 제외했을 때, 수열에 남게 되는 수들의 개수를 출력한다.  "
   ]
  },
  {
   "cell_type": "markdown",
   "metadata": {},
   "source": [
    "### ------------------------------------------------------------------------------"
   ]
  },
  {
   "cell_type": "markdown",
   "metadata": {},
   "source": [
    "계산하다가 중복되면 시작점 이전까지 길이만.."
   ]
  },
  {
   "cell_type": "code",
   "execution_count": 2,
   "metadata": {},
   "outputs": [
    {
     "name": "stdout",
     "output_type": "stream",
     "text": [
      "57 2\n",
      "4\n"
     ]
    }
   ],
   "source": [
    "# 60ms\n",
    "A, P = input().split()\n",
    "P = int(P)\n",
    "sq = [A]\n",
    "nxt = str(sum([int(i)**P for i in A]))\n",
    "while nxt not in sq:\n",
    "    sq.append(nxt)\n",
    "    nxt = str(sum([int(i)**P for i in nxt]))\n",
    "print(sq.index(nxt))"
   ]
  },
  {
   "cell_type": "code",
   "execution_count": 5,
   "metadata": {},
   "outputs": [
    {
     "name": "stdout",
     "output_type": "stream",
     "text": [
      "57 2\n",
      "4\n"
     ]
    }
   ],
   "source": [
    "# 56ms  set으로 하면 in 연산이 O(1) 리스트로하면 O(N)\n",
    "A, P = input().split()\n",
    "P = int(P)\n",
    "sq = [A]\n",
    "sq_s = set(sq)\n",
    "nxt = str(sum([int(i)**P for i in A]))\n",
    "while nxt not in sq_s:\n",
    "    sq.append(nxt)\n",
    "    sq_s.add(nxt)\n",
    "    nxt = str(sum([int(i)**P for i in nxt]))\n",
    "print(sq.index(nxt))"
   ]
  },
  {
   "cell_type": "code",
   "execution_count": null,
   "metadata": {
    "collapsed": true
   },
   "outputs": [],
   "source": [
    "# 백준..\n",
    "a,p=input().split()\n",
    "d={}\n",
    "i=0\n",
    "while(a in d)<1:        # not a in d를 이렇게? 왜?? 1byte 짧아서??????\n",
    "    d[a]=i\n",
    "    i+=1\n",
    "    a=str(sum(int(c)**int(p)for c in a))\n",
    "print(d[a])"
   ]
  },
  {
   "cell_type": "code",
   "execution_count": 13,
   "metadata": {},
   "outputs": [
    {
     "name": "stdout",
     "output_type": "stream",
     "text": [
      "12.922678454862307\n",
      "0.009568842706812575\n"
     ]
    }
   ],
   "source": [
    "import time\n",
    "a = [i for i in range(20000)]\n",
    "b = set(a)\n",
    "t1 = time.clock()\n",
    "for i in range(20000):\n",
    "    if i in a:\n",
    "        pass\n",
    "t2 = time.clock()\n",
    "print(t2-t1)\n",
    "\n",
    "t3 = time.clock()\n",
    "for i in range(20000):\n",
    "    if i in b:\n",
    "        pass\n",
    "t4 = time.clock()\n",
    "print(t4-t3)"
   ]
  },
  {
   "cell_type": "markdown",
   "metadata": {},
   "source": [
    "##### 2. 9466 텀 프로젝트"
   ]
  },
  {
   "cell_type": "markdown",
   "metadata": {},
   "source": [
    "#### 문제\n",
    "이번 가을학기에 '문제 해결' 강의를 신청한 학생들은 텀 프로젝트를 수행해야 한다. 프로젝트 팀원 수에는 제한이 없다.  \n",
    "심지어 모든 학생들이 동일한 팀의 팀원인 경우와 같이 한 팀만 있을 수도 있다.  \n",
    "프로젝트 팀을 구성하기 위해, 모든 학생들은 프로젝트를 함께하고 싶은 학생을 선택해야 한다. (단, 단 한 명만 선택할 수 있다.)  \n",
    "혼자 하고 싶어하는 학생은 자기 자신을 선택하는 것도 가능하다.  \n",
    "  \n",
    "학생들이($s_1, s_2, ..., s_r$)이라 할 때, r=1이고 $s_1$이 $s_1$을 선택하는 경우나, $s_1$이 $s_2$를 선택하고, $s_2$가 $s_3$를 선택하고,...,  \n",
    "$s_{r-1}$이 $s_r$을 선택하고, $s_r$이 $s_1$을 선택하는 경우에만 한 팀이 될 수 있다.  \n",
    "  \n",
    "예를 들어, 한 반에 7명의 학생이 있다고 하자. 학생들을 1번부터 7번으로 표현할 때, 선택의 결과는 다음과 같다.  \n",
    "  \n",
    "| 1 | 2 | 3 | 4 | 5 | 6 | 7 |\n",
    "|---|---|---|---|---|---|---|\n",
    "| 3 | 1 | 3 | 7 | 3 | 4 | 6 |  \n",
    "위의 결과를 통해 (3)과 (4, 7, 6)이 팀을 이룰 수 있다. 1, 2, 5는 어느 팀에도 속하지 않는다.  \n",
    "  \n",
    "주어진 선택의 결과를 보고 어느 프로젝트 팀에도 속하지 않는 학생들의 수를 계산하는 프로그램을 작성하라.  \n",
    "  \n",
    "#### 입력\n",
    "첫째 줄에 테스트 케이스의 개수 T가 주어진다. 각 테스트 케이스의 첫 줄에는 학생의 수가 정수 n (2 ≤ n ≤ 100,000)으로 주어진다.  \n",
    "각 테스트 케이스의 둘째 줄에는 선택된 학생들의 번호가 주어진다. (모든 학생들은 1부터 n까지 번호가 부여된다.)  \n",
    "  \n",
    "#### 출력\n",
    "각 테스트 케이스마다 한 줄에 출력하고, 각 줄에는 프로젝트 팀에 속하지 못한 학생들의 수를 나타내면 된다.  "
   ]
  },
  {
   "cell_type": "markdown",
   "metadata": {},
   "source": [
    "### ------------------------------------------------------------------------------"
   ]
  },
  {
   "cell_type": "markdown",
   "metadata": {},
   "source": [
    "## Markdown Table\n",
    "http://www.tablesgenerator.com/markdown_tables  \n",
    "  \n",
    "| Stretch/Untouched | ProbDistribution | Accuracy |  \n",
    "| --- | --- | --- |  \n",
    "| Stretched | Gaussian | .843 |  \n",
    "밑에 처럼 하는데, 한줄 띄고해야  \n",
    "| Stretch/Untouched | ProbDistribution | Accuracy |  \n",
    "| --- | --- | --- |  \n",
    "| Stretched | Gaussian | .843 |  "
   ]
  },
  {
   "cell_type": "markdown",
   "metadata": {},
   "source": [
    "Cycle이 존재하면 빼주기..자기 자신으로 가도 빼주기..없어진 애한테 향하면 걘 혼자..."
   ]
  },
  {
   "cell_type": "code",
   "execution_count": 12,
   "metadata": {
    "scrolled": true
   },
   "outputs": [
    {
     "name": "stdout",
     "output_type": "stream",
     "text": [
      "2\n",
      "7\n",
      "3 1 3 7 3 4 6\n",
      "--------------------\n",
      "start node: 1\n",
      "next visit node: 3\n",
      "next visit node: 3\n",
      "방문 경로: {1, 3}\n",
      "current answer = 1\n",
      "--------------------\n",
      "start node: 2\n",
      "next visit node: 1\n",
      "방문 경로: {2}\n",
      "current answer = 2\n",
      "--------------------\n",
      "start node: 4\n",
      "next visit node: 7\n",
      "next visit node: 6\n",
      "next visit node: 4\n",
      "방문 경로: {4, 6, 7}\n",
      "current answer = 2\n",
      "--------------------\n",
      "start node: 5\n",
      "next visit node: 3\n",
      "방문 경로: {5}\n",
      "current answer = 3\n",
      "--------------------\n",
      "3\n",
      "8\n",
      "1 2 3 4 5 6 7 8\n",
      "--------------------\n",
      "start node: 1\n",
      "next visit node: 1\n",
      "방문 경로: {1}\n",
      "current answer = 0\n",
      "--------------------\n",
      "start node: 2\n",
      "next visit node: 2\n",
      "방문 경로: {2}\n",
      "current answer = 0\n",
      "--------------------\n",
      "start node: 3\n",
      "next visit node: 3\n",
      "방문 경로: {3}\n",
      "current answer = 0\n",
      "--------------------\n",
      "start node: 4\n",
      "next visit node: 4\n",
      "방문 경로: {4}\n",
      "current answer = 0\n",
      "--------------------\n",
      "start node: 5\n",
      "next visit node: 5\n",
      "방문 경로: {5}\n",
      "current answer = 0\n",
      "--------------------\n",
      "start node: 6\n",
      "next visit node: 6\n",
      "방문 경로: {6}\n",
      "current answer = 0\n",
      "--------------------\n",
      "start node: 7\n",
      "next visit node: 7\n",
      "방문 경로: {7}\n",
      "current answer = 0\n",
      "--------------------\n",
      "start node: 8\n",
      "next visit node: 8\n",
      "방문 경로: {8}\n",
      "current answer = 0\n",
      "--------------------\n",
      "0\n"
     ]
    }
   ],
   "source": [
    "# import sys\n",
    "# input = sys.stdin.readline\n",
    "T = int(input())\n",
    "for tc in range(T):\n",
    "    n = int(input())\n",
    "    s = [0] + list(map(int, input().split()))    # 고른 정보....\n",
    "    nodes = {i for i in range(1, n+1)}\n",
    "    no_team = 0\n",
    "    print('-'*20)\n",
    "    while nodes:\n",
    "        nxt = nodes.pop()\n",
    "        print(f'start node: {nxt}')\n",
    "        d={}\n",
    "        idx = 0\n",
    "        d[nxt] = 0\n",
    "        cur = set([nxt])\n",
    "        nxt = s[nxt]\n",
    "        print(f'next visit node: {nxt}')\n",
    "        # cycle여부에 따라 더해줘야 할 값이 다름.. \n",
    "        while nxt in nodes:      # 다음 방문할 노드가 없어졌다면, (cycle이 생기거나, 이미 팀이 됐거나.. 검사해서 혼자가 됐거나..)\n",
    "            nodes.remove(nxt)        \n",
    "            idx += 1\n",
    "            d[nxt] = idx\n",
    "            cur.add(nxt)\n",
    "            nxt = s[nxt]        \n",
    "            print(f'next visit node: {nxt}')\n",
    "        print(f'방문 경로: {cur}')\n",
    "        if nxt in cur:                    # cycle\n",
    "            no_team += d[nxt]\n",
    "        else:                             # cycle x\n",
    "            no_team += idx + 1\n",
    "        print(f'current answer = {no_team}')\n",
    "        print('-'*20)\n",
    "    print(no_team)"
   ]
  },
  {
   "cell_type": "markdown",
   "metadata": {},
   "source": [
    "너무 느리다...5608ms. 근데 1등도 2324ms네.."
   ]
  },
  {
   "cell_type": "code",
   "execution_count": null,
   "metadata": {
    "collapsed": true
   },
   "outputs": [],
   "source": [
    "# 백준 파이썬 1등\n",
    "for _ in range(int(input())):\n",
    "    n = int(input())\n",
    "    ind, ck = [0] * (n+1), [0] * (n+1)\n",
    "    h,r = 0,0\n",
    "    nxt = [0] + list(map(int,input().split()))\n",
    "    for i in nxt:\n",
    "        ind[i] += 1\n",
    "    for i in range(1,n+1):\n",
    "        h = i\n",
    "        while ind[h] == 0 and ck[h] == 0:\n",
    "            ck[h] = 1\n",
    "            ind[nxt[h]] -= 1\n",
    "            h = nxt[h]\n",
    "            r += 1\n",
    "    print(r)"
   ]
  },
  {
   "cell_type": "markdown",
   "metadata": {},
   "source": [
    "2  \n",
    "7  \n",
    "3 1 3 7 3 4 6  \n",
    "8  \n",
    "1 2 3 4 5 6 7 8  \n",
    " \n",
    " ---\n",
    "3  \n",
    "0"
   ]
  },
  {
   "cell_type": "markdown",
   "metadata": {},
   "source": [
    "## 3. 2667 단지 번호 붙이기"
   ]
  },
  {
   "cell_type": "markdown",
   "metadata": {},
   "source": [
    "#### 문제\n",
    "<그림 1>과 같이 정사각형 모양의 지도가 있다. 1은 집이 있는 곳을, 0은 집이 없는 곳을 나타낸다.  \n",
    "철수는 이 지도를 가지고 연결된 집들의 모임인 단지를 정의하고, 단지에 번호를 붙이려 한다.  \n",
    "여기서 연결되었다는 것은 어떤 집이 좌우, 혹은 아래위로 다른 집이 있는 경우를 말한다. 대각선상에 집이 있는 경우는 연결된 것이 아니다.  \n",
    "<그림 2>는 <그림 1>을 단지별로 번호를 붙인 것이다.  \n",
    "지도를 입력하여 단지수를 출력하고, 각 단지에 속하는 집의 수를 오름차순으로 정렬하여 출력하는 프로그램을 작성하시오.  \n",
    "<img src=\"https://www.acmicpc.net/upload/images/ITVH9w1Gf6eCRdThfkegBUSOKd.png\">\n",
    "\n",
    "\n",
    "#### 입력\n",
    "첫 번째 줄에는 지도의 크기 N(정사각형이므로 가로와 세로의 크기는 같으며 5≤N≤25)이 입력되고,  \n",
    "그 다음 N줄에는 각각 N개의 자료(0혹은 1)가 입력된다.  \n",
    "  \n",
    "#### 출력\n",
    "첫 번째 줄에는 총 단지수를 출력하시오. 그리고 각 단지내 집의 수를 오름차순으로 정렬하여 한 줄에 하나씩 출력하시오.  "
   ]
  },
  {
   "cell_type": "markdown",
   "metadata": {},
   "source": [
    "### ------------------------------------------------------------------------------"
   ]
  },
  {
   "cell_type": "markdown",
   "metadata": {},
   "source": [
    "BFS로 단지 찾고, 리스트에 단지를 이루는 집의 수 append. 정렬해서 len(list), 한줄씩 오름차순으로 출력."
   ]
  },
  {
   "cell_type": "code",
   "execution_count": 39,
   "metadata": {
    "scrolled": true
   },
   "outputs": [
    {
     "name": "stdout",
     "output_type": "stream",
     "text": [
      "7\n",
      "0110100\n",
      "0110101\n",
      "1110101\n",
      "0000111\n",
      "0100000\n",
      "0111110\n",
      "0111000\n",
      "--------------------\n",
      "단지 찾기 시작\n",
      "현재 좌표: 0, 1\n",
      "검사 좌표: 0, 2\n",
      "pass\n",
      "큐에 추가, 0, 2\n",
      "검사 좌표: 0, 0\n",
      "검사 좌표: 1, 1\n",
      "pass\n",
      "큐에 추가, 1, 1\n",
      "검사 좌표: -1, 1\n",
      "현재 좌표: 0, 2\n",
      "검사 좌표: 0, 3\n",
      "검사 좌표: 0, 1\n",
      "검사 좌표: 1, 2\n",
      "pass\n",
      "큐에 추가, 1, 2\n",
      "검사 좌표: -1, 2\n",
      "현재 좌표: 1, 1\n",
      "검사 좌표: 1, 2\n",
      "검사 좌표: 1, 0\n",
      "검사 좌표: 2, 1\n",
      "pass\n",
      "큐에 추가, 2, 1\n",
      "검사 좌표: 0, 1\n",
      "현재 좌표: 1, 2\n",
      "검사 좌표: 1, 3\n",
      "검사 좌표: 1, 1\n",
      "검사 좌표: 2, 2\n",
      "pass\n",
      "큐에 추가, 2, 2\n",
      "검사 좌표: 0, 2\n",
      "현재 좌표: 2, 1\n",
      "검사 좌표: 2, 2\n",
      "검사 좌표: 2, 0\n",
      "pass\n",
      "큐에 추가, 2, 0\n",
      "검사 좌표: 3, 1\n",
      "검사 좌표: 1, 1\n",
      "현재 좌표: 2, 2\n",
      "검사 좌표: 2, 3\n",
      "검사 좌표: 2, 1\n",
      "검사 좌표: 3, 2\n",
      "검사 좌표: 1, 2\n",
      "현재 좌표: 2, 0\n",
      "검사 좌표: 2, 1\n",
      "검사 좌표: 2, -1\n",
      "검사 좌표: 3, 0\n",
      "검사 좌표: 1, 0\n",
      "--------------------\n",
      "단지 찾기 시작\n",
      "현재 좌표: 0, 4\n",
      "검사 좌표: 0, 5\n",
      "검사 좌표: 0, 3\n",
      "검사 좌표: 1, 4\n",
      "pass\n",
      "큐에 추가, 1, 4\n",
      "검사 좌표: -1, 4\n",
      "현재 좌표: 1, 4\n",
      "검사 좌표: 1, 5\n",
      "검사 좌표: 1, 3\n",
      "검사 좌표: 2, 4\n",
      "pass\n",
      "큐에 추가, 2, 4\n",
      "검사 좌표: 0, 4\n",
      "현재 좌표: 2, 4\n",
      "검사 좌표: 2, 5\n",
      "검사 좌표: 2, 3\n",
      "검사 좌표: 3, 4\n",
      "pass\n",
      "큐에 추가, 3, 4\n",
      "검사 좌표: 1, 4\n",
      "현재 좌표: 3, 4\n",
      "검사 좌표: 3, 5\n",
      "pass\n",
      "큐에 추가, 3, 5\n",
      "검사 좌표: 3, 3\n",
      "검사 좌표: 4, 4\n",
      "검사 좌표: 2, 4\n",
      "현재 좌표: 3, 5\n",
      "검사 좌표: 3, 6\n",
      "pass\n",
      "큐에 추가, 3, 6\n",
      "검사 좌표: 3, 4\n",
      "검사 좌표: 4, 5\n",
      "검사 좌표: 2, 5\n",
      "현재 좌표: 3, 6\n",
      "검사 좌표: 3, 7\n",
      "검사 좌표: 3, 5\n",
      "검사 좌표: 4, 6\n",
      "검사 좌표: 2, 6\n",
      "pass\n",
      "큐에 추가, 2, 6\n",
      "현재 좌표: 2, 6\n",
      "검사 좌표: 2, 7\n",
      "검사 좌표: 2, 5\n",
      "검사 좌표: 3, 6\n",
      "검사 좌표: 1, 6\n",
      "pass\n",
      "큐에 추가, 1, 6\n",
      "현재 좌표: 1, 6\n",
      "검사 좌표: 1, 7\n",
      "검사 좌표: 1, 5\n",
      "검사 좌표: 2, 6\n",
      "검사 좌표: 0, 6\n",
      "--------------------\n",
      "단지 찾기 시작\n",
      "현재 좌표: 4, 1\n",
      "검사 좌표: 4, 2\n",
      "검사 좌표: 4, 0\n",
      "검사 좌표: 5, 1\n",
      "pass\n",
      "큐에 추가, 5, 1\n",
      "검사 좌표: 3, 1\n",
      "현재 좌표: 5, 1\n",
      "검사 좌표: 5, 2\n",
      "pass\n",
      "큐에 추가, 5, 2\n",
      "검사 좌표: 5, 0\n",
      "검사 좌표: 6, 1\n",
      "pass\n",
      "큐에 추가, 6, 1\n",
      "검사 좌표: 4, 1\n",
      "현재 좌표: 5, 2\n",
      "검사 좌표: 5, 3\n",
      "pass\n",
      "큐에 추가, 5, 3\n",
      "검사 좌표: 5, 1\n",
      "검사 좌표: 6, 2\n",
      "pass\n",
      "큐에 추가, 6, 2\n",
      "검사 좌표: 4, 2\n",
      "현재 좌표: 6, 1\n",
      "검사 좌표: 6, 2\n",
      "검사 좌표: 6, 0\n",
      "검사 좌표: 7, 1\n",
      "검사 좌표: 5, 1\n",
      "현재 좌표: 5, 3\n",
      "검사 좌표: 5, 4\n",
      "pass\n",
      "큐에 추가, 5, 4\n",
      "검사 좌표: 5, 2\n",
      "검사 좌표: 6, 3\n",
      "pass\n",
      "큐에 추가, 6, 3\n",
      "검사 좌표: 4, 3\n",
      "현재 좌표: 6, 2\n",
      "검사 좌표: 6, 3\n",
      "검사 좌표: 6, 1\n",
      "검사 좌표: 7, 2\n",
      "검사 좌표: 5, 2\n",
      "현재 좌표: 5, 4\n",
      "검사 좌표: 5, 5\n",
      "pass\n",
      "큐에 추가, 5, 5\n",
      "검사 좌표: 5, 3\n",
      "검사 좌표: 6, 4\n",
      "검사 좌표: 4, 4\n",
      "현재 좌표: 6, 3\n",
      "검사 좌표: 6, 4\n",
      "검사 좌표: 6, 2\n",
      "검사 좌표: 7, 3\n",
      "검사 좌표: 5, 3\n",
      "현재 좌표: 5, 5\n",
      "검사 좌표: 5, 6\n",
      "검사 좌표: 5, 4\n",
      "검사 좌표: 6, 5\n",
      "검사 좌표: 4, 5\n",
      "3\n",
      "7\n",
      "8\n",
      "9\n"
     ]
    }
   ],
   "source": [
    "# import sys\n",
    "# input = sys.stdin.readline\n",
    "from collections import deque\n",
    "N = int(input())\n",
    "m = [input() for _ in range(N)]     # 지도정보 입력.\n",
    "v = [[False]*N for _ in range(N)]           # 방문여부 체크.\n",
    "# 상하좌우 4방향 이동할거..\n",
    "dx = 1, -1, 0, 0\n",
    "dy = 0, 0, 1, -1\n",
    "# 단지정보 저장할 list\n",
    "c = []\n",
    "# 전체 돌면서 방문 x이고 0 아니면 단지검사.\n",
    "for j in range(N):\n",
    "    for i in range(N):\n",
    "        if m[j][i] != '0' and not v[j][i]:\n",
    "            q = deque()\n",
    "            num = 1\n",
    "            q.append((j,i))\n",
    "            v[j][i] = True\n",
    "            # 상하좌우 4방향 탐색..\n",
    "            print('-'*20)\n",
    "            print('단지 찾기 시작')\n",
    "            while q:\n",
    "                # 레벨별로 진행\n",
    "                for _ in range(len(q)):\n",
    "                    y, x = q.popleft()\n",
    "                    print(f'현재 좌표: {y}, {x}')\n",
    "                    for d in range(4):\n",
    "                        cx = x + dx[d]\n",
    "                        cy = y + dy[d]            \n",
    "                        print(f'검사 좌표: {cy}, {cx}')\n",
    "                        if cx>=0 and cx<N and cy>=0 and cy<N and m[cy][cx]=='1' and not v[cy][cx]:\n",
    "                            print('pass')\n",
    "                            q.append((cy,cx))\n",
    "                            v[cy][cx] = True\n",
    "                            print(f'큐에 추가, {cy}, {cx}')\n",
    "                            num += 1\n",
    "            c.append(num)\n",
    "c.sort()\n",
    "print(len(c))\n",
    "print('\\n'.join(map(str, c)))        "
   ]
  },
  {
   "cell_type": "markdown",
   "metadata": {},
   "source": [
    "88ms. 좀 느리다. 왜 dfs보다 느리지..."
   ]
  },
  {
   "cell_type": "code",
   "execution_count": null,
   "metadata": {
    "collapsed": true
   },
   "outputs": [],
   "source": [
    "# 백준 dfs\n",
    "def dfs(d, x, y):\n",
    "    r = 0\n",
    "    if d[x][y] == '1':\n",
    "        r = 1\n",
    "        d[x][y] = '0'\n",
    "    if 1 <= x and d[x - 1][y] == '1':\n",
    "        r += dfs(d, x - 1, y)\n",
    "    if x < len(d[x]) - 1 and d[x + 1][y] == '1':\n",
    "        r += dfs(d, x + 1, y)\n",
    "    if 1 <= y and d[x][y - 1] == '1':\n",
    "        r += dfs(d, x, y - 1)\n",
    "    if y < len(d) - 1 and d[x][y + 1] == '1':\n",
    "        r += dfs(d, x, y + 1)\n",
    "    return r\n",
    "\n",
    "r, d = [], [list(input()) for i in range(int(input()))]\n",
    "for i in range(len(d)):\n",
    "    for j in range(len(d[i])):\n",
    "        if d[i][j] == '1':\n",
    "            r.append(dfs(d, i, j))\n",
    "print(len(r))\n",
    "[print(x) for x in sorted(r)]"
   ]
  },
  {
   "cell_type": "code",
   "execution_count": null,
   "metadata": {
    "collapsed": true
   },
   "outputs": [],
   "source": [
    "# 백준 뭔코드냐...\n",
    "r,d,*a=0,{(x,y)for y in range(int(input()))for x,c in enumerate(input())if'0'<c}\n",
    "while d:\n",
    " s=[d.pop()];r+=1;b=0\n",
    " while s:\n",
    "  x,y=s.pop();b+=1\n",
    "  for e in-2,0,2,4:\n",
    "   p=x+e//3,y+e%3-1\n",
    "   if{p}<=d:d-={p};s+=p,\n",
    " a+=b,\n",
    "print(*[r]+sorted(a))"
   ]
  },
  {
   "cell_type": "code",
   "execution_count": null,
   "metadata": {
    "collapsed": true
   },
   "outputs": [],
   "source": []
  },
  {
   "cell_type": "markdown",
   "metadata": {},
   "source": [
    "7  \n",
    "0110100  \n",
    "0110101  \n",
    "1110101  \n",
    "0000111  \n",
    "0100000  \n",
    "0111110  \n",
    "0111000  \n",
    "\n",
    "--- \n",
    "3  \n",
    "7  \n",
    "8  \n",
    "9"
   ]
  },
  {
   "cell_type": "markdown",
   "metadata": {},
   "source": [
    "## 4. 4963 섬의 개수"
   ]
  },
  {
   "cell_type": "markdown",
   "metadata": {},
   "source": [
    "#### 문제\n",
    "정사각형으로 이루어져 있는 섬과 바다 지도가 주어진다. 섬의 개수를 세는 프로그램을 작성하시오.  \n",
    "    \n",
    "<img src=\"https://www.acmicpc.net/upload/images/island.png\">  \n",
    "    \n",
    "한 정사각형과 가로, 세로 또는 대각선으로 연결되어 있는 사각형은 걸어갈 수 있는 사각형이다.   \n",
    "  \n",
    "두 정사각형이 같은 섬에 있으려면, 한 정사각형에서 다른 정사각형으로 걸어서 갈 수 있는 경로가 있어야 한다.  \n",
    "지도는 바다로 둘러쌓여 있으며, 지도 밖으로 나갈 수 없다.  \n",
    "  \n",
    "#### 입력\n",
    "입력은 여러 개의 테스트 케이스로 이루어져 있다. 각 테스트 케이스의 첫째 줄에는 지도의 너비 w와 높이 h가 주어진다.  \n",
    "w와 h는 50보다 작거나 같은 양의 정수이다.  \n",
    "  \n",
    "둘째 줄부터 h개 줄에는 지도가 주어진다. 1은 땅, 0은 바다이다.  \n",
    "  \n",
    "입력의 마지막 줄에는 0이 두 개 주어진다.  \n",
    "  \n",
    "#### 출력\n",
    "각 테스트 케이스에 대해서, 섬의 개수를 출력한다.  "
   ]
  },
  {
   "cell_type": "markdown",
   "metadata": {},
   "source": [
    "### ------------------------------------------------------------------------------"
   ]
  },
  {
   "cell_type": "markdown",
   "metadata": {},
   "source": [
    "대각선도 연결..8방향."
   ]
  },
  {
   "cell_type": "code",
   "execution_count": 44,
   "metadata": {
    "scrolled": true
   },
   "outputs": [
    {
     "name": "stdout",
     "output_type": "stream",
     "text": [
      "5 6\n",
      "1 1 0 1 1\n",
      "1 0 0 0 1\n",
      "0 0 1 0 1\n",
      "0 1 0 0 0\n",
      "0 0 0 1 1\n",
      "1 1 0 0 1\n",
      "섬의 개수:\n",
      "5\n",
      "0 0\n"
     ]
    }
   ],
   "source": [
    "### BFS\n",
    "# import sys\n",
    "# input = sys.stdin.readline\n",
    "from collections import deque\n",
    "w, h = map(int, input().split())   # 너비 w, 높이 h\n",
    "# 대각선까지 8방향으로 이동가능.\n",
    "dx = 1, 1, 1, -1, -1, -1, 0, 0\n",
    "dy = -1, 0, 1, -1, 0, 1, -1, 1\n",
    "# 마지막 입력이 주어질 때까지. \n",
    "while (w, h) != (0, 0):\n",
    "    m = [list(map(int, input().split())) for _ in range(h)]  # 지도입력 . 1: 땅 / 0: 바다\n",
    "    v = [[False] * w for _ in range(h)]                      # 방문여부 체크\n",
    "    n = 0\n",
    "    for j in range(h):\n",
    "        for i in range(w):\n",
    "            # 방문 안했고, 땅이면..\n",
    "            if not v[j][i] and m[j][i]:\n",
    "                v[j][i] = True\n",
    "                q = deque()\n",
    "                q.append((j,i))\n",
    "                while q:\n",
    "                    for _ in range(len(q)):\n",
    "                        y, x = q.popleft()\n",
    "                        for d in range(8):\n",
    "                            cy = y + dy[d]\n",
    "                            cx = x + dx[d]\n",
    "                            if cx>=0 and cx<w and cy>=0 and cy<h and m[cy][cx] and not v[cy][cx]:\n",
    "                                q.append((cy, cx))\n",
    "                                v[cy][cx] = True\n",
    "                n += 1\n",
    "    print(f'섬의 개수:\\n{n}')\n",
    "    w, h = map(int, input().split())"
   ]
  },
  {
   "cell_type": "markdown",
   "metadata": {},
   "source": [
    "116ms.."
   ]
  }
 ],
 "metadata": {
  "kernelspec": {
   "display_name": "Python 3",
   "language": "python",
   "name": "python3"
  },
  "language_info": {
   "codemirror_mode": {
    "name": "ipython",
    "version": 3
   },
   "file_extension": ".py",
   "mimetype": "text/x-python",
   "name": "python",
   "nbconvert_exporter": "python",
   "pygments_lexer": "ipython3",
   "version": "3.6.3"
  }
 },
 "nbformat": 4,
 "nbformat_minor": 2
}
