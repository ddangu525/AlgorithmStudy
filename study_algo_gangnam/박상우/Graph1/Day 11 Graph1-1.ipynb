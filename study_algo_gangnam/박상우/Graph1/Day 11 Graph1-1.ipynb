{
 "cells": [
  {
   "cell_type": "markdown",
   "metadata": {},
   "source": [
    "## 1. 1260 DFS와 BFS"
   ]
  },
  {
   "cell_type": "markdown",
   "metadata": {},
   "source": [
    "#### 문제\n",
    "그래프를 DFS로 탐색한 결과와 BFS로 탐색한 결과를 출력하는 프로그램을 작성하시오.  \n",
    "단, 방문할 수 있는 정점이 여러 개인 경우에는 정점 번호가 작은 것을 먼저 방문하고, 더 이상 방문할 수 있는 점이 없는 경우 종료한다.  \n",
    "정점 번호는 1번부터 N번까지이다.  \n",
    "  \n",
    "#### 입력\n",
    "첫째 줄에 정점의 개수 N(1 ≤ N ≤ 1,000), 간선의 개수 M(1 ≤ M ≤ 10,000), 탐색을 시작할 정점의 번호 V가 주어진다.  \n",
    "다음 M개의 줄에는 간선이 연결하는 두 정점의 번호가 주어진다. 어떤 두 정점 사이에 여러 개의 간선이 있을 수 있다.  \n",
    "입력으로 주어지는 간선은 양방향이다.  \n",
    "  \n",
    "#### 출력\n",
    "첫째 줄에 DFS를 수행한 결과를, 그 다음 줄에는 BFS를 수행한 결과를 출력한다. V부터 방문된 점을 순서대로 출력하면 된다.  "
   ]
  },
  {
   "cell_type": "markdown",
   "metadata": {},
   "source": [
    "### ------------------------------------------------------------------------------"
   ]
  },
  {
   "cell_type": "markdown",
   "metadata": {},
   "source": [
    "dfs는 stack, bfs는 queue 이용. 결과는 string으로 만들자.    \n",
    "각 node의 연결정보는 list로 defaultdict 이용하여 저장.  \n",
    "방문했는지 여부를 결정하는 배열도 하나..  "
   ]
  },
  {
   "cell_type": "code",
   "execution_count": null,
   "metadata": {
    "collapsed": true
   },
   "outputs": [],
   "source": [
    "import sys\n",
    "from collections import deque, defaultdict\n",
    "N, M, V = map(int, input().split())\n",
    "edges = defaultdict(list)\n",
    "for _ in range(M):\n",
    "    start, end = map(int, sys.stdin.readline().split())\n",
    "    edges[start].append(end)\n",
    "    edges[end].append(start)\n",
    "\n",
    "def dfs(edgs, v):\n",
    "    result = []\n",
    "    visited = [False] * (N+1)\n",
    "    stack = deque()\n",
    "    stack.append(v)\n",
    "    while stack:\n",
    "        cur = stack.pop()\n",
    "        if not visited[cur]:\n",
    "            visited[cur] = True\n",
    "            result.append(cur)\n",
    "        else:\n",
    "            continue\n",
    "        nxts = sorted(edges[cur], reverse = True)    # 작은수부터 방문하기 위해서..\n",
    "        for nxt in nxts:\n",
    "            if not visited[nxt]:\n",
    "                stack.append(nxt)\n",
    "\n",
    "    return ' '.join(map(str, result))\n",
    "\n",
    "def bfs(edgs, v):\n",
    "    result = []\n",
    "    visited = [False] * (N+1)\n",
    "    q = deque()\n",
    "    q.append(v)\n",
    "    while q:\n",
    "        cur = q.popleft()\n",
    "        if not visited[cur]:\n",
    "            visited[cur] = True\n",
    "            result.append(cur)\n",
    "        else:\n",
    "            continue\n",
    "        nxts = sorted(edges[cur])    # 작은수부터 방문하기 위해서..\n",
    "        for nxt in nxts:\n",
    "            if not visited[nxt]:\n",
    "                q.append(nxt)\n",
    "                \n",
    "    return ' '.join(map(str, result))\n",
    "    \n",
    "print(dfs(edges, V), bfs(edges, V), sep='\\n')"
   ]
  },
  {
   "cell_type": "markdown",
   "metadata": {},
   "source": [
    "96ms"
   ]
  },
  {
   "cell_type": "code",
   "execution_count": 7,
   "metadata": {},
   "outputs": [
    {
     "name": "stdout",
     "output_type": "stream",
     "text": [
      "4 5 1\n",
      "1 2\n",
      "1 3\n",
      "1 4\n",
      "2 4\n",
      "3 4\n",
      "stack = deque([1])\n",
      "stack = deque([4, 3, 2])\n",
      "stack = deque([4, 3, 4])\n",
      "stack = deque([4, 3, 3])\n",
      "stack = deque([4, 3])\n",
      "stack = deque([4])\n",
      "q = deque([1])\n",
      "q = deque([2, 3, 4])\n",
      "q = deque([3, 4, 4])\n",
      "q = deque([4, 4, 4])\n",
      "q = deque([4, 4])\n",
      "q = deque([4])\n",
      "1 2 4 3\n",
      "1 2 3 4\n"
     ]
    }
   ],
   "source": [
    "from collections import deque, defaultdict\n",
    "N, M, V = map(int, input().split())\n",
    "edges = defaultdict(list)\n",
    "for _ in range(M):\n",
    "    start, end = map(int, input().split())\n",
    "    edges[start].append(end)\n",
    "    edges[end].append(start)\n",
    "\n",
    "def dfs(edgs, v):\n",
    "    result = []\n",
    "    visited = [False] * (N+1)\n",
    "    stack = deque()\n",
    "    stack.append(v)\n",
    "    while stack:\n",
    "        print(f'stack = {stack}')\n",
    "        cur = stack.pop()\n",
    "        if not visited[cur]:\n",
    "            visited[cur] = True\n",
    "            result.append(cur)\n",
    "        else:\n",
    "            continue\n",
    "        nxts = sorted(edges[cur], reverse = True)\n",
    "        for nxt in nxts:\n",
    "            if not visited[nxt]:\n",
    "                stack.append(nxt)\n",
    "\n",
    "    return ' '.join(map(str, result))\n",
    "\n",
    "def bfs(edgs, v):\n",
    "    result = []\n",
    "    visited = [False] * (N+1)\n",
    "    q = deque()\n",
    "    q.append(v)\n",
    "    while q:\n",
    "        print(f'q = {q}')\n",
    "        cur = q.popleft()\n",
    "        if not visited[cur]:\n",
    "            visited[cur] = True\n",
    "            result.append(cur)\n",
    "        else:\n",
    "            continue\n",
    "        nxts = sorted(edges[cur])\n",
    "        for nxt in nxts:\n",
    "            if not visited[nxt]:\n",
    "                q.append(nxt)\n",
    "                \n",
    "    return ' '.join(map(str, result))\n",
    "    \n",
    "print(dfs(edges, V), bfs(edges, V), sep='\\n')"
   ]
  },
  {
   "cell_type": "markdown",
   "metadata": {},
   "source": [
    "-----\n",
    "\n",
    "4 5 1  \n",
    "1 2  \n",
    "1 3  \n",
    "1 4  \n",
    "2 4  \n",
    "3 4  \n",
    "\n",
    "-----\n",
    "\n",
    "1 2 4 3  \n",
    "1 2 3 4  "
   ]
  },
  {
   "cell_type": "markdown",
   "metadata": {},
   "source": [
    "## 2. 11724 연결 요소의 개수"
   ]
  },
  {
   "cell_type": "markdown",
   "metadata": {},
   "source": [
    "#### 문제\n",
    "방향 없는 그래프가 주어졌을 때, 연결 요소 (Connected Component)의 개수를 구하는 프로그램을 작성하시오.  \n",
    "  \n",
    "#### 입력\n",
    "첫째 줄에 정점의 개수 N과 간선의 개수 M이 주어진다. (1 ≤ N ≤ 1,000, 0 ≤ M ≤ N×(N-1)/2)   \n",
    "둘째 줄부터 M개의 줄에 간선의 양 끝점 u와 v가 주어진다. (1 ≤ u, v ≤ N, u ≠ v) 같은 간선은 한 번만 주어진다.  \n",
    "  \n",
    "#### 출력\n",
    "첫째 줄에 연결 요소의 개수를 출력한다.  "
   ]
  },
  {
   "cell_type": "markdown",
   "metadata": {},
   "source": [
    "### ------------------------------------------------------------------------------"
   ]
  },
  {
   "cell_type": "markdown",
   "metadata": {},
   "source": [
    "### 연결요소?\n",
    "https://ratsgo.github.io/data%20structure&algorithm/2017/11/24/CC/  \n",
    "연결요소란 원그래프 G 가운데 노드와 엣지가 서로 겹치지 않는 부그래프이되, 부그래프 내 모든 노드쌍에 대해 경로가 존재하는 걸 가리킵니다.  \n",
    "연결요소를 구축하는 기법은 디스조인트 셋(Disjoint Set)으로 구현하게 됩니다. 예컨대 원그래프 G에 아래와 같은 연결요소들 4개가 있다고 칩시다.  \n",
    "<img src=\"https://i.imgur.com/EK3sI5c.png\">\n",
    "  \n",
    "연결요소를 구축하는 알고리즘은 엣지를 중심으로 수행합니다. 위 그래프의 엣지 리스트는 다음과 같습니다.  \n",
    "  \n",
    "(b,d)  \n",
    "(e,g)  \n",
    "(a,c)  \n",
    "(h,i)  \n",
    "(a,b)  \n",
    "(e,f)  \n",
    "(b,c)  \n",
    "우선 모든 노드에 대해 make-set 연산을 수행합니다. 각 노드를 유일한 원소로 하는 새로운 set을 만든다는 뜻입니다.  \n",
    "  \n",
    "{a}, {b}, {c}, {d}, {e}, {f}, {g}, {h}, {i}, {j}  \n",
    "  \n",
    "이제 그래프 내 모든 엣지를 하나씩 검토합니다. 우선 첫번째 엣지인 (b,d)를 보겠습니다.  \n",
    "노드 b가 속한 set의 대표값(루트노드)을 찾습니다(find 연산). 그리고 d의 대표값을 찾습니다.  \n",
    "둘을 비교하니 서로 다르므로(b≠d) 두 set을 합칩니다(union 연산). 결과는 다음과 같습니다.  \n",
    "  \n",
    "{a}, {b,d}, {c}, {e}, {f}, {g}, {h}, {i}, {j}  \n",
    "  \n",
    "다음 (e,g)를 보겠습니다. e가 포함된 set과 g의 셋이 서로 다르므로 두 set을 합칩니다.  \n",
    "(a,c), (h,i), (a,b), (e,f)도 마찬가지입니다. 다음과 같습니다.  \n",
    "  \n",
    "{a,b,c,d}, {e,f,g}, {h,i}, {j}  \n",
    "  \n",
    "마지막으로 (b,c)를 보겠습니다. b가 포함된 set의 루트노드와 c가 포함된 set의 루트노드가 a로 서로 같습니다.  \n",
    "이대로 연산을 마칩니다. 다음과 같습니다.  \n",
    "  \n",
    "{a,b,c,d}, {e,f,g}, {h,i}, {j}    \n",
    "   \n",
    "이렇게 만든 연결요소가 있고, 임의의 노드 u와 v가 같은 연결요소 내에 있는지 여부를 가려내려면 다음과 같이 수행합니다.    \n",
    "  \n",
    "find(u)와 find(v)가 같은 결과이면 True  \n",
    "그렇지 않으면 False  "
   ]
  },
  {
   "cell_type": "markdown",
   "metadata": {},
   "source": [
    "--------------------\n",
    "즉 서로 연결되어있는 노드들의 집합이 몇개나 있는지..  \n",
    "edges의 양 노드를 보면서 안붙어있으면 붙이고 붙어있으면 pass  \n",
    "그 다음에 set의 수를 세면 될듯?  \n",
    "  \n",
    "  --- \n",
    " \n",
    "### Try 1\n",
    "__객체 복사__로 한번에 update하기.. **shallow copy, deep copy와는 다른개념!!!**"
   ]
  },
  {
   "cell_type": "markdown",
   "metadata": {},
   "source": [
    "**단순복제는 완전히 동일한 객체,**  \n",
    "**얉은복사(shallow copy)는 복합객체(껍데기)만 복사, 그 내용은 동일한 객체**   \n",
    "**깊은복사(deep copy)는 복합객체 복사 + 그 내용도 재귀적으로 복사**"
   ]
  },
  {
   "cell_type": "code",
   "execution_count": null,
   "metadata": {
    "collapsed": true
   },
   "outputs": [],
   "source": [
    "import sys\n",
    "N, M = map(int, input().split())\n",
    "edges = [tuple(map(int, sys.stdin.readline().split())) for _ in range(M)]\n",
    "N_sets = [0] + [{i} for i in range(1, N+1)]\n",
    "for u, v in edges:\n",
    "    N_sets[u].update(N_sets[v])\n",
    "    N_sets[v].update(N_sets[u])\n",
    "    N_sets[v]= N_sets[u]\n",
    "print(len(set(map(tuple, N_sets[1:]))))"
   ]
  },
  {
   "cell_type": "markdown",
   "metadata": {},
   "source": [
    "**끝부분에서 틀림... 어디가??** ㅜㅜ"
   ]
  },
  {
   "cell_type": "code",
   "execution_count": 12,
   "metadata": {
    "scrolled": true
   },
   "outputs": [
    {
     "name": "stdout",
     "output_type": "stream",
     "text": [
      "7 5\n",
      "1 2\n",
      "3 4\n",
      "5 6\n",
      "1 4\n",
      "3 6\n",
      "[0, {1}, {2}, {3}, {4}, {5}, {6}, {7}]\n",
      "u, v, N_sets = 1, 2, [0, {1, 2}, {1, 2}, {3}, {4}, {5}, {6}, {7}]\n",
      "u, v, N_sets = 3, 4, [0, {1, 2}, {1, 2}, {3, 4}, {3, 4}, {5}, {6}, {7}]\n",
      "u, v, N_sets = 5, 6, [0, {1, 2}, {1, 2}, {3, 4}, {3, 4}, {5, 6}, {5, 6}, {7}]\n",
      "u, v, N_sets = 1, 4, [0, {1, 2, 3, 4}, {1, 2, 3, 4}, {1, 2, 3, 4}, {1, 2, 3, 4}, {5, 6}, {5, 6}, {7}]\n",
      "u, v, N_sets = 3, 6, [0, {1, 2, 3, 4}, {1, 2, 3, 4}, {1, 2, 3, 4, 5, 6}, {1, 2, 3, 4}, {1, 2, 3, 4, 5, 6}, {1, 2, 3, 4, 5, 6}, {7}]\n",
      "N_sets = [0, {1, 2, 3, 4}, {1, 2, 3, 4}, {1, 2, 3, 4, 5, 6}, {1, 2, 3, 4}, {1, 2, 3, 4, 5, 6}, {1, 2, 3, 4, 5, 6}, {7}]\n",
      "result = {(7,), (1, 2, 3, 4), (1, 2, 3, 4, 5, 6)}\n",
      "3\n"
     ]
    }
   ],
   "source": [
    "N, M = map(int, input().split())\n",
    "edges = [tuple(map(int, input().split())) for _ in range(M)]\n",
    "N_sets = [0] + [{i} for i in range(1, N+1)]\n",
    "print(N_sets)\n",
    "for u, v in edges:\n",
    "    N_sets[u].update(N_sets[v])\n",
    "    N_sets[v].update(N_sets[u])\n",
    "    N_sets[v] = N_sets[u]\n",
    "    print(f'u, v, N_sets = {u}, {v}, {N_sets}')\n",
    "result = set(map(tuple, N_sets[1:]))\n",
    "print(f'N_sets = {N_sets}\\nresult = {result}')\n",
    "print(len(result))"
   ]
  },
  {
   "cell_type": "markdown",
   "metadata": {},
   "source": [
    "4->3으로 가는 포인터가 끊어짐.. 이런식으로 할 방법이 없나.. ㅜㅜ"
   ]
  },
  {
   "cell_type": "markdown",
   "metadata": {},
   "source": [
    "6 8  \n",
    "1 2  \n",
    "2 5  \n",
    "5 1  \n",
    "3 4  \n",
    "4 6  \n",
    "5 4  \n",
    "2 4  \n",
    "2 3  \n",
    "\n",
    "--- \n",
    "1"
   ]
  },
  {
   "cell_type": "markdown",
   "metadata": {},
   "source": [
    "6 5  \n",
    "1 2  \n",
    "2 5  \n",
    "5 1  \n",
    "3 4  \n",
    "4 6 \n",
    "  \n",
    "----  \n",
    "2"
   ]
  },
  {
   "cell_type": "markdown",
   "metadata": {},
   "source": [
    "### Try 2\n",
    "**계속 다 update 해주는 방법....**"
   ]
  },
  {
   "cell_type": "code",
   "execution_count": 20,
   "metadata": {
    "scrolled": true
   },
   "outputs": [
    {
     "name": "stdout",
     "output_type": "stream",
     "text": [
      "7 5\n",
      "1 2\n",
      "3 4\n",
      "5 6\n",
      "1 4\n",
      "3 6\n",
      "u, v, N_sets = 1, 2, [0, {1, 2}, {1, 2}, {3}, {4}, {5}, {6}, {7}]\n",
      "u, v, N_sets = 3, 4, [0, {1, 2}, {1, 2}, {3, 4}, {3, 4}, {5}, {6}, {7}]\n",
      "u, v, N_sets = 5, 6, [0, {1, 2}, {1, 2}, {3, 4}, {3, 4}, {5, 6}, {5, 6}, {7}]\n",
      "u, v, N_sets = 1, 4, [0, {1, 2, 3, 4}, {1, 2, 3, 4}, {1, 2, 3, 4}, {1, 2, 3, 4}, {5, 6}, {5, 6}, {7}]\n",
      "u, v, N_sets = 3, 6, [0, {1, 2, 3, 4, 5, 6}, {1, 2, 3, 4, 5, 6}, {1, 2, 3, 4, 5, 6}, {1, 2, 3, 4, 5, 6}, {1, 2, 3, 4, 5, 6}, {1, 2, 3, 4, 5, 6}, {7}]\n",
      "2\n"
     ]
    }
   ],
   "source": [
    "# import sys \n",
    "# input = sys.stdin.readline\n",
    "\n",
    "N, M = map(int, input().split())\n",
    "edges = [tuple(map(int, input().split())) for _ in range(M)]\n",
    "N_sets = [0] + [{i} for i in range(1, N+1)]\n",
    "\n",
    "for u, v in edges:\n",
    "    n_u = tuple(N_sets[u])\n",
    "    n_v = tuple(N_sets[v])\n",
    "    for k in n_u:\n",
    "        N_sets[k].update(N_sets[v])\n",
    "    for k in n_v:\n",
    "        N_sets[k].update(N_sets[u])\n",
    "    print(f'u, v, N_sets = {u}, {v}, {N_sets}')\n",
    "\n",
    "print(len(set(map(tuple, N_sets[1:]))))"
   ]
  },
  {
   "cell_type": "markdown",
   "metadata": {},
   "source": [
    "역시 시간초과....\n",
    "\n",
    "-----"
   ]
  },
  {
   "cell_type": "markdown",
   "metadata": {},
   "source": [
    "### Try 3\n",
    "**그냥 BFS나 DFS로..**"
   ]
  },
  {
   "cell_type": "code",
   "execution_count": null,
   "metadata": {
    "collapsed": true
   },
   "outputs": [],
   "source": [
    "import sys\n",
    "from collections import deque, defaultdict\n",
    "\n",
    "input = sys.stdin.readline\n",
    "\n",
    "N, M = map(int, input().split())\n",
    "edges = defaultdict(list)\n",
    "visited = [False] * (N+1)\n",
    "\n",
    "for _ in range(M):\n",
    "    start, end = map(int, input().split())\n",
    "    edges[start].append(end)\n",
    "    edges[end].append(start)\n",
    "\n",
    "cc = 0                            # 연결요소(Conected Component의 개수)\n",
    "for k in range(1, N+1):\n",
    "    if not visited[k]:\n",
    "        q = deque()\n",
    "        q.append(k)\n",
    "        while q:\n",
    "            cur = q.popleft()\n",
    "            visited[cur] = True\n",
    "            for neighbor in edges[cur]:\n",
    "                if not visited[neighbor]:\n",
    "                    q.append(neighbor)\n",
    "        cc += 1\n",
    "\n",
    "print(cc)"
   ]
  },
  {
   "cell_type": "markdown",
   "metadata": {},
   "source": [
    "bfs 시간초과???ㅜㅜ 뭐잘못했지.."
   ]
  },
  {
   "cell_type": "code",
   "execution_count": null,
   "metadata": {
    "collapsed": true
   },
   "outputs": [],
   "source": [
    "import sys\n",
    "from collections import deque, defaultdict\n",
    "\n",
    "input = sys.stdin.readline\n",
    "\n",
    "N, M = map(int, input().split())\n",
    "edges = defaultdict(list)\n",
    "visited = [False] * (N+1)\n",
    "\n",
    "for _ in range(M):\n",
    "    start, end = map(int, input().split())\n",
    "    edges[start].append(end)\n",
    "    edges[end].append(start)\n",
    "\n",
    "cc = 0                            # 연결요소(Conected Component의 개수)\n",
    "for k in range(1, N+1):\n",
    "    if not visited[k]:\n",
    "        stack = deque()\n",
    "        stack.append(k)\n",
    "        while stack:\n",
    "            cur = stack.pop()\n",
    "            visited[cur] = True\n",
    "            for neighbor in edges[cur]:\n",
    "                if not visited[neighbor]:\n",
    "                    stack.append(neighbor)\n",
    "        cc += 1\n",
    "\n",
    "print(cc)"
   ]
  },
  {
   "cell_type": "markdown",
   "metadata": {},
   "source": [
    "그냥 dfs로만 바꿨는데 5064ms로 되네.. deque써도 popleft가 pop보다 느린가..  차이없는데.."
   ]
  },
  {
   "cell_type": "code",
   "execution_count": 26,
   "metadata": {},
   "outputs": [
    {
     "name": "stdout",
     "output_type": "stream",
     "text": [
      "pop left: 4.6793200969696045\n",
      "pop: 4.805248498916626\n"
     ]
    }
   ],
   "source": [
    "import time\n",
    "from collections import deque\n",
    "a = deque([1]*10000000)\n",
    "b = deque([1]*10000000)\n",
    "t1 = time.time()\n",
    "while a:\n",
    "    a.popleft()\n",
    "t2 = time.time()\n",
    "print(f'pop left: {t2-t1}')\n",
    "t3 = time.time()\n",
    "while b:\n",
    "    b.pop()\n",
    "t4 = time.time()\n",
    "print(f'pop: {t4-t3}')"
   ]
  },
  {
   "cell_type": "code",
   "execution_count": 15,
   "metadata": {
    "scrolled": false
   },
   "outputs": [
    {
     "name": "stdout",
     "output_type": "stream",
     "text": [
      "10 5\n",
      "1 2\n",
      "3 4\n",
      "5 6\n",
      "1 4\n",
      "3 6\n",
      "5\n"
     ]
    }
   ],
   "source": [
    "from collections import deque, defaultdict\n",
    "\n",
    "N, M = map(int, input().split())\n",
    "edges = defaultdict(list)\n",
    "visited = [False] * (N+1)\n",
    "\n",
    "for _ in range(M):\n",
    "    start, end = map(int, input().split())\n",
    "    edges[start].append(end)\n",
    "    edges[end].append(start)\n",
    "\n",
    "cc = 0                            # 연결요소(Conected Component의 개수)\n",
    "for k in range(1, N+1):\n",
    "    if not visited[k]:\n",
    "        q = deque()\n",
    "        q.append(k)\n",
    "        while q:\n",
    "            cur = q.popleft()\n",
    "            visited[cur] = True\n",
    "            for neighbor in edges[cur]:\n",
    "                if not visited[neighbor]:\n",
    "                    q.append(neighbor)\n",
    "        cc += 1\n",
    "\n",
    "print(cc)     "
   ]
  },
  {
   "cell_type": "code",
   "execution_count": null,
   "metadata": {
    "collapsed": true
   },
   "outputs": [],
   "source": [
    "# 백준 1등 코드.. 비효율적인 부분이 보이긴 하는데..  664ms\n",
    "import sys\n",
    "input = sys.stdin.readline\n",
    "a, b = input().split()\n",
    "a, b = int(a), int(b)\n",
    "save = {}\n",
    "for i in range(1, a+1):\n",
    "    save[i] = {i}\n",
    "save2 = [1]*(a+1)\n",
    "for _ in range(b):\n",
    "    i, j = [int(i) for i in input().split()]\n",
    "    if save2[i] != save2[j] or j not in save[i]:\n",
    "        s = save[j].union(save[i])\n",
    "        m = len(s)\n",
    "        for k in s:\n",
    "            save[k] = s\n",
    "            save2[k] = m\n",
    "x = [i for i in range(1, a+1)]\n",
    "res = 0\n",
    "while x:\n",
    "    chunks = save[x[-1]]\n",
    "    for c in chunks:\n",
    "        x.remove(c)\n",
    "    res += 1\n",
    "print(res)"
   ]
  },
  {
   "cell_type": "markdown",
   "metadata": {},
   "source": [
    "일단 save에 각각을 원소로 갖는 집합들 dictionary로 만들어주고... save2에는 각 키에 원소가 몇개인지를 저장??  \n",
    "그래서 원소의 수가 다르거나 j가 i에 들어있지 않으면 얘는 둘 다 같이 바꿔줬네.. 원소의 수도 저장.  \n",
    "그 다음 x는..노드들의 리스트..마지막 노드가 포함된 부그래프에 존재하는 node들을 지워가면서..수를 셈.  \n",
    "입력을 받을때마다 update.. 굳이 입력을 저장해놓지 않아도 됐구나.."
   ]
  },
  {
   "cell_type": "code",
   "execution_count": null,
   "metadata": {
    "collapsed": true
   },
   "outputs": [],
   "source": [
    "# 좀 더 다듬기..\n",
    "import sys\n",
    "input = sys.stdin.readline\n",
    "N, M = map(int, input().split())\n",
    "s1 = {i:{i} for i in range(1, N+1)}\n",
    "s2 = [1]*(N+1)\n",
    "for _ in range(M):\n",
    "    i, j = map(int, input().split())\n",
    "    if s2[i] != s2[j] or j not in s1[i]:\n",
    "        s = s1[j].union(s1[i])\n",
    "        m = len(s)\n",
    "        for k in s:\n",
    "            s1[k] = s\n",
    "            s2[k] = m\n",
    "x = [i for i in range(1, N+1)]\n",
    "res = 0\n",
    "while x:\n",
    "    chunks = s1[x[-1]]\n",
    "    for c in chunks:\n",
    "        x.remove(c)\n",
    "    res += 1\n",
    "print(res)"
   ]
  },
  {
   "cell_type": "markdown",
   "metadata": {},
   "source": [
    "길이 저장하는 애 없어도 될듯.."
   ]
  },
  {
   "cell_type": "code",
   "execution_count": null,
   "metadata": {
    "collapsed": true
   },
   "outputs": [],
   "source": [
    "# 최종.. 592ms.. \n",
    "import sys\n",
    "input = sys.stdin.readline\n",
    "N, M = map(int, input().split())\n",
    "s = {i:{i} for i in range(1, N+1)}\n",
    "for _ in range(M):\n",
    "    i, j = map(int, input().split())\n",
    "    if j not in s[i]:\n",
    "        u = s[j].union(s[i])\n",
    "        for k in u:\n",
    "            s[k] = u\n",
    "x = [i for i in range(1, N+1)]\n",
    "res = 0\n",
    "while x:\n",
    "    subg = s[x[-1]]\n",
    "    for n in subg:\n",
    "        x.remove(n)\n",
    "    res += 1\n",
    "print(res)"
   ]
  },
  {
   "cell_type": "markdown",
   "metadata": {},
   "source": [
    "## 3. 1707 이분 그래프"
   ]
  },
  {
   "cell_type": "markdown",
   "metadata": {},
   "source": [
    "#### 문제\n",
    "그래프의 정점의 집합을 둘로 분할하여, 각 집합에 속한 정점끼리는 서로 인접하지 않도록 분할할 수 있을 때,  \n",
    "그러한 그래프를 특별히 이분 그래프 (Bipartite Graph) 라 부른다.  \n",
    "그래프가 입력으로 주어졌을 때, 이 그래프가 이분 그래프인지 아닌지 판별하는 프로그램을 작성하시오.  \n",
    "  \n",
    "#### 입력\n",
    "입력은 여러 개의 테스트 케이스로 구성되어 있는데, 첫째 줄에 테스트 케이스의 개수 K(2≤K≤5)가 주어진다.  \n",
    "각 테스트 케이스의 첫째 줄에는 그래프의 정점의 개수 V(1≤V≤20,000)와 간선의 개수 E(1≤E≤200,000)가 빈 칸을 사이에 두고 순서대로 주어진다.  \n",
    "각 정점에는 1부터 V까지 차례로 번호가 붙어 있다. 이어서 둘째 줄부터 E개의 줄에 걸쳐 간선에 대한 정보가 주어지는데,  \n",
    "각 줄에 인접한 두 정점의 번호가 빈 칸을 사이에 두고 주어진다.  \n",
    "  \n",
    "#### 출력\n",
    "K개의 줄에 걸쳐 입력으로 주어진 그래프가 이분 그래프이면 YES, 아니면 NO를 순서대로 출력한다.  "
   ]
  },
  {
   "cell_type": "markdown",
   "metadata": {},
   "source": [
    "### ------------------------------------------------------------------------------"
   ]
  },
  {
   "cell_type": "markdown",
   "metadata": {},
   "source": [
    "2개의 subgraph로 나눠지는 게 아님!!  \n",
    "https://gmlwjd9405.github.io/2018/08/23/algorithm-bipartite-graph.html 참고"
   ]
  },
  {
   "cell_type": "code",
   "execution_count": 31,
   "metadata": {},
   "outputs": [
    {
     "name": "stdout",
     "output_type": "stream",
     "text": [
      "2\n",
      "3 2\n",
      "1 3\n",
      "2 3\n",
      "YES\n",
      "4 4\n",
      "1 2\n",
      "2 3\n",
      "3 4\n",
      "4 2\n",
      "NO\n"
     ]
    }
   ],
   "source": [
    "# import sys\n",
    "from collections import deque\n",
    "# input = sys.stdin.readline\n",
    "\n",
    "def ans():\n",
    "    for i in range(1, V+1):\n",
    "        if not color[i]:\n",
    "            q = deque([i])\n",
    "            l = 1\n",
    "            while q:\n",
    "                for _ in range(len(q)):\n",
    "                    cur = q.popleft()\n",
    "                    color[cur] = c[l]\n",
    "                    for nxt in g[cur]:\n",
    "                        if not color[nxt]:\n",
    "                            q.append(nxt)\n",
    "                        elif color[nxt] == color[cur]:\n",
    "                            print('NO')\n",
    "                            return\n",
    "                l *= -1\n",
    "    print('YES')\n",
    "    return\n",
    "\n",
    "for tc in range(int(input())):\n",
    "    V, E = map(int, input().split())\n",
    "    color = [None] * (V+1)\n",
    "    c = [0,1,2]\n",
    "    g = [[] for _ in range(V+1)]\n",
    "    for _ in range(E):\n",
    "        i, j = map(int, input().split())\n",
    "        g[i].append(j)\n",
    "        g[j].append(i)\n",
    "    ans()"
   ]
  },
  {
   "cell_type": "markdown",
   "metadata": {},
   "source": [
    "시간초과...   \n",
    "1. 리스트 만들면 안되나..아닌데.. &rarr;이건 이상x  \n",
    "2. 전체 노드에 대해 검사할 때 위의 방법으로 하면 어쨌든 계속 연산이 됨.. 방문한 node를 지워버리는 식으로 해보자.  \n",
    "3. color를 1, 2로 하지 말고 True False로..  "
   ]
  },
  {
   "cell_type": "code",
   "execution_count": null,
   "metadata": {
    "collapsed": true
   },
   "outputs": [],
   "source": [
    "# import sys\n",
    "from collections import deque\n",
    "# input = sys.stdin.readline\n",
    "\n",
    "def ans():\n",
    "    while nodes:\n",
    "        s = nodes.pop()\n",
    "        color[s] = True\n",
    "        q = deque([s])\n",
    "        while q:\n",
    "            for _ in range(len(q)):\n",
    "                cur = q.popleft()\n",
    "                for nxt in g[cur]:\n",
    "                    if color[nxt] == color[cur]:\n",
    "                        print('NO')\n",
    "                        return\n",
    "                    elif color[nxt] is None:\n",
    "                        q.append(nxt)\n",
    "                        color[nxt] = not color[cur]\n",
    "                        nodes.remove(nxt)\n",
    "                \n",
    "    print('YES')\n",
    "    return\n",
    "\n",
    "for tc in range(int(input())):\n",
    "    V, E = map(int, input().split())\n",
    "    color = [None] * (V+1)\n",
    "    g = [[] for _ in range(V+1)]\n",
    "    for _ in range(E):\n",
    "        i, j = map(int, input().split())\n",
    "        g[i].append(j)\n",
    "        g[j].append(i)\n",
    "    nodes = {i for i in range(1, V+1)}\n",
    "    ans()"
   ]
  },
  {
   "cell_type": "markdown",
   "metadata": {},
   "source": [
    "2000ms.. "
   ]
  },
  {
   "cell_type": "markdown",
   "metadata": {},
   "source": [
    "2  \n",
    "3 2  \n",
    "1 3  \n",
    "2 3  \n",
    "4 4  \n",
    "1 2  \n",
    "2 3  \n",
    "3 4  \n",
    "4 2  \n",
    "  \n",
    "---\n",
    "YES  \n",
    "NO  "
   ]
  },
  {
   "cell_type": "markdown",
   "metadata": {},
   "source": [
    "## 4. 10451 순열 그래프"
   ]
  },
  {
   "cell_type": "markdown",
   "metadata": {},
   "source": [
    "#### 문제\n",
    "1부터 N까지 정수 N개로 이루어진 순열을 나타내는 방법은 여러 가지가 있다. 예를 들어, 8개의 수로 이루어진 순열 (3, 2, 7, 8, 1, 4, 5, 6)을 배열을 이용해 표현하면 \\begin{pmatrix} 1 & 2 & 3 & 4 & 5 & 6 & 7 & 8 \\\\ 3 & 2 & 7 & 8 & 1 & 4 & 5 & 6 \\end{pmatrix}  \n",
    "    \n",
    "와 같다. 또는, Figure 1과 같이 방향 그래프로 나타낼 수도 있다.\n",
    "<img src=\"https://www.acmicpc.net/upload/images2/permut.png\">\n",
    "\n",
    "순열을 배열을 이용해 \\begin{pmatrix} 1 & \\dots & i & \\dots & n \\\\ \\pi_1 & \\dots & \\pi_i & \\dots & \\pi_n \\end{pmatrix}  \n",
    "  \n",
    "  로 나타냈다면, i에서 $π_i$로 간선을 이어 그래프로 만들 수 있다.  \n",
    "  \n",
    "Figure 1에 나와있는 것 처럼, 순열 그래프 (3, 2, 7, 8, 1, 4, 5, 6) 에는 총 3개의 사이클이 있다. 이러한 사이클을 \"순열 사이클\" 이라고 한다.  \n",
    "  \n",
    "N개의 정수로 이루어진 순열이 주어졌을 때, 순열 사이클의 개수를 구하는 프로그램을 작성하시오.  \n",
    "  \n",
    "#### 입력\n",
    "첫째 줄에 테스트 케이스의 개수 T가 주어진다. 각 테스트 케이스의 첫째 줄에는 순열의 크기 N (2 ≤ N ≤ 1,000)이 주어진다.  \n",
    "둘째 줄에는 순열이 주어지며, 각 정수는 공백으로 구분되어 있다.  \n",
    "  \n",
    "#### 출력\n",
    "각 테스트 케이스마다, 입력으로 주어진 순열에 존재하는 순열 사이클의 개수를 출력한다.  "
   ]
  },
  {
   "cell_type": "markdown",
   "metadata": {},
   "source": [
    "### ------------------------------------------------------------------------------"
   ]
  },
  {
   "cell_type": "markdown",
   "metadata": {},
   "source": [
    "순열의 길이만큼만 반복하면 되겠다. O(N)으로 가능.  "
   ]
  },
  {
   "cell_type": "code",
   "execution_count": 28,
   "metadata": {
    "scrolled": true
   },
   "outputs": [
    {
     "name": "stdout",
     "output_type": "stream",
     "text": [
      "2\n",
      "8\n",
      "3 2 7 8 1 4 5 6\n",
      "3\n",
      "10\n",
      "2 1 3 4 5 6 7 9 10 8\n",
      "7\n"
     ]
    }
   ],
   "source": [
    "# import sys\n",
    "# input = sys.stdin.readline\n",
    "\n",
    "T = int(input())\n",
    "for tc in range(T):\n",
    "    N = int(input())\n",
    "    perm = [0] + list(map(int, input().split()))\n",
    "    visited = [False] * (N+1)\n",
    "    n_cycle = 0\n",
    "    for i in range(1, N+1):\n",
    "        if not visited[i]:\n",
    "            cur = [i]\n",
    "            visited[i] = True\n",
    "            nxt = perm[i]\n",
    "            while 1:\n",
    "                if nxt in cur:\n",
    "                    n_cycle += 1\n",
    "                    break\n",
    "                visited[nxt] = True\n",
    "                cur.append(nxt)\n",
    "                nxt = perm[nxt]\n",
    "    print(n_cycle)"
   ]
  },
  {
   "cell_type": "markdown",
   "metadata": {},
   "source": [
    "되긴 되는데 2116ms. 1등이 244ms.. 많이 느리다.  리스트 cur을 만들고 append 하는것때문에 느린것같다. 없어도 될듯.  \n",
    "그냥 다음으로 갈 데가 방문한 데인지만 알면 됨.."
   ]
  },
  {
   "cell_type": "code",
   "execution_count": null,
   "metadata": {
    "collapsed": true
   },
   "outputs": [],
   "source": [
    "import sys\n",
    "input = sys.stdin.readline\n",
    "\n",
    "T = int(input())\n",
    "for tc in range(T):\n",
    "    N = int(input())\n",
    "    perm = [0] + list(map(int, input().split()))\n",
    "    visited = [False] * (N+1)\n",
    "    n_cycle = 0\n",
    "    for i in range(1, N+1):\n",
    "        if not visited[i]:\n",
    "            visited[i] = True\n",
    "            nxt = perm[i]\n",
    "            while not visited[nxt]:\n",
    "                visited[nxt] = True\n",
    "                nxt = perm[nxt]\n",
    "            n_cycle += 1\n",
    "    print(n_cycle)"
   ]
  },
  {
   "cell_type": "markdown",
   "metadata": {},
   "source": [
    "300ms!"
   ]
  },
  {
   "cell_type": "code",
   "execution_count": 29,
   "metadata": {},
   "outputs": [
    {
     "name": "stdout",
     "output_type": "stream",
     "text": [
      "1 2 3\n",
      "[1, 2, 3]\n",
      "1 2 3\n",
      "[1, 2, 3]\n"
     ]
    }
   ],
   "source": [
    "a = list(map(int, input().split()))\n",
    "print(a)\n",
    "*b, = map(int, input().split())\n",
    "print(b)"
   ]
  },
  {
   "cell_type": "markdown",
   "metadata": {},
   "source": [
    "*b, = map(int, input().split()) 이렇게 하면 그냥 b가 list가 되네..."
   ]
  },
  {
   "cell_type": "markdown",
   "metadata": {},
   "source": [
    "2  \n",
    "8  \n",
    "3 2 7 8 1 4 5 6  \n",
    "10  \n",
    "2 1 3 4 5 6 7 9 10 8  \n",
    "  \n",
    "---   \n",
    "3  \n",
    "7  "
   ]
  },
  {
   "cell_type": "markdown",
   "metadata": {},
   "source": [
    "## Markdown 행렬\n",
    "'\\'begin{pmatrix}   \n",
    "x & y '\\\\\\\\'   \n",
    "z & v    \n",
    "'\\'end{pmatrix}     \n",
    "백슬래쉬에 ''떼고 사용.."
   ]
  }
 ],
 "metadata": {
  "kernelspec": {
   "display_name": "Python 3",
   "language": "python",
   "name": "python3"
  },
  "language_info": {
   "codemirror_mode": {
    "name": "ipython",
    "version": 3
   },
   "file_extension": ".py",
   "mimetype": "text/x-python",
   "name": "python",
   "nbconvert_exporter": "python",
   "pygments_lexer": "ipython3",
   "version": "3.6.3"
  }
 },
 "nbformat": 4,
 "nbformat_minor": 2
}
