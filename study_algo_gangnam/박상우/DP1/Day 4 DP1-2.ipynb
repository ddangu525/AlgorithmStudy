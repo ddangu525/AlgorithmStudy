{
 "cells": [
  {
   "cell_type": "markdown",
   "metadata": {},
   "source": [
    "## 1. 2193 이친수"
   ]
  },
  {
   "cell_type": "markdown",
   "metadata": {},
   "source": [
    "#### 문제\n",
    "0과 1로만 이루어진 수를 이진수라 한다.  \n",
    "이러한 이진수 중 특별한 성질을 갖는 것들이 있는데, 이들을 이친수(pinary number)라 한다. 이친수는 다음의 성질을 만족한다.  \n",
    "  \n",
    "이친수는 0으로 시작하지 않는다.  \n",
    "이친수에서는 1이 두 번 연속으로 나타나지 않는다. 즉, 11을 부분 문자열로 갖지 않는다.  \n",
    "예를 들면 1, 10, 100, 101, 1000, 1001 등이 이친수가 된다. 하지만 0010101이나 101101은 각각 1, 2번 규칙에 위배되므로 이친수가 아니다.  \n",
    "  \n",
    "N(1 ≤ N ≤ 90)이 주어졌을 때, N자리 이친수의 개수를 구하는 프로그램을 작성하시오.  \n",
    "  \n",
    "#### 입력\n",
    "첫째 줄에 N이 주어진다.  \n",
    "  \n",
    "#### 출력\n",
    "첫째 줄에 N자리 이친수의 개수를 출력한다.  "
   ]
  },
  {
   "cell_type": "markdown",
   "metadata": {},
   "source": [
    "### ------------------------------------------------------------------------------"
   ]
  },
  {
   "cell_type": "markdown",
   "metadata": {},
   "source": [
    "무조건 1로 시작.   \n",
    "한자리 -> 1   \n",
    "두자리 -> 10  \n",
    "세자리 -> 100  / 101  \n",
    "네자리 -> 1000 / 1001 / 1010  \n",
    "다섯자리 -> 10000 / 10001 / 10010 / 10100 / 10101  \n",
    "...  \n",
    "끝이 1로 끝나면 그 다음에는 무조건 0이 와야함.  \n",
    "끝이 0으로 끝나면 1, 0 모두 가능. \n",
    "D[N][i] = N자리면서 끝이 i인 경우의 수라고 정의하면,  \n",
    "D[N][0] = D[N-1][1] + D[N-1][0],  \n",
    "D[N][1] = D[N-1][0]  \n",
    "D[N] = D[N][0] + D[N][1]  "
   ]
  },
  {
   "cell_type": "code",
   "execution_count": 1,
   "metadata": {},
   "outputs": [
    {
     "name": "stdout",
     "output_type": "stream",
     "text": [
      "3\n",
      "2\n"
     ]
    }
   ],
   "source": [
    "N = int(input())\n",
    "a, b = 1, 0  # 길이가 1, 끝이 1, 0인 이친수의 수\n",
    "for i in range(N-1):  # N-1번 update해서 길이가 N인 이친수의 수를 구하자.\n",
    "    a, b = b, a + b\n",
    "print(a+b)"
   ]
  },
  {
   "cell_type": "markdown",
   "metadata": {},
   "source": [
    "## 2. 9465 스티커 "
   ]
  },
  {
   "cell_type": "markdown",
   "metadata": {},
   "source": [
    "#### 문제\n",
    "상근이의 여동생 상냥이는 문방구에서 스티커 2n개를 구매했다. 스티커는 그림 (a)와 같이 2행 n열로 배치되어 있다.  \n",
    "상냥이는 스티커를 이용해 책상을 꾸미려고 한다.  \n",
    "  \n",
    "상냥이가 구매한 스티커의 품질은 매우 좋지 않다. 스티커 한 장을 떼면, 그 스티커와 변을 공유하는 스티커는 모두 찢어져서 사용할 수 없게 된다.   즉, 뗀 스티커의 왼쪽, 오른쪽, 위, 아래에 있는 스티커는 사용할 수 없게 된다.  \n",
    "<img src=\"https://www.acmicpc.net/upload/images/sticker.png\">\n",
    "  \n",
    "  \n",
    "모든 스티커를 붙일 수 없게된 상냥이는 각 스티커에 점수를 매기고, 점수의 합이 최대가 되게 스티커를 떼어내려고 한다.   \n",
    "먼저, 그림 (b)와 같이 각 스티커에 점수를 매겼다. 상냥이가 뗄 수 있는 스티커의 점수의 최댓값을 구하는 프로그램을 작성하시오.  \n",
    "즉, 2n개의 스티커 중에서 점수의 합이 최대가 되면서 서로 변을 공유 하지 않는 스티커 집합을 구해야 한다.  \n",
    "  \n",
    "위의 그림의 경우에 점수가 50, 50, 100, 60인 스티커를 고르면, 점수는 260이 되고 이 것이 최대 점수이다.  \n",
    "가장 높은 점수를 가지는 두 스티커 (100과 70)은 변을 공유하기 때문에, 동시에 뗄 수 없다.  \n",
    "  \n",
    "#### 입력\n",
    "첫째 줄에 테스트 케이스의 개수 T가 주어진다. 각 테스트 케이스의 첫째 줄에는 n (1 ≤ n ≤ 100,000)이 주어진다.   \n",
    "다음 두 줄에는 n개의 정수가 주어지며, 각 정수는 그 위치에 해당하는 스티커의 점수이다.  \n",
    "연속하는 두 정수 사이에는 빈 칸이 하나 있다. 점수는 0보다 크거나 같고, 100보다 작거나 같은 정수이다.   \n",
    "  \n",
    "#### 출력\n",
    "각 테스트 케이스 마다, 2n개의 스티커 중에서 두 변을 공유하지 않는 스티커 점수의 최댓값을 출력한다.  "
   ]
  },
  {
   "cell_type": "markdown",
   "metadata": {},
   "source": [
    "### ------------------------------------------------------------------------------"
   ]
  },
  {
   "cell_type": "markdown",
   "metadata": {},
   "source": [
    "한 column당 최대 하나.. 아예 선택하지 않을수도..   \n",
    "\n",
    "N번째 column 첫번째를 선택했을 때 최대값을 D[N][1],   \n",
    "N번째 column 두번째를 선택했을 때 최대값을 D[N][2],   \n",
    "N번째 column 각 row의 값을 S[N][i]라고 하면,   \n",
    "\n",
    "D[N][1] = max(D[N-1][1] - S[N-1][1] + S[N][1], D[N-1][2] + S[N][1])  \n",
    "D[N][2] = max(D[N-1][1] + S[N][2], D[N-1][2] - S[N-1][2] + S[N][2])  \n",
    "\n",
    "D[1][1] = S[1][1]  \n",
    "D[1][2] = S[1][2]"
   ]
  },
  {
   "cell_type": "code",
   "execution_count": 3,
   "metadata": {},
   "outputs": [
    {
     "name": "stdout",
     "output_type": "stream",
     "text": [
      "2\n",
      "5\n",
      "50 10 100 20 40\n",
      "30 50 70 10 60\n",
      "260\n",
      "7\n",
      "10 30 10 50 100 20 40\n",
      "20 40 30 50 60 20 80\n",
      "290\n"
     ]
    }
   ],
   "source": [
    "T = int(input())\n",
    "for i in range(T):\n",
    "    n = int(input())\n",
    "    first = [0] + list(map(int, input().split()))\n",
    "    second = [0] + list(map(int, input().split()))\n",
    "    a, b = first[1], second[1]                   # D[1][1], D[1][2]\n",
    "    for i in range(2, n+1):                      # N번째 column까지 계산..\n",
    "        a, b = max(a - first[i-1] + first[i], b + first[i]), max(b - second[i-1] + second[i], a + second[i])\n",
    "    print(max(a, b))"
   ]
  },
  {
   "cell_type": "markdown",
   "metadata": {},
   "source": [
    "## 3. 2156 포도주 시식 "
   ]
  },
  {
   "cell_type": "markdown",
   "metadata": {},
   "source": [
    "#### 문제\n",
    "효주는 포도주 시식회에 갔다. 그 곳에 갔더니, 테이블 위에 다양한 포도주가 들어있는 포도주 잔이 일렬로 놓여 있었다.  \n",
    "효주는 포도주 시식을 하려고 하는데, 여기에는 다음과 같은 두 가지 규칙이 있다.  \n",
    "  \n",
    "포도주 잔을 선택하면 그 잔에 들어있는 포도주는 모두 마셔야 하고, 마신 후에는 원래 위치에 다시 놓아야 한다.  \n",
    "연속으로 놓여 있는 3잔을 모두 마실 수는 없다.  \n",
    "효주는 될 수 있는 대로 많은 양의 포도주를 맛보기 위해서 어떤 포도주 잔을 선택해야 할지 고민하고 있다.  \n",
    "1부터 n까지의 번호가 붙어 있는 n개의 포도주 잔이 순서대로 테이블 위에 놓여 있고, 각 포도주 잔에 들어있는 포도주의 양이 주어졌을 때,  \n",
    "효주를 도와 가장 많은 양의 포도주를 마실 수 있도록 하는 프로그램을 작성하시오.   \n",
    "  \n",
    "예를 들어 6개의 포도주 잔이 있고, 각각의 잔에 순서대로 6, 10, 13, 9, 8, 1 만큼의 포도주가 들어 있을 때,  \n",
    "첫 번째, 두 번째, 네 번째, 다섯 번째 포도주 잔을 선택하면 총 포도주 양이 33으로 최대로 마실 수 있다.  \n",
    "  \n",
    "#### 입력\n",
    "첫째 줄에 포도주 잔의 개수 n이 주어진다. (1≤n≤10,000) 둘째 줄부터 n+1번째 줄까지 포도주 잔에 들어있는 포도주의 양이 순서대로 주어진다.  \n",
    "포도주의 양은 1,000 이하의 음이 아닌 정수이다.  \n",
    "  \n",
    "#### 출력\n",
    "첫째 줄에 최대로 마실 수 있는 포도주의 양을 출력한다.  "
   ]
  },
  {
   "cell_type": "markdown",
   "metadata": {},
   "source": [
    "### ------------------------------------------------------------------------------"
   ]
  },
  {
   "cell_type": "markdown",
   "metadata": {},
   "source": [
    "-----1  \n",
    "각 포도주의 양을 S[i], N개 잔까지 규칙에 따라 마신 최대양을 D[N]이라 하면,  \n",
    "D[1] = S[1]  \n",
    "D[2] = S[1] + S[2]  \n",
    "D[3] = max(D[2], D[1] + S[3])  \n",
    "D[4] = max(D[2] + S[4], D[3] + S[4])  \n",
    "D[5] = max(D[2] + S[4] + S[5], D[3] + ...  \n",
    "  \n",
    "D[4] = max(S[1] + S[2] + S[4], S[1] + S[3] + S[4])  \n",
    "  \n",
    "N번째 잔을 마셨을 때 최대값을 통해..    -> M[N]이라 하면, \n",
    "D[N] = max(M[N-2] + S[N], M[N-3] + S[N-1] + S[N], M[N-2] + S[N-1])  세 경우를 따져야??    ---- x  \n",
    "  \n",
    "#### -----2    이렇게 하자.\n",
    "연속으로는 최대 두잔.. 최대한 많이 마시기.   \n",
    "N개의 포도주 잔에 포도주 양이 주어짐.   \n",
    "N번째 포도주 잔을 마실 차례에서, 앞의 두 잔을 마셨는지 여부가 중요  \n",
    "N번째 포도주를 마실지 여부까지..  \n",
    "N번째를 마시고 지금 두 잔 연속 마셨다면, D[N][2] -> S[N], S[N-1]은 마시고 S[N-2]는 안마심  \n",
    "N번째 마시고 연속으로 마시지 않았다면, D[N][1] -> S[N-1] 안마심.  \n",
    "N번째를 안마셨다면 D[N][0]  = D[i-1]\n",
    "세 경우중 최대값..\n",
    "D[N] = max(D[i-1], D[i-2] + S[i], D[i-3] + S[i-1] + S[i])\n",
    "\n",
    "-----3        \n",
    "N번째를 안마셨을 때 최대값을 기준으로 해야..?  --얘를 K라 하면.\n",
    "D[N] = max(K[N-1] + S[N], K[N-2] + S[N-1] + S[N]) 이럼 되려나??\n"
   ]
  },
  {
   "cell_type": "code",
   "execution_count": 4,
   "metadata": {},
   "outputs": [
    {
     "name": "stdout",
     "output_type": "stream",
     "text": [
      "6\n",
      "6\n",
      "10\n",
      "13\n",
      "9\n",
      "8\n",
      "1\n",
      "33\n"
     ]
    }
   ],
   "source": [
    "n = int(input())\n",
    "S = [0]\n",
    "for i in range(n):\n",
    "    S.append(int(input()))\n",
    "if n == 1:                           # n이 1, 2일때 일단 처리..\n",
    "    print(S[1])\n",
    "    exit()\n",
    "elif n ==2:\n",
    "    print(S[1]+S[2])\n",
    "    exit()\n",
    "\n",
    "D0 = 0\n",
    "D1 = S[1]\n",
    "D2 = S[1] + S[2]\n",
    "for i in range(3, n+1):\n",
    "    D = max(D2, D1 + S[i], D0 + S[i-1] + S[i])\n",
    "    D0, D1, D2 = D1, D2, D\n",
    "print(D)"
   ]
  },
  {
   "cell_type": "code",
   "execution_count": null,
   "metadata": {
    "collapsed": true
   },
   "outputs": [],
   "source": [
    "n = int(input())\n",
    "S = [0]\n",
    "for i in range(n):\n",
    "    S.append(int(input()))\n",
    "D = [0] * 10001\n",
    "D[1] = S[1]\n",
    "if n == 1:\n",
    "    print(D[1])\n",
    "    exit()\n",
    "D[2] = S[1] + S[2]\n",
    "for i in range(3, n+1):\n",
    "    D[i] = max(D[i-1], D[i-2] + S[i], D[i-3] + S[i-1] + S[i])\n",
    "print(D[n])"
   ]
  },
  {
   "cell_type": "code",
   "execution_count": null,
   "metadata": {
    "collapsed": true
   },
   "outputs": [],
   "source": [
    "# 백준..\n",
    "import sys\n",
    "\n",
    "T = int(sys.stdin.readline())\n",
    "\n",
    "a = [0, 0, 0]\n",
    "pw = 0\n",
    "for i in range(T):\n",
    "    w = int(sys.stdin.readline())\n",
    "    a.append(max(a[-1], w+pw+a[-3], w+a[-2]))\n",
    "    pw = w\n",
    "\n",
    "print(a[-1])"
   ]
  },
  {
   "cell_type": "code",
   "execution_count": null,
   "metadata": {
    "collapsed": true
   },
   "outputs": [],
   "source": [
    "# 백준 2\n",
    "import sys\n",
    "I=sys.stdin.readline        # 입력받는 함수를 변수에 저장.\n",
    "w=[0]*3                     # 중간결과 저장할 리스트..\n",
    "for i in range(int(I())):   # 처음에 주어진 n만큼 반복..\n",
    "    p=int(I())              # 포도주 양 입력받기.\n",
    "    # 다시 세 개 짜리 중간결과 저장. \n",
    "    # w[0]에는 전전잔을 마시고 전잔을 안마신 것, 이번거 마심..\n",
    "    # w[1]에는 전전잔 안마시고 전잔을 마신것. 이번거 마심.\n",
    "    # w[2]에는 이번거 안마신것.. D[N-1]이 들어감..\n",
    "    w=w[1]+p,w[2]+p,max(w)\n",
    "print(max(w))"
   ]
  },
  {
   "cell_type": "markdown",
   "metadata": {},
   "source": [
    "## 4. 11053 가장 긴 증가하는 부분수열 "
   ]
  },
  {
   "cell_type": "markdown",
   "metadata": {},
   "source": [
    "#### 문제\n",
    "수열 A가 주어졌을 때, 가장 긴 증가하는 부분 수열을 구하는 프로그램을 작성하시오.  \n",
    "  \n",
    "예를 들어, 수열 A = {10, 20, 10, 30, 20, 50} 인 경우에 가장 긴 증가하는 부분 수열은 {10, 20, 30, 50} 이고, 길이는 4이다.  \n",
    "  \n",
    "#### 입력\n",
    "첫째 줄에 수열 A의 크기 N (1 ≤ N ≤ 1,000)이 주어진다.  \n",
    "  \n",
    "둘째 줄에는 수열 A를 이루고 있는 Ai가 주어진다. (1 ≤ Ai ≤ 1,000)  \n",
    "  \n",
    "#### 출력\n",
    "첫째 줄에 수열 A의 가장 긴 증가하는 부분 수열의 길이를 출력한다.  "
   ]
  },
  {
   "cell_type": "markdown",
   "metadata": {},
   "source": [
    "### ------------------------------------------------------------------------------"
   ]
  },
  {
   "cell_type": "markdown",
   "metadata": {},
   "source": [
    "이중 for문으로..\n",
    "D[i] = A[i]를 마지막으로 하는 가장 긴 증가하는 부분 수열의 길이.  \n"
   ]
  },
  {
   "cell_type": "code",
   "execution_count": 1,
   "metadata": {},
   "outputs": [
    {
     "name": "stdout",
     "output_type": "stream",
     "text": [
      "6\n",
      "10 20 10 30 20 50\n",
      "4\n"
     ]
    }
   ],
   "source": [
    "n = int(input())\n",
    "a = list(map(int,input().split()))\n",
    "d = [1]*n\n",
    "for i in range(n):\n",
    "    for j in range(i):\n",
    "        if a[j] < a[i] and d[j]+1 > d[i]:\n",
    "            d[i] = d[j]+1\n",
    "print(max(d))"
   ]
  },
  {
   "cell_type": "code",
   "execution_count": 3,
   "metadata": {},
   "outputs": [
    {
     "name": "stdout",
     "output_type": "stream",
     "text": [
      "6\n",
      "10 20 10 30 20 50\n",
      "4\n"
     ]
    }
   ],
   "source": [
    "# 백준1..\n",
    "import bisect\n",
    "N=int(input())\n",
    "arr=list(map(int,input().split()))\n",
    "answer=[]\n",
    "answer.append(arr[0])\n",
    "for i in range(1,N):\n",
    "    if arr[i]>answer[len(answer)-1]:\n",
    "        answer.append(arr[i])\n",
    "    else:\n",
    "        index=bisect.bisect_left(answer,arr[i],lo=0,hi=len(answer))\n",
    "        answer[index]=arr[i]\n",
    "print(len(answer))"
   ]
  },
  {
   "cell_type": "code",
   "execution_count": 2,
   "metadata": {},
   "outputs": [
    {
     "name": "stdout",
     "output_type": "stream",
     "text": [
      "6\n",
      "10 20 10 30 20 50\n",
      "4\n"
     ]
    }
   ],
   "source": [
    "# 백준2..\n",
    "input();d={}\n",
    "for i in map(int,input().split()):d[sum(i>d[k]for k in d)]=i\n",
    "print(len(d))"
   ]
  },
  {
   "cell_type": "markdown",
   "metadata": {},
   "source": [
    "## 5. 11055 가장 큰 증가 부분 수열 "
   ]
  },
  {
   "cell_type": "markdown",
   "metadata": {},
   "source": [
    "#### 문제\n",
    "수열 A가 주어졌을 때, 그 수열의 증가 부분 수열 중에서 합이 가장 큰 것을 구하는 프로그램을 작성하시오.  \n",
    "  \n",
    "예를 들어, 수열 A = {1, 100, 2, 50, 60, 3, 5, 6, 7, 8} 인 경우에 합이 가장 큰 증가 부분 수열은  \n",
    "A = {1, 2, 50, 60} 이고, 합은 113이다.  \n",
    "  \n",
    "#### 입력\n",
    "첫째 줄에 수열 A의 크기 N (1 ≤ N ≤ 1,000)이 주어진다.  \n",
    "  \n",
    "둘째 줄에는 수열 A를 이루고 있는 Ai가 주어진다. (1 ≤ Ai ≤ 1,000)  \n",
    "  \n",
    "#### 출력\n",
    "첫째 줄에 수열 A의 합이 가장 큰 증가 부분 수열의 합을 출력한다.  "
   ]
  },
  {
   "cell_type": "markdown",
   "metadata": {},
   "source": [
    "### ------------------------------------------------------------------------------"
   ]
  },
  {
   "cell_type": "code",
   "execution_count": null,
   "metadata": {
    "collapsed": true
   },
   "outputs": [],
   "source": [
    "n = int(input())\n",
    "a = list(map(int,input().split()))\n",
    "d = a[:]\n",
    "for i in range(n):\n",
    "    for j in range(i):\n",
    "        if a[j] < a[i] and d[j]+a[i] > d[i]:\n",
    "            d[i] = d[j]+a[i]\n",
    "print(max(d))"
   ]
  },
  {
   "cell_type": "markdown",
   "metadata": {},
   "source": [
    "## 6. 11722 가장 긴 감소하는 부분 수열"
   ]
  },
  {
   "cell_type": "markdown",
   "metadata": {},
   "source": [
    "#### 문제\n",
    "수열 A가 주어졌을 때, 가장 긴 감소하는 부분 수열을 구하는 프로그램을 작성하시오.  \n",
    "  \n",
    "예를 들어, 수열 A = {10, 30, 10, 20, 20, 10} 인 경우에 가장 긴 감소하는 부분 수열은 A = {30, 20, 10}  이고, 길이는 3이다.  \n",
    "  \n",
    "#### 입력\n",
    "첫째 줄에 수열 A의 크기 N (1 ≤ N ≤ 1,000)이 주어진다.  \n",
    "  \n",
    "둘째 줄에는 수열 A를 이루고 있는 Ai가 주어진다. (1 ≤ Ai ≤ 1,000)  \n",
    "  \n",
    "#### 출력\n",
    "첫째 줄에 수열 A의 가장 긴 감소하는 부분 수열의 길이를 출력한다.  "
   ]
  },
  {
   "cell_type": "markdown",
   "metadata": {},
   "source": [
    "### ------------------------------------------------------------------------------"
   ]
  },
  {
   "cell_type": "code",
   "execution_count": null,
   "metadata": {
    "collapsed": true
   },
   "outputs": [],
   "source": [
    "n = int(input())\n",
    "a = list(map(int,input().split()))\n",
    "d = [1]*n\n",
    "for i in range(n):\n",
    "    for j in range(i):\n",
    "        if a[j] > a[i] and d[j]+1 > d[i]:\n",
    "            d[i] = d[j]+1\n",
    "print(max(d))"
   ]
  },
  {
   "cell_type": "markdown",
   "metadata": {},
   "source": [
    "## 7. 11054 가장 긴 바이토닉 부분 수열"
   ]
  },
  {
   "cell_type": "markdown",
   "metadata": {},
   "source": [
    "#### 문제\n",
    "수열 S가 어떤 수 Sk를 기준으로 S1 < S2 < ... Sk-1 < Sk > Sk+1 > ... SN-1 > SN을 만족한다면, 그 수열을 바이토닉 수열이라고 한다.  \n",
    "  \n",
    "예를 들어, {10, 20, 30, 25, 20}과 {10, 20, 30, 40}, {50, 40, 25, 10} 은 바이토닉 수열이지만,   \n",
    "{1, 2, 3, 2, 1, 2, 3, 2, 1}과 {10, 20, 30, 40, 20, 30} 은 바이토닉 수열이 아니다.  \n",
    "  \n",
    "수열 A가 주어졌을 때, 그 수열의 부분 수열 중 바이토닉 수열이면서 가장 긴 수열의 길이를 구하는 프로그램을 작성하시오.  \n",
    "  \n",
    "#### 입력\n",
    "첫째 줄에 수열 A의 크기 N이 주어지고, 둘째 줄에는 수열 A를 이루고 있는 Ai가 주어진다. (1 ≤ N ≤ 1,000, 1 ≤ Ai ≤ 1,000)  \n",
    "  \n",
    "#### 출력\n",
    "첫째 줄에 수열 A의 부분 수열 중에서 가장 긴 바이토닉 수열의 길이를 출력한다.  "
   ]
  },
  {
   "cell_type": "markdown",
   "metadata": {},
   "source": [
    "### ------------------------------------------------------------------------------"
   ]
  },
  {
   "cell_type": "code",
   "execution_count": 9,
   "metadata": {},
   "outputs": [
    {
     "name": "stdout",
     "output_type": "stream",
     "text": [
      "10\n",
      "1 5 2 1 4 3 4 5 2 1\n",
      "7\n"
     ]
    }
   ],
   "source": [
    "n = int(input())\n",
    "a = list(map(int,input().split()))\n",
    "d1 = [1]*n\n",
    "d2 = [1]*n\n",
    "for i in range(n):\n",
    "    for j in range(i):\n",
    "        if a[j] < a[i] and d1[j]+1 > d1[i]:\n",
    "            d1[i] = d1[j]+1\n",
    "for i in range(n-1, -1, -1):\n",
    "    for j in range(i+1, n):\n",
    "        if a[i] > a[j] and d2[j]+1 > d2[i]:\n",
    "            d2[i] = d2[j]+1\n",
    "            \n",
    "d = [d1[i] + d2[i] for i in range(n)]\n",
    "print(max(d)-1)"
   ]
  }
 ],
 "metadata": {
  "kernelspec": {
   "display_name": "Python 3",
   "language": "python",
   "name": "python3"
  },
  "language_info": {
   "codemirror_mode": {
    "name": "ipython",
    "version": 3
   },
   "file_extension": ".py",
   "mimetype": "text/x-python",
   "name": "python",
   "nbconvert_exporter": "python",
   "pygments_lexer": "ipython3",
   "version": "3.6.3"
  }
 },
 "nbformat": 4,
 "nbformat_minor": 2
}
