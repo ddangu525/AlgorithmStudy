{
 "cells": [
  {
   "cell_type": "markdown",
   "metadata": {},
   "source": [
    "## 1. 1912 연속합 "
   ]
  },
  {
   "cell_type": "markdown",
   "metadata": {},
   "source": [
    "#### 문제\n",
    "n개의 정수로 이루어진 임의의 수열이 주어진다. 우리는 이 중 연속된 몇 개의 수를 선택해서 구할 수 있는 합 중 가장 큰 합을 구하려고 한다.  \n",
    "단, 수는 한 개 이상 선택해야 한다.  \n",
    "  \n",
    "예를 들어서 10, -4, 3, 1, 5, 6, -35, 12, 21, -1 이라는 수열이 주어졌다고 하자. 여기서 정답은 12+21인 33이 정답이 된다.  \n",
    "  \n",
    "#### 입력\n",
    "첫째 줄에 정수 n(1 ≤ n ≤ 100,000)이 주어지고 둘째 줄에는 n개의 정수로 이루어진 수열이 주어진다.  \n",
    "수는 -1,000보다 크거나 같고, 1,000보다 작거나 같은 정수이다.  \n",
    "  \n",
    "#### 출력\n",
    "첫째 줄에 답을 출력한다.  "
   ]
  },
  {
   "cell_type": "markdown",
   "metadata": {},
   "source": [
    "### ------------------------------------------------------------------------------"
   ]
  },
  {
   "cell_type": "markdown",
   "metadata": {},
   "source": [
    "i로 끝나는 최대 연속합을 저장.    \n",
    "10 -4 3 1 5 6 -35 12 21 -1이면,  \n",
    "1. 일단 10저장  \n",
    "2. 그다음은 10 + -4랑 -4랑 비교해서 최대값. -> 6 저장.  \n",
    "3. 그 다음은 이전의 최대값과의 합인 6 + 3이랑 그냥 3이랑 비교해서 최대값 저장. -> 9 저장  \n",
    "4. 이전 최대값과 합인 9 + 1 과 그냥 1 -> 10 저장  \n",
    "5. 10+5와 6 -> 15  \n",
    "6. 15 + 6, -35 -> 21    \n",
    "7. 21 + -35, -35 -> -14  \n",
    "8. -12 + 12, 그냥 12 -> 12 저장  \n",
    "9. 12 + 21, 21 -> 33 저장  \n",
    "10. 33 -1 , -1 -> 32 저장.  \n",
    "최대값은 9에서 구한 33.  "
   ]
  },
  {
   "cell_type": "code",
   "execution_count": 3,
   "metadata": {},
   "outputs": [
    {
     "name": "stdout",
     "output_type": "stream",
     "text": [
      "10\n",
      "10 -4 3 1 5 6 -35 12 21 -1\n",
      "33\n"
     ]
    }
   ],
   "source": [
    "n = int(input())\n",
    "S = list(map(int, input().split()))      # 원소 값.\n",
    "A = [0] * n                      # i로 끝나는 최대 연속합 저장 배열.\n",
    "A[0] = S[0]                      # 제일 처음거는 자기 자신.\n",
    "for i in range(1, n):\n",
    "    A[i] = max(A[i-1]+S[i], S[i])\n",
    "print(max(A))    "
   ]
  },
  {
   "cell_type": "code",
   "execution_count": 8,
   "metadata": {},
   "outputs": [
    {
     "name": "stdout",
     "output_type": "stream",
     "text": [
      "10\n",
      "10 -4 3 1 5 6 -35 12 21 -1\n",
      "33\n"
     ]
    }
   ],
   "source": [
    "n = int(input())\n",
    "S = list(map(int, input().split()))      # 원소 값.\n",
    "M = S[0]\n",
    "T = S[0]\n",
    "for i in range(1, n):\n",
    "    T = max(T+S[i], S[i])\n",
    "    if T > M:\n",
    "        M = T\n",
    "print(M)"
   ]
  },
  {
   "cell_type": "code",
   "execution_count": null,
   "metadata": {
    "collapsed": true
   },
   "outputs": [],
   "source": [
    "# 백준..\n",
    "input(); l=list(map(int,input().split()))\n",
    "c=0; m=l[0]\n",
    "for i in l:\n",
    "    if c<0:c=0\n",
    "    c=c+i\n",
    "    if m<c:m=c\n",
    "print(m)"
   ]
  },
  {
   "cell_type": "markdown",
   "metadata": {},
   "source": [
    "## 2. 2579 계단오르기"
   ]
  },
  {
   "cell_type": "markdown",
   "metadata": {},
   "source": [
    "#### 문제\n",
    "계단 오르기 게임은 계단 아래 시작점부터 계단 꼭대기에 위치한 도착점까지 가는 게임이다.  \n",
    "<그림 1>과 같이 각각의 계단에는 일정한 점수가 쓰여 있는데 계단을 밟으면 그 계단에 쓰여 있는 점수를 얻게 된다.  \n",
    "<img src=\"https://www.acmicpc.net/upload/images/k64or2GOK1vmpEig7Ud.png\">\n",
    "  \n",
    "예를 들어 <그림 2>와 같이 시작점에서부터 첫 번째, 두 번째, 네 번째, 여섯 번째, 계단을 밟아 도착점에 도달하면 총 점수는 10 + 20 + 25 + 20 = 75점이 된다.  \n",
    "<img src=\"https://www.acmicpc.net/upload/images/f62omMF2kQYD5rDct.png\">\n",
    "  \n",
    "계단 오르는 데는 다음과 같은 규칙이 있다.  \n",
    "  \n",
    "계단은 한 번에 한 계단씩 또는 두 계단씩 오를 수 있다. 즉, 한 계단을 밟으면서 이어서 다음 계단이나, 다음 다음 계단으로 오를 수 있다.  \n",
    "연속된 세 개의 계단을 모두 밟아서는 안 된다. 단, 시작점은 계단에 포함되지 않는다.  \n",
    "마지막 도착 계단은 반드시 밟아야 한다.  \n",
    "따라서 첫 번째 계단을 밟고 이어 두 번째 계단이나, 세 번째 계단으로 오를 수 있다.  \n",
    "하지만, 첫 번째 계단을 밟고 이어 네 번째 계단으로 올라가거나, 첫 번째, 두 번째, 세 번째 계단을 연속해서 모두 밟을 수는 없다.  \n",
    "  \n",
    "각 계단에 쓰여 있는 점수가 주어질 때 이 게임에서 얻을 수 있는 총 점수의 최댓값을 구하는 프로그램을 작성하시오.  \n",
    "  \n",
    "#### 입력\n",
    "입력의 첫째 줄에 계단의 개수가 주어진다.  \n",
    "  \n",
    "둘째 줄부터 한 줄에 하나씩 제일 아래에 놓인 계단부터 순서대로 각 계단에 쓰여 있는 점수가 주어진다.    \n",
    "계단의 개수는 300이하의 자연수이고, 계단에 쓰여 있는 점수는 10,000이하의 자연수이다.  \n",
    "  \n",
    "#### 출력\n",
    "첫째 줄에 계단 오르기 게임에서 얻을 수 있는 총 점수의 최댓값을 출력한다.  "
   ]
  },
  {
   "cell_type": "markdown",
   "metadata": {},
   "source": [
    "### ------------------------------------------------------------------------------"
   ]
  },
  {
   "cell_type": "markdown",
   "metadata": {},
   "source": [
    "포도주 시식과 비슷? 연달아 세 개의 계단 모두 밟아서는 안되고..    \n",
    "i번째 계단을 안밟는 경우 중에 최대값을 구하고, 마지막에만 밟는경우로?  \n",
    "D[i] = max(D[i-2] + S[i-1], D[i-3] + S[i-2] + S[i-1])  두 경우 중 하나.  \n",
    "정답은 max(D[n-1] + S[n], D[n-2] + S[n-1] + S[n])\n",
    "n<=3인경우 따로.."
   ]
  },
  {
   "cell_type": "code",
   "execution_count": 13,
   "metadata": {},
   "outputs": [
    {
     "name": "stdout",
     "output_type": "stream",
     "text": [
      "6\n",
      "10\n",
      "20\n",
      "15\n",
      "25\n",
      "10\n",
      "20\n",
      "75\n"
     ]
    }
   ],
   "source": [
    "n = int(input())\n",
    "S = [0] + [int(input()) for _ in range(n)]\n",
    "# n<=3인경우 일단 먼저.. 좀 지저분하넹..\n",
    "if n == 1:\n",
    "    print(S[n])\n",
    "    exit()\n",
    "elif n == 2:\n",
    "    print(sum(S))\n",
    "    exit()\n",
    "elif n == 3:\n",
    "    print(max(S[1]+S[3], S[2]+S[3]))\n",
    "    exit()\n",
    "D = [0, 0, S[1]]     # 초기에는 0, 0, S[1]. 각각 D[0], D[1], D[2]\n",
    "for i in range(3, n):     # n-1까지 구하고 n번째는 밟으면서 최대값을 구해야.\n",
    "    D = D[1:] + [max(D[1] + S[i-1], D[0] + S[i-2] + S[i-1] )]\n",
    "print(max(D[2] + S[n], D[1] + S[n-1] + S[n]))"
   ]
  },
  {
   "cell_type": "code",
   "execution_count": null,
   "metadata": {
    "collapsed": true
   },
   "outputs": [],
   "source": [
    "# 백준.. 이것도 처음보는 코드..\n",
    "from sys import stdin\n",
    "\n",
    "next(stdin)\n",
    "pp, p = (0, 0), (0, 0)\n",
    "for s in map(int, stdin):\n",
    "    pp, p = p, (s + max(pp[0], pp[1]), s + p[0])\n",
    "\n",
    "print(max(p))"
   ]
  },
  {
   "cell_type": "markdown",
   "metadata": {},
   "source": [
    "## 3. 1699 제곱수의 합"
   ]
  },
  {
   "cell_type": "markdown",
   "metadata": {},
   "source": [
    "#### 문제\n",
    "어떤 자연수 N은 그보다 작거나 같은 제곱수들의 합으로 나타낼 수 있다. 예를 들어 11=3^2+1^2+1^2(3개 항)이다.   \n",
    "이런 표현방법은 여러 가지가 될 수 있는데, 11의 경우 11=2^2+2^2+1^2+1^2+1^2(5개 항)도 가능하다.  \n",
    "이 경우, 수학자 숌크라테스는 “11은 3개 항의 제곱수 합으로 표현할 수 있다.”라고 말한다.  \n",
    "또한 11은 그보다 적은 항의 제곱수 합으로 표현할 수 없으므로, 11을 그 합으로써 표현할 수 있는 제곱수 항의 최소 개수는 3이다.  \n",
    "  \n",
    "주어진 자연수 N을 이렇게 제곱수들의 합으로 표현할 때에 그 항의 최소개수를 구하는 프로그램을 작성하시오.  \n",
    "  \n",
    "#### 입력\n",
    "첫째 줄에 자연수 N이 주어진다. (1 ≤ N ≤ 100,000)  \n",
    "  \n",
    "#### 출력\n",
    "주어진 자연수를 제곱수의 합으로 나타낼 때에 그 제곱수 항의 최소 개수를 출력한다.  "
   ]
  },
  {
   "cell_type": "markdown",
   "metadata": {},
   "source": [
    "### ------------------------------------------------------------------------------"
   ]
  },
  {
   "cell_type": "markdown",
   "metadata": {},
   "source": [
    "일단 N의 범위 100000 십만,,  제곱수는 1^2 ~ 316^2까지만 보면 됨. 100000 = 316^2 + 12^2..  이런식으로.   \n",
    "bottom up으로 각 수마다 최소 조합을 구해야??   \n",
    "일단 큰거부터 처리?  \n",
    "D[i]: i를 제곱수의 합으로 나타냈을 때 필요한 항의 최소 개수라 하면,  \n",
    "마지막에 어떤 수가 왔냐에 따라 달라짐.  \n",
    "마지막 항이 l인경우 D[i] = D[i-l^2] + 1.  \n",
    "D[i] = min(D[i-j^2] + 1) (1<=i<=j^2)  "
   ]
  },
  {
   "cell_type": "code",
   "execution_count": null,
   "metadata": {
    "collapsed": true
   },
   "outputs": [],
   "source": [
    "n = int(input())\n",
    "d = [0]*(n+1)\n",
    "for i in range(1, n+1):\n",
    "    d[i] = i\n",
    "    j = 1\n",
    "    while j*j <= i:\n",
    "        if d[i] > d[i-j*j]+1:\n",
    "            d[i] = d[i-j*j]+1\n",
    "        j += 1\n",
    "print(d[n])"
   ]
  },
  {
   "cell_type": "markdown",
   "metadata": {},
   "source": [
    "## 4. 2133 타일 채우기"
   ]
  },
  {
   "cell_type": "markdown",
   "metadata": {},
   "source": [
    "#### 문제\n",
    "3×N 크기의 벽을 2×1, 1×2 크기의 타일로 채우는 경우의 수를 구해보자.  \n",
    "  \n",
    "#### 입력\n",
    "첫째 줄에 N(1 ≤ N ≤ 30)이 주어진다.   \n",
    "  \n",
    "#### 출력\n",
    "첫째 줄에 경우의 수를 출력한다.  "
   ]
  },
  {
   "cell_type": "markdown",
   "metadata": {},
   "source": [
    "### ------------------------------------------------------------------------------"
   ]
  },
  {
   "cell_type": "markdown",
   "metadata": {},
   "source": [
    "일단 홀수개 column은 못채움.. 타일 수가 홀수.  \n",
    "D[0] = 1이라 하고..  \n",
    "D[2] = 3  \n",
    "D[4] = D[2] * 3 + D[0] * 2 ..   \n",
    "D[6] = D[4] * 3 + D[2] * 2 + D[0] * 2 ...  \n",
    "계속 경우의 수가  \n",
    "D[i] = 3 * D[i-2] + 2 * D[i-4] + 2* D[i-6] + ...    "
   ]
  },
  {
   "cell_type": "code",
   "execution_count": 42,
   "metadata": {},
   "outputs": [
    {
     "name": "stdout",
     "output_type": "stream",
     "text": [
      "8\n",
      "[1, 3, 11, 41, 153]\n",
      "153\n"
     ]
    }
   ],
   "source": [
    "n = int(input())\n",
    "D = [1, 3, 11] + [0]*(n//2-2)\n",
    "for i in range(3, n//2+1):\n",
    "    D[i] += 2 * sum(D[:i-1])\n",
    "    D[i] += 3 * D[i-1]\n",
    "print(D)\n",
    "print(D[n//2])\n",
    "\n",
    "###홀수일때 0이 나와야 하는구나.."
   ]
  },
  {
   "cell_type": "code",
   "execution_count": 43,
   "metadata": {},
   "outputs": [
    {
     "name": "stdout",
     "output_type": "stream",
     "text": [
      "8\n",
      "[1, 0, 3, 0, 11, 0, 41, 0, 153]\n",
      "153\n"
     ]
    }
   ],
   "source": [
    "n = int(input())\n",
    "D = [1, 0, 3, 0] + [0]*(n-3)           # index맞춰주기\n",
    "for i in range(4, n+1, 2):             # D[4]부터 계산. 짝수인경우만!\n",
    "    D[i] += 2 * sum(D[0:i-3:2])\n",
    "    D[i] += 3 * D[i-2]\n",
    "# print(D)\n",
    "print(D[n])"
   ]
  },
  {
   "cell_type": "code",
   "execution_count": null,
   "metadata": {
    "collapsed": true
   },
   "outputs": [],
   "source": []
  },
  {
   "cell_type": "markdown",
   "metadata": {},
   "source": [
    "## 5. 9461 파도반 수열"
   ]
  },
  {
   "cell_type": "markdown",
   "metadata": {},
   "source": [
    "#### 문제\n",
    "그림과 같이 삼각형이 나선 모양으로 놓여져 있다. 첫 삼각형은 정삼각형으로 변의 길이는 1이다.  \n",
    "그 다음에는 다음과 같은 과정으로 정삼각형을 계속 추가한다.  \n",
    "나선에서 가장 긴 변의 길이를 k라 했을 때, 그 변에 길이가 k인 정삼각형을 추가한다.  \n",
    "<img src=\"https://www.acmicpc.net/upload/images/pandovan.png\">\n",
    "파도반 수열 P(N)은 나선에 있는 정삼각형의 변의 길이이다. P(1)부터 P(10)까지 첫 10개 숫자는 1, 1, 1, 2, 2, 3, 4, 5, 7, 9이다.  \n",
    "  \n",
    "N이 주어졌을 때, P(N)을 구하는 프로그램을 작성하시오.  \n",
    "  \n",
    "#### 입력\n",
    "첫째 줄에 테스트 케이스의 개수 T가 주어진다. 각 테스트 케이스는 한 줄로 이루어져 있고, N이 주어진다. (1 ≤ N ≤ 100)  \n",
    "  \n",
    "#### 출력\n",
    "각 테스트 케이스마다 P(N)을 출력한다.  "
   ]
  },
  {
   "cell_type": "markdown",
   "metadata": {},
   "source": [
    "### ------------------------------------------------------------------------------"
   ]
  },
  {
   "cell_type": "markdown",
   "metadata": {},
   "source": [
    "1, 1, 1, 2, 2, 3, 4, 5, 7, 9, 12, 16, 21, 28 ...  \n",
    "P[1] = P[2] = P[3] = 1  \n",
    "P[4] = P[5] = 2  \n",
    "P[i] = P[i-1] + P[i-5]  (i>=6)"
   ]
  },
  {
   "cell_type": "code",
   "execution_count": 49,
   "metadata": {},
   "outputs": [
    {
     "name": "stdout",
     "output_type": "stream",
     "text": [
      "2\n",
      "[0, 1, 1, 1, 2, 2, 3, 4, 5, 7, 9, 12, 16, 21, 28, 37, 49, 65, 86, 114, 151, 200, 265, 351, 465, 616, 816, 1081, 1432, 1897, 2513, 3329, 4410, 5842, 7739, 10252, 13581, 17991, 23833, 31572, 41824, 55405, 73396, 97229, 128801, 170625, 226030, 299426, 396655, 525456, 696081, 922111, 1221537, 1618192, 2143648, 2839729, 3761840, 4983377, 6601569, 8745217, 11584946, 15346786, 20330163, 26931732, 35676949, 47261895, 62608681, 82938844, 109870576, 145547525, 192809420, 255418101, 338356945, 448227521, 593775046, 786584466, 1042002567, 1380359512, 1828587033, 2422362079, 3208946545, 4250949112, 5631308624, 7459895657, 9882257736, 13091204281, 17342153393, 22973462017, 30433357674, 40315615410, 53406819691, 70748973084, 93722435101, 124155792775, 164471408185, 217878227876, 288627200960, 382349636061, 506505428836, 670976837021, 888855064897]\n",
      "6\n",
      "3\n",
      "12\n",
      "16\n"
     ]
    }
   ],
   "source": [
    "T = int(input())\n",
    "P = [0, 1, 1, 1, 2, 2] + [0] * 95  # 그냥 다 만들어놓자..\n",
    "for i in range(6, 101):\n",
    "    P[i] = P[i-1] + P[i-5]\n",
    "# print(P)\n",
    "exec(\"print(P[int(input())]);\"*T)"
   ]
  },
  {
   "cell_type": "code",
   "execution_count": null,
   "metadata": {
    "collapsed": true
   },
   "outputs": [],
   "source": [
    "# 백준..\n",
    "p=[0,1,1];exec'p+=p[-2]+p[-3],;'*99+'print p[input()];'*input()"
   ]
  },
  {
   "cell_type": "markdown",
   "metadata": {},
   "source": [
    "## 6. 2225 합분해"
   ]
  },
  {
   "cell_type": "markdown",
   "metadata": {},
   "source": [
    "#### 문제\n",
    "0부터 N까지의 정수 K개를 더해서 그 합이 N이 되는 경우의 수를 구하는 프로그램을 작성하시오.  \n",
    "  \n",
    "덧셈의 순서가 바뀐 경우는 다른 경우로 센다(1+2와 2+1은 서로 다른 경우). 또한 한 개의 수를 여러 번 쓸 수도 있다.  \n",
    "  \n",
    "#### 입력\n",
    "첫째 줄에 두 정수 N(1 ≤ N ≤ 200), K(1 ≤ K ≤ 200)가 주어진다.  \n",
    "  \n",
    "#### 출력\n",
    "첫째 줄에 답을 1,000,000,000으로 나눈 나머지를 출력한다.  "
   ]
  },
  {
   "cell_type": "markdown",
   "metadata": {},
   "source": [
    "### ------------------------------------------------------------------------------"
   ]
  },
  {
   "cell_type": "markdown",
   "metadata": {},
   "source": [
    "K개를 더해서...   \n",
    "K가 1이면 항상 1개.. N   \n",
    "K=2 -> 0+N, 1+(N-1), ... ,N+0, -> 2*(N//2)+1  \n",
    "K=3 -> 하나의 값을 정하고 나머지를 K=2인 경우로..   \n",
    "D[K][N]을 정수 K개를 더해서 N이 되는 경우의 수라고 하자  \n",
    "마지막으로 더한 수가 L이라면  \n",
    "D[K][N] = sigma(D[K-1][N-L]) (0<=L<=N)이 된다..   \n",
    "D[0][0] = 1\n"
   ]
  },
  {
   "cell_type": "code",
   "execution_count": null,
   "metadata": {
    "collapsed": true
   },
   "outputs": [],
   "source": [
    "n,k = map(int,input().split())\n",
    "d = [[0]*(n+1) for _ in range(k+1)]    # 이차배열 만들기..\n",
    "d[0][0] = 1                            # base case\n",
    "for i in range(1, k+1):\n",
    "    for j in range(0, n+1):\n",
    "#         for l in range(0, j+1):\n",
    "#             d[i][j] += d[i-1][j-l]\n",
    "        d[i][j] += sum(d[i-1][:j+1])\n",
    "        d[i][j] %= 1000000000\n",
    "print(d[k][n])\n"
   ]
  },
  {
   "cell_type": "code",
   "execution_count": null,
   "metadata": {
    "collapsed": true
   },
   "outputs": [],
   "source": [
    "n,k = map(int,input().split())\n",
    "n,m = n+k-1, k-1\n",
    "cur = 1\n",
    "for i in range(1,m+1):\n",
    "    cur = cur*(n-i+1)//i\n",
    "print(cur%1000000000)"
   ]
  },
  {
   "cell_type": "markdown",
   "metadata": {},
   "source": [
    "## 7. 2011 암호코드"
   ]
  },
  {
   "cell_type": "markdown",
   "metadata": {},
   "source": [
    "#### 문제\n",
    "상근이와 선영이가 다른 사람들이 남매간의 대화를 듣는 것을 방지하기 위해서 대화를 서로 암호화 하기로 했다. 그래서 다음과 같은 대화를 했다.  \n",
    "  \n",
    "상근: 그냥 간단히 암호화 하자. A를 1이라고 하고, B는 2로, 그리고 Z는 26으로 하는거야.  \n",
    "선영: 그럼 안돼. 만약, \"BEAN\"을 암호화하면 25114가 나오는데, 이걸 다시 글자로 바꾸는 방법은 여러 가지가 있어.  \n",
    "상근: 그렇네. 25114를 다시 영어로 바꾸면, \"BEAAD\", \"YAAD\", \"YAN\", \"YKD\", \"BEKD\", \"BEAN\" 총 6가지가 나오는데,  \n",
    "BEAN이 맞는 단어라는건 쉽게 알수 있잖아?  \n",
    "선영: 예가 적절하지 않았네 ㅠㅠ 만약 내가 500자리 글자를 암호화 했다고 해봐. 그 때는 나올 수 있는 해석이 정말 많은데, 그걸 언제 다해봐?  \n",
    "상근: 얼마나 많은데?  \n",
    "선영: 구해보자!  \n",
    "어떤 암호가 주어졌을 때, 그 암호의 해석이 몇 가지가 나올 수 있는지 구하는 프로그램을 작성하시오.  \n",
    "  \n",
    "#### 입력\n",
    "첫째 줄에 5000자리 이하의 암호가 주어진다.  \n",
    "  \n",
    "#### 출력\n",
    "나올 수 있는 해석의 가짓수를 구하시오. 정답이 매우 클 수 있으므로, 1000000으로 나눈 나머지를 출력한다.  \n",
    "  \n",
    "암호가 잘못되어 암호를 해석할 수 없는 경우에는 0을 출력한다.  "
   ]
  },
  {
   "cell_type": "markdown",
   "metadata": {},
   "source": [
    "### ------------------------------------------------------------------------------"
   ]
  },
  {
   "cell_type": "markdown",
   "metadata": {},
   "source": [
    "1~26. 26을 2, 6 혹은 2, 6을 26으로 해석 가능..  \n",
    "0이 나온애는 무조건 앞의 숫자랑 합쳐짐..\n",
    "27부터는 2, 7로 해석되지 않음..  i-1번째 숫자와 i번째 모두 고려...  \n",
    "마지막 2개의 숫자를 보고 결정..\n",
    "D[N]을 N자리까지 해석 가능한 경우의 수라 하면,  \n",
    "D[N] = D[N-1] (마지막 수가 0이거나 마지막 두자리가 27보다 클때)  \n",
    "D[N] = D[N-1] * 2 (두 가지로 해석될때..)  \n",
    "12 21 31 24 28 ...  \n",
    "D[0] = 1  \n",
    "D[1] = 1  \n",
    "xxxxxx10 -> D[N-2]               -- case2  \n",
    "xxxxxx27 -> D[N-1]               -- case1  \n",
    "xxxxxx26 -> D[N-1] + D[N-2]      -- case3  \n",
    "xxxxxx04 -> D[N-1]               -- case1  \n",
    "암호가 잘못된경우??  \n",
    "1. 0으로 시작  \n",
    "2. -값..\n",
    "3. 0이 연속.."
   ]
  },
  {
   "cell_type": "code",
   "execution_count": 1,
   "metadata": {},
   "outputs": [
    {
     "name": "stdout",
     "output_type": "stream",
     "text": [
      "00011\n",
      "0\n",
      "0\n",
      "last_two=  0\n",
      "D =  (1, 1)\n",
      "0\n",
      "last_two=  0\n",
      "D =  (1, 1)\n",
      "last_two=  1\n",
      "D =  (1, 1)\n",
      "last_two=  11\n",
      "D =  (1, 2)\n",
      "2\n"
     ]
    }
   ],
   "source": [
    "S = input()   # string\n",
    "D = (1, 1)    # n=0, n=1일때..\n",
    "if S[0] == '0':                            # 잘못된경우\n",
    "    print(0)\n",
    "    exit()\n",
    "for i in range(len(S)-1):   \n",
    "    last_two = int(S[i:i+2])\n",
    "    if last_two == 0:                    # 잘못된경우\n",
    "        print(0)\n",
    "        exit()\n",
    "#     print('last_two= ', last_two)\n",
    "    if last_two >26 or last_two<10:      # case 1\n",
    "        D = D[1], D[1] \n",
    "    elif last_two % 10 == 0:             # case 2\n",
    "        D = D[1], D[0]\n",
    "    else:                                # case 3\n",
    "        D = D[1], sum(D)\n",
    "#     print('D = ', D)\n",
    "print(D[1]%1000000)"
   ]
  },
  {
   "cell_type": "markdown",
   "metadata": {},
   "source": [
    "## "
   ]
  }
 ],
 "metadata": {
  "kernelspec": {
   "display_name": "Python 3",
   "language": "python",
   "name": "python3"
  },
  "language_info": {
   "codemirror_mode": {
    "name": "ipython",
    "version": 3
   },
   "file_extension": ".py",
   "mimetype": "text/x-python",
   "name": "python",
   "nbconvert_exporter": "python",
   "pygments_lexer": "ipython3",
   "version": "3.6.3"
  }
 },
 "nbformat": 4,
 "nbformat_minor": 2
}
