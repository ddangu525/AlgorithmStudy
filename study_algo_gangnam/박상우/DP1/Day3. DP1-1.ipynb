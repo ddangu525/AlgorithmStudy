{
 "cells": [
  {
   "cell_type": "markdown",
   "metadata": {},
   "source": [
    "## Dynamic Programming 1"
   ]
  },
  {
   "cell_type": "markdown",
   "metadata": {},
   "source": [
    "### 1. 1463 1로 만들기\n",
    "#### 문제  \n",
    "정수 X에 사용할 수 있는 연산은 다음과 같이 세 가지 이다.  \n",
    "  \n",
    "X가 3으로 나누어 떨어지면, 3으로 나눈다.  \n",
    "X가 2로 나누어 떨어지면, 2로 나눈다.  \n",
    "1을 뺀다.  \n",
    "정수 N이 주어졌을 때, 위와 같은 연산 세 개를 적절히 사용해서 1을 만들려고 한다.  \n",
    "연산을 사용하는 횟수의 최솟값을 출력하시오.  \n",
    "  \n",
    "#### 입력  \n",
    "첫째 줄에 1보다 크거나 같고, 10e6보다 작거나 같은 정수 N이 주어진다.  \n",
    "  \n",
    "#### 출력  \n",
    "첫째 줄에 연산을 하는 횟수의 최솟값을 출력한다.  \n"
   ]
  },
  {
   "cell_type": "markdown",
   "metadata": {},
   "source": [
    "### ------------------------------------------------------------------------------\n",
    "일단 주어진 input N에 대해서 사용 가능한 연산을 모두 해보면서 진행.   \n",
    "나누기 3, 나누기 2, 빼기 1. 모두 해보면서 나오는 결과들을 저장.  + 연산횟수 증가.   \n",
    "중복해서 저장할 필요 없으니 set을 이용.  1이 나올때까지 반복.  "
   ]
  },
  {
   "cell_type": "code",
   "execution_count": 1,
   "metadata": {},
   "outputs": [
    {
     "name": "stdout",
     "output_type": "stream",
     "text": [
      "10\n",
      "3\n"
     ]
    }
   ],
   "source": [
    "N = int(input())\n",
    "results = set()\n",
    "results.add(N)\n",
    "count = 0\n",
    "while 1 not in results:\n",
    "    temp = results.copy()\n",
    "    for r in temp:\n",
    "        if r % 3 == 0:\n",
    "            results.add(r//3)\n",
    "        if r % 2 == 0:\n",
    "            results.add(r//2)\n",
    "        results.add(r-1)\n",
    "    results.difference(temp)\n",
    "    count += 1\n",
    "print(count)"
   ]
  },
  {
   "cell_type": "markdown",
   "metadata": {},
   "source": [
    "  "
   ]
  },
  {
   "cell_type": "code",
   "execution_count": 2,
   "metadata": {},
   "outputs": [
    {
     "name": "stdout",
     "output_type": "stream",
     "text": [
      "10\n",
      "3\n"
     ]
    }
   ],
   "source": [
    "N = int(input())\n",
    "\n",
    "d = [None for c in range(1000003)]\n",
    "d[0] = float('-inf')\n",
    "d[1] = 0\n",
    "\n",
    "for i in range(2,N+1):\n",
    "    d[i] = d[i-1] + 1;\n",
    "    if (i % 2 == 0) & (d[i] > d[i//2] + 1):\n",
    "        d[i] = d[i//2] + 1\n",
    "    if (i % 3 == 0) & (d[i] > d[i//3] + 1):\n",
    "        d[i] = d[i//3] + 1\n",
    "print(d[N])\n"
   ]
  },
  {
   "cell_type": "markdown",
   "metadata": {},
   "source": [
    "### 2. 11726 2 x n 타일링"
   ]
  },
  {
   "cell_type": "markdown",
   "metadata": {},
   "source": [
    "#### 문제\n",
    "2×n 크기의 직사각형을 1×2, 2×1 타일로 채우는 방법의 수를 구하는 프로그램을 작성하시오.\n",
    "\n",
    "아래 그림은 2×5 크기의 직사각형을 채운 한 가지 방법의 예이다.\n",
    "<img src=\"https://onlinejudgeimages.s3-ap-northeast-1.amazonaws.com/problem/11726/1.png\" width=400/>\n",
    "\n",
    "\n",
    "#### 입력\n",
    "첫째 줄에 n이 주어진다. (1 ≤ n ≤ 1,000)\n",
    "\n",
    "#### 출력\n",
    "첫째 줄에 2×n 크기의 직사각형을 채우는 방법의 수를 10,007로 나눈 나머지를 출력한다."
   ]
  },
  {
   "cell_type": "markdown",
   "metadata": {},
   "source": [
    "### ------------------------------------------------------------------------------\n",
    "길이가 N인 타일을 채우는 방법의 수는 길이가 N-1인 타일을 채우는 방법의 수(+세로로 한 개),  \n",
    "그리고 길이가 N-2인 타일을 채우는 방법의 수(+가로로 두 개)를 더하면 된다.  \n",
    "=> 피보나치 수열과 동일"
   ]
  },
  {
   "cell_type": "code",
   "execution_count": 3,
   "metadata": {},
   "outputs": [
    {
     "name": "stdout",
     "output_type": "stream",
     "text": [
      "100\n",
      "4955\n"
     ]
    }
   ],
   "source": [
    "n = int(input())\n",
    "if n < 3:\n",
    "    print(n)\n",
    "    exit()\n",
    "a, b = 1, 2\n",
    "for i in range(3, n+1):\n",
    "    b, a = a + b, b\n",
    "print(b%10007)"
   ]
  },
  {
   "cell_type": "markdown",
   "metadata": {},
   "source": [
    "### 3. 11727 2 x n 타일링 2"
   ]
  },
  {
   "cell_type": "markdown",
   "metadata": {},
   "source": [
    "#### 문제\n",
    "2×n 직사각형을 2×1과 2×2 타일로 채우는 방법의 수를 구하는 프로그램을 작성하시오.  \n",
    "  \n",
    "아래 그림은 2×17 직사각형을 채운 한가지 예이다.  \n",
    "<img src=\"https://www.acmicpc.net/upload/images/t2n2122.gif\" width=400/>\n",
    "\n",
    "\n",
    "#### 입력\n",
    "첫째 줄에 n이 주어진다. (1 ≤ n ≤ 1,000)  \n",
    "  \n",
    "#### 출력\n",
    "첫째 줄에 2×n 크기의 직사각형을 채우는 방법의 수를 10,007로 나눈 나머지를 출력한다."
   ]
  },
  {
   "cell_type": "markdown",
   "metadata": {},
   "source": [
    "### ------------------------------------------------------------------------------\n",
    "d[1] = 1, d[2] = 3  \n",
    "d[n] = d[n-1] + 2*d[n-2]"
   ]
  },
  {
   "cell_type": "code",
   "execution_count": 4,
   "metadata": {},
   "outputs": [
    {
     "name": "stdout",
     "output_type": "stream",
     "text": [
      "12\n",
      "2731\n"
     ]
    }
   ],
   "source": [
    "n = int(input())\n",
    "a, b = 1, 3\n",
    "if n < 3:\n",
    "    print(1 if n==1 else 3)\n",
    "    exit()\n",
    "for i in range(3, n+1):\n",
    "    b, a = 2*a+b, b\n",
    "print(b%10007)"
   ]
  },
  {
   "cell_type": "code",
   "execution_count": 5,
   "metadata": {},
   "outputs": [
    {
     "name": "stdout",
     "output_type": "stream",
     "text": [
      "12\n",
      "2731\n"
     ]
    }
   ],
   "source": [
    "n = int(input())\n",
    "d = [1] * 1001\n",
    "for i in range(2, n+1):\n",
    "    d[i] = (d[i-1] + 2*d[i-2]) % 10007\n",
    "print(d[n])"
   ]
  },
  {
   "cell_type": "markdown",
   "metadata": {},
   "source": [
    "### 4. 9095 1, 2, 3 더하기 "
   ]
  },
  {
   "cell_type": "markdown",
   "metadata": {},
   "source": [
    "#### 문제\n",
    "정수 4를 1, 2, 3의 합으로 나타내는 방법은 총 7가지가 있다. 합을 나타낼 때는 수를 1개 이상 사용해야 한다.  \n",
    "  \n",
    "1+1+1+1  \n",
    "1+1+2  \n",
    "1+2+1  \n",
    "2+1+1  \n",
    "2+2  \n",
    "1+3  \n",
    "3+1  \n",
    "정수 n이 주어졌을 때, n을 1, 2, 3의 합으로 나타내는 방법의 수를 구하는 프로그램을 작성하시오.  \n",
    "  \n",
    "#### 입력\n",
    "첫째 줄에 테스트 케이스의 개수 T가 주어진다. 각 테스트 케이스는 한 줄로 이루어져 있고, 정수 n이 주어진다. n은 양수이며 11보다 작다.  \n",
    "  \n",
    "#### 출력\n",
    "각 테스트 케이스마다, n을 1, 2, 3의 합으로 나타내는 방법의 수를 출력한다.  "
   ]
  },
  {
   "cell_type": "markdown",
   "metadata": {},
   "source": [
    "### ------------------------------------------------------------------------------\n",
    "d[1] = 1  \n",
    "d[2] = 2  \n",
    "d[3] = 4  \n",
    "d[4] = 7  \n",
    "d[n] = d[n-1] + d[n-2] + d[n-3]"
   ]
  },
  {
   "cell_type": "code",
   "execution_count": 7,
   "metadata": {},
   "outputs": [
    {
     "name": "stdout",
     "output_type": "stream",
     "text": [
      "3\n",
      "4\n",
      "7\n",
      "7\n",
      "44\n",
      "10\n",
      "274\n"
     ]
    }
   ],
   "source": [
    "T = int(input())\n",
    "d = [0 for _ in range(11)]\n",
    "d[1], d[2], d[3] = 1, 2, 4\n",
    "for i in range(4, 11):\n",
    "    d[i] = d[i-1] + d[i-2] + d[i-3]\n",
    "for i in range(T):\n",
    "    n = int(input())\n",
    "    print(d[n])"
   ]
  },
  {
   "cell_type": "code",
   "execution_count": 10,
   "metadata": {},
   "outputs": [
    {
     "name": "stdout",
     "output_type": "stream",
     "text": [
      "3\n",
      "4\n",
      "7\n",
      "7\n",
      "44\n",
      "10\n",
      "274\n"
     ]
    }
   ],
   "source": [
    "# 좀 더 다듬은것. \n",
    "T = int(input())\n",
    "d = [1 for _ in range(11)]\n",
    "d[2] = 2\n",
    "for i in range(3, 11):\n",
    "    d[i] = d[i-1] + d[i-2] + d[i-3]\n",
    "for i in range(T):\n",
    "    n = int(input())\n",
    "    print(d[n])"
   ]
  },
  {
   "cell_type": "code",
   "execution_count": 8,
   "metadata": {
    "scrolled": true
   },
   "outputs": [
    {
     "name": "stdout",
     "output_type": "stream",
     "text": [
      "3\n",
      "4\n",
      "7\n",
      "7\n",
      "44\n",
      "10\n",
      "274\n"
     ]
    }
   ],
   "source": [
    "exec(\"print([0,1,2,4,7,13,24,44,81,149,274][int(input())]);\"*int(input()))"
   ]
  },
  {
   "cell_type": "markdown",
   "metadata": {},
   "source": [
    "오른쪽 input에서 먼저 testcase 개수 t를 입력받고, 그 수만큼 저 print문을 실행...."
   ]
  },
  {
   "cell_type": "code",
   "execution_count": 9,
   "metadata": {},
   "outputs": [
    {
     "name": "stdout",
     "output_type": "stream",
     "text": [
      "Help on built-in function exec in module builtins:\n",
      "\n",
      "exec(source, globals=None, locals=None, /)\n",
      "    Execute the given source in the context of globals and locals.\n",
      "    \n",
      "    The source may be a string representing one or more Python statements\n",
      "    or a code object as returned by compile().\n",
      "    The globals must be a dictionary and locals can be any mapping,\n",
      "    defaulting to the current globals and locals.\n",
      "    If only globals is given, locals defaults to it.\n",
      "\n"
     ]
    }
   ],
   "source": [
    "help(exec)"
   ]
  },
  {
   "cell_type": "markdown",
   "metadata": {},
   "source": [
    "### 5. 11052 카드 구매하기"
   ]
  },
  {
   "cell_type": "markdown",
   "metadata": {},
   "source": [
    "#### 문제\n",
    "요즘 민규네 동네에서는 스타트링크에서 만든 PS카드를 모으는 것이 유행이다.  \n",
    "  \n",
    "PS카드는 PS(Problem Solving)분야에서 유명한 사람들의 아이디와 얼굴이 적혀있는 카드이다.  \n",
    "각각의 카드에는 등급을 나타내는 색이 칠해져 있고, 다음과 같이 8가지가 있다.  \n",
    "  \n",
    "전설카드  \n",
    "레드카드  \n",
    "오렌지카드  \n",
    "퍼플카드  \n",
    "블루카드  \n",
    "청록카드  \n",
    "그린카드  \n",
    "그레이카드  \n",
    "카드는 카드팩의 형태로만 구매할 수 있고, 카드팩의 종류는 카드 1개가 포함된 카드팩, 카드 2개가 포함된 카드팩, ... 카드 N개가 포함된 카드팩과 같이 총 N가지가 존재한다.  \n",
    "  \n",
    "민규는 카드의 개수가 적은 팩이더라도 가격이 비싸면 높은 등급의 카드가 많이 들어있을 것이라는 미신을 믿고 있다.  \n",
    "따라서, 민규는 돈을 최대한 많이 지불해서 카드 N개 구매하려고 한다. 카드가 i개 포함된 카드팩의 가격은 Pi원이다.  \n",
    "  \n",
    "예를 들어, 카드팩이 총 4가지 종류가 있고, P1 = 1, P2 = 5, P3 = 6, P4 = 7인 경우에 민규가 카드 4개를 갖기 위해 지불해야 하는 금액의 최댓값은 10원이다. 2개 들어있는 카드팩을 2번 사면 된다.  \n",
    "  \n",
    "P1 = 5, P2 = 2, P3 = 8, P4 = 10인 경우에는 카드가 1개 들어있는 카드팩을 4번 사면 20원이고, 이 경우가 민규가 지불해야 하는 금액의 최댓값이다.  \n",
    "  \n",
    "마지막으로, P1 = 3, P2 = 5, P3 = 15, P4 = 16인 경우에는 3개 들어있는 카드팩과 1개 들어있는 카드팩을 구매해 18원을 지불하는 것이 최댓값이다.    \n",
    "  \n",
    "카드 팩의 가격이 주어졌을 때, N개의 카드를 구매하기 위해 민규가 지불해야 하는 금액의 최댓값을 구하는 프로그램을 작성하시오.  \n",
    "N개보다 많은 개수의 카드를 산 다음, 나머지 카드를 버려서 N개를 만드는 것은 불가능하다.  \n",
    "즉, 구매한 카드팩에 포함되어 있는 카드 개수의 합은 N과 같아야 한다.  \n",
    "  \n",
    "#### 입력\n",
    "첫째 줄에 민규가 구매하려고 하는 카드의 개수 N이 주어진다. (1 ≤ N ≤ 1,000)  \n",
    "  \n",
    "둘째 줄에는 Pi가 P1부터 PN까지 순서대로 주어진다. (1 ≤ Pi ≤ 10,000)  \n",
    "  \n",
    "#### 출력\n",
    "첫째 줄에 민규가 카드 N개를 갖기 위해 지불해야 하는 금액의 최댓값을 출력한다.  "
   ]
  },
  {
   "cell_type": "markdown",
   "metadata": {},
   "source": [
    "### ------------------------------------------------------------------------------\n",
    "카드 N개를 가장 비싸게..  \n",
    "N-1개를 가장 비싸게 사고 하나짜리 산거,    \n",
    "N-2개를 가장 비싸게 사고 두 개 짜리 산거,   \n",
    "...  \n",
    "1개를 가장 비싸게 사고 N-1개짜리 산거,  \n",
    "N개짜리 산거 중 최대값...  \n",
    "  \n",
    "   \n",
    "D[i]를 i개를 구매하는 최대금액, P[i]를 i개가 들어있는 카드팩의 가격이라고 하면,  \n",
    "D[i] = max(P[j] + D[i-j]) (1<=j<=i)  \n",
    "D[0] = 0"
   ]
  },
  {
   "cell_type": "code",
   "execution_count": 1,
   "metadata": {},
   "outputs": [
    {
     "name": "stdout",
     "output_type": "stream",
     "text": [
      "10\n",
      "5 10 11 12 13 30 35 40 45 47\n",
      "50\n"
     ]
    }
   ],
   "source": [
    "N = int(input())\n",
    "P = [0] + list(map(int, input().split()))  # index 맞춰주기..\n",
    "D = [0 for _ in range(N+1)]                  # index 맞춰주기..\n",
    "\n",
    "for i in range(1, N+1):\n",
    "    for j in range(1, i+1):\n",
    "        D[i] = max(D[i], D[i-j]+P[j])        # 계속 최대값으로 update\n",
    "print(D[N])"
   ]
  },
  {
   "cell_type": "code",
   "execution_count": 2,
   "metadata": {},
   "outputs": [
    {
     "name": "stdout",
     "output_type": "stream",
     "text": [
      "10\n",
      "5 10 11 12 13 30 35 40 45 47\n",
      "50\n"
     ]
    }
   ],
   "source": [
    "# 백준 다른 코드. 더 효율적으로\n",
    "N = int(input())\n",
    "R = [0] + list(map(int, input().split()))\n",
    "for i in range(1, N+1):\n",
    "    R[i] = max(R[j] + R[i-j] for j in range(i//2, i+1))\n",
    "print(R[N])"
   ]
  },
  {
   "cell_type": "markdown",
   "metadata": {},
   "source": [
    "### 6. 10844 쉬운 계단 수"
   ]
  },
  {
   "cell_type": "markdown",
   "metadata": {},
   "source": [
    "#### 문제\n",
    "45656이란 수를 보자.  \n",
    "  \n",
    "이 수는 인접한 모든 자리수의 차이가 1이 난다. 이런 수를 계단 수라고 한다.  \n",
    "  \n",
    "세준이는 수의 길이가 N인 계단 수가 몇 개 있는지 궁금해졌다.  \n",
    "  \n",
    "N이 주어질 때, 길이가 N인 계단 수가 총 몇 개 있는지 구하는 프로그램을 작성하시오. (0으로 시작하는 수는 없다.)  \n",
    "  \n",
    "#### 입력\n",
    "첫째 줄에 N이 주어진다. N은 1보다 크거나 같고, 100보다 작거나 같은 자연수이다.  \n",
    "  \n",
    "#### 출력\n",
    "첫째 줄에 정답을 1,000,000,000으로 나눈 나머지를 출력한다.  "
   ]
  },
  {
   "cell_type": "markdown",
   "metadata": {},
   "source": [
    "### ------------------------------------------------------------------------------"
   ]
  },
  {
   "cell_type": "markdown",
   "metadata": {},
   "source": [
    "어떤 계단수가 1~8로 끝나면 각각 두 가지 경우의 수로 계단수를 이어나갈 수 있다.  \n",
    "하지만 0이나 9로 끝나면 한가지 경우만..  길이와 끝나는 수 모두 고려해야함.  D[N][L]의 형태로..  \n",
    "=> D[N][L] = D[N-1][L-1] + D[N-1][L+1] (1<=L<=8)    \n",
    "D[N][0] = D[N-1][1], /// D[N][9] = D[N-1][8]  "
   ]
  },
  {
   "cell_type": "code",
   "execution_count": 6,
   "metadata": {},
   "outputs": [
    {
     "name": "stdout",
     "output_type": "stream",
     "text": [
      "2\n",
      "17\n"
     ]
    }
   ],
   "source": [
    "N = int(input())\n",
    "D = [0] + [1 for _ in range(9)]   # 길이가 1이고 끝자리가 idx인 계단수의 개수.\n",
    "for i in range(2, N+1):               # 계단수 길이가 N이 될 때까지.\n",
    "    temp = D[:]\n",
    "    for j in range(10):\n",
    "        if j == 0:\n",
    "            temp[j] = D[1]\n",
    "        elif j == 9:\n",
    "            temp[j] = D[8]\n",
    "        else:\n",
    "            temp[j] = D[j-1] + D[j+1]\n",
    "    D = temp\n",
    "print(sum(D)%1000000000)"
   ]
  },
  {
   "cell_type": "code",
   "execution_count": 7,
   "metadata": {},
   "outputs": [
    {
     "name": "stdout",
     "output_type": "stream",
     "text": [
      "2\n",
      "17\n"
     ]
    }
   ],
   "source": [
    "# 백준 다른 파이썬 코드..\n",
    "n = int(input())\n",
    "a = [0] + [1]*9\n",
    "for _ in range(n-1):\n",
    "    b = [0]*10\n",
    "    b[0] = a[1]\n",
    "    for i in range(1, 9):\n",
    "        b[i] = a[i-1] + a[i+1]\n",
    "    b[9] = a[8]\n",
    "    a = b\n",
    "print(sum(a) % (10**9))"
   ]
  },
  {
   "cell_type": "markdown",
   "metadata": {},
   "source": [
    "### 7. 11057 오르막 수"
   ]
  },
  {
   "cell_type": "markdown",
   "metadata": {},
   "source": [
    "#### 문제\n",
    "오르막 수는 수의 자리가 오름차순을 이루는 수를 말한다. 이때, 인접한 수가 같아도 오름차순으로 친다.  \n",
    "  \n",
    "예를 들어, 2234와 3678, 11119는 오르막 수이지만, 2232, 3676, 91111은 오르막 수가 아니다.  \n",
    "  \n",
    "수의 길이 N이 주어졌을 때, 오르막 수의 개수를 구하는 프로그램을 작성하시오. 수는 0으로 시작할 수 있다.  \n",
    "  \n",
    "#### 입력\n",
    "첫째 줄에 N (1 ≤ N ≤ 1,000)이 주어진다.  \n",
    "  \n",
    "#### 출력\n",
    "첫째 줄에 길이가 N인 오르막 수의 개수를 10,007로 나눈 나머지를 출력한다.  "
   ]
  },
  {
   "cell_type": "markdown",
   "metadata": {},
   "source": [
    "### ------------------------------------------------------------------------------"
   ]
  },
  {
   "cell_type": "markdown",
   "metadata": {},
   "source": [
    "계단수 문제와 마찬가지로 길이와 끝자리 숫자 모두 고려.. 끝의자리가 9라면 다음오르막수가 되기 위해 추가되는 수는 9로 고정.  \n",
    "나머지 수 L로 끝나는 경우는 다음으로 가능한 수가 L, L+1, ...9까지 총 10-L개.  \n",
    "D[N][L] = D[N-1][0] + D[N-1][1] + ... + D[N-1][L]"
   ]
  },
  {
   "cell_type": "code",
   "execution_count": 12,
   "metadata": {},
   "outputs": [
    {
     "name": "stdout",
     "output_type": "stream",
     "text": [
      "3\n",
      "220\n"
     ]
    }
   ],
   "source": [
    "N = int(input())\n",
    "D = [1]*10                          # 0으로 시작 가능.\n",
    "for i in range(2, N+1):             # N자리가 될 때까지.\n",
    "    t = [1]*10\n",
    "    t[0] = D[0]                     # 0으로 끝나는 애들은 끝까지 1개뿐..   \n",
    "    for j in range(1, 10):\n",
    "        t[j] = sum(D[:j+1])         # 작은애들 모두 더하기.\n",
    "    D = t\n",
    "print(sum(D)%10007)"
   ]
  },
  {
   "cell_type": "code",
   "execution_count": 15,
   "metadata": {},
   "outputs": [
    {
     "name": "stdout",
     "output_type": "stream",
     "text": [
      "3\n",
      "220\n"
     ]
    }
   ],
   "source": [
    "# 백준 한줄.. n+9C9?\n",
    "import math;f=math.factorial;n=int(input());print(f(n+9)//f(9)//f(n)%10007)"
   ]
  }
 ],
 "metadata": {
  "kernelspec": {
   "display_name": "Python 3",
   "language": "python",
   "name": "python3"
  },
  "language_info": {
   "codemirror_mode": {
    "name": "ipython",
    "version": 3
   },
   "file_extension": ".py",
   "mimetype": "text/x-python",
   "name": "python",
   "nbconvert_exporter": "python",
   "pygments_lexer": "ipython3",
   "version": "3.6.3"
  }
 },
 "nbformat": 4,
 "nbformat_minor": 2
}
