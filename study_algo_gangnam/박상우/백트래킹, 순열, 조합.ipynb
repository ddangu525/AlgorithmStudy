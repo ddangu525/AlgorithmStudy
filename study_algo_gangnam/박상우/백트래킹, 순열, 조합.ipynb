{
 "cells": [
  {
   "cell_type": "markdown",
   "metadata": {},
   "source": [
    "## 백트래킹(Backtracking)\n",
    "**백트랙**: 더 이상 진행할 수 없을 때 다시 이전 상태로 되돌아가는 과정.    \n",
    "백트래킹은 주로 여러 **후보해 중 특정 조건을 충족시키는 모든 해**를 찾을 때 사용.  \n",
    "비선형구조의 탐색에서 매우 중요! 스택이나 재귀를 이용하여 구현.  일단 DFS 구현과정을 보자..\n",
    "  \n",
    "백준 그래프문제 1260. DFS와 BFS에서.."
   ]
  },
  {
   "cell_type": "code",
   "execution_count": 14,
   "metadata": {},
   "outputs": [
    {
     "name": "stdout",
     "output_type": "stream",
     "text": [
      "9 9 1\n",
      "1 2\n",
      "1 7\n",
      "7 8\n",
      "3 7\n",
      "7 5\n",
      "2 4\n",
      "4 6\n",
      "5 6\n",
      "9 5\n"
     ]
    }
   ],
   "source": [
    "# 1. 그래프 정보 입력받기.. 노드수, 간선수, 탐색시작할 정점 V\n",
    "from collections import deque, defaultdict\n",
    "N, M, V = map(int, input().split())\n",
    "edges = defaultdict(list)\n",
    "for _ in range(M):\n",
    "    start, end = map(int, input().split())\n",
    "    edges[start].append(end)\n",
    "    edges[end].append(start)"
   ]
  },
  {
   "cell_type": "code",
   "execution_count": 15,
   "metadata": {},
   "outputs": [
    {
     "data": {
      "text/plain": [
       "'1 2 4 6 5 7 3 8 9'"
      ]
     },
     "execution_count": 15,
     "metadata": {},
     "output_type": "execute_result"
    }
   ],
   "source": [
    "# 1. stack 이용한 방법.\n",
    "def dfs(edgs, v):\n",
    "    result = []\n",
    "    visited = [False] * (N+1)\n",
    "    stack = deque()\n",
    "    stack.append(v)\n",
    "    while stack:\n",
    "        cur = stack.pop()\n",
    "        if not visited[cur]:\n",
    "            visited[cur] = True\n",
    "            result.append(cur)\n",
    "        else:\n",
    "            continue\n",
    "        nxts = sorted(edges[cur], reverse = True)    # 작은수부터 방문하기 위해서..\n",
    "        for nxt in nxts:\n",
    "            if not visited[nxt]:\n",
    "                stack.append(nxt)\n",
    "\n",
    "    return ' '.join(map(str, result))\n",
    "dfs(edges, 1)"
   ]
  },
  {
   "cell_type": "code",
   "execution_count": 45,
   "metadata": {},
   "outputs": [
    {
     "data": {
      "text/plain": [
       "'124657389'"
      ]
     },
     "execution_count": 45,
     "metadata": {},
     "output_type": "execute_result"
    }
   ],
   "source": [
    "# 2. 재귀함수로 짜기..\n",
    "visited = [False] * (N+1)\n",
    "def dfs_r(edgs, v, ans = ''):\n",
    "    # 방문한애면 return.\n",
    "    if visited[v]:\n",
    "        return ''\n",
    "    visited[v] = True\n",
    "    ans = str(v)\n",
    "    nxts = sorted(edges[v])\n",
    "    for nxt in nxts:\n",
    "        ans += dfs_r(edgs, nxt, ans)\n",
    "    return ans\n",
    "dfs_r(edges, 1)"
   ]
  },
  {
   "cell_type": "code",
   "execution_count": 42,
   "metadata": {},
   "outputs": [
    {
     "data": {
      "text/plain": [
       "'1 2 4 6 5 7 3 8 9'"
      ]
     },
     "execution_count": 42,
     "metadata": {},
     "output_type": "execute_result"
    }
   ],
   "source": [
    "# 2. 재귀함수로 짜기.. 출력 형식 맞춰서..\n",
    "visited = [False] * (N+1)\n",
    "def dfs_r(edgs, v, ans = []):\n",
    "    # 방문한애면 return.\n",
    "    if visited[v]:\n",
    "        return \n",
    "    visited[v] = True\n",
    "    ans.append(str(v))\n",
    "    nxts = sorted(edges[v])\n",
    "    for nxt in nxts:\n",
    "        dfs_r(edgs, nxt, ans)\n",
    "    return ' '.join(ans)\n",
    "dfs_r(edges, 1)"
   ]
  },
  {
   "cell_type": "markdown",
   "metadata": {},
   "source": [
    "## N-Queen Problem\n",
    "백트래킹 문제로 가장 유명.  \n",
    "N*N 보드판에 N개의 Queen이 서로 공격하지 못하도록 배치하는 방법.\n",
    "일단 같은 row나 column에 있으면 안됨..  \n",
    "구하는 순서.\n",
    "1. 일단 첫 번째 행, 첫 번째 열에 퀸을 놓는다.  \n",
    "2. 다음 행에서 가능한 가장 왼쪽 열에 퀸을 놓는다.\n",
    "3. n번째 열에 더 이상 퀸을 놓을 수 없다면 백트랙.\n",
    "4. 마지막 행에 퀸을 놓으면 하나의 해를 구한 것.\n",
    "5. 모든 겨우를 조사할 때까지 백트래킹하며 해들을 구한다.   \n",
    "  \n",
    "이 풀이에서 행은 검사할 필요가 없으므로, 열과 대각선만 검사..  \n",
    "1. 크기가 n인 체크배열을 만들어 k번째 열에 퀸을 놓았다면 배열의 k번째 위치를 체크하여 이후 행에서 해당 열에 퀸을 놓지 않게 한다.  \n",
    "2. 대각선은 두 개 존재..  얘네도 체크배열로 검사 가능.\n",
    "오른쪽 위로, 기울기가 증가하는 대각선은 행번호+열번호가 동일. 0,0이 포함된 대각선에서 0, 마지막 n-1, n-1에서 2n-2..   \n",
    "기울기가 감소하는 대각선은 행과 열의 번호 차이가 일정. (0, n-1)에서 1-n으로 최소, (n-1, 0)에서 n-1로 최대. 얘도 2(n-1)길이 배열로..  \n",
    "n-1+(행번호-열번호)에 저장."
   ]
  },
  {
   "cell_type": "code",
   "execution_count": 62,
   "metadata": {},
   "outputs": [
    {
     "name": "stdout",
     "output_type": "stream",
     "text": [
      "92\n"
     ]
    }
   ],
   "source": [
    "n = 8\n",
    "col = [False] * n              # Column 확인\n",
    "inc = [False] * (2*n)     # 증가하는 대각선 (0,0)일때 0으로 최소, (n-1, n-1)일때 2n-2로 최대\n",
    "dec = [False] * (2*n)     # 감소하는 대각선. 행번호-열번호.. (0,0)일때 0, (n-1,0)일때 n-1, (0,n-1)일때 -(n-1). n 더해서 사용..\n",
    "ans = 0                   # 해의 갯수\n",
    "\n",
    "def solve(r):         # r번 행 선택..\n",
    "    global ans\n",
    "    if r>=n:          # 다 선택된경우..\n",
    "        ans += 1      # 해의 갯수 1 추가.\n",
    "        return\n",
    "    \n",
    "    for i in range(n):\n",
    "        if not any(check for check in [col[i], inc[r+i], dec[n+(r-i)]]): # 아무것도 체크돼있지 않다면 가능.\n",
    "            col[i]=inc[r+i]=dec[n+(r-i)] = True     # 체크해주기.\n",
    "            solve(r+1)                              # 놔보기..\n",
    "            col[i]=inc[r+i]=dec[n+(r-i)] = False    # 백트랙 후 체크 해제!!!!!!!!!!!! 중요!!\n",
    "\n",
    "solve(0)\n",
    "print(ans)"
   ]
  },
  {
   "cell_type": "code",
   "execution_count": 68,
   "metadata": {
    "scrolled": true
   },
   "outputs": [
    {
     "name": "stdout",
     "output_type": "stream",
     "text": [
      "1번째 배치\n",
      "[1, 0, 0, 0, 0]\n",
      "[0, 0, 1, 0, 0]\n",
      "[0, 0, 0, 0, 1]\n",
      "[0, 1, 0, 0, 0]\n",
      "[0, 0, 0, 1, 0]\n",
      "2번째 배치\n",
      "[1, 0, 0, 0, 0]\n",
      "[0, 0, 0, 1, 0]\n",
      "[0, 1, 0, 0, 0]\n",
      "[0, 0, 0, 0, 1]\n",
      "[0, 0, 1, 0, 0]\n",
      "3번째 배치\n",
      "[0, 1, 0, 0, 0]\n",
      "[0, 0, 0, 1, 0]\n",
      "[1, 0, 0, 0, 0]\n",
      "[0, 0, 1, 0, 0]\n",
      "[0, 0, 0, 0, 1]\n",
      "4번째 배치\n",
      "[0, 1, 0, 0, 0]\n",
      "[0, 0, 0, 0, 1]\n",
      "[0, 0, 1, 0, 0]\n",
      "[1, 0, 0, 0, 0]\n",
      "[0, 0, 0, 1, 0]\n",
      "5번째 배치\n",
      "[0, 0, 1, 0, 0]\n",
      "[1, 0, 0, 0, 0]\n",
      "[0, 0, 0, 1, 0]\n",
      "[0, 1, 0, 0, 0]\n",
      "[0, 0, 0, 0, 1]\n",
      "6번째 배치\n",
      "[0, 0, 1, 0, 0]\n",
      "[0, 0, 0, 0, 1]\n",
      "[0, 1, 0, 0, 0]\n",
      "[0, 0, 0, 1, 0]\n",
      "[1, 0, 0, 0, 0]\n",
      "7번째 배치\n",
      "[0, 0, 0, 1, 0]\n",
      "[1, 0, 0, 0, 0]\n",
      "[0, 0, 1, 0, 0]\n",
      "[0, 0, 0, 0, 1]\n",
      "[0, 1, 0, 0, 0]\n",
      "8번째 배치\n",
      "[0, 0, 0, 1, 0]\n",
      "[0, 1, 0, 0, 0]\n",
      "[0, 0, 0, 0, 1]\n",
      "[0, 0, 1, 0, 0]\n",
      "[1, 0, 0, 0, 0]\n",
      "9번째 배치\n",
      "[0, 0, 0, 0, 1]\n",
      "[0, 1, 0, 0, 0]\n",
      "[0, 0, 0, 1, 0]\n",
      "[1, 0, 0, 0, 0]\n",
      "[0, 0, 1, 0, 0]\n",
      "10번째 배치\n",
      "[0, 0, 0, 0, 1]\n",
      "[0, 0, 1, 0, 0]\n",
      "[1, 0, 0, 0, 0]\n",
      "[0, 0, 0, 1, 0]\n",
      "[0, 1, 0, 0, 0]\n",
      "10\n"
     ]
    }
   ],
   "source": [
    "# 놓는 방법을 출력해보자.\n",
    "n = 5   \n",
    "col = [False] * n              # Column 확인\n",
    "inc = [False] * (2*n)     # 증가하는 대각선 (0,0)일때 0으로 최소, (n-1, n-1)일때 2n-2로 최대\n",
    "dec = [False] * (2*n)     # 감소하는 대각선. 행번호-열번호.. (0,0)일때 0, (n-1,0)일때 n-1, (0,n-1)일때 -(n-1). n 더해서 사용..\n",
    "ans = 0                   # 해의 갯수\n",
    "\n",
    "def solve(r, p=[]):         # r번 행 선택..\n",
    "    global ans\n",
    "    if r>=n:          # 다 선택된경우..\n",
    "        ans += 1      # 해의 갯수 1 추가.\n",
    "        board = [[0]*n for _ in range(n)]\n",
    "        for y, x in p:\n",
    "            board[y][x] = 1\n",
    "        print(f'{ans}번째 배치')\n",
    "        for row in board:\n",
    "            print(row)      # 배치된 퀸들의 좌표 출력.\n",
    "        \n",
    "        return\n",
    "    \n",
    "    for i in range(n):\n",
    "        if not any(check for check in [col[i], inc[r+i], dec[n+(r-i)]]): # 아무것도 체크돼있지 않다면 가능.\n",
    "            col[i]=inc[r+i]=dec[n+(r-i)] = True     # 체크해주기.\n",
    "            p.append((r,i))                         # 좌표 추가해주기.\n",
    "            solve(r+1, p)                           # 놔보기..\n",
    "            col[i]=inc[r+i]=dec[n+(r-i)] = False    # 백트랙 후 체크 해제!!!!!!!!!!!! 중요!!\n",
    "            p.pop()                                 # 백트랙 후 좌표 빼주기.\n",
    "\n",
    "solve(0)\n",
    "print(ans)"
   ]
  },
  {
   "cell_type": "markdown",
   "metadata": {},
   "source": [
    "## 순열(Permutation)  \n",
    "어떤 원소들을 중복되지 않게 순서대로 꺼내는 방법들..    \n",
    "[1, 2, 3] &rarr; 123, 132, 213, 231, 312, 321. n개중 r개 순열 nPr = n!/(n-r)!  \n",
    "얘도 n개의 check 방문 배열 생성.  \n",
    "첫 원소부터 방문하지 않았다면 선택. 방문체크, 다음거 r개까지 선택.. 선택완료되면 백트래킹으로 다음거 찾기."
   ]
  },
  {
   "cell_type": "code",
   "execution_count": 81,
   "metadata": {
    "collapsed": true
   },
   "outputs": [],
   "source": [
    "import sys\n",
    "sys.setrecursionlimit(10000)  "
   ]
  },
  {
   "cell_type": "code",
   "execution_count": 17,
   "metadata": {},
   "outputs": [
    {
     "name": "stdout",
     "output_type": "stream",
     "text": [
      "[1, 2, 3, 4]\n",
      "[1, 2, 4, 3]\n",
      "[1, 3, 2, 4]\n",
      "[1, 3, 4, 2]\n",
      "[1, 4, 2, 3]\n",
      "[1, 4, 3, 2]\n",
      "[2, 1, 3, 4]\n",
      "[2, 1, 4, 3]\n",
      "[2, 3, 1, 4]\n",
      "[2, 3, 4, 1]\n",
      "[2, 4, 1, 3]\n",
      "[2, 4, 3, 1]\n",
      "[3, 1, 2, 4]\n",
      "[3, 1, 4, 2]\n",
      "[3, 2, 1, 4]\n",
      "[3, 2, 4, 1]\n",
      "[3, 4, 1, 2]\n",
      "[3, 4, 2, 1]\n",
      "[4, 1, 2, 3]\n",
      "[4, 1, 3, 2]\n",
      "[4, 2, 1, 3]\n",
      "[4, 2, 3, 1]\n",
      "[4, 3, 1, 2]\n",
      "[4, 3, 2, 1]\n"
     ]
    }
   ],
   "source": [
    "lst = (1,2,3,4)      # 순열을 만들 iterable..\n",
    "check = [False] * len(lst)   # check 배열..\n",
    "\n",
    "def permutation(ls, r, perm=[]):     # 리스트에서 r개 선택..\n",
    "    if r==0:                   # 더 선택할 게 없다면 선택완료.. 결과 반환..\n",
    "        print(perm)\n",
    "    for i in range(len(ls)):   # i: 순열이 시작될 index 번호..\n",
    "        if not check[i]:       # 방문하지 않았다면\n",
    "            check[i] = True    # 체크해주고,\n",
    "            perm.append(ls[i]) # 결과 배열에 저장.\n",
    "            permutation(ls, r-1, perm) # 다음거 방문해보기.\n",
    "            # 백트래킹 후 체크 다시 이전상태로!!\n",
    "            check[i] = False\n",
    "            perm.pop()\n",
    "                \n",
    "                \n",
    "permutation(lst, 4)"
   ]
  },
  {
   "cell_type": "markdown",
   "metadata": {},
   "source": [
    "일단 되는데, check배열을 함수 안에다 넣고, 전체 순열이 return 되게 만들자.."
   ]
  },
  {
   "cell_type": "code",
   "execution_count": 81,
   "metadata": {},
   "outputs": [],
   "source": [
    "def permutations(lst, r):   # iterable object에서 r개 선택.\n",
    "    n = len(lst)\n",
    "    check = [False] * n   # check 배열..\n",
    "    ans = []\n",
    "    def choose(r, perm=[]):     # 리스트에서 r개 선택..\n",
    "        if r==0:                   # 더 선택할 게 없다면 선택완료.. 결과 반환..\n",
    "            ans.append(perm[:])\n",
    "            return\n",
    "        for i in range(n):   # i: 순열이 시작될 index 번호..\n",
    "            if not check[i]:       # 방문하지 않았다면\n",
    "                check[i] = True    # 체크해주고,\n",
    "                perm.append(lst[i]) # 결과 배열에 저장.\n",
    "                choose(r-1, perm) # 다음거 방문해보기.\n",
    "                # 백트래킹 후 체크 다시 이전상태로!!\n",
    "                check[i] = False\n",
    "                perm.pop()\n",
    "    choose(r)\n",
    "    return ans"
   ]
  },
  {
   "cell_type": "code",
   "execution_count": 82,
   "metadata": {
    "scrolled": true
   },
   "outputs": [
    {
     "name": "stdout",
     "output_type": "stream",
     "text": [
      "[[1, 2, 3, 4], [1, 2, 4, 3], [1, 3, 2, 4], [1, 3, 4, 2], [1, 4, 2, 3], [1, 4, 3, 2], [2, 1, 3, 4], [2, 1, 4, 3], [2, 3, 1, 4], [2, 3, 4, 1], [2, 4, 1, 3], [2, 4, 3, 1], [3, 1, 2, 4], [3, 1, 4, 2], [3, 2, 1, 4], [3, 2, 4, 1], [3, 4, 1, 2], [3, 4, 2, 1], [4, 1, 2, 3], [4, 1, 3, 2], [4, 2, 1, 3], [4, 2, 3, 1], [4, 3, 1, 2], [4, 3, 2, 1]]\n"
     ]
    }
   ],
   "source": [
    "a = (1,2,3,4)\n",
    "b = permutations(a,4)\n",
    "print(b)"
   ]
  },
  {
   "cell_type": "code",
   "execution_count": 65,
   "metadata": {},
   "outputs": [
    {
     "data": {
      "text/plain": [
       "[]"
      ]
     },
     "execution_count": 65,
     "metadata": {},
     "output_type": "execute_result"
    }
   ],
   "source": [
    "b[0]"
   ]
  },
  {
   "cell_type": "code",
   "execution_count": 55,
   "metadata": {
    "scrolled": true
   },
   "outputs": [
    {
     "data": {
      "text/plain": [
       "24"
      ]
     },
     "execution_count": 55,
     "metadata": {},
     "output_type": "execute_result"
    }
   ],
   "source": [
    "len(b)"
   ]
  },
  {
   "cell_type": "code",
   "execution_count": 56,
   "metadata": {
    "collapsed": true
   },
   "outputs": [],
   "source": [
    "def permutations2(lst, r):   # iterable object에서 r개 선택.\n",
    "    n = len(lst)\n",
    "    check = [False] * n   # check 배열..\n",
    "    ans = []\n",
    "    def choose(r, perm=[]):     # 리스트에서 r개 선택..\n",
    "        if r==0:                   # 더 선택할 게 없다면 선택완료.. 결과 반환..\n",
    "            ans.append(perm)\n",
    "            print(perm)\n",
    "            yield perm\n",
    "            return\n",
    "        for i in range(n):   # i: 순열이 시작될 index 번호..\n",
    "            if not check[i]:       # 방문하지 않았다면\n",
    "                check[i] = True    # 체크해주고,\n",
    "                perm.append(lst[i]) # 결과 배열에 저장.\n",
    "                choose(r-1, perm) # 다음거 방문해보기.\n",
    "                # 백트래킹 후 체크 다시 이전상태로!!\n",
    "                check[i] = False\n",
    "                perm.pop()\n",
    "    \n",
    "    return choose(r)"
   ]
  },
  {
   "cell_type": "code",
   "execution_count": 58,
   "metadata": {},
   "outputs": [
    {
     "data": {
      "text/plain": [
       "<generator object permutations2.<locals>.choose at 0x000002576664DFC0>"
      ]
     },
     "execution_count": 58,
     "metadata": {},
     "output_type": "execute_result"
    }
   ],
   "source": [
    "permutations2(['a','b','c'], 3)"
   ]
  },
  {
   "cell_type": "markdown",
   "metadata": {},
   "source": [
    "### 중복을 허용하는 순열!\n",
    "위 코드에서 check만 빼주면 된다."
   ]
  },
  {
   "cell_type": "code",
   "execution_count": 66,
   "metadata": {
    "collapsed": true
   },
   "outputs": [],
   "source": [
    "def permutations_with_replacement(lst, r):   # iterable object에서 r개 선택.\n",
    "    n = len(lst)\n",
    "    ans = []\n",
    "    def choose(r, perm=[]):     # 리스트에서 r개 선택..\n",
    "        if r==0:                   # 더 선택할 게 없다면 선택완료.. 결과 반환..\n",
    "            ans.append(perm)\n",
    "            print(perm)\n",
    "            return\n",
    "        for i in range(n):   # i: 순열이 시작될 index 번호..\n",
    "            check[i] = True    # 체크해주고,\n",
    "            perm.append(lst[i]) # 결과 배열에 저장.\n",
    "            choose(r-1, perm) # 다음거 방문해보기.\n",
    "            # 백트래킹 후 체크 다시 이전상태로!!\n",
    "            perm.pop()\n",
    "    choose(r)\n",
    "    return ans"
   ]
  },
  {
   "cell_type": "code",
   "execution_count": 67,
   "metadata": {},
   "outputs": [
    {
     "name": "stdout",
     "output_type": "stream",
     "text": [
      "['1', '1', '1']\n",
      "['1', '1', '2']\n",
      "['1', '1', '3']\n",
      "['1', '2', '1']\n",
      "['1', '2', '2']\n",
      "['1', '2', '3']\n",
      "['1', '3', '1']\n",
      "['1', '3', '2']\n",
      "['1', '3', '3']\n",
      "['2', '1', '1']\n",
      "['2', '1', '2']\n",
      "['2', '1', '3']\n",
      "['2', '2', '1']\n",
      "['2', '2', '2']\n",
      "['2', '2', '3']\n",
      "['2', '3', '1']\n",
      "['2', '3', '2']\n",
      "['2', '3', '3']\n",
      "['3', '1', '1']\n",
      "['3', '1', '2']\n",
      "['3', '1', '3']\n",
      "['3', '2', '1']\n",
      "['3', '2', '2']\n",
      "['3', '2', '3']\n",
      "['3', '3', '1']\n",
      "['3', '3', '2']\n",
      "['3', '3', '3']\n"
     ]
    },
    {
     "data": {
      "text/plain": [
       "[[],\n",
       " [],\n",
       " [],\n",
       " [],\n",
       " [],\n",
       " [],\n",
       " [],\n",
       " [],\n",
       " [],\n",
       " [],\n",
       " [],\n",
       " [],\n",
       " [],\n",
       " [],\n",
       " [],\n",
       " [],\n",
       " [],\n",
       " [],\n",
       " [],\n",
       " [],\n",
       " [],\n",
       " [],\n",
       " [],\n",
       " [],\n",
       " [],\n",
       " [],\n",
       " []]"
      ]
     },
     "execution_count": 67,
     "metadata": {},
     "output_type": "execute_result"
    }
   ],
   "source": [
    "permutations_with_replacement('123',3)"
   ]
  },
  {
   "cell_type": "markdown",
   "metadata": {},
   "source": [
    "## 조합(Combination)\n",
    "순열처럼 N개중에 r개를 선택하는데, 순서가 상관이 없음.. [1,2,3]에서 2개 3C2 &rarr; 12, 13, 23"
   ]
  },
  {
   "cell_type": "markdown",
   "metadata": {},
   "source": [
    "시작 index를 0에서 n-r까지. i가 한 번 돌때마나 check True로 해주기"
   ]
  },
  {
   "cell_type": "code",
   "execution_count": 74,
   "metadata": {
    "collapsed": true
   },
   "outputs": [],
   "source": [
    "def combinations(lst, r):   # iterable object에서 r개 조합\n",
    "    n = len(lst)\n",
    "    check = [False] * n   # check 배열..\n",
    "    ans = []\n",
    "    def choose(r, comb=[]):     # 리스트에서 r개 선택..\n",
    "        if r==0:                   # 더 선택할 게 없다면 선택완료.. 결과 반환..\n",
    "            ans.append(comb)\n",
    "            print(comb)\n",
    "            return\n",
    "        for i in range(n):   # i: 조합 시작할 index 번호..\n",
    "            if not check[i]:       # 방문하지 않았다면\n",
    "                check[i] = True    # 체크해주고,\n",
    "                comb.append(lst[i]) # 결과 배열에 저장.\n",
    "                choose(r-1, comb) # 다음거 방문해보기.\n",
    "                # 백트래킹 후 체크 다시 이전상태로!!\n",
    "                comb.pop()\n",
    "                check[i] = False  \n",
    "            check[i] = True\n",
    "            \n",
    "    choose(r)\n",
    "    return ans"
   ]
  },
  {
   "cell_type": "code",
   "execution_count": 76,
   "metadata": {},
   "outputs": [
    {
     "name": "stdout",
     "output_type": "stream",
     "text": [
      "[1, 2, 3]\n",
      "[1, 2, 4]\n",
      "[[], []]\n"
     ]
    }
   ],
   "source": [
    "a = (1,2,3,4)\n",
    "b = combinations(a,3)\n",
    "print(b)"
   ]
  },
  {
   "cell_type": "code",
   "execution_count": 72,
   "metadata": {},
   "outputs": [
    {
     "name": "stdout",
     "output_type": "stream",
     "text": [
      "['a', 'b', 'c', 'd']\n",
      "['a', 'b', 'd', 'c']\n",
      "['a', 'c', 'b', 'd']\n",
      "['a', 'c', 'd', 'b']\n",
      "['a', 'd', 'b', 'c']\n",
      "['a', 'd', 'c', 'b']\n",
      "['b', 'a', 'c', 'd']\n",
      "['b', 'a', 'd', 'c']\n",
      "['b', 'c', 'a', 'd']\n",
      "['b', 'c', 'd', 'a']\n",
      "['b', 'd', 'a', 'c']\n",
      "['b', 'd', 'c', 'a']\n",
      "['c', 'a', 'b', 'd']\n",
      "['c', 'a', 'd', 'b']\n",
      "['c', 'b', 'a', 'd']\n",
      "['c', 'b', 'd', 'a']\n",
      "['c', 'd', 'a', 'b']\n",
      "['c', 'd', 'b', 'a']\n",
      "['d', 'a', 'b', 'c']\n",
      "['d', 'a', 'c', 'b']\n",
      "['d', 'b', 'a', 'c']\n",
      "['d', 'b', 'c', 'a']\n",
      "['d', 'c', 'a', 'b']\n",
      "['d', 'c', 'b', 'a']\n"
     ]
    }
   ],
   "source": [
    "a = ['a','b','c','d']\n",
    "order = list(range(len(a)))\n",
    "def permutation(lst, order, k=0, n=5):\n",
    "    n=len(lst)\n",
    "    # 1. 단말노드에 도달한 경우\n",
    "    if k==n:\n",
    "        print([lst[i] for i in order])  # index대로 순열 만듦..\n",
    "    else:\n",
    "        check = [False]*n  # 현재 방문중인 노드까지 도달하기까지 어떤 경로로 왔는지..\n",
    "        for i in range(k):\n",
    "            check[order[i]]=True    # order에는 k개만큼 선택내용 저장..\n",
    "        for i in range(n):\n",
    "            if check[i]==False:\n",
    "                order[k]=i\n",
    "                permutation(lst, order,k+1,n)\n",
    "permutation(a,order)"
   ]
  },
  {
   "cell_type": "code",
   "execution_count": null,
   "metadata": {
    "collapsed": true
   },
   "outputs": [],
   "source": [
    "a = ['a','b','c','d','e']\n",
    "order = [0,1,2,3,4]\n",
    "def permutation(lst, order, k=0, n=5):\n",
    "    n=len(lst)\n",
    "    # 1. 단말노드에 도달한 경우\n",
    "    if k==n:\n",
    "        print([lst[i] for i in order])\n",
    "    else:\n",
    "        check = [False]*n  # 현재 방문중인 노드까지 도달하기까지 어떤 경로로 왔는지..\n",
    "        for i in range(k):\n",
    "            check[order[i]]=True    # order에는 k개만큼 선택내용 저장..\n",
    "        for i in range(n):\n",
    "            if check[i]==False:\n",
    "                order[k]=i\n",
    "                permutation(lst, order,k+1,n)\n",
    "permutation(a,order)"
   ]
  }
 ],
 "metadata": {
  "kernelspec": {
   "display_name": "Python 3",
   "language": "python",
   "name": "python3"
  },
  "language_info": {
   "codemirror_mode": {
    "name": "ipython",
    "version": 3
   },
   "file_extension": ".py",
   "mimetype": "text/x-python",
   "name": "python",
   "nbconvert_exporter": "python",
   "pygments_lexer": "ipython3",
   "version": "3.6.3"
  }
 },
 "nbformat": 4,
 "nbformat_minor": 2
}
