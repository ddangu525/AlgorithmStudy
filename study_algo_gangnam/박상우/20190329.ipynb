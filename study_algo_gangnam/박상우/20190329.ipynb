{
 "cells": [
  {
   "cell_type": "markdown",
   "metadata": {},
   "source": [
    "## 1. 1476 날짜 계산"
   ]
  },
  {
   "cell_type": "markdown",
   "metadata": {},
   "source": [
    "#### 문제\n",
    "준규가 사는 나라는 우리가 사용하는 연도와 다른 방식을 이용한다.  \n",
    "준규가 사는 나라에서는 수 3개를 이용해서 연도를 나타낸다. 각각의 수는 지구, 태양, 그리고 달을 나타낸다.  \n",
    "  \n",
    "지구를 나타내는 수를 E, 태양을 나타내는 수를 S, 달을 나타내는 수를 M이라고 했을 때, 이 세 수는 서로 다른 범위를 가진다.  \n",
    "(1 ≤ E ≤ 15, 1 ≤ S ≤ 28, 1 ≤ M ≤ 19)  \n",
    "  \n",
    "우리가 알고있는 1년은 준규가 살고있는 나라에서는 1 1 1로 나타낼 수 있다. 1년이 지날 때마다, 세 수는 모두 1씩 증가한다.  \n",
    "만약, 어떤 수가 범위를 넘어가는 경우에는 1이 된다.  \n",
    "  \n",
    "예를 들어, 15년은 15 15 15로 나타낼 수 있다. 하지만, 1년이 지나서 16년이 지나면 16 16 16이 아니라 1 16 16이 된다.  \n",
    "이유는 1 ≤ E ≤ 15 라서 범위를 넘어가기 때문이다.  \n",
    "  \n",
    "E, S, M이 주어졌고, 1년이 준규가 사는 나라에서 1 1 1일때,  \n",
    "준규가 사는 나라에서 E S M이 우리가 알고 있는 연도로 몇 년인지 구하는 프로그램을 작성하시오.  \n",
    "  \n",
    "#### 입력\n",
    "첫째 줄에 세 수 E, S, M이 주어진다. 문제에 나와있는 범위를 지키는 입력만 주어진다.  \n",
    "  \n",
    "#### 출력\n",
    "첫째 줄에 E S M으로 표시되는 가장 빠른 연도를 출력한다. 1 1 1은 항상 1이기 때문에, 정답이 음수가 나오는 경우는 없다.  "
   ]
  },
  {
   "cell_type": "markdown",
   "metadata": {},
   "source": [
    "### ------------------------------------------------------------------------------"
   ]
  },
  {
   "cell_type": "markdown",
   "metadata": {},
   "source": [
    "최소공배수와 나머지 연산 활용..?   \n",
    "E로 주어진 애는 16$K_1$ + E 년,  \n",
    "S로 주어진 애는 30$K_2$ + S 년,   \n",
    "M으로 주어진 애는 20$K_3$ + M 년..   \n",
    "조건에 맞는 년도를 찾자.. "
   ]
  },
  {
   "cell_type": "code",
   "execution_count": 21,
   "metadata": {},
   "outputs": [
    {
     "name": "stdout",
     "output_type": "stream",
     "text": [
      "15 28 19\n",
      "7980\n"
     ]
    }
   ],
   "source": [
    "E, S, M = map(int, input().split())\n",
    "year = S\n",
    "while True:\n",
    "    if ((year-1)%15) + 1 == E:\n",
    "        break\n",
    "    year += 28\n",
    "while True:\n",
    "    if ((year-1)%19) + 1 == M:\n",
    "        print(year)\n",
    "        break\n",
    "    year += 15*28"
   ]
  },
  {
   "cell_type": "code",
   "execution_count": null,
   "metadata": {
    "collapsed": true
   },
   "outputs": [],
   "source": [
    "# 백준\n",
    "a,b,c=map(int,input().split())\n",
    "while not a==b==c:\n",
    "    while b>a: a+=15\n",
    "    while b>c: c+=19\n",
    "    if a==b==c: break\n",
    "    b+=28\n",
    "print(a)"
   ]
  },
  {
   "cell_type": "markdown",
   "metadata": {},
   "source": [
    "## 2. 1107 리모컨"
   ]
  },
  {
   "cell_type": "markdown",
   "metadata": {},
   "source": [
    "#### 문제\n",
    "수빈이는 TV를 보고 있다. 수빈이는 채널을 돌리려고 했지만, 버튼을 너무 세게 누르는 바람에, 일부 숫자 버튼이 고장났다.  \n",
    "  \n",
    "리모컨에는 버튼이 0부터 9까지 숫자, +와 -가 있다. +를 누르면 현재 보고있는 채널에서 +1된 채널로 이동하고,  \n",
    "-를 누르면 -1된 채널로 이동한다. 채널 0에서 -를 누른 경우에는 채널이 변하지 않고, 채널은 무한대 만큼 있다.  \n",
    "  \n",
    "수빈이가 지금 이동하려고 하는 채널은 N이다.  \n",
    "어떤 버튼이 고장났는지 주어졌을 때, 채널 N으로 이동하기 위해서 버튼을 최소 몇 번 눌러야하는지 구하는 프로그램을 작성하시오.   \n",
    "  \n",
    "수빈이가 지금 보고 있는 채널은 100번이다.  \n",
    "  \n",
    "#### 입력\n",
    "첫째 줄에 수빈이가 이동하려고 하는 채널 N (0 ≤ N ≤ 500,000)이 주어진다.   \n",
    "둘째 줄에는 고장난 버튼의 개수 M (0 ≤ M ≤ 10)이 주어진다.  \n",
    "고장난 버튼이 있는 경우에는 셋째 줄에는 고장난 버튼이 주어지며, 같은 버튼이 여러번 주어지는 경우는 없다.  \n",
    "  \n",
    "#### 출력\n",
    "첫째 줄에 채널 N으로 이동하기 위해 버튼을 최소 몇 번 눌러야 하는지를 출력한다."
   ]
  },
  {
   "cell_type": "markdown",
   "metadata": {},
   "source": [
    "### ------------------------------------------------------------------------------"
   ]
  },
  {
   "cell_type": "markdown",
   "metadata": {},
   "source": [
    "누를수 있는 버튼을 이용해서 주어진 수보다 작은 번호 중 가장 큰 애와, 큰 번호 중 가장 작은 애를 구해서 비교.   \n",
    "supremum, infimum !"
   ]
  },
  {
   "cell_type": "code",
   "execution_count": null,
   "metadata": {
    "collapsed": true
   },
   "outputs": [],
   "source": [
    "# string으로 받아보자 일단..\n",
    "N = input()\n",
    "M = int(input())\n",
    "\n",
    "# 1. 다 고장나면 +, -만 써서..\n",
    "if M == 10:\n",
    "    print(abs(int(N)-100))\n",
    "    exit()\n",
    "\n",
    "# 작은번호부터..\n",
    "broken = set(map(int, input().split()))\n",
    "# 쓸 수 있는 버튼 작은번호부터.. 0~9\n",
    "possible = [i for i in range(10) if i not in broken]\n",
    "\n",
    "# 2. 번호를 누를 수 있으면!!!\n",
    "if all(int(i) in possible for i in N):\n",
    "    print(min(naive_click, l))\n",
    "    exit()\n",
    "\n",
    "# +, -만 이용했을 때.. \n",
    "naive_click = abs(int(N)-100)\n",
    "\n",
    "# 같거나 가장 가까운 작은 수를 찾아서 총 버튼 수.\n",
    "# 1. 일단 같은애가 있으면 선택하고 다음 자리수 선택.  \n",
    "# 2. 없으면 직전의 작은애 선택하고 뒤에는 다 큰걸로 채움... \n",
    "# 3. 작은애가 없다면 앞으로 돌아가서 작은애를 찾고 뒤를 큰걸로 채우기.. 반복\n",
    "\n",
    "def find_infimum(l=0, ans=[]):\n",
    "    # 마지막 숫자 선택. 얘는 무조건 작게..\n",
    "    if l == len(N)-1:\n",
    "        for j in range(l-1,-1,-1):\n",
    "            if j in possible:\n",
    "                ans.append(j)\n",
    "                return\n",
    "        # 작게 만들 수 없으면..\n",
    "        ans.pop()\n",
    "    \n",
    "    # 만들어야 되는 수가 있으면 일단 추가하고 다음 자리 검사.\n",
    "    if N[l] in possible:\n",
    "        ans.append(i)\n",
    "        find_infimum(l+1, ans)\n",
    "        \n",
    "        \n",
    "    # 번호가 없고, 그 수보다 작은수가 있으면.. 선택하고 뒤에는 가장 큰 거로 채우기.\n",
    "    else:\n",
    "        for j in range(int(i), -1, -1):\n",
    "            if j in possible:\n",
    "                ans.append(j)\n",
    "                return ans + possible[-1]*(len(N)-1-l)\n",
    "        # 작은수가 없는경우!! 바로 큰 애들 붙여버리기\n",
    "    \n",
    "    # 최종적으로 생성된 inf 리턴!\n",
    "    return int(''.join(map(str,ans)))\n",
    "        \n",
    "        \n",
    "        \n",
    "\n",
    "# 같거나 가장 자까운 큰 수를 찾아서 총 버튼 수.\n",
    "def find_supremum():\n",
    "    pass\n",
    "\n",
    "l = len(N)\n",
    "\n",
    "\n",
    "inf = find_infimum()\n",
    "sup = find_supremum()\n",
    "print(min(n_inf, n_sup, naive_click))\n",
    "\n",
    "\n",
    "\n",
    "\n",
    "# 작은번호 중 가장 큰 애랑 큰번호중 가장 작은 애 구하기\n",
    "for i in N:\n",
    "    if int(i) in possible:"
   ]
  },
  {
   "cell_type": "code",
   "execution_count": 12,
   "metadata": {
    "collapsed": true
   },
   "outputs": [],
   "source": [
    "possible = [2, 3, 4, 5, 6, 7, 8, 9]\n",
    "N = '91010'\n",
    "\n",
    "# l: 현재 검사한 index / ans: return 할 결과 배열 / flag: 정방향검산지 역방향 검산지..\n",
    "def find_infimum(l=0, ans=[], flag=False):\n",
    "    # 종료조건 1. 마지막 숫자 선택. 얘는 무조건 작게..\n",
    "    if l == len(N)-1:\n",
    "        for j in range(int(N[l])-1,-1,-1):\n",
    "            if j in possible:\n",
    "                ans.append(j)\n",
    "                return int(''.join(map(str, ans)))\n",
    "        # 작게 만들 수 없으면..  \n",
    "        # 한자리 수면 안됨!!!!\n",
    "        if len(N)==1:\n",
    "            return float('inf')\n",
    "        ans.pop()   # 전에거 빼주고 다시 작은애 있나 검사.\n",
    "        return find_infimum(l-1, ans, True)\n",
    "        \n",
    "    \n",
    "    # 만들어야 되는 수가 있으면 일단 추가하고 다음 자리 검사. 재검사하는 경우가 아니라 무조건 작은애를 골라야 하지 않을때..\n",
    "    if int(N[l]) in possible and not flag:\n",
    "        ans.append(int(N[l]))\n",
    "        return find_infimum(l+1, ans)\n",
    "    # 번호가 없고, 그 수보다 작은수가 있으면.. 선택하고 뒤에는 가장 큰 거로 채우기.\n",
    "    else:\n",
    "        for j in range(int(N[l])-1, -1, -1):\n",
    "            # 종료조건 3. 중간에 작은값 만들 수 있을때.\n",
    "            if j in possible:\n",
    "                ans.append(j)\n",
    "                ans += [possible[-1]]*(len(N)-1-l)\n",
    "                return int(''.join(map(str, ans)))\n",
    "        # 종료조건 2. 같은 자리 수로 작게 만들 수 없으면!\n",
    "        if l == 0 and flag:\n",
    "            ans = [possible[-1]]*(len(N)-1)\n",
    "            return int(''.join(map(str, ans)))\n",
    "        # 종료 4. 처음부터 안되는 경우.. 바로 자리수 줄이고 return\n",
    "        if l==0 and not flag:\n",
    "            return find_infimum(0, ans, True)\n",
    "        # 작은수가 없는경우!! 전으로 돌아가서 다시..\n",
    "        ans.pop()\n",
    "        return find_infimum(l-1, ans, True)"
   ]
  },
  {
   "cell_type": "code",
   "execution_count": 13,
   "metadata": {},
   "outputs": [
    {
     "name": "stdout",
     "output_type": "stream",
     "text": [
      "여기지남\n",
      "[]\n"
     ]
    },
    {
     "data": {
      "text/plain": [
       "89999"
      ]
     },
     "execution_count": 13,
     "metadata": {},
     "output_type": "execute_result"
    }
   ],
   "source": [
    "find_infimum()"
   ]
  },
  {
   "cell_type": "markdown",
   "metadata": {},
   "source": [
    "이제 이거 이용해서 리모컨 문제를 풀어보자."
   ]
  },
  {
   "cell_type": "code",
   "execution_count": 3,
   "metadata": {
    "scrolled": true
   },
   "outputs": [
    {
     "name": "stdout",
     "output_type": "stream",
     "text": [
      "500000\n",
      "6\n",
      "0 1 2 3 4 5\n",
      "possible = [6, 7, 8, 9]\n",
      "99999\n",
      "666666\n",
      "166672\n"
     ]
    }
   ],
   "source": [
    "N = input()\n",
    "M = int(input())\n",
    "# +, -만 이용했을 때.. \n",
    "naive_click = abs(int(N)-100)\n",
    "# 1. 다 고장나면 +, -만 써서..\n",
    "if M == 10:\n",
    "    print(naive_click)\n",
    "#     exit()\n",
    "# 2. 고장난 거 없을때\n",
    "if M == 0:\n",
    "    print(min(len(N), naive_click))\n",
    "#     exit()\n",
    "\n",
    "# 작은번호부터..\n",
    "broken = set(map(int, input().split()))\n",
    "# 쓸 수 있는 버튼 작은번호부터.. 0~9\n",
    "possible = [i for i in range(10) if i not in broken]\n",
    "\n",
    "# 3. 번호를 누를 수 있으면!!!\n",
    "if all(int(i) in possible for i in N):\n",
    "    print(min(naive_click, len(N)))\n",
    "#     exit()\n",
    "\n",
    "# l: 현재 검사한 index / ans: return 할 결과 배열 / flag: 정방향검산지 역방향 검산지..\n",
    "def find_infimum(l=0, ans=[], flag=False):\n",
    "    # 종료조건 1. 마지막 숫자 선택. 얘는 무조건 작게..\n",
    "    if l == len(N)-1:\n",
    "        for j in range(int(N[l])-1,-1,-1):\n",
    "            if j in possible:\n",
    "                ans.append(j)\n",
    "                return int(''.join(map(str, ans)))\n",
    "        # 작게 만들 수 없으면..  \n",
    "        # !!!!!!!!한자리 수면 안됨!!!!\n",
    "        if len(N)==1:\n",
    "            return float('inf')\n",
    "        ans.pop()   # 전에거 빼주고 다시 작은애 있나 검사.\n",
    "        return find_infimum(l-1, ans, True)\n",
    "        \n",
    "    # 종료조건 2. 같은 자리 수로 작게 만들 수 없으면!\n",
    "    if l == 0 and flag:\n",
    "        ans = [possible[-1]]*(len(N)-1)\n",
    "        return int(''.join(map(str, ans)))\n",
    "    \n",
    "    # 만들어야 되는 수가 있으면 일단 추가하고 다음 자리 검사. 재검사하는 경우가 아니라 무조건 작은애를 골라야 하지 않을때..\n",
    "    if int(N[l]) in possible and not flag:\n",
    "        ans.append(int(N[l]))\n",
    "        return find_infimum(l+1, ans)\n",
    "    # 번호가 없고, 그 수보다 작은수가 있으면.. 선택하고 뒤에는 가장 큰 거로 채우기.\n",
    "    else:\n",
    "        for j in range(int(N[l])-1, -1, -1):\n",
    "            # 종료조건 3. 중간에 작은값 만들 수 있을때.\n",
    "            if j in possible:\n",
    "                ans.append(j)\n",
    "                ans += [possible[-1]]*(len(N)-1-l)\n",
    "                return int(''.join(map(str, ans)))\n",
    "        # 종료조건 2. 같은 자리 수로 작게 만들 수 없으면!\n",
    "        if l == 0 and flag:\n",
    "            ans = [possible[-1]]*(len(N)-1)\n",
    "            return int(''.join(map(str, ans)))\n",
    "        # 종료 4. 처음부터 안되는 경우.. 바로 자리수 줄이고..\n",
    "        if l==0 and not flag:\n",
    "            return find_infimum(0, ans, True)\n",
    "        # 작은수가 없는경우!! 전으로 돌아가서 다시..\n",
    "        ans.pop()\n",
    "        return find_infimum(l-1, ans, True)\n",
    "    \n",
    "# l: 현재 검사한 index / ans: return 할 결과 배열 / flag: 정방향검산지 역방향 검산지.. infimum의 반대로!!\n",
    "def find_supremum(l=0, ans=[], flag=False):\n",
    "    # 종료조건 0. 0만 가능한경우..\n",
    "    if len(possible)==1 and possible[0]==0:\n",
    "        return float('inf')\n",
    "    # 종료조건 1. 마지막 숫자 선택. 얘는 무조건 크게..\n",
    "    if l == len(N)-1:\n",
    "        for j in range(int(N[l])+1, 10):\n",
    "            if j in possible:\n",
    "                ans.append(j)\n",
    "                return int(''.join(map(str, ans)))\n",
    "        # 크게 만들 수 없으면..  \n",
    "        # !!!!!!!!한자리 수면 바로 안되고 자리 수 늘려서 해주기!!!!\n",
    "        if len(N)==1:\n",
    "            if possible[0] == 0:\n",
    "                ans = [possible[1], possible[0]]\n",
    "            else:\n",
    "                ans = [possible[0]]*2\n",
    "            return int(''.join(map(str, ans)))\n",
    "        ans.pop()   # 전에거 빼주고 다시 큰애 있나 검사.\n",
    "        return find_supremum(l-1, ans, True)\n",
    "        \n",
    "    # 종료조건 2. 같은 자리 수로 크게 만들 수 없으면!\n",
    "    if l == 0 and flag:\n",
    "        if possible[0] == 0:\n",
    "            ans = [possible[1]] + [possible[0]]*len(N)\n",
    "        else:\n",
    "            ans = [possible[0]]*(len(N)+1)\n",
    "        return int(''.join(map(str, ans)))\n",
    "    \n",
    "    # 만들어야 되는 수가 있으면 일단 추가하고 다음 자리 검사. 재검사하는 경우가 아니라 무조건 작은애를 골라야 하지 않을때..\n",
    "    if int(N[l]) in possible and not flag:\n",
    "        ans.append(int(N[l]))\n",
    "        return find_supremum(l+1, ans)\n",
    "    # 번호가 없고, 그 수보다 큰수가 있으면.. 선택하고 뒤에는 가장 작은거로 채우기.\n",
    "    else:\n",
    "        for j in range(int(N[l])+1, 10):\n",
    "            # 종료조건 3. 중간에 작은값 만들 수 있을때.\n",
    "            if j in possible:\n",
    "                ans.append(j)\n",
    "                ans += [possible[0]]*(len(N)-1-l)\n",
    "                return int(''.join(map(str, ans)))\n",
    "        # 종료 4. 처음부터 안되는 경우.. 바로 자리수 줄이고..\n",
    "        if l==0 and not flag:\n",
    "            return find_supremum(0, ans, True)\n",
    "        # 큰 수가 없는경우!! 전으로 돌아가서 다시..\n",
    "        ans.pop()\n",
    "        return find_supremum(l-1, ans, True)\n",
    "    \n",
    "inf = find_infimum()\n",
    "sup = find_supremum()\n",
    "print(f'possible = {possible}')\n",
    "print(inf)\n",
    "print(sup)\n",
    "print(min(abs(inf-int(N))+len(str(inf)), abs(sup-int(N))+len(str(sup)), naive_click))"
   ]
  },
  {
   "cell_type": "markdown",
   "metadata": {},
   "source": [
    "500000  \n",
    "8  \n",
    "0 2 3 4 6 7 8 9  \n",
    "\n",
    "---\n",
    "11117"
   ]
  },
  {
   "cell_type": "markdown",
   "metadata": {},
   "source": [
    "아 50만이 넘어가면 안된다 참... 이것때문에 틀리는듯..?? 아닌데 머지..ㅠㅠ  \n",
    "** 한자리 수일때 문제.. infimum이 없을수도...  \n",
    "예를들어 3을 만들어야하는데 가능한 수가 5, 7, 8이면 infimum은 없음.. supremum은 괜찮은데..**  \n",
    "그래도 틀리는데.. 어디서 틀리지 ㅠㅠㅠ  \n",
    "그러면 999 3번에 + 3번. 6번 / 1004 4번에 - 2번 -> 6번..  \n",
    "아 supremum이 문제였네.. 맨 앞에는 0이 오면 안된다!!"
   ]
  },
  {
   "cell_type": "code",
   "execution_count": 16,
   "metadata": {},
   "outputs": [],
   "source": [
    "possible = [0, 1, 2, 3, 4, 5, 6, 7]\n",
    "N = '19898'\n",
    "def find_supremum(l=0, ans=[], flag=False):\n",
    "    # 종료조건 0. 0만 가능한경우..\n",
    "    if len(possible)==1 and possible[0]==0:\n",
    "        return float('inf')\n",
    "    # 종료조건 1. 마지막 숫자 선택. 얘는 무조건 크게..\n",
    "    if l == len(N)-1:\n",
    "        for j in range(int(N[l])+1, 10):\n",
    "            if j in possible:\n",
    "                ans.append(j)\n",
    "                return int(''.join(map(str, ans)))\n",
    "        # 크게 만들 수 없으면..  \n",
    "        # !!!!!!!!한자리 수면 바로 안되고 자리 수 늘려서 해주기!!!!\n",
    "        if len(N)==1:\n",
    "            if possible[0] == 0:\n",
    "                ans = [possible[1], possible[0]]\n",
    "            else:\n",
    "                ans = [possible[0]]*2\n",
    "            return int(''.join(map(str, ans)))\n",
    "        \n",
    "        ans.pop()   # 전에거 빼주고 다시 큰애 있나 검사.\n",
    "        return find_supremum(l-1, ans, True)\n",
    "    \n",
    "    # 만들어야 되는 수가 있으면 일단 추가하고 다음 자리 검사. 재검사하는 경우가 아니라 무조건 작은애를 골라야 하지 않을때..\n",
    "    if int(N[l]) in possible and not flag:\n",
    "        ans.append(int(N[l]))\n",
    "        return find_supremum(l+1, ans)\n",
    "    # 번호가 없고, 그 수보다 큰수가 있으면.. 선택하고 뒤에는 가장 작은거로 채우기.\n",
    "    else:\n",
    "        for j in range(int(N[l])+1, 10):\n",
    "            # 종료조건 3. 중간에 큰 값 만들 수 있을때.\n",
    "            if j in possible:\n",
    "                ans.append(j)\n",
    "                ans += [possible[0]]*(len(N)-1-l)\n",
    "                return int(''.join(map(str, ans)))\n",
    "        # 종료조건 2. 같은 자리 수로 크게 만들 수 없으면!\n",
    "        if l == 0 and flag:\n",
    "            if possible[0] == 0:\n",
    "                ans = [possible[1]] + [possible[0]]*len(N)\n",
    "            else:\n",
    "                ans = [possible[0]]*(len(N)+1)\n",
    "            return int(''.join(map(str, ans)))\n",
    "        # 종료 4. 처음부터 안되는 경우.. 바로 자리수 줄이고..\n",
    "        if l==0 and not flag:\n",
    "            return find_supremum(0, ans, True)\n",
    "        # 큰 수가 없는경우!! 전으로 돌아가서 다시..\n",
    "        ans.pop()\n",
    "        return find_supremum(l-1, ans, True)"
   ]
  },
  {
   "cell_type": "code",
   "execution_count": 17,
   "metadata": {},
   "outputs": [
    {
     "data": {
      "text/plain": [
       "20000"
      ]
     },
     "execution_count": 17,
     "metadata": {},
     "output_type": "execute_result"
    }
   ],
   "source": [
    "find_supremum()"
   ]
  },
  {
   "cell_type": "markdown",
   "metadata": {},
   "source": [
    "이제는 sup이 없을 때 런타임에러..와 시발 또 어디야 도대체 ㅠㅠ "
   ]
  },
  {
   "cell_type": "code",
   "execution_count": null,
   "metadata": {
    "collapsed": true
   },
   "outputs": [],
   "source": [
    "N = input()\n",
    "M = int(input())\n",
    "# +, -만 이용했을 때..\n",
    "naive_click = abs(int(N) - 100)\n",
    "# 1. 다 고장나면 +, -만 써서..\n",
    "if M == 10:\n",
    "    print(naive_click)\n",
    "    exit()\n",
    "# 2. 고장난 거 없을때\n",
    "if M == 0:\n",
    "    print(min(len(N), naive_click))\n",
    "    exit()\n",
    "\n",
    "# 작은번호부터..\n",
    "broken = set(map(int, input().split()))\n",
    "# 쓸 수 있는 버튼 작은번호부터.. 0~9\n",
    "possible = [i for i in range(10) if i not in broken]\n",
    "\n",
    "# 3. 번호를 누를 수 있으면!!!\n",
    "if all(int(i) in possible for i in N):\n",
    "    print(min(naive_click, len(N)))\n",
    "    exit()\n",
    "\n",
    "# l: 현재 검사한 index / ans: return 할 결과 배열 / flag: 정방향검산지 역방향 검산지..\n",
    "def find_infimum(l=0, ans=[], flag=False):\n",
    "    # 종료조건 1. 마지막 숫자 선택. 얘는 무조건 작게..\n",
    "    if l == len(N) - 1:\n",
    "        for j in range(int(N[l]) - 1, -1, -1):\n",
    "            if j in possible:\n",
    "                ans.append(j)\n",
    "                return int(''.join(map(str, ans)))\n",
    "        # 작게 만들 수 없으면..\n",
    "        # !!!!!!!!한자리 수면 안됨!!!!\n",
    "        if len(N) == 1:\n",
    "            return float('inf')\n",
    "        ans.pop()  # 전에거 빼주고 다시 작은애 있나 검사.\n",
    "        return find_infimum(l - 1, ans, True)\n",
    "\n",
    "    # 만들어야 되는 수가 있으면 일단 추가하고 다음 자리 검사. 재검사하는 경우가 아니라 무조건 작은애를 골라야 하지 않을때..\n",
    "    if int(N[l]) in possible and not flag:\n",
    "        ans.append(int(N[l]))\n",
    "        return find_infimum(l + 1, ans)\n",
    "    # 번호가 없고, 그 수보다 작은수가 있으면.. 선택하고 뒤에는 가장 큰 거로 채우기.\n",
    "    else:\n",
    "        for j in range(int(N[l]) - 1, -1, -1):\n",
    "            # 종료조건 3. 중간에 작은값 만들 수 있을때.\n",
    "            if j in possible:\n",
    "                ans.append(j)\n",
    "                ans += [possible[-1]] * (len(N) - 1 - l)\n",
    "                return int(''.join(map(str, ans)))\n",
    "        # 종료조건 2. 같은 자리 수로 작게 만들 수 없으면!\n",
    "        if l == 0 and flag:\n",
    "            ans = [possible[-1]] * (len(N) - 1)\n",
    "            return int(''.join(map(str, ans)))\n",
    "        # 종료 4. 처음부터 안되는 경우.. 바로 자리수 줄이고..\n",
    "        if l == 0 and not flag:\n",
    "            return find_infimum(0, ans, True)\n",
    "        # 작은수가 없는경우!! 전으로 돌아가서 다시..\n",
    "        ans.pop()\n",
    "        return find_infimum(l - 1, ans, True)\n",
    "\n",
    "\n",
    "# l: 현재 검사한 index / ans: return 할 결과 배열 / flag: 정방향검산지 역방향 검산지.. infimum의 반대로!!\n",
    "def find_supremum(l=0, ans=[], flag=False):\n",
    "    # 종료조건 0. 0만 가능한경우..\n",
    "    if len(possible) == 1 and possible[0] == 0:\n",
    "        return float('inf')\n",
    "    # 종료조건 1. 마지막 숫자 선택. 얘는 무조건 크게..\n",
    "    if l == len(N) - 1:\n",
    "        for j in range(int(N[l]) + 1, 10):\n",
    "            if j in possible:\n",
    "                ans.append(j)\n",
    "                return int(''.join(map(str, ans)))\n",
    "        # 크게 만들 수 없으면..\n",
    "        # !!!!!!!!한자리 수면 바로 안되고 자리 수 늘려서 해주기!!!!\n",
    "        if len(N) == 1:\n",
    "            if possible[0] == 0:\n",
    "                ans = [possible[1], possible[0]]\n",
    "            else:\n",
    "                ans = [possible[0]] * 2\n",
    "            return int(''.join(map(str, ans)))\n",
    "        ans.pop()  # 전에거 빼주고 다시 큰애 있나 검사.\n",
    "        return find_supremum(l - 1, ans, True)\n",
    "\n",
    "    # 만들어야 되는 수가 있으면 일단 추가하고 다음 자리 검사. 재검사하는 경우가 아니라 무조건 작은애를 골라야 하지 않을때..\n",
    "    if int(N[l]) in possible and not flag:\n",
    "        ans.append(int(N[l]))\n",
    "        return find_supremum(l + 1, ans)\n",
    "    # 번호가 없고, 그 수보다 큰수가 있으면.. 선택하고 뒤에는 가장 작은거로 채우기.\n",
    "    else:\n",
    "        for j in range(int(N[l]) + 1, 10):\n",
    "            # 종료조건 3. 중간에 작은값 만들 수 있을때.\n",
    "            if j in possible:\n",
    "                ans.append(j)\n",
    "                ans += [possible[0]] * (len(N) - 1 - l)\n",
    "                return int(''.join(map(str, ans)))\n",
    "        # 종료조건 2. 같은 자리 수로 크게 만들 수 없으면!\n",
    "        if l == 0 and flag:\n",
    "            if possible[0] == 0:\n",
    "                ans = [possible[1]] + [possible[0]] * len(N)\n",
    "            else:\n",
    "                ans = [possible[0]] * (len(N) + 1)\n",
    "            return int(''.join(map(str, ans)))\n",
    "        # 종료 4. 처음부터 안되는 경우.. 바로 자리수 줄이고..\n",
    "        if l == 0 and not flag:\n",
    "            return find_supremum(0, ans, True)\n",
    "        # 큰 수가 없는경우!! 전으로 돌아가서 다시..\n",
    "        ans.pop()\n",
    "        return find_supremum(l - 1, ans, True)\n",
    "\n",
    "\n",
    "inf = find_infimum()\n",
    "sup = find_supremum()\n",
    "print(f'possible = {possible}')\n",
    "print(inf)\n",
    "print(sup)\n",
    "print(min(abs(inf - int(N)) + len(str(inf)), abs(sup - int(N)) + len(str(sup)), naive_click))"
   ]
  },
  {
   "cell_type": "markdown",
   "metadata": {},
   "source": [
    "드디어 됐다!!!"
   ]
  },
  {
   "cell_type": "markdown",
   "metadata": {},
   "source": [
    "## 3. 9095 1, 2, 3 더하기"
   ]
  },
  {
   "cell_type": "markdown",
   "metadata": {},
   "source": [
    "#### 문제\n",
    "정수 4를 1, 2, 3의 합으로 나타내는 방법은 총 7가지가 있다. 합을 나타낼 때는 수를 1개 이상 사용해야 한다.  \n",
    "  \n",
    "1+1+1+1  \n",
    "1+1+2  \n",
    "1+2+1  \n",
    "2+1+1  \n",
    "2+2  \n",
    "1+3  \n",
    "3+1  \n",
    "정수 n이 주어졌을 때, n을 1, 2, 3의 합으로 나타내는 방법의 수를 구하는 프로그램을 작성하시오.  \n",
    "  \n",
    "#### 입력\n",
    "첫째 줄에 테스트 케이스의 개수 T가 주어진다. 각 테스트 케이스는 한 줄로 이루어져 있고, 정수 n이 주어진다. n은 양수이며 11보다 작다.  \n",
    "  \n",
    "#### 출력\n",
    "각 테스트 케이스마다, n을 1, 2, 3의 합으로 나타내는 방법의 수를 출력한다.  "
   ]
  },
  {
   "cell_type": "markdown",
   "metadata": {},
   "source": [
    "### ------------------------------------------------------------------------------"
   ]
  },
  {
   "cell_type": "markdown",
   "metadata": {},
   "source": [
    "D[1] = 1  \n",
    "D[2] = 2  \n",
    "D[3] = 4  \n",
    "D[4] = D[3] + D[2] + D[1] = 7"
   ]
  },
  {
   "cell_type": "code",
   "execution_count": null,
   "metadata": {
    "collapsed": true
   },
   "outputs": [],
   "source": [
    "d = [0, 1, 2, 4, 7, 13, 24, 44, 81, 149, 274, 504]\n",
    "for tc in range(int(input())):\n",
    "    print(d[int(input())])"
   ]
  },
  {
   "cell_type": "code",
   "execution_count": null,
   "metadata": {
    "collapsed": true
   },
   "outputs": [],
   "source": [
    "[print([0, 1, 2, 4, 7, 13, 24, 44, 81, 149, 274][int(input())]) for _ in range(int(input()))]"
   ]
  }
 ],
 "metadata": {
  "kernelspec": {
   "display_name": "Python 3",
   "language": "python",
   "name": "python3"
  },
  "language_info": {
   "codemirror_mode": {
    "name": "ipython",
    "version": 3
   },
   "file_extension": ".py",
   "mimetype": "text/x-python",
   "name": "python",
   "nbconvert_exporter": "python",
   "pygments_lexer": "ipython3",
   "version": "3.6.3"
  }
 },
 "nbformat": 4,
 "nbformat_minor": 2
}
